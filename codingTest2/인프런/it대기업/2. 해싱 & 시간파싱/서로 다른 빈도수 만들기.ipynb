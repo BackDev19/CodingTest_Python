{
 "cells": [
  {
   "cell_type": "code",
   "execution_count": null,
   "metadata": {},
   "outputs": [],
   "source": [
    "import sys\n",
    "from collections import Counter\n",
    "sys.stdin = open(\"input.txt\", \"rt\")\n",
    "input = sys.stdin.readline\n",
    "\n",
    "# 빈도수가 서로 다르게\n",
    "# 지워야 하는 최소 개수\n",
    "# 겹치면 그냥 0으로 만들어서 key 값을 제거해버림\n",
    "\n",
    "def solution(s):\n",
    "    ans = 0\n",
    "    dic = Counter(s)\n",
    "    dic = list(map(list, dic.items()))\n",
    "    dic = sorted(dic, key = lambda x : x[1], reverse=True)\n",
    "    print(dic)\n",
    "\n",
    "    for i in range(len(dic)):\n",
    "        for j in range(i):\n",
    "            # 앞의 값이 0인 경우, break\n",
    "            if dic[j][1] == 0:\n",
    "                break\n",
    "            \n",
    "            # 앞에있는 데이터와 같이 동일하다면, -1\n",
    "            if dic[i][1] == dic[j][1]:\n",
    "                dic[i][1] -= 1\n",
    "                ans += 1\n",
    "    \n",
    "    print(ans)\n",
    "\n",
    "solution(\"aaabbbcc\")\n",
    "solution(\"aaabbc\")\n",
    "solution(\"aebbbbc\")\n",
    "solution(\"aaabbbcccde\")\n",
    "solution(\"aaabbbcccdddeeeeeff\")"
   ]
  }
 ],
 "metadata": {
  "language_info": {
   "name": "python"
  },
  "orig_nbformat": 4
 },
 "nbformat": 4,
 "nbformat_minor": 2
}
