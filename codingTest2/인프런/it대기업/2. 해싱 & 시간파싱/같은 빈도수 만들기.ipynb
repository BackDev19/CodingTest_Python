{
 "cells": [
  {
   "cell_type": "code",
   "execution_count": null,
   "metadata": {},
   "outputs": [],
   "source": [
    "import sys\n",
    "from collections import Counter\n",
    "sys.stdin = open(\"input.txt\", \"rt\")\n",
    "input = sys.stdin.readline\n",
    "\n",
    "# 1. 각 개수 세기\n",
    "# 2. 개수중에서 가장 큰 값 찾기\n",
    "# 3. 가장 큰 값 - abcde의 dic값\n",
    "\n",
    "def solution(s):\n",
    "    answer = [0, 0, 0, 0, 0]\n",
    "    tmp = \"abcde\"\n",
    "\n",
    "    # 1\n",
    "    dic = Counter(s)\n",
    "\n",
    "    # 2\n",
    "    maxCount = max(dic.values())\n",
    "\n",
    "    # 3\n",
    "    for i in range(5):\n",
    "        answer[i] = maxCount - dic[tmp[i]]\n",
    "\n",
    "    print(answer)\n",
    "\n",
    "solution(\"aaabc\")\n",
    "solution(\"aabb\")\n",
    "solution(\"abcde\")\n",
    "solution(\"abcdeabc\")\n",
    "solution(\"abbccddee\")\n"
   ]
  },
  {
   "cell_type": "code",
   "execution_count": null,
   "metadata": {},
   "outputs": [],
   "source": []
  }
 ],
 "metadata": {
  "language_info": {
   "name": "python"
  },
  "orig_nbformat": 4
 },
 "nbformat": 4,
 "nbformat_minor": 2
}
