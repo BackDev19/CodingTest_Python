{
 "cells": [
  {
   "cell_type": "code",
   "execution_count": null,
   "metadata": {},
   "outputs": [],
   "source": [
    "import sys\n",
    "sys.stdin = open(\"input.txt\", \"rt\")\n",
    "input = sys.stdin.readline\n",
    "\n",
    "# 1. 자라는게 오래걸리고, 짧게 심을 수 있는 것부터 심기\n",
    "\n",
    "def solution(plantTime, growTime):\n",
    "    time = list(zip(plantTime, growTime))\n",
    "    time.sort(key = lambda x : (-x[1], x[0]))\n",
    "\n",
    "    s, e = 0, 0\n",
    "    for i in range(len(time)):\n",
    "        s += time[i][0]\n",
    "        e = max(e, s + time[i][1])\n",
    "    \n",
    "    print(e)\n",
    "\n",
    "solution([1, 3, 2], [2, 3, 2])\n",
    "solution([2, 1, 4, 3], [2, 5, 3, 1])\n",
    "solution([1, 1, 1], [7, 3, 2])\n",
    "solution([5, 7, 10, 15, 7, 3, 5], [6, 7, 2, 10, 15, 6, 7])\n",
    "solution([1, 2, 3, 4, 5, 6, 7], [7, 5, 4, 3, 2, 1, 6])\n",
    "\n",
    "\n"
   ]
  }
 ],
 "metadata": {
  "language_info": {
   "name": "python"
  },
  "orig_nbformat": 4
 },
 "nbformat": 4,
 "nbformat_minor": 2
}
