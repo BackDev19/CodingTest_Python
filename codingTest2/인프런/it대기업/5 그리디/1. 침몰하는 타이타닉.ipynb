{
 "cells": [
  {
   "cell_type": "code",
   "execution_count": null,
   "metadata": {},
   "outputs": [],
   "source": [
    "import sys\n",
    "sys.stdin = open(\"input.txt\", \"rt\")\n",
    "input = sys.stdin.readline\n",
    "\n",
    "# 유람선에는 N명의 승객\n",
    "# 구명보트는 2명 이하로만 탈 수 있음\n",
    "# 보트 한 개에 탈 수 있는 총 무게도 M kg 이하\n",
    "# nums에 N명의 승객 몸무계\n",
    "# m에 보트 한 개에 탈 수 있는 제한 무게\n",
    "# 승객 모두가 탈출하기 위한 구명보트의 최소개수를 반환\n",
    "\n",
    "def solution(nums, m):\n",
    "    nums.sort()\n",
    "    print(nums)\n",
    "    ans = 0\n",
    "\n",
    "    left = 0; right = len(nums) - 1\n",
    "    while left < right:\n",
    "        if nums[left] + nums[right] <= m:\n",
    "            left += 1\n",
    "            right -= 1\n",
    "        else:\n",
    "            right -= 1\n",
    "\n",
    "        ans += 1\n",
    "    \n",
    "    if left == right:\n",
    "        ans += 1\n",
    "\n",
    "    print(ans)\n",
    "\n",
    "\n",
    "solution([90, 50, 70, 100, 60], 140)\n",
    "solution([86, 95, 107, 67, 38, 49, 116, 22, 78, 53] , 150)\n",
    "solution([68, 72, 30, 105, 55, 115, 36, 67, 119, 111, 95, 24, 25, 80, 55, 85, 75, 83, 21, 81], 120)\n",
    "\n",
    "[]"
   ]
  }
 ],
 "metadata": {
  "language_info": {
   "name": "python"
  },
  "orig_nbformat": 4
 },
 "nbformat": 4,
 "nbformat_minor": 2
}
