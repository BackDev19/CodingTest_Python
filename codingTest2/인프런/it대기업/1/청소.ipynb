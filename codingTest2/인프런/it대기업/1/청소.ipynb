{
 "cells": [
  {
   "cell_type": "code",
   "execution_count": null,
   "metadata": {},
   "outputs": [],
   "source": [
    "import sys\n",
    "sys.stdin = open(\"input.txt\", \"rt\")\n",
    "input = sys.stdin.readline\n",
    "\n",
    "# 청소\n",
    "# n x n\n",
    "# 장애물이 있는 지점은 지나갈 수 없음\n",
    "# 처음 : 왼쪽 가장 위 격자에서 3시 방향\n",
    "# 매초 보는 방향으로 이동\n",
    "# 장애물을 만나면 90도 회전. 회전도 1초\n",
    "# board에 방의 지도정보, k에 초시간이 주어지면 로봇이 움직이기 시작해서 k초 후에 멈춤\n",
    "# k초 후 로봇의 위치를 반환하는 프로그램 작성\n",
    "\n",
    "def dfs(board, x, y, k):\n",
    "    global dir\n",
    "    if k == 0:\n",
    "        print([x, y])\n",
    "        return\n",
    "\n",
    "    nx = x + dx[dir]\n",
    "    ny = y + dy[dir]\n",
    "    # 벽 or 장애물\n",
    "    if not (0 <= nx < n and 0 <= ny < n) or board[nx][ny] == 1:\n",
    "        dir = (dir + 1) % 4\n",
    "\n",
    "    # 바라보는 방향으로 이동\n",
    "    else:\n",
    "        x = nx\n",
    "        y = ny\n",
    "    \n",
    "    dfs(board, x, y, k - 1)\n",
    "\n",
    "def solution(board, k):\n",
    "    global n\n",
    "    n = len(board)\n",
    "\n",
    "    dfs(board, 0, 0, k)\n",
    "    pass\n",
    "\n",
    "dx = [-1, 0, 1, 0]\n",
    "dy = [0, 1, 0, -1]\n",
    "\n",
    "dir = 1\n",
    "# solution([[0, 0, 0, 0, 0], [0, 1, 1, 0, 0], [0, 0, 0, 0,0], \n",
    "#           [1, 0, 1, 0, 1], [0, 0, 0, 0, 0]], 10)\n",
    "# solution([[0, 0, 0, 1, 0, 1], [0, 0, 0, 0, 0, 0], [0, 0,0, 0, 0, 1], \n",
    "#           [1, 1, 0, 0, 1, 0], [0, 0, 0, 0, 0, 0], [0, 0, 0, 0, 0, 0]], 20)\n",
    "solution([[0, 0, 1, 0, 0], [0, 1, 0, 0, 0], [0, 0, 0, 0, 0], \n",
    "          [1, 0, 0, 0, 1], [0, 0, 0, 0, 0]], 25)\n"
   ]
  }
 ],
 "metadata": {
  "language_info": {
   "name": "python"
  },
  "orig_nbformat": 4
 },
 "nbformat": 4,
 "nbformat_minor": 2
}
