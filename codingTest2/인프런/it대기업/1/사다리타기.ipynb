{
 "cells": [
  {
   "cell_type": "code",
   "execution_count": null,
   "metadata": {},
   "outputs": [],
   "source": [
    "import sys\n",
    "sys.stdin = open(\"input.txt\", \"rt\")\n",
    "input = sys.stdin.readline\n",
    "\n",
    "# n명의 학생\n",
    "# 당첨된 학생을 이 번주 학급회장으로 선출\n",
    "# 5개의 세로줄, 3개의 가로줄\n",
    "# [1, 3] 시작되는 사다리만 알려주는 식\n",
    "# 첫 번째 가로줄부터 \n",
    "# 매개변수 n에 학생수, ladder에 사다리의 정보가 주어지면, \n",
    "# 모든 학생이 사다리를 탄 결과를 담은 배열을 반환하는 프로그램 작성\n",
    "\n",
    "\n",
    "def solution(n, ladder):\n",
    "    result = [chr(ord('A') + i) for i in range(n)]\n",
    "\n",
    "    for i in range(len(ladder)):\n",
    "        for x in ladder[i]:\n",
    "            result[x-1], result[x] = result[x], result[x-1]\n",
    "        \n",
    "    print(result)\n",
    "            \n",
    "\n",
    "solution(5, [[1, 3], [2, 4], [1, 4]])\n",
    "# solution(7, [[1, 3, 5], [1, 3, 6], [2, 4]])\n",
    "# solution(8, [[1, 5], [2, 4, 7], [1, 5, 7], [2, 5, 7]] )\n",
    "# solution(12, [[1, 5, 8, 10], [2, 4, 7], [1, 5, 7, 9, 11],[2, 5, 7, 10], [3, 6, 8, 11]])\n"
   ]
  },
  {
   "cell_type": "code",
   "execution_count": null,
   "metadata": {},
   "outputs": [],
   "source": [
    "import sys\n",
    "sys.stdin = open(\"input.txt\", \"rt\")\n",
    "input = sys.stdin.readline\n",
    "\n",
    "# n명의 학생\n",
    "# 당첨된 학생을 이 번주 학급회장으로 선출\n",
    "# 5개의 세로줄, 3개의 가로줄\n",
    "# [1, 3] 시작되는 사다리만 알려주는 식\n",
    "# 첫 번째 가로줄부터 \n",
    "# 매개변수 n에 학생수, ladder에 사다리의 정보가 주어지면, \n",
    "# 모든 학생이 사다리를 탄 결과를 담은 배열을 반환하는 프로그램 작성\n",
    "\n",
    "def backtracking(row, col):\n",
    "    if row == level:\n",
    "        return col\n",
    "    \n",
    "    # 자신의 위치가 사다리라면, + 1\n",
    "    if arr[row][col] == 1:\n",
    "        col += 1\n",
    "    \n",
    "    # 자신의 왼쪽 위치가 사다리라면, col - 1\n",
    "    elif arr[row][col - 1] == 1:\n",
    "        col -= 1\n",
    "    \n",
    "    return backtracking(row + 1, col)\n",
    "\n",
    "def solution(n, ladder):\n",
    "    global arr, level, result\n",
    "    level = len(ladder)\n",
    "    arr = [[0] * (n + 1) for _ in range(level)]\n",
    "    result = [''] * n\n",
    "\n",
    "    # 사다리 세팅\n",
    "    for i in range(len(ladder)):\n",
    "        for x in ladder[i]:\n",
    "            arr[i][x] = 1\n",
    "\n",
    "    # 사다리 위치 찾기\n",
    "    for i in range(1, n + 1):\n",
    "        result[backtracking(0, i) - 1] = chr(ord('A') - 1 + i)\n",
    "    \n",
    "    print(result)\n",
    "\n",
    "# solution(5, [[1, 3], [2, 4], [1, 4]])\n",
    "# solution(7, [[1, 3, 5], [1, 3, 6], [2, 4]])\n",
    "# solution(8, [[1, 5], [2, 4, 7], [1, 5, 7], [2, 5, 7]] )\n",
    "solution(12, [[1, 5, 8, 10], [2, 4, 7], [1, 5, 7, 9, 11],[2, 5, 7, 10], [3, 6, 8, 11]])\n"
   ]
  },
  {
   "cell_type": "code",
   "execution_count": null,
   "metadata": {},
   "outputs": [],
   "source": [
    "print('a' - '')"
   ]
  }
 ],
 "metadata": {
  "kernelspec": {
   "display_name": "Python 3",
   "language": "python",
   "name": "python3"
  },
  "language_info": {
   "codemirror_mode": {
    "name": "ipython",
    "version": 3
   },
   "file_extension": ".py",
   "mimetype": "text/x-python",
   "name": "python",
   "nbconvert_exporter": "python",
   "pygments_lexer": "ipython3",
   "version": "3.11.4"
  },
  "orig_nbformat": 4
 },
 "nbformat": 4,
 "nbformat_minor": 2
}
