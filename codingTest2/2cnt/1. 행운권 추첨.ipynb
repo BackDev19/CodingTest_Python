{
 "cells": [
  {
   "cell_type": "code",
   "execution_count": null,
   "metadata": {},
   "outputs": [],
   "source": [
    "#가장 먼저 실행되는 메인 코드\n",
    "import sys\n",
    "from collections import Counter\n",
    "input = sys.stdin.readline\n",
    "if __name__ == \"__main__\":\n",
    "\t\tn = int(input())\n",
    "\t\tlotto = list(map(int, input().split()))\n",
    "\t\t\n",
    "\t\t# 1. Counter로 모든 데이터의 개수 파악\n",
    "\t\t# lotto의 길이 < n이라면, set으로 데이터를 담아 출력\n",
    "\t\t# 2. 2개 이상이라면, 중복된 데이터들 제거\n",
    "\n",
    "\t\tanswer = []\n",
    "\t\tif len(lotto) < n:\n",
    "\t\t\tanswer = list(set(lotto))\n",
    "\t\t\n",
    "\t\telse:\n",
    "\t\t\tlotto = (Counter(lotto))\n",
    "\t\t\tfor key in lotto.keys():\n",
    "\t\t\t\tif lotto[key] == 1:\n",
    "\t\t\t\t\tanswer.append(key)\n",
    "\t\t\n",
    "\t\tanswer.sort()\n",
    "\t\tprint(*answer)\n",
    "    # <---메인 코드의 끝---> "
   ]
  }
 ],
 "metadata": {
  "language_info": {
   "name": "python"
  },
  "orig_nbformat": 4
 },
 "nbformat": 4,
 "nbformat_minor": 2
}
