{
 "cells": [
  {
   "cell_type": "code",
   "execution_count": null,
   "metadata": {},
   "outputs": [],
   "source": [
    "# -*- coding: utf-8 -*-\n",
    "# UTF-8 encoding when using korean\n",
    "import sys\n",
    "from collections import Counter\n",
    "input = sys.stdin.readline\n",
    "\n",
    "# 1. 우선순위 신경 xx ex) {[}]도 괜찮음.\n",
    "# 2. 여닫기 신경쓰기\n",
    "# )[](도 통과된다는 의미\n",
    "# 결국에, 여닫는 괄호의 개수가 서로 일치하는지 파악 문제\n",
    "\n",
    "def validation(result_dic):\n",
    "\t\n",
    "\tif result_dic['['] != result_dic[']']:\n",
    "\t\treturn False\n",
    "\t\n",
    "\tif result_dic['('] != result_dic[')']:\n",
    "\t\treturn False\n",
    "\t\n",
    "\tif result_dic['{'] != result_dic['}']:\n",
    "\t\treturn False\n",
    "\t\n",
    "\treturn True\n",
    "\n",
    "user_input = list(input().rstrip())\n",
    "\n",
    "# 1. 열기는 있는데 닫기는 없다면 틀림\n",
    "result_dic = Counter(user_input)\n",
    "answer = validation(result_dic)\n",
    "print(answer)\n",
    "\n"
   ]
  }
 ],
 "metadata": {
  "language_info": {
   "name": "python"
  },
  "orig_nbformat": 4
 },
 "nbformat": 4,
 "nbformat_minor": 2
}
