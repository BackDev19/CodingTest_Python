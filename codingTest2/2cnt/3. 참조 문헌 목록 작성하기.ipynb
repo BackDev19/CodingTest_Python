{
 "cells": [
  {
   "cell_type": "code",
   "execution_count": 1,
   "metadata": {},
   "outputs": [
    {
     "name": "stdout",
     "output_type": "stream",
     "text": [
      "Deeper neural networks are more difficult to train. We present a residual learning framework to ease the training of networks that are substantially deeper than those used previously.[ 1, 2 ] We explicitly reformulate the layers as learning residual functions with reference to the layer inputs, instead of learning unreferenced functions.[ 3, 1 ] We provide comprehensive empirical evidence showing that these residual networks are easier to optimize, and can gain accuracy from considerably increased depth. [ 4 ]\n",
      "[1] some_paper_a\n",
      "[2] some_paper_b\n",
      "[3] some_book_a\n",
      "[4] some_book_b\n"
     ]
    }
   ],
   "source": [
    "# -*- coding: utf-8 -*-\n",
    "# UTF-8 encoding when using korean\n",
    "import sys\n",
    "sys.stdin = open(\"./input/3-1.txt\")\n",
    "input = sys.stdin.readline\n",
    "\n",
    "# 1. 모든 문장에서 단어를 뽑아낼 수 있어야 함\n",
    "def find_reference(sentence):\n",
    "\tglobal ref_dic, ref_arr\n",
    "\tcnt = 1\n",
    "\twhile sentence.find('[') != -1:\n",
    "\t\tstart = sentence.find('[')\n",
    "\t\tend = sentence.find(']') + 1\n",
    "\t\t\n",
    "\t\t# ref에 있는 단어들을 , 기준으로 분리\n",
    "\t\t# 공백 제거\n",
    "\t\t# 해당 ref들을 전부 확인해서 등록되지 않았다면, cnt를 넣어주기\n",
    "\t\t\n",
    "\t\tword = sentence[start+1:end-1].split(\",\")\n",
    "\t\ttemp = []\n",
    "\t\tfor w in word:\n",
    "\t\t\tw = w.strip()\n",
    "\t\t\tif w not in ref_dic:\n",
    "\t\t\t\tref_dic[w] = cnt\n",
    "\t\t\t\tref_arr.append(w)\n",
    "\t\t\t\tcnt += 1\n",
    "\t\t\t\n",
    "\t\t\ttemp.append(str(ref_dic[w]))\n",
    "\t\t\n",
    "\t\ta = '[ ' + \", \".join(temp) + ' ]'\n",
    "\t\tanswer.append(sentence[:start] + a)\n",
    "\n",
    "\t\tsentence = sentence[end:]\n",
    "\t\n",
    "\t# 맨 마지막에 [ ]가 아니라면\n",
    "\tif sentence:\n",
    "\t\tanswer.append(sentence)\n",
    "\n",
    "answer = []\n",
    "sentence = input()\n",
    "global ref_dic\t\n",
    "ref_dic = dict()\n",
    "ref_arr = []\n",
    "find_reference(sentence)\n",
    "\n",
    "print(\"\".join(answer))\n",
    "\n",
    "for i in range(len(ref_arr)):\n",
    "\tprint(f'[{i+1}] {ref_arr[i]}')\n",
    "\t"
   ]
  }
 ],
 "metadata": {
  "kernelspec": {
   "display_name": "Python 3",
   "language": "python",
   "name": "python3"
  },
  "language_info": {
   "codemirror_mode": {
    "name": "ipython",
    "version": 3
   },
   "file_extension": ".py",
   "mimetype": "text/x-python",
   "name": "python",
   "nbconvert_exporter": "python",
   "pygments_lexer": "ipython3",
   "version": "3.8.6"
  },
  "orig_nbformat": 4
 },
 "nbformat": 4,
 "nbformat_minor": 2
}
