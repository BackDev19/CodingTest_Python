{
 "cells": [
  {
   "cell_type": "code",
   "execution_count": null,
   "metadata": {},
   "outputs": [],
   "source": [
    "import sys\n",
    "sys.stdin = open(\"input.txt\", \"rt\")\n",
    "input = sys.stdin.readline\n",
    "#! 미완\n",
    "# 비바라기\n",
    "# n x n인 격자\n",
    "# 저장할 수 있는 물의 양에는 제한 x\n",
    "# r, c는 격자의 r행 c열에 있는 바구니\n",
    "# A[r][c]는 (r, c)에 있는 바구니에 저장되어있는 물의 양을 의미\n",
    "\n",
    "# 1, 1, n, n\n",
    "# 1번 n번 연결\n",
    "\n",
    "# 4칸에 비바림 이동 m번\n",
    "# i번째 이동 명령은 방향 d와 거리 s로 이루어져 있다.\n",
    "# 방향은 총 8방향, 8개의 정수\n",
    "# 좌측부터 시계방향\n",
    "\n",
    "dx = [0, -1, -1, -1, 0, 1, 1, 1]\n",
    "dy = [-1, -1, 0, 1, 1, 1, 0, -1]\n",
    "\n",
    "# 1. 모든 구름이 d방향으로 s칸 이동\n",
    "# 2. 비가 내려 구름이 있는 칸의 바구니에 저장된 물의 양이 1 증가\n",
    "# 3. 구름이 사라진다\n",
    "# 2에서 r,c 에 물복사 마법 시전. 대각선 방향 물이 있는 바구니의 수만큼 r,c에 잇는 바구니의 물이 증가\n",
    "# 경계를 넘어가는 칸은 대각선 방향으로 거리가 1인 칸이 아니다\n",
    "# 물의 양이 2 이상인 모든 칸에 구름, 물의 양이 2 줄어든다.\n",
    "# M번의 이동이 끝난 후, 물의 양의 합\n",
    "\n",
    "n, m = map(int, input().split())\n",
    "graph = [list(map(int, input().split())) for _ in range(n)]\n",
    "\n",
    "print(*graph, sep='\\n')"
   ]
  }
 ],
 "metadata": {
  "kernelspec": {
   "display_name": "Python 3",
   "language": "python",
   "name": "python3"
  },
  "language_info": {
   "name": "python",
   "version": "3.8.6"
  },
  "orig_nbformat": 4,
  "vscode": {
   "interpreter": {
    "hash": "2ba6819d172d60e93b2f90e5d47af36d4f36070393882cfcbe0fef625705f185"
   }
  }
 },
 "nbformat": 4,
 "nbformat_minor": 2
}
