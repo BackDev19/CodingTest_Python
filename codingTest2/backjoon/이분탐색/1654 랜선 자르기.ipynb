{
 "cells": [
  {
   "cell_type": "code",
   "execution_count": null,
   "metadata": {},
   "outputs": [],
   "source": [
    "import sys\n",
    "sys.stdin = open(\"input.txt\", \"rt\")\n",
    "input = sys.stdin.readline\n",
    "\n",
    "# K개의 랜선으로 N개의 랜선을 만드는 경우\n",
    "# 최대 랜선의 길이를 구하는 프로그램 작성\n",
    "\n",
    "k, n = map(int, input().split())\n",
    "lines = [int(input()) for _ in range(k)]\n",
    "\n",
    "lt = 1; rt = max(lines)\n",
    "\n",
    "answer = 0\n",
    "\n",
    "while lt <= rt:\n",
    "    mid = (lt + rt) // 2\n",
    "    line_num = 0\n",
    "\n",
    "    for line in lines:\n",
    "        line_num += line // mid\n",
    "\n",
    "    # 길이가 n보다 작거나 같다면\n",
    "    if line_num < n:\n",
    "        rt = mid - 1\n",
    "    else:\n",
    "        lt = mid + 1\n",
    "        answer = max(answer, mid)\n",
    "\n",
    "print(answer)"
   ]
  }
 ],
 "metadata": {
  "language_info": {
   "name": "python"
  },
  "orig_nbformat": 4
 },
 "nbformat": 4,
 "nbformat_minor": 2
}
