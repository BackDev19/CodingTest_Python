{
 "cells": [
  {
   "cell_type": "code",
   "execution_count": null,
   "metadata": {},
   "outputs": [],
   "source": [
    "import sys\n",
    "sys.stdin = open(\"input.txt\", \"rt\")\n",
    "input = sys.stdin.readline\n",
    "\n",
    "# m개 이하의 구간으로 나누어서 구간의 점수의 최댓값을 최소\n",
    "# 하나의 구간은 하나 이상의 연속된 수\n",
    "# 배열의 각 수는 하나의 구간에 포함되어 있어야 한다\n",
    "\n",
    "# 구간의 점수는 최댓값 - 최솟값\n",
    "# 구간의 최댓값의 최솟값 구하기\n",
    "\n",
    "n, m = map(int, input().split())\n",
    "arr = list(map(int, input().split()))\n",
    "\n",
    "def divide(x):\n",
    "    max_x = min_x = arr[0]\n",
    "    cnt = 1\n",
    "    for i in range(1, n):\n",
    "        max_x = max(max_x, arr[i])\n",
    "        min_x = min(min_x, arr[i])\n",
    "        if max_x - min_x > x:\n",
    "            cnt += 1\n",
    "            max_x = arr[i]\n",
    "            min_x = arr[i]\n",
    "\n",
    "    return cnt\n",
    "\n",
    "lt = 0; rt = max(arr)\n",
    "answer = 0\n",
    "while lt <= rt:\n",
    "    mid = (lt + rt) // 2\n",
    "    if divide(mid) <= m:\n",
    "        answer = mid\n",
    "        rt = mid - 1\n",
    "    else:\n",
    "        lt = mid + 1\n",
    "\n",
    "print(answer)"
   ]
  }
 ],
 "metadata": {
  "language_info": {
   "name": "python"
  },
  "orig_nbformat": 4
 },
 "nbformat": 4,
 "nbformat_minor": 2
}
