{
 "cells": [
  {
   "cell_type": "code",
   "execution_count": null,
   "metadata": {},
   "outputs": [],
   "source": [
    "import sys\n",
    "input = sys.stdin.readline\n",
    " \n",
    "n, k = map(int, input().split())\n",
    "lt = 1; rt = (n+2) // 2\n",
    "answer = False\n",
    " \n",
    "while lt <= rt:\n",
    "    mid = (lt + rt) // 2\n",
    "    res = mid * (n + 2 - mid)\n",
    " \n",
    "    if res < k:\n",
    "        lt = mid + 1\n",
    "    elif res > k :\n",
    "        rt = mid - 1\n",
    "    else:\n",
    "        answer = True\n",
    "        break\n",
    " \n",
    "print(\"YES\" if answer else \"NO\")"
   ]
  }
 ],
 "metadata": {
  "language_info": {
   "name": "python"
  },
  "orig_nbformat": 4
 },
 "nbformat": 4,
 "nbformat_minor": 2
}
