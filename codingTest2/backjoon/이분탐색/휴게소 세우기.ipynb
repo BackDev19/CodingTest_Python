{
 "cells": [
  {
   "cell_type": "code",
   "execution_count": null,
   "metadata": {},
   "outputs": [],
   "source": [
    "import sys\n",
    "sys.stdin = open(\"input.txt\", \"rt\")\n",
    "input = sys.stdin.readline\n",
    "\n",
    "# 휴게소를 N개 가지고 있음\n",
    "# 고속도로의 시작으로부터 얼마나 떨어져있는지\n",
    "# M개 더 세우려고 한다\n",
    "\n",
    "# 정수 위치에만 세울 수 있다\n",
    "# 모든 휴게소를 방문. M개를 더 지어서 휴게소가 없는 구간의 길이의 최댓값을 최소로\n",
    "# M개를 모두 지어야 한다\n",
    "\n",
    "# 휴게소의 개수 N, 더 지으려고 하는 휴게소의 개수 M, 고속도로의 길이 L\n",
    "def divide(x):\n",
    "    cur = 0\n",
    "    count = 0\n",
    "    for i in range(len(pos)):\n",
    "        count += (pos[i] - cur - 1) // x\n",
    "        cur = pos[i]\n",
    "    \n",
    "    return count\n",
    "\n",
    "def binary_search():\n",
    "    lt = 1; rt = max(pos)\n",
    "\n",
    "    while lt <= rt:\n",
    "        mid = (lt + rt) // 2\n",
    "        if divide(mid) < m:\n",
    "            rt = mid - 1\n",
    "            global answer\n",
    "            answer = mid\n",
    "        else:\n",
    "            lt = mid + 1\n",
    "\n",
    "answer = 0\n",
    "n, m, l = map(int, input().split())\n",
    "pos = list(map(int, input().split()))\n",
    "pos.append(l)\n",
    "pos.sort()\n",
    "\n",
    "binary_search()\n",
    "print(answer)\n",
    "\n",
    "\n"
   ]
  }
 ],
 "metadata": {
  "language_info": {
   "name": "python"
  },
  "orig_nbformat": 4
 },
 "nbformat": 4,
 "nbformat_minor": 2
}
