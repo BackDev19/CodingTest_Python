{
 "cells": [
  {
   "cell_type": "code",
   "execution_count": null,
   "metadata": {},
   "outputs": [],
   "source": [
    "import sys\n",
    "sys.stdin = open(\"input.txt\", \"rt\")\n",
    "input = sys.stdin.readline\n",
    "\n",
    "# 입국 심사대 N개\n",
    "# 친구들 m명\n",
    "# k번 심사대 Tk\n",
    "# 7초, 10초\n",
    "# 심사를 받는데 걸리는 최솟값\n",
    "\n",
    "n, m = map(int, input().split())\n",
    "times = [int(input()) for _ in range(n)]\n",
    "\n",
    "lt = 1; rt = max(times) * m\n",
    "answer = rt\n",
    "while lt <= rt:\n",
    "    mid = (lt + rt) // 2\n",
    "    cnt = 0\n",
    "    for time in times:\n",
    "        cnt += mid // time\n",
    "    \n",
    "    if cnt >= m:\n",
    "        rt = mid - 1\n",
    "        answer = min(answer, mid)\n",
    "    else:\n",
    "        lt = mid + 1\n",
    "\n",
    "print(answer)\n"
   ]
  }
 ],
 "metadata": {
  "language_info": {
   "name": "python"
  },
  "orig_nbformat": 4
 },
 "nbformat": 4,
 "nbformat_minor": 2
}
