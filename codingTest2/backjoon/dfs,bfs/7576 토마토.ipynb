{
 "cells": [
  {
   "cell_type": "code",
   "execution_count": null,
   "metadata": {},
   "outputs": [],
   "source": [
    "import sys\n",
    "from collections import deque\n",
    "sys.stdin = open(\"input.txt\", \"rt\")\n",
    "input = sys.stdin.readline\n",
    "\n",
    "def bfs(dq):\n",
    "\n",
    "    dx = [-1, 0, 1, 0]\n",
    "    dy = [0, 1, 0, -1]\n",
    "\n",
    "    global ans\n",
    "\n",
    "    while dq:\n",
    "        # 토마토가 한번이라도 익었다면, ans 숫자를 증가\n",
    "        is_trans = False\n",
    "        len_dq = len(dq)\n",
    "        for i in range(len_dq):\n",
    "            x, y = dq.popleft()\n",
    "            for j in range(4):\n",
    "                nx = x + dx[j]\n",
    "                ny = y + dy[j]\n",
    "                if 0 <= nx < n and 0 <= ny < m and board[nx][ny] == 0:\n",
    "                    board[nx][ny] = 1\n",
    "                    dq.append([nx, ny])\n",
    "                    if not is_trans:\n",
    "                        ans += 1\n",
    "                        is_trans = True\n",
    "    \n",
    "m, n = map(int, input().split())\n",
    "board = [list(map(int, input().split())) for _ in range(n)]\n",
    "dq = deque()\n",
    "ans = 0\n",
    "\n",
    "# 1에 있는 원소들을 넣어주기\n",
    "for i in range(n):\n",
    "    for j in range(m):\n",
    "        if board[i][j] == 1:\n",
    "            dq.append([i, j])\n",
    "\n",
    "bfs(dq)\n",
    "\n",
    "for i in range(n):\n",
    "    for j in range(m):\n",
    "        if board[i][j] == 0:\n",
    "            ans = -1\n",
    "\n",
    "print(ans)"
   ]
  }
 ],
 "metadata": {
  "language_info": {
   "name": "python"
  },
  "orig_nbformat": 4
 },
 "nbformat": 4,
 "nbformat_minor": 2
}
