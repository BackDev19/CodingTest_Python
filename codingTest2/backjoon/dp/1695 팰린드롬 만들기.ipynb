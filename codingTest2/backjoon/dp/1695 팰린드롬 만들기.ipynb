{
 "cells": [
  {
   "cell_type": "code",
   "execution_count": null,
   "metadata": {},
   "outputs": [],
   "source": [
    "import sys\n",
    "sys.stdin = open(\"input.txt\", \"rt\")\n",
    "input = sys.stdin.readline\n",
    "\n",
    "# 최소 개수를 끼워 넣어 팰린드롬 만들기\n",
    "# 최장 공통 수열 구하기\n",
    "\n",
    "n = int(input())\n",
    "word = list(map(int, input().split()))\n",
    "dp = [[0] * (n+1) for _ in range(n+1)]\n",
    "\n",
    "for i in range(1, n+1):\n",
    "    for j in range(1, n+1):\n",
    "        dp[i][j] = max(dp[i-1][j], dp[i][j-1])\n",
    "        if word[i-1] == word[-j]:\n",
    "            dp[i][j] = max(dp[i][j], dp[i-1][j-1] + 1)\n",
    "\n",
    "print(n - dp[n][n])"
   ]
  }
 ],
 "metadata": {
  "language_info": {
   "name": "python"
  },
  "orig_nbformat": 4
 },
 "nbformat": 4,
 "nbformat_minor": 2
}
