{
 "cells": [
  {
   "cell_type": "code",
   "execution_count": null,
   "metadata": {},
   "outputs": [],
   "source": [
    "import sys\n",
    "sys.stdin = open(\"input.txt\", \"rt\")\n",
    "input = sys.stdin.readline\n",
    "\n",
    "n, m = map(int, input().split())\n",
    "board = [list(map(int, input().split())) for _ in range(n)]\n",
    "dp = [[-1e9] * (m) for _ in range(n)]\n",
    "\n",
    "print(*board, sep='\\n')\n",
    "dp[n-1][0] = 0\n",
    "# 상승비행 했을 경우\n",
    "for i in range(m):\n",
    "    # 여기까지가 상승비행\n",
    "    for j in range(n-1, -1, -1):\n",
    "        if j + 1 <= n - 1:\n",
    "            dp[j][i] = dp[j+1][i]\n",
    "        if i - 1 >= 0:\n",
    "            dp[j][i] = max(dp[j][i], dp[j][i-1])\n",
    "        \n",
    "        dp[j][i] += board[j][i]\n",
    "\n",
    "print()\n",
    "print(*dp, sep='\\n')\n",
    "# 하강비행 시작\n",
    "for i in range(m): \n",
    "    for j in range(n):\n",
    "        if j - 1 >= 0:\n",
    "            dp[j][i] = max(dp[j][i], dp[j-1][i])\n",
    "        if i - 1 >= 0:\n",
    "            dp[j][i] = max(dp[j][i], dp[j][i-1])\n",
    "        \n",
    "        dp[j][i] += board[j][i]\n",
    "\n",
    "\n",
    "print()\n",
    "print(*dp, sep='\\n')"
   ]
  }
 ],
 "metadata": {
  "language_info": {
   "name": "python"
  },
  "orig_nbformat": 4
 },
 "nbformat": 4,
 "nbformat_minor": 2
}
