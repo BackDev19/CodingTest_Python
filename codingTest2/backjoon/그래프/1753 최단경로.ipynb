{
 "cells": [
  {
   "cell_type": "code",
   "execution_count": null,
   "metadata": {},
   "outputs": [],
   "source": [
    "import sys\n",
    "import heapq\n",
    "sys.stdin = open(\"input.txt\", \"rt\")\n",
    "input = sys.stdin.readline\n",
    "\n",
    "# 방향 그래프가 주어지면 시작점에서 다른 모든 정점으로의 최단 경로를 구하는 프로그램을 작성\n",
    "# 시작 정점의 번호 k\n",
    "# 셋째 줄부터 E개의 줄에 걸쳐 각 간선을 나타내는 세 개의 정수 (u, v, w)가 순서대로\n",
    "v, e = map(int, input().split())\n",
    "k = int(input())\n",
    "graph = [[] for _ in range(v+1)]\n",
    "INF = int(1e9)\n",
    "distance = [INF] * (v+1)\n",
    "\n",
    "def dijkstra(start):\n",
    "    distance[start] = 0\n",
    "    q = []\n",
    "    q.append((0, start))\n",
    "\n",
    "    while q:\n",
    "        dist, now = heapq.heappop(q)\n",
    "        if dist < distance[now]:\n",
    "            continue\n",
    "\n",
    "        for i in graph[now]:\n",
    "            cost = i[1] + dist\n",
    "            if cost < distance[i[0]]:\n",
    "                distance[i[0]] = cost\n",
    "                heapq.heappush(q, (cost, i[0]))\n",
    "\n",
    "for _ in range(e):\n",
    "    a, b, c = map(int, input().split())\n",
    "    graph[a].append((b, c))\n",
    "\n",
    "dijkstra(k)\n",
    "\n",
    "for i in range(1, v+1):\n",
    "    if distance[i] == INF:\n",
    "        print('INF')\n",
    "    else:\n",
    "        print(distance[i])\n",
    "\n"
   ]
  }
 ],
 "metadata": {
  "language_info": {
   "name": "python"
  },
  "orig_nbformat": 4
 },
 "nbformat": 4,
 "nbformat_minor": 2
}
