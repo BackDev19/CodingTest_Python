{
 "cells": [
  {
   "cell_type": "code",
   "execution_count": null,
   "metadata": {},
   "outputs": [],
   "source": [
    "import sys\n",
    "from collections import deque\n",
    "sys.stdin = open(\"input.txt\", \"rt\")\n",
    "input = sys.stdin.readline\n",
    "\n",
    "def bfs(start):\n",
    "    q = deque()\n",
    "    q.append(start)\n",
    "\n",
    "    count = 1\n",
    "\n",
    "    while q:\n",
    "        for i in range(len(q)):\n",
    "            now = q.popleft()\n",
    "            if now == b:\n",
    "                return count\n",
    "\n",
    "            for x in [now * 2, int(str(now) + '1')]:\n",
    "                if x > b:\n",
    "                    continue\n",
    "                q.append(x)\n",
    "\n",
    "        count += 1\n",
    "\n",
    "    return -1\n",
    "\n",
    "a, b = map(int, input().split())\n",
    "# 2를 곱한다. 1을 수의 가장 오른쪽에 추가\n",
    "answer = bfs(a)\n",
    "print(answer)\n",
    "\n",
    "\n",
    "\n"
   ]
  }
 ],
 "metadata": {
  "kernelspec": {
   "display_name": "Python 3",
   "language": "python",
   "name": "python3"
  },
  "language_info": {
   "name": "python",
   "version": "3.8.6"
  },
  "orig_nbformat": 4,
  "vscode": {
   "interpreter": {
    "hash": "2ba6819d172d60e93b2f90e5d47af36d4f36070393882cfcbe0fef625705f185"
   }
  }
 },
 "nbformat": 4,
 "nbformat_minor": 2
}
