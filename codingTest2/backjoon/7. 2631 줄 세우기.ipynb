{
 "cells": [
  {
   "cell_type": "code",
   "execution_count": 2,
   "metadata": {},
   "outputs": [
    {
     "ename": "FileNotFoundError",
     "evalue": "[Errno 2] No such file or directory: 'input.txt'",
     "output_type": "error",
     "traceback": [
      "\u001b[1;31m---------------------------------------------------------------------------\u001b[0m",
      "\u001b[1;31mFileNotFoundError\u001b[0m                         Traceback (most recent call last)",
      "\u001b[1;32mc:\\Users\\황인권\\OneDrive - 동국대학교\\문서\\CodingTest_Python\\codingTest2\\backjoon\\7. 2631 줄 세우기.ipynb Cell 1\u001b[0m in \u001b[0;36m<cell line: 2>\u001b[1;34m()\u001b[0m\n\u001b[0;32m      <a href='vscode-notebook-cell:/c%3A/Users/%ED%99%A9%EC%9D%B8%EA%B6%8C/OneDrive%20-%20%EB%8F%99%EA%B5%AD%EB%8C%80%ED%95%99%EA%B5%90/%EB%AC%B8%EC%84%9C/CodingTest_Python/codingTest2/backjoon/7.%202631%20%EC%A4%84%20%EC%84%B8%EC%9A%B0%EA%B8%B0.ipynb#W0sZmlsZQ%3D%3D?line=0'>1</a>\u001b[0m \u001b[39mimport\u001b[39;00m \u001b[39msys\u001b[39;00m\n\u001b[1;32m----> <a href='vscode-notebook-cell:/c%3A/Users/%ED%99%A9%EC%9D%B8%EA%B6%8C/OneDrive%20-%20%EB%8F%99%EA%B5%AD%EB%8C%80%ED%95%99%EA%B5%90/%EB%AC%B8%EC%84%9C/CodingTest_Python/codingTest2/backjoon/7.%202631%20%EC%A4%84%20%EC%84%B8%EC%9A%B0%EA%B8%B0.ipynb#W0sZmlsZQ%3D%3D?line=1'>2</a>\u001b[0m sys\u001b[39m.\u001b[39mstdin \u001b[39m=\u001b[39m \u001b[39mopen\u001b[39;49m(\u001b[39m\"\u001b[39;49m\u001b[39minput.txt\u001b[39;49m\u001b[39m\"\u001b[39;49m, \u001b[39m\"\u001b[39;49m\u001b[39mrt\u001b[39;49m\u001b[39m\"\u001b[39;49m)\n\u001b[0;32m      <a href='vscode-notebook-cell:/c%3A/Users/%ED%99%A9%EC%9D%B8%EA%B6%8C/OneDrive%20-%20%EB%8F%99%EA%B5%AD%EB%8C%80%ED%95%99%EA%B5%90/%EB%AC%B8%EC%84%9C/CodingTest_Python/codingTest2/backjoon/7.%202631%20%EC%A4%84%20%EC%84%B8%EC%9A%B0%EA%B8%B0.ipynb#W0sZmlsZQ%3D%3D?line=2'>3</a>\u001b[0m \u001b[39minput\u001b[39m \u001b[39m=\u001b[39m sys\u001b[39m.\u001b[39mstdin\u001b[39m.\u001b[39mreadline\n\u001b[0;32m      <a href='vscode-notebook-cell:/c%3A/Users/%ED%99%A9%EC%9D%B8%EA%B6%8C/OneDrive%20-%20%EB%8F%99%EA%B5%AD%EB%8C%80%ED%95%99%EA%B5%90/%EB%AC%B8%EC%84%9C/CodingTest_Python/codingTest2/backjoon/7.%202631%20%EC%A4%84%20%EC%84%B8%EC%9A%B0%EA%B8%B0.ipynb#W0sZmlsZQ%3D%3D?line=4'>5</a>\u001b[0m \u001b[39m# 약이 N개 담긴 병\u001b[39;00m\n\u001b[0;32m      <a href='vscode-notebook-cell:/c%3A/Users/%ED%99%A9%EC%9D%B8%EA%B6%8C/OneDrive%20-%20%EB%8F%99%EA%B5%AD%EB%8C%80%ED%95%99%EA%B5%90/%EB%AC%B8%EC%84%9C/CodingTest_Python/codingTest2/backjoon/7.%202631%20%EC%A4%84%20%EC%84%B8%EC%9A%B0%EA%B8%B0.ipynb#W0sZmlsZQ%3D%3D?line=5'>6</a>\u001b[0m \u001b[39m# 한조각\u001b[39;00m\n\u001b[0;32m      <a href='vscode-notebook-cell:/c%3A/Users/%ED%99%A9%EC%9D%B8%EA%B6%8C/OneDrive%20-%20%EB%8F%99%EA%B5%AD%EB%8C%80%ED%95%99%EA%B5%90/%EB%AC%B8%EC%84%9C/CodingTest_Python/codingTest2/backjoon/7.%202631%20%EC%A4%84%20%EC%84%B8%EC%9A%B0%EA%B8%B0.ipynb#W0sZmlsZQ%3D%3D?line=6'>7</a>\u001b[0m \n\u001b[1;32m   (...)\u001b[0m\n\u001b[0;32m     <a href='vscode-notebook-cell:/c%3A/Users/%ED%99%A9%EC%9D%B8%EA%B6%8C/OneDrive%20-%20%EB%8F%99%EA%B5%AD%EB%8C%80%ED%95%99%EA%B5%90/%EB%AC%B8%EC%84%9C/CodingTest_Python/codingTest2/backjoon/7.%202631%20%EC%A4%84%20%EC%84%B8%EC%9A%B0%EA%B8%B0.ipynb#W0sZmlsZQ%3D%3D?line=13'>14</a>\u001b[0m \n\u001b[0;32m     <a href='vscode-notebook-cell:/c%3A/Users/%ED%99%A9%EC%9D%B8%EA%B6%8C/OneDrive%20-%20%EB%8F%99%EA%B5%AD%EB%8C%80%ED%95%99%EA%B5%90/%EB%AC%B8%EC%84%9C/CodingTest_Python/codingTest2/backjoon/7.%202631%20%EC%A4%84%20%EC%84%B8%EC%9A%B0%EA%B8%B0.ipynb#W0sZmlsZQ%3D%3D?line=14'>15</a>\u001b[0m \u001b[39m# [5, 10, 15] ,[10, 20], [1, 2, 3, 4, 5]\u001b[39;00m\n",
      "\u001b[1;31mFileNotFoundError\u001b[0m: [Errno 2] No such file or directory: 'input.txt'"
     ]
    }
   ],
   "source": [
    "import sys\n",
    "sys.stdin = open(\"input.txt\", \"rt\")\n",
    "input = sys.stdin.readline\n",
    "\n",
    "# 1번부터 N번까지 번호가 적혀있는 번호표\n",
    "# 목적지까지 번호순서대로 일렬로 서서 걸어가도록\n",
    "# 번호 순서가 바뀜 -> 아이들의 위치를 옮기기\n",
    "# 위치를 옮기는 아이들의 수를 최소화\n",
    "\n",
    "n = int(input())\n",
    "student = [int(input()) for _ in range(n)]\n",
    "\n",
    "dp = [0] * n\n",
    "\n",
    "for i in range(n):\n",
    "    for j in range(i):\n",
    "        # student j가 더 작은 경우 작은 것들 중 가장 긴 수를 찾아줌\n",
    "        if student[i] > student[j]:\n",
    "            dp[i] = max(dp[i], dp[j])\n",
    "    \n",
    "    dp[i] += 1\n",
    "\n",
    "print(n - max(dp))\n",
    "\n"
   ]
  },
  {
   "cell_type": "code",
   "execution_count": null,
   "metadata": {},
   "outputs": [],
   "source": []
  },
  {
   "cell_type": "markdown",
   "metadata": {},
   "source": []
  }
 ],
 "metadata": {
  "kernelspec": {
   "display_name": "Python 3",
   "language": "python",
   "name": "python3"
  },
  "language_info": {
   "codemirror_mode": {
    "name": "ipython",
    "version": 3
   },
   "file_extension": ".py",
   "mimetype": "text/x-python",
   "name": "python",
   "nbconvert_exporter": "python",
   "pygments_lexer": "ipython3",
   "version": "3.8.6"
  },
  "orig_nbformat": 4,
  "vscode": {
   "interpreter": {
    "hash": "2ba6819d172d60e93b2f90e5d47af36d4f36070393882cfcbe0fef625705f185"
   }
  }
 },
 "nbformat": 4,
 "nbformat_minor": 2
}
