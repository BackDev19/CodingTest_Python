{
 "cells": [
  {
   "cell_type": "code",
   "execution_count": null,
   "metadata": {},
   "outputs": [],
   "source": [
    "import sys\n",
    "from collections import deque\n",
    "sys.stdin = open(\"input.txt\", \"rt\")\n",
    "input = sys.stdin.readline\n",
    "\n",
    "def topology_sort():\n",
    "    q = deque()\n",
    "    for i in range(1, n + 1):\n",
    "        if indegree[i] == 0:\n",
    "            q.append(i)\n",
    "            dp[i] = 1\n",
    "    \n",
    "    \n",
    "\n",
    "    while q:\n",
    "        now = q.popleft()\n",
    "\n",
    "        for x in graph[now]:\n",
    "            indegree[x] -= 1\n",
    "            if indegree[x] == 0:\n",
    "                q.append(x)\n",
    "                dp[x] = dp[now] + 1\n",
    "\n",
    "\n",
    "\n",
    "# 각 과목을 이수하려면 최소 몇 학기가 걸리는지 계산\n",
    "# 각 과목의 수 N, 선수 조건의 수 M\n",
    "# A, B 형태. A번 과목이 B번 과목의 선수과목\n",
    "\n",
    "n, m = map(int, input().split())\n",
    "indegree = [0] * (n+1)\n",
    "graph = [[] for _ in range(n+1)]\n",
    "dp = [0] * (n+1)\n",
    "\n",
    "# print(*graph, sep='\\n')\n",
    "for _ in range(m):\n",
    "    a, b = map(int, input().split())\n",
    "    indegree[b] += 1\n",
    "    graph[a].append(b)\n",
    "\n",
    "# print(indegree)\n",
    "# print(*graph, sep='\\n')\n",
    "\n",
    "topology_sort()\n",
    "for i in range(1, n+1):\n",
    "    print(dp[i], end = ' ')\n"
   ]
  }
 ],
 "metadata": {
  "language_info": {
   "name": "python"
  },
  "orig_nbformat": 4
 },
 "nbformat": 4,
 "nbformat_minor": 2
}
