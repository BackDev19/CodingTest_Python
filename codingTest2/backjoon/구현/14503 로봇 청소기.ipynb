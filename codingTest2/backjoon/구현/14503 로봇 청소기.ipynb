{
 "cells": [
  {
   "cell_type": "code",
   "execution_count": null,
   "metadata": {},
   "outputs": [],
   "source": [
    "import sys\n",
    "input = sys.stdin.readline\n",
    " \n",
    "def solution():\n",
    "    # 변수 선언\n",
    "    global cur_x, cur_y, dir\n",
    "    visited = [[False] * m for _ in range(n)]\n",
    "    answer = 0\n",
    "    \n",
    "    while True:\n",
    "        # 1. 현재칸 청소\n",
    "        if not visited[cur_x][cur_y]:\n",
    "            visited[cur_x][cur_y] = True\n",
    "            answer += 1\n",
    "        \n",
    "        # 2. 현재 칸의 주변 4칸 탐색\n",
    "        # 청소 안한 칸이 있는지\n",
    "        for i in range(4):\n",
    "            dir = (dir + 3) % 4\n",
    "            nx = cur_x + dx[dir]\n",
    "            ny = cur_y + dy[dir]\n",
    "            \n",
    "            if 0 <= nx < n and 0 <= ny < m:\n",
    "                # 해당 방향에 빈 칸이 있는 경우 > 해당 방향으로 이동\n",
    "                if not visited[nx][ny] and board[nx][ny] != 1:\n",
    "                    cur_x, cur_y = nx, ny\n",
    "                    break\n",
    "        else:\n",
    "            nx = cur_x + dx[(dir + 2) % 4]\n",
    "            ny = cur_y + dy[(dir + 2) % 4]\n",
    "            # 후진할 수 있다면, \n",
    "            if board[nx][ny] != 1:\n",
    "                cur_x, cur_y = nx, ny\n",
    "            else:\n",
    "                break\n",
    "        \n",
    "    return answer\n",
    " \n",
    "# 변수 선언\n",
    "# 0, 1, 2, 3 - 북, 동, 남, 서\n",
    "dx = [-1, 0, 1, 0]\n",
    "dy = [0, 1, 0, -1]\n",
    " \n",
    "# 세로 가로\n",
    "n, m = map(int, input().split())\n",
    "cur_x, cur_y, dir = map(int, input().split())\n",
    "board = [list(map(int, input().split())) for _ in range(n)]\n",
    " \n",
    "print(solution())"
   ]
  }
 ],
 "metadata": {
  "language_info": {
   "name": "python"
  }
 },
 "nbformat": 4,
 "nbformat_minor": 2
}
