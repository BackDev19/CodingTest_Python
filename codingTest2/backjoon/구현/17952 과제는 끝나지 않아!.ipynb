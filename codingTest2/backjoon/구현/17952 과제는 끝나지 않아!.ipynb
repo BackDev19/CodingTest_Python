{
 "cells": [
  {
   "cell_type": "code",
   "execution_count": null,
   "metadata": {},
   "outputs": [],
   "source": [
    "import sys\n",
    "sys.stdin = open(\"input.txt\", \"rt\")\n",
    "input = sys.stdin.readline\n",
    "\n",
    "# 과제는 가장 최근순\n",
    "# 새로운 과제가 나온다면, 새로운 과제를 진행\n",
    "# 새로운 과제가 끝났다면, 이전에 하던 과제를 진행\n",
    "\n",
    "# 1. 새로운 값이 들어온다면, append\n",
    "# 2. 마지막에는 assign[-1][1] -= 1\n",
    "# if assign[-1][1] == 0: assign.pop() + 점수 더해주기\n",
    "\n",
    "n = int(input())\n",
    "answer = 0\n",
    "assign = []\n",
    "\n",
    "for i in range(n):\n",
    "    case = list(map(int, input().split()))\n",
    "    # 값이 1이라면, append\n",
    "    if case[0] == 1:\n",
    "        num, A, T = case\n",
    "        assign.append([A, T])\n",
    "\n",
    "    # 과제의 소요시간을 줄이기\n",
    "    if assign:\n",
    "        assign[-1][1] -= 1\n",
    "        if assign[-1][1] == 0:\n",
    "            answer += assign.pop()[0]\n",
    "\n",
    "print(answer)\n"
   ]
  }
 ],
 "metadata": {
  "language_info": {
   "name": "python"
  },
  "orig_nbformat": 4
 },
 "nbformat": 4,
 "nbformat_minor": 2
}
