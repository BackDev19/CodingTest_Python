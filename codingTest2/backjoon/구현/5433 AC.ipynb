{
 "cells": [
  {
   "cell_type": "code",
   "execution_count": null,
   "metadata": {},
   "outputs": [],
   "source": [
    "import sys\n",
    "from collections import deque\n",
    "sys.stdin = open(\"input.txt\", \"rt\")\n",
    "input = sys.stdin.readline\n",
    "\n",
    "# AC\n",
    "# R 뒤집기, D 첫번째 수 버리기\n",
    "# 배열이 비어있는데 D - 오류\n",
    "# 초기값과 수행할 함수가 주어졌을 때, 최종 결과\n",
    "\n",
    "# test\n",
    "\n",
    "T = int(input())\n",
    "\n",
    "for _ in range(T):\n",
    "    p = list(input().rstrip())\n",
    "    n = int(input())\n",
    "    dq = deque(input().rstrip()[1:-1].split(\",\"))\n",
    "    reverse = False\n",
    "    error = False\n",
    "\n",
    "    if n == 0:\n",
    "        dq = deque()\n",
    "\n",
    "    for x in p:\n",
    "        if x == 'R':\n",
    "            reverse = not reverse\n",
    "        else:\n",
    "            if not dq:\n",
    "                error = True\n",
    "                break\n",
    "\n",
    "            if reverse:\n",
    "                dq.pop()\n",
    "            else:\n",
    "                dq.popleft()\n",
    "\n",
    "    if error:\n",
    "        print(\"error\")\n",
    "    else:\n",
    "        if reverse:\n",
    "            dq.reverse()\n",
    "            print(\"[\" + \",\".join(dq) + \"]\")\n",
    "        else:\n",
    "            print(\"[\" + \",\".join(dq) + \"]\")\n"
   ]
  }
 ],
 "metadata": {
  "language_info": {
   "name": "python"
  },
  "orig_nbformat": 4
 },
 "nbformat": 4,
 "nbformat_minor": 2
}
