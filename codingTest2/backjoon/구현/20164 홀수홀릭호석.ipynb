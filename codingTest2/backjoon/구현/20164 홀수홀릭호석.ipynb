{
 "cells": [
  {
   "cell_type": "code",
   "execution_count": null,
   "metadata": {},
   "outputs": [],
   "source": [
    "import sys\n",
    "input = sys.stdin.readline\n",
    " \n",
    "def odd_cnt(num):\n",
    "    cnt = 0\n",
    " \n",
    "    # 홀수라면, cnt += 1\n",
    "    for n in num:\n",
    "        if int(n) % 2 == 1:\n",
    "            cnt += 1\n",
    "    return cnt\n",
    " \n",
    "def solve(num, cnt):\n",
    "    if len(num) == 1:\n",
    "        global max_v, min_v\n",
    "        max_v = max(max_v, cnt)\n",
    "        min_v = min(min_v, cnt)\n",
    "    \n",
    "    elif len(num) == 2:\n",
    "        temp = str(int(num[0]) + int(num[1]))\n",
    "        solve(temp, cnt + odd_cnt(temp))\n",
    "    \n",
    "    else:\n",
    "        for i in range(len(num) - 2):\n",
    "            for j in range(i+1, len(num) - 1):\n",
    "                a = int(num[:i+1])\n",
    "                b = int(num[i+1:j+1])\n",
    "                c = int(num[j+1:])\n",
    "                temp = str(a + b + c)\n",
    "                solve(temp, cnt + odd_cnt(temp))\n",
    " \n",
    "num = input().rstrip()\n",
    "max_v = 0\n",
    "min_v = 1e9\n",
    "solve(num, odd_cnt(num))\n",
    "print(min_v, max_v)"
   ]
  }
 ],
 "metadata": {
  "language_info": {
   "name": "python"
  },
  "orig_nbformat": 4
 },
 "nbformat": 4,
 "nbformat_minor": 2
}
