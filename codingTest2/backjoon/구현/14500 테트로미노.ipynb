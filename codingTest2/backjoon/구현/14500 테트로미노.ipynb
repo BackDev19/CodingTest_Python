{
 "cells": [
  {
   "cell_type": "code",
   "execution_count": null,
   "metadata": {},
   "outputs": [],
   "source": [
    "import sys\n",
    "sys.stdin = open(\"input.txt\", \"rt\")\n",
    "input = sys.stdin.readline\n",
    "\n",
    "# n x m\n",
    "# 정사각형 4개\n",
    "\n",
    "# 테트로미노 쌓기\n",
    "def dfs(L, x, y, result):\n",
    "\n",
    "    # 테트로미노인 경우\n",
    "    if L == 4:\n",
    "        global answer\n",
    "        answer = max(answer, result)\n",
    "        return\n",
    "\n",
    "\n",
    "    for i in range(4):\n",
    "        nx = x + dx[i]\n",
    "        ny = y + dy[i]\n",
    "        if (0 <= nx < n and 0 <= ny < m) and not visited[nx][ny]:\n",
    "            visited[nx][ny] = True\n",
    "            # ㅗ, ㅜ, ㅓ, ㅏ 모양을 만들어주기 위해 2번째까지 채운 경우 값만 계산하고, 2번째 위치에서 시작\n",
    "            if L == 2:\n",
    "                dfs(L + 1, x, y, result + board[nx][ny])\n",
    "\n",
    "            dfs(L + 1, nx, ny, result + board[nx][ny])\n",
    "            \n",
    "            visited[nx][ny] = False\n",
    "\n",
    "\n",
    "# 테트리미노 하나를 적절히 놓아서 놓인 칸에 쓰여 있는 수들의 합을 최대로 하는 프로그램을 작성\n",
    "n, m = map(int, input().split())\n",
    "board = [list(map(int, input().split())) for _ in range(n)]\n",
    "visited = [[False] * m for _ in range(n)]\n",
    "answer = 0\n",
    "\n",
    "dx = [-1, 0, 1, 0]\n",
    "dy = [0, 1, 0, -1]\n",
    "\n",
    "for i in range(n):\n",
    "    for j in range(m):\n",
    "        visited[i][j] = True\n",
    "        dfs(1, i, j, board[i][j])\n",
    "        visited[i][j] = False\n",
    "\n",
    "print(answer)"
   ]
  }
 ],
 "metadata": {
  "language_info": {
   "name": "python"
  },
  "orig_nbformat": 4
 },
 "nbformat": 4,
 "nbformat_minor": 2
}
