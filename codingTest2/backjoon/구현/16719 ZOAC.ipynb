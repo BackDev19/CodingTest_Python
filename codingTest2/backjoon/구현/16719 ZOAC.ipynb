{
 "cells": [
  {
   "cell_type": "code",
   "execution_count": null,
   "metadata": {},
   "outputs": [],
   "source": [
    "import sys\n",
    "sys.stdin = open(\"input.txt\", \"rt\")\n",
    "input = sys.stdin.readline\n",
    "\n",
    "word = list(input().rstrip())\n",
    "n = len(word)\n",
    "result = [''] * n\n",
    "\n",
    "def dfs(_word, start):\n",
    "\n",
    "    if not _word:\n",
    "        return\n",
    "    \n",
    "    min_word = min(_word)\n",
    "    min_idx = _word.index(min_word)\n",
    "    result[start + min_idx] = min_word\n",
    "\n",
    "    print(\"\".join(result))\n",
    "\n",
    "    dfs(_word[min_idx + 1:], start + min_idx + 1)\n",
    "    dfs(_word[:min_idx], start)\n",
    "\n",
    "dfs(word, 0)\n"
   ]
  }
 ],
 "metadata": {
  "language_info": {
   "name": "python"
  },
  "orig_nbformat": 4
 },
 "nbformat": 4,
 "nbformat_minor": 2
}
