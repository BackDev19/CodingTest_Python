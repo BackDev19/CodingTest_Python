{
 "cells": [
  {
   "cell_type": "code",
   "execution_count": null,
   "metadata": {},
   "outputs": [],
   "source": [
    "import sys\n",
    "sys.stdin = open(\"input.txt\", \"rt\")\n",
    "input = sys.stdin.readline\n",
    "\n",
    "# X일 동안 가장 많이 들어온 방문자 수와 기간\n",
    "# X일 동안 가장 많이 들어온 방문자 수와 기간이 몇 개 있는지\n",
    "\n",
    "n, x = map(int, input().split())\n",
    "visit = list(map(int, input().split()))\n",
    "\n",
    "value = sum(visit[:x])\n",
    "max_value = value\n",
    "\n",
    "count = 1\n",
    "\n",
    "for i in range(x, n):\n",
    "    value += visit[i]\n",
    "    value -= visit[i-x]\n",
    "\n",
    "    # 최대 값과 count 개수 초기화\n",
    "    if max_value < value:\n",
    "        max_value = value\n",
    "        count = 1\n",
    "\n",
    "    elif max_value == value:\n",
    "        count += 1\n",
    "\n",
    "\n",
    "if max_value == 0:\n",
    "    print(\"SAD\")    \n",
    "else:    \n",
    "    print(max_value, count, sep='\\n')\n",
    "\n",
    "\n",
    "\n"
   ]
  }
 ],
 "metadata": {
  "language_info": {
   "name": "python"
  },
  "orig_nbformat": 4
 },
 "nbformat": 4,
 "nbformat_minor": 2
}
