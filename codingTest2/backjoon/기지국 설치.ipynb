{
 "cells": [
  {
   "cell_type": "code",
   "execution_count": null,
   "metadata": {},
   "outputs": [],
   "source": [
    "import math\n",
    "def solution(n, stations, w):\n",
    " \n",
    "    apart_sections = []\n",
    "    # 연결이 되어있지 않은 아파트 구간 구하기\n",
    "    cur = 1\n",
    "    for station in stations:\n",
    "        if station - w - cur > 0:\n",
    "            apart_sections.append(station - w - cur)\n",
    "        cur = station + w + 1\n",
    "    \n",
    "    if cur <= n:\n",
    "        apart_sections.append(n - cur + 1)\n",
    "    \n",
    "    # 한 구간은 2w + 1만큼\n",
    "    one_section = w * 2 + 1\n",
    "    answer = 0\n",
    "    # 각 구간마다 필요한 개수 더해주기\n",
    "    for section in apart_sections:\n",
    "        answer += math.ceil(section / one_section)\n",
    "    \n",
    "    return answer"
   ]
  },
  {
   "cell_type": "code",
   "execution_count": null,
   "metadata": {},
   "outputs": [],
   "source": [
    "import math\n",
    "def solution(n, stations, w):\n",
    " \n",
    "    answer = 0\n",
    "    one_section = 2 * w + 1\n",
    "    cur = 1\n",
    "    \n",
    "    for station in stations:\n",
    "        answer += max(math.ceil((station - w - cur) / one_section), 0)\n",
    "        cur = station + w + 1\n",
    "    \n",
    "    if cur <= n:\n",
    "        answer += math.ceil((n - cur + 1) / one_section)\n",
    "    \n",
    "    return answer"
   ]
  }
 ],
 "metadata": {
  "language_info": {
   "name": "python"
  },
  "orig_nbformat": 4
 },
 "nbformat": 4,
 "nbformat_minor": 2
}
