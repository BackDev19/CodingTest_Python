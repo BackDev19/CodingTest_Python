{
 "cells": [
  {
   "cell_type": "code",
   "execution_count": null,
   "metadata": {},
   "outputs": [],
   "source": [
    "import sys\n",
    "sys.stdin = open(\"input.txt\", \"rt\")\n",
    "input = sys.stdin.readline\n",
    "\n",
    "# 고이는 빗물의 총량\\\n",
    "n, m = map(int, input().split())\n",
    "arr = [[0] * m for _ in range(n)]\n",
    "\n",
    "water = list(map(int, input().split()))\n",
    "\n",
    "# 블록 세워주기\n",
    "for i in range(len(water)):\n",
    "    for j in range(water[i]):\n",
    "        arr[n-1-j][i] = 1\n",
    "\n",
    "# 물 채워주기\n",
    "# 0 ~ m-1까지 탐색해주기\n",
    "# 가장 높은 물 위치에서 오른쪽으로 탐색했을 때 닫히는게 있는지\n",
    "# 닫힌다면 채워주기\n",
    "# 채워지면 밑에는 볼게 없음\n",
    "for i in range(len(water)):\n",
    "    for j in range(water[i]):\n",
    "        nx = n-1-j\n",
    "        ny = i\n",
    "        q = []\n",
    "        while True:\n",
    "            ny += 1\n",
    "            q.append(ny)\n",
    "            # 맨 끝쪽에 이동하면 break\n",
    "            if m <= ny:\n",
    "                break\n",
    "\n",
    "            # 벽을 만난 경우\n",
    "            # q에 들어있던 (맨 마지막 벽 부분은 pop) 후, 들어있던 공간들 모두 2로 채워주기\n",
    "            if arr[nx][ny] == 1:\n",
    "                q.pop()\n",
    "                for y in q:\n",
    "                    arr[nx][y] = 2\n",
    "                break\n",
    "\n",
    "count = 0\n",
    "for i in range(n):\n",
    "    count += arr[i].count(2)\n",
    "\n",
    "print(count)"
   ]
  }
 ],
 "metadata": {
  "kernelspec": {
   "display_name": "Python 3",
   "language": "python",
   "name": "python3"
  },
  "language_info": {
   "name": "python",
   "version": "3.8.6"
  },
  "orig_nbformat": 4,
  "vscode": {
   "interpreter": {
    "hash": "2ba6819d172d60e93b2f90e5d47af36d4f36070393882cfcbe0fef625705f185"
   }
  }
 },
 "nbformat": 4,
 "nbformat_minor": 2
}
