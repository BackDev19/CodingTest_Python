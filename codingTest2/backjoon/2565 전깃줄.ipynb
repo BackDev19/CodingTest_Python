{
 "cells": [
  {
   "cell_type": "code",
   "execution_count": null,
   "metadata": {},
   "outputs": [],
   "source": [
    "import sys\n",
    "sys.stdin = open(\"input.txt\", \"rt\")\n",
    "input = sys.stdin.readline\n",
    "\n",
    "n = int(input())\n",
    "arr = []\n",
    "for _ in range(n):\n",
    "    a, b = map(int, input().split())\n",
    "    arr.append((a, b))\n",
    "\n",
    "arr.sort(key = lambda x : x[0])\n",
    "\n",
    "dp = [0] * (n)\n",
    "\n",
    "for i in range(len(arr)):\n",
    "    for j in range(i-1, -1, -1):\n",
    "        if arr[i][1] > arr[j][1]:\n",
    "            dp[i] = max(dp[i], dp[j])\n",
    "    \n",
    "    dp[i] += 1\n",
    "\n",
    "print(n - max(dp))"
   ]
  }
 ],
 "metadata": {
  "language_info": {
   "name": "python"
  },
  "orig_nbformat": 4
 },
 "nbformat": 4,
 "nbformat_minor": 2
}
