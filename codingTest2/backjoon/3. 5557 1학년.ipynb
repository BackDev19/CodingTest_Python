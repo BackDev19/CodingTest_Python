{
 "cells": [
  {
   "cell_type": "code",
   "execution_count": null,
   "metadata": {},
   "outputs": [],
   "source": [
    "import sys\n",
    "sys.stdin = open(\"input.txt\", \"rt\")\n",
    "input = sys.stdin.readline\n",
    "\n",
    "# 1. 0<= j <= 20까지\n",
    "# !!2 .dp[i][j] += dp[i-1][j]!! 이건 아님!! 그대로 올라올 필요가 없다. 지금까지의 연산값만 사용하므로\n",
    "# 3. if 0 <= j - 이번에 들어온 값 <= 20:\n",
    "# dp[i][j-이번의 값] += dp[i-1][j]\n",
    "# 4. if 0 <= j + 이번에 들어온 값 <= 20:\n",
    "# dp[i][j+이번에 들어온 값] += dp[i-1][j]\n",
    "\n",
    "n = int(input())\n",
    "arr = list(map(int, input().split()))\n",
    "\n",
    "# 마지막 값을 목표값으로 정하고 , 제거\n",
    "target = arr[-1]\n",
    "del arr[-1]\n",
    "\n",
    "# print(arr)\n",
    "dp = [[0] * (21) for _ in range(n-1)]\n",
    "dp[0][arr[0]] = 1\n",
    "\n",
    "for i in range(1, n-1):\n",
    "    for j in range(21):\n",
    "        # dp[i][j] += dp[i-1][j]\n",
    "\n",
    "        if 0 <= j - arr[i] <= 20:\n",
    "            dp[i][j-arr[i]] += dp[i-1][j]\n",
    "\n",
    "        if 0 <= j + arr[i] <= 20:\n",
    "            dp[i][j+arr[i]] += dp[i-1][j]\n",
    "\n",
    "print(*dp, sep='\\n')\n",
    "print(dp[n-2][target])\n",
    "\n"
   ]
  }
 ],
 "metadata": {
  "language_info": {
   "name": "python"
  },
  "orig_nbformat": 4
 },
 "nbformat": 4,
 "nbformat_minor": 2
}
