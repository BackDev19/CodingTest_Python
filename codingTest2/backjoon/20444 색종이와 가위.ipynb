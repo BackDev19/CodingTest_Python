{
 "cells": [
  {
   "cell_type": "code",
   "execution_count": null,
   "metadata": {},
   "outputs": [],
   "source": [
    "import sys\n",
    "sys.stdin = open(\"input.txt\", \"rt\")\n",
    "input = sys.stdin.readline\n",
    "\n",
    "# 색종이 자르기\n",
    "# 1. 직사가형. 한 변에 평행하게 자른다\n",
    "# 2. 자르기 시작했으면, 경로 상의 모든 색종이를 자르기\n",
    "# 자른 곳을 자를 수는 없다\n",
    "\n",
    "# n번의 가위질로 k개의 색ㅈ오이 조각으로 만들 수 있는지\n",
    "\n",
    "n, k = map(int, input().split())\n",
    "start, end = 0, n\n",
    "answer = False\n",
    "\n",
    "while start <= end:\n",
    "    mid = (start + end) // 2\n",
    "    paper = (mid + 1) * (n - mid + 1)\n",
    "\n",
    "    if paper == k:\n",
    "        answer = True\n",
    "        break\n",
    "    if paper < k:\n",
    "        start = mid + 1\n",
    "    else:\n",
    "        end = mid - 1\n",
    "\n",
    "\n",
    "print(\"YES\" if answer else \"NO\")\n"
   ]
  }
 ],
 "metadata": {
  "language_info": {
   "name": "python"
  },
  "orig_nbformat": 4
 },
 "nbformat": 4,
 "nbformat_minor": 2
}
