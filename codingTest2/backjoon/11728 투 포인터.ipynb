{
 "cells": [
  {
   "cell_type": "code",
   "execution_count": null,
   "metadata": {},
   "outputs": [],
   "source": [
    "import sys\n",
    "from collections import deque\n",
    "sys.stdin = open(\"input.txt\", \"rt\")\n",
    "input = sys.stdin.readline\n",
    "\n",
    "n, m = map(int, input().split())\n",
    "A = list(map(int, input().split()))\n",
    "B = list(map(int, input().split()))\n",
    "\n",
    "answer = []\n",
    "a_pointer = 0\n",
    "b_pointer = 0\n",
    "while a_pointer < n and b_pointer < m:\n",
    "    if A[a_pointer] <= B[b_pointer]:\n",
    "        answer.append(A[a_pointer])\n",
    "        a_pointer += 1\n",
    "        \n",
    "    else:\n",
    "        answer.append(B[b_pointer])\n",
    "        b_pointer += 1\n",
    "\n",
    "for i in range(a_pointer, n):\n",
    "    answer.append(A[i])\n",
    "for i in range(b_pointer, m):\n",
    "    answer.append(B[i])\n",
    "\n",
    "print(*answer, sep=' ')\n",
    "\n",
    "\n"
   ]
  }
 ],
 "metadata": {
  "language_info": {
   "name": "python"
  },
  "orig_nbformat": 4
 },
 "nbformat": 4,
 "nbformat_minor": 2
}
