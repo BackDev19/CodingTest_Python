{
 "cells": [
  {
   "cell_type": "code",
   "execution_count": null,
   "metadata": {},
   "outputs": [],
   "source": [
    "import sys\n",
    "from collections import deque\n",
    "sys.stdin = open(\"input.txt\", \"rt\")\n",
    "input = sys.stdin.readline\n",
    "\n",
    "# DFS\n",
    "def dfs(cur, visited):\n",
    "\n",
    "    visited[cur] = True\n",
    "    print(cur, end=' ')\n",
    "\n",
    "    for x in node[cur]:\n",
    "        if not visited[x]:\n",
    "            dfs(x, visited)\n",
    "\n",
    "# BFS\n",
    "def bfs(cur):\n",
    "    q = deque([cur])\n",
    "    visited = [False] * (n+1)\n",
    "    visited[cur] = True\n",
    "\n",
    "    while q:\n",
    "        now = q.popleft()\n",
    "        print(now, end = ' ')\n",
    "        for x in node[now]:\n",
    "            if not visited[x]:\n",
    "                visited[x] = True\n",
    "                q.append(x)\n",
    "\n",
    "n, m, v = map(int, input().split())\n",
    "node = [[] for _ in range(n+1)]\n",
    "\n",
    "for _ in range(m):\n",
    "    a, b = map(int, input().split())\n",
    "    node[a].append(b)\n",
    "    node[b].append(a)\n",
    "\n",
    "for node_list in node:\n",
    "    node_list.sort()\n",
    "\n",
    "dfs(v, [False] * (n+1))\n",
    "print()\n",
    "bfs(v)\n"
   ]
  }
 ],
 "metadata": {
  "language_info": {
   "name": "python"
  },
  "orig_nbformat": 4
 },
 "nbformat": 4,
 "nbformat_minor": 2
}
