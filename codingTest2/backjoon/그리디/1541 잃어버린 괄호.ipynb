{
 "cells": [
  {
   "cell_type": "code",
   "execution_count": null,
   "metadata": {},
   "outputs": [],
   "source": [
    "import sys\n",
    "from collections import deque\n",
    "sys.stdin = open(\"input.txt\", \"rt\")\n",
    "input = sys.stdin.readline\n",
    "\n",
    "arr = input().split(\"-\")\n",
    "\n",
    "ans = 0\n",
    "for i in arr[0].split(\"+\"):\n",
    "    ans += int(i)\n",
    "\n",
    "for i in arr[1:]:\n",
    "    for j in i.split(\"+\"):\n",
    "        ans -= int(j)\n",
    "\n",
    "print(ans)"
   ]
  }
 ],
 "metadata": {
  "language_info": {
   "name": "python"
  },
  "orig_nbformat": 4
 },
 "nbformat": 4,
 "nbformat_minor": 2
}
