{
 "cells": [
  {
   "cell_type": "code",
   "execution_count": null,
   "metadata": {},
   "outputs": [],
   "source": [
    "import sys\n",
    "sys.stdin = open(\"input.txt\", \"rt\")\n",
    "input = sys.stdin.readline\n",
    "\n",
    "# NGE(i) 오큰수. AI보다 큰 수 중에서 가장 왼쪽에 있는 수\n",
    "# 없는 경우 -1\n",
    "\n",
    "# A = [3, 5, 2, 7]\n",
    "n = int(input())\n",
    "arr = list(map(int, input().split()))\n",
    "\n",
    "# 초기에 stack에 데이터 세팅\n",
    "stack = []\n",
    "stack.append((0, arr[0]))\n",
    "result = [-1] * (n)\n",
    "\n",
    "# 1. 숫자를 하나씩 꺼내주기\n",
    "# 2. while문으로 stack에 있는 값들을 하나씩 비교. arr[i]가 더 작을 때까지 \n",
    "# stack에 있는 값들을 하나씩 꺼내서 해당위치에 arr[i]넣어줌\n",
    "# 새로 들어온 데이터 append해주기\n",
    "for i in range(1, len(arr)):\n",
    "\n",
    "    # arr[i]가 더 크다면, \n",
    "    while stack and stack[-1][1] < arr[i]:\n",
    "        idx, x = stack.pop()\n",
    "        result[idx] = arr[i]\n",
    "    \n",
    "    stack.append((i, arr[i]))\n",
    "\n",
    "print(*result)\n"
   ]
  }
 ],
 "metadata": {
  "kernelspec": {
   "display_name": "Python 3",
   "language": "python",
   "name": "python3"
  },
  "language_info": {
   "name": "python",
   "version": "3.8.6"
  },
  "orig_nbformat": 4,
  "vscode": {
   "interpreter": {
    "hash": "2ba6819d172d60e93b2f90e5d47af36d4f36070393882cfcbe0fef625705f185"
   }
  }
 },
 "nbformat": 4,
 "nbformat_minor": 2
}
