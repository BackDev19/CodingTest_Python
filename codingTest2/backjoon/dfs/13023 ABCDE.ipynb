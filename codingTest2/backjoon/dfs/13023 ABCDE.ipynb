{
 "cells": [
  {
   "cell_type": "code",
   "execution_count": null,
   "metadata": {},
   "outputs": [],
   "source": [
    "\timport sys\n",
    "input = sys.stdin.readline\n",
    " \n",
    "def dfs(cur, depth):\n",
    "    if depth == 4:\n",
    "        global answer\n",
    "        answer = 1\n",
    "        return\n",
    "    \n",
    "    for x in friend[cur]:\n",
    "        if not visited[x]:\n",
    "            visited[x] = True\n",
    "            dfs(x, depth + 1)\n",
    "            visited[x] = False\n",
    " \n",
    "n, m = map(int, input().split())\n",
    "friend = [[] for _ in range(n)]\n",
    "visited = [False] * n\n",
    "for _ in range(m):\n",
    "    a, b = map(int, input().split())\n",
    "    friend[a].append(b)\n",
    "    friend[b].append(a)\n",
    " \n",
    "answer = 0\n",
    "for i in range(n):\n",
    "    if answer:\n",
    "        break\n",
    "    visited[i] = True\n",
    "    dfs(i, 0)\n",
    "    visited[i] = False\n",
    "    \n",
    "print(answer)"
   ]
  }
 ],
 "metadata": {
  "language_info": {
   "name": "python"
  },
  "orig_nbformat": 4
 },
 "nbformat": 4,
 "nbformat_minor": 2
}
