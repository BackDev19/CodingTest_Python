{
 "cells": [
  {
   "cell_type": "code",
   "execution_count": null,
   "metadata": {},
   "outputs": [],
   "source": [
    "import sys\n",
    "from collections import defaultdict\n",
    "sys.stdin = open(\"input.txt\", \"rt\")\n",
    "input = sys.stdin.readline\n",
    "\n",
    "def preOrder(cur):\n",
    "    if cur != '.':\n",
    "        print(cur, end='')\n",
    "        preOrder(dic[cur][0])\n",
    "        preOrder(dic[cur][1])\n",
    "\n",
    "\n",
    "def inOrder(cur):\n",
    "    if cur != '.':\n",
    "        inOrder(dic[cur][0])\n",
    "        print(cur, end='')\n",
    "        inOrder(dic[cur][1])\n",
    "\n",
    "def postOrder(cur):\n",
    "    if cur != '.':\n",
    "        postOrder(dic[cur][0])\n",
    "        postOrder(dic[cur][1])\n",
    "        print(cur, end='')\n",
    "\n",
    "n = int(input())\n",
    "dic = defaultdict(list)\n",
    "for _ in range(n):\n",
    "    parent, child1, child2 = input().split()\n",
    "    dic[parent].append(child1)\n",
    "    dic[parent].append(child2)\n",
    "    \n",
    "root = 'A'\n",
    "\n",
    "preOrder(root)\n",
    "print()\n",
    "inOrder(root)\n",
    "print()\n",
    "postOrder(root)\n",
    "\n"
   ]
  }
 ],
 "metadata": {
  "language_info": {
   "name": "python"
  },
  "orig_nbformat": 4
 },
 "nbformat": 4,
 "nbformat_minor": 2
}
