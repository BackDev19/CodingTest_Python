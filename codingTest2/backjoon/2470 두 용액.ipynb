{
 "cells": [
  {
   "cell_type": "code",
   "execution_count": null,
   "metadata": {},
   "outputs": [],
   "source": [
    "import sys\n",
    "sys.stdin = open(\"input.txt\", \"rt\")\n",
    "input = sys.stdin.readline\n",
    "\n",
    "# 산성, 알칼리성\n",
    "# 혼합 용액 - 특성값의 합\n",
    "# 같은 양의 두 용액을 혼합하여 특성값이 0에 가장 가까운 용액\n",
    "\n",
    "# 서로 다른 용액을 혼합하여 특성값이 0에 가까운 용액 만들기\n",
    "\n",
    "n = int(input())\n",
    "sol = list(map(int, input().split()))\n",
    "sol.sort()\n",
    "\n",
    "l_pointer, r_pointer = 0, len(sol) - 1\n",
    "# 양쪽 끝 용액들을 초기값으로 설정\n",
    "answer = []\n",
    "sol_sum = 2e9\n",
    "\n",
    "while l_pointer < r_pointer:\n",
    "    # 절대값이므로, 더 작은 값이 0에 근접\n",
    "    if abs(sol_sum) > abs(sol[l_pointer] + sol[r_pointer]):\n",
    "        answer = [sol[l_pointer], sol[r_pointer]]\n",
    "        sol_sum = sol[l_pointer] + sol[r_pointer]\n",
    "\n",
    "    # 0보다 큰 경우, 오른쪽을 감소\n",
    "    if sol[l_pointer] + sol[r_pointer] > 0:\n",
    "        r_pointer -= 1\n",
    "    # 0보다 작은 경우, 왼쪽을 증가\n",
    "    elif sol[l_pointer] + sol[r_pointer] < 0:\n",
    "        l_pointer += 1\n",
    "    # 0인 경우, break\n",
    "    else:\n",
    "        answer = [sol[l_pointer], sol[r_pointer]]\n",
    "        break\n",
    "    \n",
    "print(*answer)\n"
   ]
  }
 ],
 "metadata": {
  "language_info": {
   "name": "python"
  },
  "orig_nbformat": 4
 },
 "nbformat": 4,
 "nbformat_minor": 2
}
