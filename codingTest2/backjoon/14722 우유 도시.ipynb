{
 "cells": [
  {
   "cell_type": "code",
   "execution_count": null,
   "metadata": {},
   "outputs": [],
   "source": [
    "import sys\n",
    "sys.stdin = open(\"input.txt\", \"rt\")\n",
    "input = sys.stdin.readline\n",
    "\n",
    "n = int(input())\n",
    "# dp와 동일한 모양을 맞춰주기 위함\n",
    "graph = [[-1] * n]  + [list(map(int, input().split())) for _ in range(n)]\n",
    "for i in range(n+1):\n",
    "    graph[i].insert(0, -1)\n",
    "\n",
    "dp = [[0] * (n+1) for _ in range(n+1)]\n",
    "\n",
    "for i in range(1, n+1):\n",
    "    for j in range(1, n+1):\n",
    "        # 위쪽과 좌측 중에서, 가장 높은 값을 가져가기\n",
    "        dp[i][j] = max(dp[i-1][j], dp[i][j-1])\n",
    "\n",
    "        # 현재 쌓인 우유 % 3이라면. 즉, 다음에 마셔야 할 우유라면 하나를 증가\n",
    "        if dp[i][j] % 3 == graph[i][j]:\n",
    "            dp[i][j] += 1\n",
    "\n",
    "print(dp[-1][-1])\n",
    "\n"
   ]
  }
 ],
 "metadata": {
  "kernelspec": {
   "display_name": "Python 3",
   "language": "python",
   "name": "python3"
  },
  "language_info": {
   "codemirror_mode": {
    "name": "ipython",
    "version": 3
   },
   "file_extension": ".py",
   "mimetype": "text/x-python",
   "name": "python",
   "nbconvert_exporter": "python",
   "pygments_lexer": "ipython3",
   "version": "3.8.6"
  },
  "orig_nbformat": 4,
  "vscode": {
   "interpreter": {
    "hash": "2ba6819d172d60e93b2f90e5d47af36d4f36070393882cfcbe0fef625705f185"
   }
  }
 },
 "nbformat": 4,
 "nbformat_minor": 2
}
