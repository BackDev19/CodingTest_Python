{
 "cells": [
  {
   "cell_type": "code",
   "execution_count": null,
   "metadata": {},
   "outputs": [],
   "source": [
    "import sys\n",
    "sys.stdin = open(\"input.txt\", \"rt\")\n",
    "input = sys.stdin.readline\n",
    "\n",
    "# 약이 N개 담긴 병\n",
    "# 한조각\n",
    "\n",
    "# k가지 동전이 각각 nk개 씩 \n",
    "# T원의 지폐를 동전으로\n",
    "\n",
    "# 1. set으로 숫자들을 모두 더해줄 것\n",
    "# 2. list에 append\n",
    "# 3. 아까 그 숫자들을 list에 넣어주기\n",
    "\n",
    "# [5, 10, 15] ,[10, 20], [1, 2, 3, 4, 5]\n",
    "n = int(input())\n",
    "k = int(input())\n",
    "\n",
    "dp = [[0] * (n+1) for _ in range(k + 1)]\n",
    "\n",
    "dp[0][0] = 1\n",
    "\n",
    "for i in range(1, k+1):\n",
    "    value, num = map(int, input().split())\n",
    "\n",
    "    for j in range(n+1):\n",
    "        dp[i][j] = dp[i-1][j]\n",
    "        for k in range(1, num+1):\n",
    "            if 0 <= j - (value * k) <= n:\n",
    "                dp[i][j] += dp[i-1][j - value * k]\n",
    "\n",
    "# print(*dp, sep='\\n')\n",
    "print(dp[-1][-1])\n",
    "\n",
    "\n"
   ]
  }
 ],
 "metadata": {
  "kernelspec": {
   "display_name": "Python 3",
   "language": "python",
   "name": "python3"
  },
  "language_info": {
   "name": "python",
   "version": "3.8.6 (tags/v3.8.6:db45529, Sep 23 2020, 15:52:53) [MSC v.1927 64 bit (AMD64)]"
  },
  "orig_nbformat": 4,
  "vscode": {
   "interpreter": {
    "hash": "2ba6819d172d60e93b2f90e5d47af36d4f36070393882cfcbe0fef625705f185"
   }
  }
 },
 "nbformat": 4,
 "nbformat_minor": 2
}
