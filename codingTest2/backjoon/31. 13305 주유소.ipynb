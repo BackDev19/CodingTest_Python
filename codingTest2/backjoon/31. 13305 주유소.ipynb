{
 "cells": [
  {
   "cell_type": "code",
   "execution_count": null,
   "metadata": {},
   "outputs": [],
   "source": [
    "import sys\n",
    "input = sys.stdin.readline\n",
    " \n",
    "n = int(input())\n",
    "distance = list(map(int, input().split()))\n",
    "cost = list(map(int, input().split()))\n",
    " \n",
    "result = 0\n",
    "cur_cost = 1e9\n",
    "for i in range(n-1):\n",
    "    # 현재까지의 최소 비용과, 현재 위치의 비용의 최소값을 계산\n",
    "    cur_cost = min(cur_cost, cost[i])\n",
    "    result += cur_cost * distance[i]\n",
    " \n",
    "print(result)"
   ]
  }
 ],
 "metadata": {
  "kernelspec": {
   "display_name": "Python 3",
   "language": "python",
   "name": "python3"
  },
  "language_info": {
   "name": "python",
   "version": "3.8.6"
  },
  "orig_nbformat": 4,
  "vscode": {
   "interpreter": {
    "hash": "2ba6819d172d60e93b2f90e5d47af36d4f36070393882cfcbe0fef625705f185"
   }
  }
 },
 "nbformat": 4,
 "nbformat_minor": 2
}
