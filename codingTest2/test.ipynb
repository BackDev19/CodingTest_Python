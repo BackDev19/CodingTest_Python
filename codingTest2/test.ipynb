{
 "cells": [
  {
   "cell_type": "code",
   "execution_count": 138,
   "metadata": {},
   "outputs": [
    {
     "name": "stdout",
     "output_type": "stream",
     "text": [
      "[1, 0, 0, 0, 0, 0, 0, 0, 0, 0, 0, 0, 0, 0, 0, 0, 0, 0, 0, 0, 0]\n",
      "[1, 0, 0, 0, 0, 0, 0, 1, 0, 0, 0, 0, 0, 0, 1, 0, 0, 0, 0, 0, 0]\n",
      "[1, 0, 0, 0, 0, 0, 0, 2, 0, 0, 0, 0, 0, 0, 3, 0, 0, 0, 0, 0, 0]\n",
      "[1, 0, 0, 0, 0, 0, 0, 3, 0, 0, 0, 0, 0, 0, 6, 0, 0, 0, 0, 0, 0]\n",
      "0\n"
     ]
    }
   ],
   "source": [
    "import sys\n",
    "sys.stdin = open(\"input.txt\", \"rt\")\n",
    "input = sys.stdin.readline\n",
    "\n",
    "# 약이 N개 담긴 병\n",
    "# 한조각\n",
    "\n",
    "# k가지 동전이 각각 nk개 씩 \n",
    "# T원의 지폐를 동전으로\n",
    "\n",
    "# 1. set으로 숫자들을 모두 더해줄 것\n",
    "# 2. list에 append\n",
    "# 3. 아까 그 숫자들을 list에 넣어주기\n",
    "\n",
    "# [5, 10, 15] ,[10, 20], [1, 2, 3, 4, 5]\n",
    "n = int(input())\n",
    "k = int(input())\n",
    "\n",
    "dp = [[0] * (n+1) for _ in range(k + 1)]\n",
    "\n",
    "dp[0][0] = 1\n",
    "\n",
    "for i in range(1, k+1):\n",
    "    value, num = map(int, input().split())\n",
    "\n",
    "    for j in range(n+1):\n",
    "        dp[i][j] = dp[i-1][j]\n",
    "        for k in range(1, num+1):\n",
    "            if 0 <= j - (value * k) <= n:\n",
    "                dp[i][j] += dp[i-1][j - value * k]\n",
    "\n",
    "# print(*dp, sep='\\n')\n",
    "print(dp[-1][-1])\n",
    "\n",
    "\n"
   ]
  },
  {
   "cell_type": "code",
   "execution_count": 109,
   "metadata": {},
   "outputs": [
    {
     "name": "stdout",
     "output_type": "stream",
     "text": [
      "{0, 1, 2, 3}\n"
     ]
    },
    {
     "ename": "TypeError",
     "evalue": "'set' object is not subscriptable",
     "output_type": "error",
     "traceback": [
      "\u001b[1;31m---------------------------------------------------------------------------\u001b[0m",
      "\u001b[1;31mTypeError\u001b[0m                                 Traceback (most recent call last)",
      "\u001b[1;32mc:\\Users\\황인권\\OneDrive - 동국대학교\\문서\\CodingTest_Python\\codingTest2\\test.ipynb Cell 2\u001b[0m in \u001b[0;36m<cell line: 8>\u001b[1;34m()\u001b[0m\n\u001b[0;32m      <a href='vscode-notebook-cell:/c%3A/Users/%ED%99%A9%EC%9D%B8%EA%B6%8C/OneDrive%20-%20%EB%8F%99%EA%B5%AD%EB%8C%80%ED%95%99%EA%B5%90/%EB%AC%B8%EC%84%9C/CodingTest_Python/codingTest2/test.ipynb#W4sZmlsZQ%3D%3D?line=4'>5</a>\u001b[0m a\u001b[39m.\u001b[39madd(\u001b[39m3\u001b[39m)\n\u001b[0;32m      <a href='vscode-notebook-cell:/c%3A/Users/%ED%99%A9%EC%9D%B8%EA%B6%8C/OneDrive%20-%20%EB%8F%99%EA%B5%AD%EB%8C%80%ED%95%99%EA%B5%90/%EB%AC%B8%EC%84%9C/CodingTest_Python/codingTest2/test.ipynb#W4sZmlsZQ%3D%3D?line=6'>7</a>\u001b[0m \u001b[39mprint\u001b[39m(a)\n\u001b[1;32m----> <a href='vscode-notebook-cell:/c%3A/Users/%ED%99%A9%EC%9D%B8%EA%B6%8C/OneDrive%20-%20%EB%8F%99%EA%B5%AD%EB%8C%80%ED%95%99%EA%B5%90/%EB%AC%B8%EC%84%9C/CodingTest_Python/codingTest2/test.ipynb#W4sZmlsZQ%3D%3D?line=7'>8</a>\u001b[0m \u001b[39mprint\u001b[39m(a[\u001b[39m1\u001b[39;49m])\n",
      "\u001b[1;31mTypeError\u001b[0m: 'set' object is not subscriptable"
     ]
    }
   ],
   "source": [
    "a = set()\n",
    "a.add(0)\n",
    "a.add(1)\n",
    "a.add(2)\n",
    "a.add(3)\n",
    "\n",
    "print(a)\n",
    "print(a[1])"
   ]
  },
  {
   "cell_type": "code",
   "execution_count": 84,
   "metadata": {},
   "outputs": [
    {
     "ename": "ValueError",
     "evalue": "list.remove(x): x not in list",
     "output_type": "error",
     "traceback": [
      "\u001b[1;31m---------------------------------------------------------------------------\u001b[0m",
      "\u001b[1;31mValueError\u001b[0m                                Traceback (most recent call last)",
      "\u001b[1;32mc:\\Users\\황인권\\OneDrive - 동국대학교\\문서\\CodingTest_Python\\codingTest2\\test.ipynb Cell 2\u001b[0m in \u001b[0;36m<cell line: 2>\u001b[1;34m()\u001b[0m\n\u001b[0;32m      <a href='vscode-notebook-cell:/c%3A/Users/%ED%99%A9%EC%9D%B8%EA%B6%8C/OneDrive%20-%20%EB%8F%99%EA%B5%AD%EB%8C%80%ED%95%99%EA%B5%90/%EB%AC%B8%EC%84%9C/CodingTest_Python/codingTest2/test.ipynb#W3sZmlsZQ%3D%3D?line=0'>1</a>\u001b[0m student \u001b[39m=\u001b[39m [\u001b[39m0\u001b[39m, \u001b[39m1\u001b[39m, \u001b[39m2\u001b[39m, \u001b[39m3\u001b[39m, \u001b[39m4\u001b[39m, \u001b[39m7\u001b[39m]\n\u001b[1;32m----> <a href='vscode-notebook-cell:/c%3A/Users/%ED%99%A9%EC%9D%B8%EA%B6%8C/OneDrive%20-%20%EB%8F%99%EA%B5%AD%EB%8C%80%ED%95%99%EA%B5%90/%EB%AC%B8%EC%84%9C/CodingTest_Python/codingTest2/test.ipynb#W3sZmlsZQ%3D%3D?line=1'>2</a>\u001b[0m student\u001b[39m.\u001b[39;49mremove(\u001b[39m5\u001b[39;49m)\n\u001b[0;32m      <a href='vscode-notebook-cell:/c%3A/Users/%ED%99%A9%EC%9D%B8%EA%B6%8C/OneDrive%20-%20%EB%8F%99%EA%B5%AD%EB%8C%80%ED%95%99%EA%B5%90/%EB%AC%B8%EC%84%9C/CodingTest_Python/codingTest2/test.ipynb#W3sZmlsZQ%3D%3D?line=2'>3</a>\u001b[0m \u001b[39mprint\u001b[39m(student)\n",
      "\u001b[1;31mValueError\u001b[0m: list.remove(x): x not in list"
     ]
    }
   ],
   "source": [
    "student = [0, 1, 2, 3, 4, 7]\n",
    "student.remove(5)\n",
    "print(student)"
   ]
  },
  {
   "cell_type": "code",
   "execution_count": 39,
   "metadata": {},
   "outputs": [
    {
     "name": "stdout",
     "output_type": "stream",
     "text": [
      "dict_items([('a', 4), ('b', 3)])\n",
      "[('b', 3), ('a', 4)]\n"
     ]
    }
   ],
   "source": [
    "import sys\n",
    "sys.stdin = open(\"input.txt\", \"rt\")\n",
    "input = sys.stdin.readline\n",
    "\n",
    "# 파이프는 2개의 연속된 칸을 차지하는 크기\n",
    "# 항상 빈 칸만 차지\n",
    "# ->, 아래 우, 아래 방향\n",
    "\n",
    "# 파이프를 1,1에서 N, N로 이동시키는 방법의 개수\n",
    "\n",
    "n = int(input())\n",
    "graph = [[0] * (n + 1)] + [list(map(int, input().split())) for _ in range(n)]\n",
    "for i in range(1, n+1):\n",
    "    graph[i].insert(0, 0)\n",
    "\n",
    "# [i][j][0] = 세로, [1] = 대각, [2] = 가로\n",
    "dp = [[[0] * 3 for _ in range(n+1)] for _ in range(n+1)]\n",
    "# 1, 1 위치에서 1,2로 주어지므로, 1,2를 1로 표시\n",
    "dp[1][2][2] = 1\n",
    "\n",
    "for i in range(1, n+1):\n",
    "    for j in range(1, n+1):\n",
    "        # 세로에서 오는 경우\n",
    "        dp[i][j][0] += dp[i-1][j][0] + dp[i-1][j][1]\n",
    "        # 대각에서 오는 경우\n",
    "        dp[i][j][1] += dp[i-1][j-1][0] + dp[i-1][j-1][1] + dp[i-1][j-1][2]\n",
    "        # 가로에서 오는 경우\n",
    "        dp[i][j][2] += dp[i][j-1][1] + dp[i][j-1][2]\n",
    "\n",
    "print(*dp, sep='\\n')"
   ]
  },
  {
   "cell_type": "code",
   "execution_count": 11,
   "metadata": {},
   "outputs": [
    {
     "name": "stdout",
     "output_type": "stream",
     "text": [
      "None\n",
      "deque(['2', '3', '1'])\n"
     ]
    }
   ],
   "source": [
    "from collections import deque\n",
    "s = deque(\"123\")\n",
    "print(s.rotate(-1))\n",
    "print(s)\n",
    "\n",
    "q = set()"
   ]
  }
 ],
 "metadata": {
  "kernelspec": {
   "display_name": "Python 3",
   "language": "python",
   "name": "python3"
  },
  "language_info": {
   "codemirror_mode": {
    "name": "ipython",
    "version": 3
   },
   "file_extension": ".py",
   "mimetype": "text/x-python",
   "name": "python",
   "nbconvert_exporter": "python",
   "pygments_lexer": "ipython3",
   "version": "3.8.6"
  },
  "orig_nbformat": 4,
  "vscode": {
   "interpreter": {
    "hash": "2ba6819d172d60e93b2f90e5d47af36d4f36070393882cfcbe0fef625705f185"
   }
  }
 },
 "nbformat": 4,
 "nbformat_minor": 2
}
