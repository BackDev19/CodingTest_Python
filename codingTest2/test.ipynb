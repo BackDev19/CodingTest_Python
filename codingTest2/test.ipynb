{
 "cells": [
  {
   "cell_type": "code",
   "execution_count": 13,
   "metadata": {},
   "outputs": [
    {
     "name": "stdout",
     "output_type": "stream",
     "text": [
      "[] [] [] [] [] [] [] []\n"
     ]
    }
   ],
   "source": [
    "import sys\n",
    "from collections import deque\n",
    "sys.stdin = open(\"input.txt\", \"rt\")\n",
    "input = sys.stdin.readline\n",
    "\n",
    "# 모든 건물을 짓는데 걸리는 최소의 시간을 이용하여 근사\n",
    "\n",
    "# 건물의 종류 수 N, N개의 줄에는 각 건물을 짓는데 걸리는 시간, 그 건물을 짓기 위해 먼저 지어져야 하는 건물들의 번호\n",
    "# 건물의 번호는 1 ~ N, 각 줄은 -1로 끝난다\n",
    "# 각 건물을 짓는데 걸리는 시간은 \n",
    "\n",
    "# N개의 건물이 완성되기까지 걸리는 최소 시간\n",
    "N = int(input())\n",
    "\n",
    "# 노드와 간선의 정보 저장한다고 생각하면 됨\n",
    "building = [[] for _ in range(N + 1)]\n",
    "# 각 노드의 진입차수 저장\n",
    "indegree = [0] * (N + 1)\n",
    "# 건물 짓는데 걸리는 시간\n",
    "cost = [0] * (N + 1)\n",
    "\n",
    "for i in range(1, N + 1):\n",
    "    data = list(map(int, input().split()))[:-1]\n",
    "    cost[i] = data[0]\n",
    "    building_data = data[1:]\n",
    "\n",
    "    # 간선 연결 및 진입차수 설정\n",
    "    for j in building_data:\n",
    "        building[j].append(i)\n",
    "        indegree[i] += 1\n",
    "\n",
    "\n",
    "# 위상 정렬 함수\n",
    "def topology_sort():\n",
    "    result = [0] * (N + 1)\n",
    "    q = deque()\n",
    "\n",
    "    for i in range(1, N + 1):\n",
    "        if indegree[i] == 0:\n",
    "            q.append(i)\n",
    "\n",
    "    while q:\n",
    "        now = q.popleft()\n",
    "        # 큐에서 꺼낸 노드 번호에 해당하는 건물을 짓는데 걸리는 시간 저장\n",
    "        # 선수 건물 짓는데 걸리는 시간이 포함되어 있음!\n",
    "        # 즉, '선수 건물 짓는데 걸리는 시간 + 현재 건물 짓는데 걸리는 시간'이 저장됨\n",
    "        result[now] += cost[now]\n",
    "        for b in building[now]:\n",
    "            indegree[b] -= 1\n",
    "            # b번호 건물을 짓기 전에 먼저 지어야하는 선수 건물 짓는데 걸리는 시간으로 갱신\n",
    "            result[b] = max(result[b], result[now])\n",
    "            if indegree[b] == 0:\n",
    "                q.append(b)\n",
    "\n",
    "    return result\n",
    "\n",
    "\n",
    "answer = topology_sort()\n",
    "for i in range(1, N + 1):\n",
    "    print(answer[i])"
   ]
  },
  {
   "cell_type": "markdown",
   "metadata": {},
   "source": []
  }
 ],
 "metadata": {
  "kernelspec": {
   "display_name": "Python 3",
   "language": "python",
   "name": "python3"
  },
  "language_info": {
   "codemirror_mode": {
    "name": "ipython",
    "version": 3
   },
   "file_extension": ".py",
   "mimetype": "text/x-python",
   "name": "python",
   "nbconvert_exporter": "python",
   "pygments_lexer": "ipython3",
   "version": "3.8.6"
  },
  "orig_nbformat": 4,
  "vscode": {
   "interpreter": {
    "hash": "2ba6819d172d60e93b2f90e5d47af36d4f36070393882cfcbe0fef625705f185"
   }
  }
 },
 "nbformat": 4,
 "nbformat_minor": 2
}
