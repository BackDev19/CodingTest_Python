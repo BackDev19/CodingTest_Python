{
 "cells": [
  {
   "cell_type": "code",
   "execution_count": 34,
   "metadata": {},
   "outputs": [
    {
     "name": "stdout",
     "output_type": "stream",
     "text": [
      "0\n"
     ]
    }
   ],
   "source": [
    "import sys\n",
    "sys.stdin = open(\"input.txt\", \"rt\")\n",
    "input = sys.stdin.readline\n",
    "\n",
    "def dfs(cur, depth):\n",
    "    if depth == 4:\n",
    "        global answer\n",
    "        answer = 1\n",
    "        return\n",
    "    \n",
    "    for x in friend[cur]:\n",
    "        if not visited[x]:\n",
    "            visited[x] = True\n",
    "            dfs(x, depth + 1)\n",
    "            visited[x] = False\n",
    "\n",
    "n, m = map(int, input().split())\n",
    "friend = [[] for _ in range(n)]\n",
    "visited = [False] * n\n",
    "for _ in range(m):\n",
    "    a, b = map(int, input().split())\n",
    "    friend[a].append(b)\n",
    "    friend[b].append(a)\n",
    "\n",
    "answer = 0\n",
    "for i in range(n):\n",
    "    if answer:\n",
    "        break\n",
    "    visited[i] = True\n",
    "    dfs(i, 0)\n",
    "    visited[i] = False\n",
    "    \n",
    "print(answer)\n",
    "\n"
   ]
  },
  {
   "cell_type": "code",
   "execution_count": null,
   "metadata": {},
   "outputs": [],
   "source": [
    "import sys\n",
    "sys.stdin = open(\"input.txt\", \"rt\")\n",
    "input = sys.stdin.readline\n",
    "\n",
    "\n",
    "\n"
   ]
  },
  {
   "cell_type": "code",
   "execution_count": null,
   "metadata": {},
   "outputs": [],
   "source": [
    "import sys\n",
    "sys.stdin = open(\"input.txt\", \"rt\")\n",
    "input = sys.stdin.readline\n",
    "\n",
    "\n",
    "def check(x):\n",
    "\n",
    "    if \n",
    "\n",
    "for x in [2, 3, 5, 7]:\n",
    "    check(x)"
   ]
  }
 ],
 "metadata": {
  "kernelspec": {
   "display_name": "Python 3",
   "language": "python",
   "name": "python3"
  },
  "language_info": {
   "codemirror_mode": {
    "name": "ipython",
    "version": 3
   },
   "file_extension": ".py",
   "mimetype": "text/x-python",
   "name": "python",
   "nbconvert_exporter": "python",
   "pygments_lexer": "ipython3",
   "version": "3.8.6"
  },
  "orig_nbformat": 4,
  "vscode": {
   "interpreter": {
    "hash": "2ba6819d172d60e93b2f90e5d47af36d4f36070393882cfcbe0fef625705f185"
   }
  }
 },
 "nbformat": 4,
 "nbformat_minor": 2
}
