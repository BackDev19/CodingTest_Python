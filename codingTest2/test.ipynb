{
 "cells": [
  {
   "cell_type": "code",
   "execution_count": 21,
   "metadata": {},
   "outputs": [
    {
     "name": "stdout",
     "output_type": "stream",
     "text": [
      "SK\n"
     ]
    }
   ],
   "source": [
    "import sys\n",
    "sys.stdin = open(\"input.txt\", \"rt\")\n",
    "input = sys.stdin.readline\n",
    "\n",
    "n = int(input())\n",
    "\n",
    "dp = [[0] * (1001) for _ in range(n+1)]\n",
    "# SK의 0과 1의 수를 1로 초기화\n",
    "dp[1][0] = 1\n",
    "\n",
    "for i in range(2, n+1):\n",
    "    for j in range(2):\n",
    "        if j == 0: ## SK가 둘 차례라면,\n",
    "            dp[i][j] = max(dp[i-1][1], dp[i-3][1])\n",
    "        elif j == 1:\n",
    "            dp[i][j] = max(dp[i-1][0], dp[i-3][0])\n",
    "\n",
    "if dp[n][0]:\n",
    "    print('SK')\n",
    "else:\n",
    "    print('CY')"
   ]
  }
 ],
 "metadata": {
  "kernelspec": {
   "display_name": "Python 3",
   "language": "python",
   "name": "python3"
  },
  "language_info": {
   "codemirror_mode": {
    "name": "ipython",
    "version": 3
   },
   "file_extension": ".py",
   "mimetype": "text/x-python",
   "name": "python",
   "nbconvert_exporter": "python",
   "pygments_lexer": "ipython3",
   "version": "3.8.6"
  },
  "orig_nbformat": 4,
  "vscode": {
   "interpreter": {
    "hash": "2ba6819d172d60e93b2f90e5d47af36d4f36070393882cfcbe0fef625705f185"
   }
  }
 },
 "nbformat": 4,
 "nbformat_minor": 2
}
