{
 "cells": [
  {
   "cell_type": "code",
   "execution_count": 136,
   "metadata": {},
   "outputs": [
    {
     "name": "stdout",
     "output_type": "stream",
     "text": [
      "[1, 1, 1]\n",
      "[1, 2, 2]\n",
      "[1, 2, 3]\n",
      "9\n"
     ]
    }
   ],
   "source": [
    "import sys\n",
    "sys.stdin = open(\"input.txt\", \"rt\")\n",
    "input = sys.stdin.readline\n",
    "\n",
    "# 정사각형 4개 = 테트로미노\n",
    "# 하나를 놓아서 칸에 놓여있는 수들의 합을 최대로\n",
    "\n",
    "\n"
   ]
  },
  {
   "cell_type": "code",
   "execution_count": 39,
   "metadata": {},
   "outputs": [
    {
     "name": "stdout",
     "output_type": "stream",
     "text": [
      "dict_items([('a', 4), ('b', 3)])\n",
      "[('b', 3), ('a', 4)]\n"
     ]
    }
   ],
   "source": [
    "import sys\n",
    "sys.stdin = open(\"input.txt\", \"rt\")\n",
    "input = sys.stdin.readline\n",
    "\n",
    "# 파이프는 2개의 연속된 칸을 차지하는 크기\n",
    "# 항상 빈 칸만 차지\n",
    "# ->, 아래 우, 아래 방향\n",
    "\n",
    "# 파이프를 1,1에서 N, N로 이동시키는 방법의 개수\n",
    "\n",
    "n = int(input())\n",
    "graph = [[0] * (n + 1)] + [list(map(int, input().split())) for _ in range(n)]\n",
    "for i in range(1, n+1):\n",
    "    graph[i].insert(0, 0)\n",
    "\n",
    "# [i][j][0] = 세로, [1] = 대각, [2] = 가로\n",
    "dp = [[[0] * 3 for _ in range(n+1)] for _ in range(n+1)]\n",
    "# 1, 1 위치에서 1,2로 주어지므로, 1,2를 1로 표시\n",
    "dp[1][2][2] = 1\n",
    "\n",
    "for i in range(1, n+1):\n",
    "    for j in range(1, n+1):\n",
    "        # 세로에서 오는 경우\n",
    "        dp[i][j][0] += dp[i-1][j][0] + dp[i-1][j][1]\n",
    "        # 대각에서 오는 경우\n",
    "        dp[i][j][1] += dp[i-1][j-1][0] + dp[i-1][j-1][1] + dp[i-1][j-1][2]\n",
    "        # 가로에서 오는 경우\n",
    "        dp[i][j][2] += dp[i][j-1][1] + dp[i][j-1][2]\n",
    "\n",
    "print(*dp, sep='\\n')"
   ]
  },
  {
   "cell_type": "code",
   "execution_count": 11,
   "metadata": {},
   "outputs": [
    {
     "name": "stdout",
     "output_type": "stream",
     "text": [
      "None\n",
      "deque(['2', '3', '1'])\n"
     ]
    }
   ],
   "source": [
    "from collections import deque\n",
    "s = deque(\"123\")\n",
    "print(s.rotate(-1))\n",
    "print(s)\n",
    "\n",
    "q = set()"
   ]
  }
 ],
 "metadata": {
  "kernelspec": {
   "display_name": "Python 3",
   "language": "python",
   "name": "python3"
  },
  "language_info": {
   "codemirror_mode": {
    "name": "ipython",
    "version": 3
   },
   "file_extension": ".py",
   "mimetype": "text/x-python",
   "name": "python",
   "nbconvert_exporter": "python",
   "pygments_lexer": "ipython3",
   "version": "3.8.6"
  },
  "orig_nbformat": 4,
  "vscode": {
   "interpreter": {
    "hash": "2ba6819d172d60e93b2f90e5d47af36d4f36070393882cfcbe0fef625705f185"
   }
  }
 },
 "nbformat": 4,
 "nbformat_minor": 2
}
