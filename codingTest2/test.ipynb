{
 "cells": [
  {
   "cell_type": "code",
   "execution_count": 2,
   "metadata": {},
   "outputs": [
    {
     "data": {
      "text/plain": [
       "4"
      ]
     },
     "execution_count": 2,
     "metadata": {},
     "output_type": "execute_result"
    }
   ],
   "source": [
    "def solution(N, number):\n",
    "    if number == 1:\n",
    "        return 1\n",
    "    set_list = []\n",
    "    \n",
    "    for cnt in range(1, 9): # 1개부터 8개까지 확인\n",
    "        partial_set = set()\n",
    "        partial_set.add(int(str(N) * cnt)) # 이어 붙여서 만드는 경우 넣기\n",
    "        for i in range(cnt - 1): # (1, n-1) 부터 (n-1, 1)까지 사칙연산\n",
    "            for op1 in set_list[i]:\n",
    "                for op2 in set_list[-i - 1]:\n",
    "                    partial_set.add(op1 + op2)\n",
    "                    partial_set.add(op1 * op2)\n",
    "                    partial_set.add(op1 - op2)\n",
    "                    if op2 != 0:\n",
    "                        partial_set.add(op1 // op2)\n",
    "        # 만든 집합에 number가 처음 나오는지 확인\n",
    "        if number in partial_set:\n",
    "            return cnt\n",
    "        set_list.append(partial_set)\n",
    "    return -1\n",
    "\n",
    "solution(5, 12)"
   ]
  },
  {
   "cell_type": "code",
   "execution_count": 11,
   "metadata": {},
   "outputs": [
    {
     "name": "stdout",
     "output_type": "stream",
     "text": [
      "None\n",
      "deque(['2', '3', '1'])\n"
     ]
    }
   ],
   "source": [
    "from collections import deque\n",
    "s = deque(\"123\")\n",
    "print(s.rotate(-1))\n",
    "print(s)\n",
    "\n",
    "q = set()"
   ]
  }
 ],
 "metadata": {
  "kernelspec": {
   "display_name": "Python 3",
   "language": "python",
   "name": "python3"
  },
  "language_info": {
   "codemirror_mode": {
    "name": "ipython",
    "version": 3
   },
   "file_extension": ".py",
   "mimetype": "text/x-python",
   "name": "python",
   "nbconvert_exporter": "python",
   "pygments_lexer": "ipython3",
   "version": "3.8.6"
  },
  "orig_nbformat": 4,
  "vscode": {
   "interpreter": {
    "hash": "2ba6819d172d60e93b2f90e5d47af36d4f36070393882cfcbe0fef625705f185"
   }
  }
 },
 "nbformat": 4,
 "nbformat_minor": 2
}
