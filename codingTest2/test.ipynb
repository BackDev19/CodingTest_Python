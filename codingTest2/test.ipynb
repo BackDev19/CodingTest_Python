{
 "cells": [
  {
   "cell_type": "code",
   "execution_count": 57,
   "metadata": {},
   "outputs": [
    {
     "name": "stdout",
     "output_type": "stream",
     "text": [
      "['1', '1']\n"
     ]
    }
   ],
   "source": [
    "import sys\n",
    "sys.stdin = open(\"input.txt\", \"rt\")\n",
    "input = sys.stdin.readline\n",
    "\n",
    "def mod(n, base):\n",
    "    arr = \"0123456789\"\n",
    "    q, r = divmod(n, base)\n",
    "\n",
    "    if q == 0:\n",
    "        return arr[r]\n",
    "\n",
    "    return mod(n // base, base) + arr[r]\n",
    "\n",
    "# \n",
    "\n",
    "n = 2\n",
    "bin_number = list(mod(n, 2))\n",
    "idx = ''.join(bin_number).rfind('0')\n",
    "bin_number[idx] = '1'\n",
    "int(''.join(bin_number), 2)\n",
    "\n"
   ]
  },
  {
   "cell_type": "code",
   "execution_count": 175,
   "metadata": {},
   "outputs": [
    {
     "name": "stdout",
     "output_type": "stream",
     "text": [
      "8\n"
     ]
    }
   ],
   "source": [
    "import sys\n",
    "sys.stdin = open(\"input.txt\", \"rt\")\n",
    "input = sys.stdin.readline\n",
    "\n",
    "N, M, K = map(int, input().split())\n",
    "fireballs = []\n",
    "for _ in range(M):\n",
    "    _r, _c, _m, _s, _d = list(map(int, input().split()))\n",
    "    fireballs.append([_r-1, _c-1, _m, _s, _d])\n",
    "\n",
    "MAP = [[[] for _ in range(N)] for _ in range(N)]\n",
    "\n",
    "dx = [-1, -1, 0, 1, 1, 1, 0, -1]\n",
    "dy = [0, 1, 1, 1, 0, -1, -1, -1]\n",
    "\n",
    "for _ in range(K):\n",
    "    # 파이어볼 이동\n",
    "    while fireballs:\n",
    "        cr, cc, cm, cs, cd = fireballs.pop(0)\n",
    "        nr = (cr + cs * dx[cd]) % N  # 1번-N번 행 연결되어있기 때문\n",
    "        nc = (cc + cs * dy[cd]) % N\n",
    "        MAP[nr][nc].append([cm, cs, cd])\n",
    "\n",
    "    # 2개 이상인지 체크\n",
    "    for r in range(N):\n",
    "        for c in range(N):\n",
    "            # 2개 이상인 경우 -> 4개의 파이어볼로 쪼개기\n",
    "            if len(MAP[r][c]) > 1:\n",
    "                sum_m, sum_s, cnt_odd, cnt_even, cnt = 0, 0, 0, 0, len(MAP[r][c])\n",
    "                while MAP[r][c]:\n",
    "                    _m, _s, _d = MAP[r][c].pop(0)\n",
    "                    sum_m += _m\n",
    "                    sum_s += _s\n",
    "                    if _d % 2:\n",
    "                        cnt_odd += 1\n",
    "                    else:\n",
    "                        cnt_even += 1\n",
    "                if cnt_odd == cnt or cnt_even == cnt:  # 모두 홀수이거나 모두 짝수인 경우\n",
    "                    nd = [0, 2, 4, 6]\n",
    "                else:\n",
    "                    nd = [1, 3, 5, 7]\n",
    "                if sum_m//5:  # 질량 0이면 소멸\n",
    "                    for d in nd:\n",
    "                        fireballs.append([r, c, sum_m//5, sum_s//cnt, d])\n",
    "\n",
    "            # 1개인 경우\n",
    "            if len(MAP[r][c]) == 1:\n",
    "                fireballs.append([r, c] + MAP[r][c].pop())\n",
    "\n",
    "print(sum([f[2] for f in fireballs]))"
   ]
  },
  {
   "cell_type": "code",
   "execution_count": 134,
   "metadata": {},
   "outputs": [
    {
     "name": "stdout",
     "output_type": "stream",
     "text": [
      "3\n"
     ]
    }
   ],
   "source": [
    "a = -1 % 4\n",
    "print(a)"
   ]
  },
  {
   "cell_type": "code",
   "execution_count": 112,
   "metadata": {},
   "outputs": [
    {
     "name": "stdout",
     "output_type": "stream",
     "text": [
      "True\n"
     ]
    }
   ],
   "source": [
    "print(\"12:20\" < \"23:20\")"
   ]
  }
 ],
 "metadata": {
  "kernelspec": {
   "display_name": "Python 3",
   "language": "python",
   "name": "python3"
  },
  "language_info": {
   "codemirror_mode": {
    "name": "ipython",
    "version": 3
   },
   "file_extension": ".py",
   "mimetype": "text/x-python",
   "name": "python",
   "nbconvert_exporter": "python",
   "pygments_lexer": "ipython3",
   "version": "3.8.6"
  },
  "orig_nbformat": 4,
  "vscode": {
   "interpreter": {
    "hash": "2ba6819d172d60e93b2f90e5d47af36d4f36070393882cfcbe0fef625705f185"
   }
  }
 },
 "nbformat": 4,
 "nbformat_minor": 2
}
