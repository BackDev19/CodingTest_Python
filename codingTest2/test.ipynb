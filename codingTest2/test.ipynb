{
 "cells": [
  {
   "cell_type": "code",
   "execution_count": 9,
   "metadata": {},
   "outputs": [
    {
     "name": "stdout",
     "output_type": "stream",
     "text": [
      "28\n"
     ]
    }
   ],
   "source": [
    "import sys\n",
    "sys.stdin = open(\"input.txt\", \"rt\")\n",
    "input = sys.stdin.readline\n",
    "\n",
    "\n",
    "\n",
    "\n",
    "\n"
   ]
  },
  {
   "cell_type": "code",
   "execution_count": 3,
   "metadata": {},
   "outputs": [
    {
     "name": "stderr",
     "output_type": "stream",
     "text": [
      "Traceback (most recent call last):\n",
      "  File \"_pydevd_bundle/pydevd_cython.pyx\", line 1081, in _pydevd_bundle.pydevd_cython.PyDBFrame.trace_dispatch\n",
      "  File \"_pydevd_bundle/pydevd_cython.pyx\", line 297, in _pydevd_bundle.pydevd_cython.PyDBFrame.do_wait_suspend\n",
      "  File \"c:\\Users\\황인권\\AppData\\Local\\Programs\\Python\\Python38\\lib\\site-packages\\debugpy\\_vendored\\pydevd\\pydevd.py\", line 2023, in do_wait_suspend\n",
      "    keep_suspended = self._do_wait_suspend(thread, frame, event, arg, suspend_type, from_this_thread, frames_tracker)\n",
      "  File \"c:\\Users\\황인권\\AppData\\Local\\Programs\\Python\\Python38\\lib\\site-packages\\debugpy\\_vendored\\pydevd\\pydevd.py\", line 2059, in _do_wait_suspend\n",
      "    time.sleep(0.01)\n",
      "KeyboardInterrupt\n"
     ]
    },
    {
     "ename": "KeyboardInterrupt",
     "evalue": "",
     "output_type": "error",
     "traceback": [
      "\u001b[1;31m---------------------------------------------------------------------------\u001b[0m",
      "\u001b[1;31mKeyboardInterrupt\u001b[0m                         Traceback (most recent call last)",
      "\u001b[1;32mc:\\Users\\황인권\\OneDrive - 동국대학교\\문서\\CodingTest_Python\\codingTest2\\test.ipynb Cell 2\u001b[0m in \u001b[0;36m<cell line: 47>\u001b[1;34m()\u001b[0m\n\u001b[0;32m     <a href='vscode-notebook-cell:/c%3A/Users/%ED%99%A9%EC%9D%B8%EA%B6%8C/OneDrive%20-%20%EB%8F%99%EA%B5%AD%EB%8C%80%ED%95%99%EA%B5%90/%EB%AC%B8%EC%84%9C/CodingTest_Python/codingTest2/test.ipynb#W1sZmlsZQ%3D%3D?line=43'>44</a>\u001b[0m     \u001b[39mreturn\u001b[39;00m answer\n\u001b[0;32m     <a href='vscode-notebook-cell:/c%3A/Users/%ED%99%A9%EC%9D%B8%EA%B6%8C/OneDrive%20-%20%EB%8F%99%EA%B5%AD%EB%8C%80%ED%95%99%EA%B5%90/%EB%AC%B8%EC%84%9C/CodingTest_Python/codingTest2/test.ipynb#W1sZmlsZQ%3D%3D?line=45'>46</a>\u001b[0m \u001b[39m# print(solution(10, 10, [100], [100], [7], [10]))\u001b[39;00m\n\u001b[1;32m---> <a href='vscode-notebook-cell:/c%3A/Users/%ED%99%A9%EC%9D%B8%EA%B6%8C/OneDrive%20-%20%EB%8F%99%EA%B5%AD%EB%8C%80%ED%95%99%EA%B5%90/%EB%AC%B8%EC%84%9C/CodingTest_Python/codingTest2/test.ipynb#W1sZmlsZQ%3D%3D?line=46'>47</a>\u001b[0m \u001b[39mprint\u001b[39m(solution(\u001b[39m90\u001b[39;49m, \u001b[39m500\u001b[39;49m, [\u001b[39m70\u001b[39;49m, \u001b[39m70\u001b[39;49m, \u001b[39m50\u001b[39;49m], [\u001b[39m0\u001b[39;49m, \u001b[39m0\u001b[39;49m, \u001b[39m500\u001b[39;49m], [\u001b[39m100\u001b[39;49m, \u001b[39m100\u001b[39;49m, \u001b[39m2\u001b[39;49m], [\u001b[39m4\u001b[39;49m, \u001b[39m8\u001b[39;49m, \u001b[39m1\u001b[39;49m]))\n",
      "\u001b[1;32mc:\\Users\\황인권\\OneDrive - 동국대학교\\문서\\CodingTest_Python\\codingTest2\\test.ipynb Cell 2\u001b[0m in \u001b[0;36msolution\u001b[1;34m(a, b, g, s, w, t)\u001b[0m\n\u001b[0;32m     <a href='vscode-notebook-cell:/c%3A/Users/%ED%99%A9%EC%9D%B8%EA%B6%8C/OneDrive%20-%20%EB%8F%99%EA%B5%AD%EB%8C%80%ED%95%99%EA%B5%90/%EB%AC%B8%EC%84%9C/CodingTest_Python/codingTest2/test.ipynb#W1sZmlsZQ%3D%3D?line=33'>34</a>\u001b[0m     silver \u001b[39m+\u001b[39m\u001b[39m=\u001b[39m now_silver \u001b[39mif\u001b[39;00m (now_silver \u001b[39m<\u001b[39m move_cnt \u001b[39m*\u001b[39m now_weight) \u001b[39melse\u001b[39;00m move_cnt \u001b[39m*\u001b[39m now_weight\n\u001b[0;32m     <a href='vscode-notebook-cell:/c%3A/Users/%ED%99%A9%EC%9D%B8%EA%B6%8C/OneDrive%20-%20%EB%8F%99%EA%B5%AD%EB%8C%80%ED%95%99%EA%B5%90/%EB%AC%B8%EC%84%9C/CodingTest_Python/codingTest2/test.ipynb#W1sZmlsZQ%3D%3D?line=35'>36</a>\u001b[0m     total \u001b[39m+\u001b[39m\u001b[39m=\u001b[39m now_gold \u001b[39m+\u001b[39m now_silver \u001b[39mif\u001b[39;00m (now_gold \u001b[39m+\u001b[39m now_silver \u001b[39m<\u001b[39m move_cnt \u001b[39m*\u001b[39m now_weight) \u001b[39melse\u001b[39;00m move_cnt \u001b[39m*\u001b[39m now_weight \n\u001b[1;32m---> <a href='vscode-notebook-cell:/c%3A/Users/%ED%99%A9%EC%9D%B8%EA%B6%8C/OneDrive%20-%20%EB%8F%99%EA%B5%AD%EB%8C%80%ED%95%99%EA%B5%90/%EB%AC%B8%EC%84%9C/CodingTest_Python/codingTest2/test.ipynb#W1sZmlsZQ%3D%3D?line=37'>38</a>\u001b[0m \u001b[39mif\u001b[39;00m gold \u001b[39m>\u001b[39m\u001b[39m=\u001b[39m a \u001b[39mand\u001b[39;00m silver \u001b[39m>\u001b[39m\u001b[39m=\u001b[39m b \u001b[39mand\u001b[39;00m total \u001b[39m>\u001b[39m\u001b[39m=\u001b[39m a \u001b[39m+\u001b[39m b:\n\u001b[0;32m     <a href='vscode-notebook-cell:/c%3A/Users/%ED%99%A9%EC%9D%B8%EA%B6%8C/OneDrive%20-%20%EB%8F%99%EA%B5%AD%EB%8C%80%ED%95%99%EA%B5%90/%EB%AC%B8%EC%84%9C/CodingTest_Python/codingTest2/test.ipynb#W1sZmlsZQ%3D%3D?line=38'>39</a>\u001b[0m     end \u001b[39m=\u001b[39m mid \u001b[39m-\u001b[39m \u001b[39m1\u001b[39m\n\u001b[0;32m     <a href='vscode-notebook-cell:/c%3A/Users/%ED%99%A9%EC%9D%B8%EA%B6%8C/OneDrive%20-%20%EB%8F%99%EA%B5%AD%EB%8C%80%ED%95%99%EA%B5%90/%EB%AC%B8%EC%84%9C/CodingTest_Python/codingTest2/test.ipynb#W1sZmlsZQ%3D%3D?line=39'>40</a>\u001b[0m     answer \u001b[39m=\u001b[39m \u001b[39mmin\u001b[39m(answer, mid)\n",
      "\u001b[1;32mc:\\Users\\황인권\\OneDrive - 동국대학교\\문서\\CodingTest_Python\\codingTest2\\test.ipynb Cell 2\u001b[0m in \u001b[0;36msolution\u001b[1;34m(a, b, g, s, w, t)\u001b[0m\n\u001b[0;32m     <a href='vscode-notebook-cell:/c%3A/Users/%ED%99%A9%EC%9D%B8%EA%B6%8C/OneDrive%20-%20%EB%8F%99%EA%B5%AD%EB%8C%80%ED%95%99%EA%B5%90/%EB%AC%B8%EC%84%9C/CodingTest_Python/codingTest2/test.ipynb#W1sZmlsZQ%3D%3D?line=33'>34</a>\u001b[0m     silver \u001b[39m+\u001b[39m\u001b[39m=\u001b[39m now_silver \u001b[39mif\u001b[39;00m (now_silver \u001b[39m<\u001b[39m move_cnt \u001b[39m*\u001b[39m now_weight) \u001b[39melse\u001b[39;00m move_cnt \u001b[39m*\u001b[39m now_weight\n\u001b[0;32m     <a href='vscode-notebook-cell:/c%3A/Users/%ED%99%A9%EC%9D%B8%EA%B6%8C/OneDrive%20-%20%EB%8F%99%EA%B5%AD%EB%8C%80%ED%95%99%EA%B5%90/%EB%AC%B8%EC%84%9C/CodingTest_Python/codingTest2/test.ipynb#W1sZmlsZQ%3D%3D?line=35'>36</a>\u001b[0m     total \u001b[39m+\u001b[39m\u001b[39m=\u001b[39m now_gold \u001b[39m+\u001b[39m now_silver \u001b[39mif\u001b[39;00m (now_gold \u001b[39m+\u001b[39m now_silver \u001b[39m<\u001b[39m move_cnt \u001b[39m*\u001b[39m now_weight) \u001b[39melse\u001b[39;00m move_cnt \u001b[39m*\u001b[39m now_weight \n\u001b[1;32m---> <a href='vscode-notebook-cell:/c%3A/Users/%ED%99%A9%EC%9D%B8%EA%B6%8C/OneDrive%20-%20%EB%8F%99%EA%B5%AD%EB%8C%80%ED%95%99%EA%B5%90/%EB%AC%B8%EC%84%9C/CodingTest_Python/codingTest2/test.ipynb#W1sZmlsZQ%3D%3D?line=37'>38</a>\u001b[0m \u001b[39mif\u001b[39;00m gold \u001b[39m>\u001b[39m\u001b[39m=\u001b[39m a \u001b[39mand\u001b[39;00m silver \u001b[39m>\u001b[39m\u001b[39m=\u001b[39m b \u001b[39mand\u001b[39;00m total \u001b[39m>\u001b[39m\u001b[39m=\u001b[39m a \u001b[39m+\u001b[39m b:\n\u001b[0;32m     <a href='vscode-notebook-cell:/c%3A/Users/%ED%99%A9%EC%9D%B8%EA%B6%8C/OneDrive%20-%20%EB%8F%99%EA%B5%AD%EB%8C%80%ED%95%99%EA%B5%90/%EB%AC%B8%EC%84%9C/CodingTest_Python/codingTest2/test.ipynb#W1sZmlsZQ%3D%3D?line=38'>39</a>\u001b[0m     end \u001b[39m=\u001b[39m mid \u001b[39m-\u001b[39m \u001b[39m1\u001b[39m\n\u001b[0;32m     <a href='vscode-notebook-cell:/c%3A/Users/%ED%99%A9%EC%9D%B8%EA%B6%8C/OneDrive%20-%20%EB%8F%99%EA%B5%AD%EB%8C%80%ED%95%99%EA%B5%90/%EB%AC%B8%EC%84%9C/CodingTest_Python/codingTest2/test.ipynb#W1sZmlsZQ%3D%3D?line=39'>40</a>\u001b[0m     answer \u001b[39m=\u001b[39m \u001b[39mmin\u001b[39m(answer, mid)\n",
      "File \u001b[1;32m_pydevd_bundle/pydevd_cython.pyx:1366\u001b[0m, in \u001b[0;36m_pydevd_bundle.pydevd_cython.SafeCallWrapper.__call__\u001b[1;34m()\u001b[0m\n",
      "File \u001b[1;32m_pydevd_bundle/pydevd_cython.pyx:662\u001b[0m, in \u001b[0;36m_pydevd_bundle.pydevd_cython.PyDBFrame.trace_dispatch\u001b[1;34m()\u001b[0m\n",
      "File \u001b[1;32m_pydevd_bundle/pydevd_cython.pyx:1090\u001b[0m, in \u001b[0;36m_pydevd_bundle.pydevd_cython.PyDBFrame.trace_dispatch\u001b[1;34m()\u001b[0m\n",
      "File \u001b[1;32m_pydevd_bundle/pydevd_cython.pyx:1081\u001b[0m, in \u001b[0;36m_pydevd_bundle.pydevd_cython.PyDBFrame.trace_dispatch\u001b[1;34m()\u001b[0m\n",
      "File \u001b[1;32m_pydevd_bundle/pydevd_cython.pyx:297\u001b[0m, in \u001b[0;36m_pydevd_bundle.pydevd_cython.PyDBFrame.do_wait_suspend\u001b[1;34m()\u001b[0m\n",
      "File \u001b[1;32mc:\\Users\\황인권\\AppData\\Local\\Programs\\Python\\Python38\\lib\\site-packages\\debugpy\\_vendored\\pydevd\\pydevd.py:2023\u001b[0m, in \u001b[0;36mPyDB.do_wait_suspend\u001b[1;34m(self, thread, frame, event, arg, exception_type)\u001b[0m\n\u001b[0;32m   2020\u001b[0m             from_this_thread\u001b[39m.\u001b[39mappend(frame_custom_thread_id)\n\u001b[0;32m   2022\u001b[0m     \u001b[39mwith\u001b[39;00m \u001b[39mself\u001b[39m\u001b[39m.\u001b[39m_threads_suspended_single_notification\u001b[39m.\u001b[39mnotify_thread_suspended(thread_id, stop_reason):\n\u001b[1;32m-> 2023\u001b[0m         keep_suspended \u001b[39m=\u001b[39m \u001b[39mself\u001b[39;49m\u001b[39m.\u001b[39;49m_do_wait_suspend(thread, frame, event, arg, suspend_type, from_this_thread, frames_tracker)\n\u001b[0;32m   2025\u001b[0m frames_list \u001b[39m=\u001b[39m \u001b[39mNone\u001b[39;00m\n\u001b[0;32m   2027\u001b[0m \u001b[39mif\u001b[39;00m keep_suspended:\n\u001b[0;32m   2028\u001b[0m     \u001b[39m# This means that we should pause again after a set next statement.\u001b[39;00m\n",
      "File \u001b[1;32mc:\\Users\\황인권\\AppData\\Local\\Programs\\Python\\Python38\\lib\\site-packages\\debugpy\\_vendored\\pydevd\\pydevd.py:2059\u001b[0m, in \u001b[0;36mPyDB._do_wait_suspend\u001b[1;34m(self, thread, frame, event, arg, suspend_type, from_this_thread, frames_tracker)\u001b[0m\n\u001b[0;32m   2056\u001b[0m         \u001b[39mself\u001b[39m\u001b[39m.\u001b[39m_call_input_hook()\n\u001b[0;32m   2058\u001b[0m     \u001b[39mself\u001b[39m\u001b[39m.\u001b[39mprocess_internal_commands()\n\u001b[1;32m-> 2059\u001b[0m     time\u001b[39m.\u001b[39;49msleep(\u001b[39m0.01\u001b[39;49m)\n\u001b[0;32m   2061\u001b[0m \u001b[39mself\u001b[39m\u001b[39m.\u001b[39mcancel_async_evaluation(get_current_thread_id(thread), \u001b[39mstr\u001b[39m(\u001b[39mid\u001b[39m(frame)))\n\u001b[0;32m   2063\u001b[0m \u001b[39m# process any stepping instructions\u001b[39;00m\n",
      "\u001b[1;31mKeyboardInterrupt\u001b[0m: "
     ]
    }
   ],
   "source": [
    "def solution(a, b, g, s, w, t):\n",
    "    answer = (10**9) * (10**5) * 4\n",
    "    \n",
    "    start = 0\n",
    "    # 최악의 경우\n",
    "    # 걸리는 최소시간(왕복) : 2 \n",
    "    # 금 따로 은 따로(한도시에 금,은만 있을경우) : 2\n",
    "    # 광물의 최대무게 : 10**9\n",
    "    # 도시의 최대개수 : 10**5\n",
    "    end = (10**9) * (10**5) * 4\n",
    "    \n",
    "    while start <= end:\n",
    "        # mid는 총 이동 횟수를 의미\n",
    "        mid = (start + end) // 2\n",
    "        gold = 0\n",
    "        silver = 0 \n",
    "        total = 0\n",
    "        \n",
    "        for i in range(len(g)):\n",
    "            # 현재 정보\n",
    "            now_gold = g[i]\n",
    "            now_silver = s[i]\n",
    "            now_weight = w[i]\n",
    "            now_time = t[i]\n",
    "            \n",
    "            # 주어진 시간내에서 이동할 수 있는 횟수(왕복으로 계산)\n",
    "            move_cnt = mid // (now_time * 2)\n",
    "            \n",
    "            # 편도 추가\n",
    "            if mid % (now_time * 2) >= now_time:\n",
    "                move_cnt += 1\n",
    "                \n",
    "            gold += now_gold if (now_gold < move_cnt * now_weight) else move_cnt * now_weight \n",
    "            silver += now_silver if (now_silver < move_cnt * now_weight) else move_cnt * now_weight\n",
    "\n",
    "            total += now_gold + now_silver if (now_gold + now_silver < move_cnt * now_weight) else move_cnt * now_weight \n",
    "        \n",
    "        if gold >= a and silver >= b and total >= a + b:\n",
    "            end = mid - 1\n",
    "            answer = min(answer, mid)\n",
    "        else:\n",
    "            start = mid + 1\n",
    "        \n",
    "    return answer\n",
    "\n",
    "# print(solution(10, 10, [100], [100], [7], [10]))\n",
    "print(solution(90, 500, [70, 70, 50], [0, 0, 500], [100, 100, 2], [4, 8, 1]))\n",
    "# solution(90, 500, [70, 70, 70], [70, 250, 500], [100, 65, 50], [4, 8, 1])"
   ]
  }
 ],
 "metadata": {
  "kernelspec": {
   "display_name": "Python 3",
   "language": "python",
   "name": "python3"
  },
  "language_info": {
   "codemirror_mode": {
    "name": "ipython",
    "version": 3
   },
   "file_extension": ".py",
   "mimetype": "text/x-python",
   "name": "python",
   "nbconvert_exporter": "python",
   "pygments_lexer": "ipython3",
   "version": "3.8.6"
  },
  "orig_nbformat": 4
 },
 "nbformat": 4,
 "nbformat_minor": 2
}
