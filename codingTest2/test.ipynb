{
 "cells": [
  {
   "cell_type": "code",
   "execution_count": 12,
   "metadata": {},
   "outputs": [
    {
     "name": "stdout",
     "output_type": "stream",
     "text": [
      "9\n"
     ]
    }
   ],
   "source": [
    "import sys\n",
    "sys.stdin = open(\"input.txt\", \"rt\")\n",
    "input = sys.stdin.readline\n",
    "sys.setrecursionlimit(10 ** 8)\n",
    "\n",
    "def dfs(sx, sy):\n",
    "    # 도착 지점에 도달하면 1(한 가지 경우의 수)를 리턴\n",
    "    if sx == m-1 and sy == n-1:\n",
    "        return 1\n",
    "\n",
    "    # 이미 방문한 적이 있다면 그 위치에서 출발하는 경우의 수를 리턴\n",
    "    if dp[sx][sy] != -1:\n",
    "        return dp[sx][sy]\n",
    "    \n",
    "    ways = 0\n",
    "    for i in range(4):\n",
    "        nx, ny = sx + dx[i], sy + dy[i]\n",
    "        if 0 <= nx < m and 0 <= ny < n and graph[sx][sy] > graph[nx][ny]:\n",
    "            ways += dfs(nx, ny)\n",
    "    \n",
    "    dp[sx][sy] = ways\n",
    "    return dp[sx][sy]\n",
    "\n",
    "\n",
    "m, n = map(int, input().split())\n",
    "graph = [list(map(int, input().split())) for _ in range(m)]\n",
    "dp = [[-1] * n for _ in range(m)]\n",
    "dx, dy = [1,-1,0,0], [0,0,1,-1]\n",
    "\n",
    "print(dfs(0,0))"
   ]
  }
 ],
 "metadata": {
  "kernelspec": {
   "display_name": "Python 3",
   "language": "python",
   "name": "python3"
  },
  "language_info": {
   "codemirror_mode": {
    "name": "ipython",
    "version": 3
   },
   "file_extension": ".py",
   "mimetype": "text/x-python",
   "name": "python",
   "nbconvert_exporter": "python",
   "pygments_lexer": "ipython3",
   "version": "3.8.6 (tags/v3.8.6:db45529, Sep 23 2020, 15:52:53) [MSC v.1927 64 bit (AMD64)]"
  },
  "orig_nbformat": 4,
  "vscode": {
   "interpreter": {
    "hash": "2ba6819d172d60e93b2f90e5d47af36d4f36070393882cfcbe0fef625705f185"
   }
  }
 },
 "nbformat": 4,
 "nbformat_minor": 2
}
