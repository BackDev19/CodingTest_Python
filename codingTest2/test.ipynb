{
 "cells": [
  {
   "cell_type": "code",
   "execution_count": 13,
   "metadata": {},
   "outputs": [
    {
     "ename": "TypeError",
     "evalue": "unsupported operand type(s) for -: 'int' and 'str'",
     "output_type": "error",
     "traceback": [
      "\u001b[1;31m---------------------------------------------------------------------------\u001b[0m",
      "\u001b[1;31mTypeError\u001b[0m                                 Traceback (most recent call last)",
      "Cell \u001b[1;32mIn[13], line 26\u001b[0m\n\u001b[0;32m     22\u001b[0m         answer[i] \u001b[39m=\u001b[39m maxCount \u001b[39m-\u001b[39m tmp[i]\n\u001b[0;32m     24\u001b[0m     \u001b[39mprint\u001b[39m(answer)\n\u001b[1;32m---> 26\u001b[0m solution(\u001b[39m\"\u001b[39;49m\u001b[39maaabc\u001b[39;49m\u001b[39m\"\u001b[39;49m)\n\u001b[0;32m     27\u001b[0m solution(\u001b[39m\"\u001b[39m\u001b[39maabb\u001b[39m\u001b[39m\"\u001b[39m)\n\u001b[0;32m     28\u001b[0m solution(\u001b[39m\"\u001b[39m\u001b[39mabcde\u001b[39m\u001b[39m\"\u001b[39m)\n",
      "Cell \u001b[1;32mIn[13], line 22\u001b[0m, in \u001b[0;36msolution\u001b[1;34m(s)\u001b[0m\n\u001b[0;32m     20\u001b[0m \u001b[39m# 3\u001b[39;00m\n\u001b[0;32m     21\u001b[0m \u001b[39mfor\u001b[39;00m i \u001b[39min\u001b[39;00m \u001b[39mrange\u001b[39m(\u001b[39m5\u001b[39m):\n\u001b[1;32m---> 22\u001b[0m     answer[i] \u001b[39m=\u001b[39m maxCount \u001b[39m-\u001b[39;49m tmp[i]\n\u001b[0;32m     24\u001b[0m \u001b[39mprint\u001b[39m(answer)\n",
      "\u001b[1;31mTypeError\u001b[0m: unsupported operand type(s) for -: 'int' and 'str'"
     ]
    }
   ],
   "source": [
    "import sys\n",
    "from collections import Counter\n",
    "sys.stdin = open(\"input.txt\", \"rt\")\n",
    "input = sys.stdin.readline\n",
    "\n",
    "# 1. 각 개수 세기\n",
    "# 2. 개수중에서 가장 큰 값 찾기\n",
    "# 3. 가장 큰 값 - abcde의 dic값\n",
    "\n",
    "def solution(s):\n",
    "    answer = [0, 0, 0, 0, 0]\n",
    "    tmp = \"abcde\"\n",
    "\n",
    "    # 1\n",
    "    dic = Counter(s)\n",
    "\n",
    "    # 2\n",
    "    maxCount = max(dic.values())\n",
    "\n",
    "    # 3\n",
    "    for i in range(5):\n",
    "        answer[i] = maxCount - dic[tmp[i]]\n",
    "\n",
    "    print(answer)\n",
    "\n",
    "solution(\"aaabc\")\n",
    "solution(\"aabb\")\n",
    "solution(\"abcde\")\n",
    "solution(\"abcdeabc\")\n",
    "solution(\"abbccddee\")\n"
   ]
  },
  {
   "cell_type": "code",
   "execution_count": 29,
   "metadata": {},
   "outputs": [
    {
     "name": "stdout",
     "output_type": "stream",
     "text": [
      "1 2\n",
      "2\n"
     ]
    }
   ],
   "source": [
    "a = 1\n",
    "if a == 1:\n",
    "    a += 1\n",
    "    print('1', a)\n",
    "elif a == 2:\n",
    "    a -= 1\n",
    "    print('2', a)\n",
    "\n",
    "print(a)"
   ]
  },
  {
   "cell_type": "code",
   "execution_count": 38,
   "metadata": {},
   "outputs": [
    {
     "name": "stdout",
     "output_type": "stream",
     "text": [
      "[5, 3, 2, 1]\n"
     ]
    }
   ],
   "source": [
    "a = [3, 5, 1, 2]\n",
    "a = sorted(a, key = lambda x : -x)\n",
    "print(a)"
   ]
  },
  {
   "cell_type": "code",
   "execution_count": null,
   "metadata": {},
   "outputs": [],
   "source": [
    "import sys\n",
    "sys.stdin = open(\"input.txt\", \"rt\")\n",
    "input = sys.stdin.readline\n",
    "\n",
    "\n",
    "\n"
   ]
  },
  {
   "cell_type": "code",
   "execution_count": null,
   "metadata": {},
   "outputs": [],
   "source": [
    "import sys\n",
    "sys.stdin = open(\"input.txt\", \"rt\")\n",
    "input = sys.stdin.readline\n",
    "\n"
   ]
  }
 ],
 "metadata": {
  "kernelspec": {
   "display_name": "Python 3",
   "language": "python",
   "name": "python3"
  },
  "language_info": {
   "codemirror_mode": {
    "name": "ipython",
    "version": 3
   },
   "file_extension": ".py",
   "mimetype": "text/x-python",
   "name": "python",
   "nbconvert_exporter": "python",
   "pygments_lexer": "ipython3",
   "version": "3.11.4"
  },
  "orig_nbformat": 4,
  "vscode": {
   "interpreter": {
    "hash": "2ba6819d172d60e93b2f90e5d47af36d4f36070393882cfcbe0fef625705f185"
   }
  }
 },
 "nbformat": 4,
 "nbformat_minor": 2
}
