{
 "cells": [
  {
   "cell_type": "code",
   "execution_count": null,
   "metadata": {},
   "outputs": [],
   "source": [
    "# 테이블은 2차원 행렬로 표현 가능\n",
    "# 열은 컬럼, 행은 튜플\n",
    "\n",
    "# 첫 번째 컬럼은 기본키로서 모든 튜플에 대해 그 값이 중복되지 않도록 보장\n",
    "\n",
    "# 1. 해시 함수는 col, row_begin, row_end를 입력\n",
    "# 2. col번째 컬럼의 값을 기준으로 오름차순 정렬. 그 값이 동일하다면 기본키인 첫 번째 컬럼의 값을 기준으로 내림차순 정렬\n",
    "# 3. S_i를 i번째 행의 튜플에 대해 각 컬럼의 값을 i로 나눈 나머지들의 합으로 정의\n",
    "# 4. S_i를 누적하여 bitwise XOR한 값을 해시 값으로 반영\n",
    "\n",
    "# data와 입력 col, row_begin, row_end이 주어졌을 때 테이블의 해시 값을 return하도록 solution 함수를 완성\n",
    "\n",
    "def solution(data, col, row_begin, row_end):\n",
    "    answer = 0\n",
    "    \n",
    "    # 정렬 수행\n",
    "    data.sort(key = lambda x : (x[col-1], -x[0]))\n",
    "    # print(*data, sep='\\n')\n",
    "    \n",
    "    for i in range(row_begin - 1, row_end):\n",
    "        sum = 0\n",
    "        for x in data[i]:\n",
    "            sum += x % (i+1)\n",
    "        # print(sum)\n",
    "        answer = (sum ^ answer)\n",
    "    \n",
    "    \n",
    "    return answer"
   ]
  }
 ],
 "metadata": {
  "kernelspec": {
   "display_name": "Python 3",
   "language": "python",
   "name": "python3"
  },
  "language_info": {
   "name": "python",
   "version": "3.8.6"
  },
  "orig_nbformat": 4,
  "vscode": {
   "interpreter": {
    "hash": "2ba6819d172d60e93b2f90e5d47af36d4f36070393882cfcbe0fef625705f185"
   }
  }
 },
 "nbformat": 4,
 "nbformat_minor": 2
}
