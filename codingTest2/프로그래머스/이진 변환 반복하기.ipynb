{
 "cells": [
  {
   "cell_type": "code",
   "execution_count": null,
   "metadata": {},
   "outputs": [],
   "source": [
    "# 10 -> 2진수\n",
    "num = \"01\"\n",
    "def ten_to_binary(n):\n",
    "    if n == 0:\n",
    "        return ''\n",
    "    \n",
    "    # 몫과, 나머지\n",
    "    return str(ten_to_binary(n // 2)) + num[n % 2]\n",
    "    \n",
    " \n",
    "def solution(s):\n",
    "    answer = [0, 0]\n",
    "    \n",
    "    while s != '1':\n",
    "        answer[1] += s.count('0')\n",
    "        s = s.replace('0', '')\n",
    "        s = ten_to_binary(len(s))\n",
    "        \n",
    "        answer[0] += 1\n",
    "        \n",
    "    return answer"
   ]
  }
 ],
 "metadata": {
  "language_info": {
   "name": "python"
  },
  "orig_nbformat": 4
 },
 "nbformat": 4,
 "nbformat_minor": 2
}
