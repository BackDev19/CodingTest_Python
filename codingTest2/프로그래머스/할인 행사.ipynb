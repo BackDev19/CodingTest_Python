{
 "cells": [
  {
   "cell_type": "code",
   "execution_count": null,
   "metadata": {},
   "outputs": [],
   "source": [
    "import sys\n",
    "from collections import Counter\n",
    "sys.stdin = open(\"input.txt\", \"rt\")\n",
    "input = sys.stdin.readline\n",
    "\n",
    "# 자신이 원하는 제품과 수량이 할인하는 날짜와 10일 연속으로 일치할 경우에 맞춰서 회원가입\n",
    "# 원하는 제품을 모두 할인 받을 수 있는 회원등록 날짜의 총 일수를 return\n",
    "\n",
    "# 1. two pointer + dictionary\n",
    "# 2. Counter\n",
    "def solution(want, number, discount):\n",
    "    # 변수 선언\n",
    "    answer = 0\n",
    "    want_dic = {want[i] : number[i] for i in range(len(want))}\n",
    "\n",
    "    lt = \n",
    "    # 수량 비교\n",
    "    for i in range(len(discount) - 9):\n",
    "        if want_dic == Counter(discount[i:i+10]):\n",
    "            answer += 1\n",
    "\n",
    "    return answer\n",
    "\n",
    "solution([\"banana\", \"apple\", \"rice\", \"pork\", \"pot\"], \n",
    "         [3, 2, 2, 2, 1], \n",
    "         [\"chicken\", \"apple\", \"apple\", \"banana\", \"rice\", \"apple\", \"pork\", \"banana\", \"pork\", \"rice\", \"pot\", \"banana\", \"apple\", \"banana\"])\n",
    "\n",
    "solution(\t[\"apple\"], [10], [\"banana\", \"banana\", \"banana\", \"banana\", \"banana\", \"banana\", \"banana\", \"banana\", \"banana\", \"banana\"])"
   ]
  }
 ],
 "metadata": {
  "language_info": {
   "name": "python"
  }
 },
 "nbformat": 4,
 "nbformat_minor": 2
}
