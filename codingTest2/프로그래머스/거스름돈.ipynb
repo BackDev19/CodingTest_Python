{
 "cells": [
  {
   "cell_type": "code",
   "execution_count": null,
   "metadata": {},
   "outputs": [],
   "source": [
    "def solution(n, money):\n",
    "    answer = 0\n",
    "    \n",
    "    dp = [[1] + [0] * (n) for _ in range(len(money) + 1)]\n",
    "    \n",
    "    # 1로 만들 수 있는 경우. 1, 2로 만들 수 있는 개수, 1,2,5로 만들 수 있는 경우의 수 순으로 dp 진행\n",
    "    for i in range(1, len(money) + 1):\n",
    "        coin = money[i-1]\n",
    "        for j in range(1, n+1):\n",
    "            dp[i][j] = dp[i-1][j]\n",
    "            # j가 coin 이상인 경우만 dp 수행\n",
    "            if j - coin >= 0:\n",
    "                dp[i][j] += dp[i][j - coin]\n",
    "    \n",
    "    answer = dp[-1][-1] % 1000000007\n",
    "    return answer"
   ]
  },
  {
   "cell_type": "code",
   "execution_count": null,
   "metadata": {},
   "outputs": [
    {
     "data": {
      "text/plain": [
       "1"
      ]
     },
     "metadata": {},
     "output_type": "display_data"
    }
   ],
   "source": [
    "def solution(n, money):\n",
    "    answer = 0\n",
    "    dp = [1] + [0] * (n)\n",
    "    \n",
    "    # 1로 만들 수 있는 경우. 1, 2로 만들 수 있는 개수, 1,2,5로 만들 수 있는 경우의 수 순으로 dp 진행\n",
    "    for coin in money:\n",
    "        for i in range(coin, n+1):\n",
    "            dp[i] += dp[i-coin]\n",
    "    \n",
    "    answer = dp[-1]\n",
    "    return answer"
   ]
  }
 ],
 "metadata": {
  "language_info": {
   "name": "python"
  },
  "orig_nbformat": 4
 },
 "nbformat": 4,
 "nbformat_minor": 2
}
