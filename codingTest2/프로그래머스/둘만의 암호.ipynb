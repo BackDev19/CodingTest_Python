{
 "cells": [
  {
   "cell_type": "code",
   "execution_count": null,
   "metadata": {},
   "outputs": [],
   "source": [
    "# s와 skip, 그리고 자연수 index가 주어질 때\n",
    "\n",
    "# 문자열 s의 각 알파벳을 index만큼 뒤의 알파벳으로 바꿔준다\n",
    "# index만큼의 뒤의 알파벳이 z를 넘어갈 경우 다시 a로 돌아간다\n",
    "# skip에 있는 알파벳은 제외하고 건너뛴다\n",
    "\n",
    "def solution(s, skip, index):\n",
    "    answer = ''\n",
    "    \n",
    "    character = []\n",
    "    # skip을 제외한 알파벳들 character에 대입\n",
    "    for i in range(ord('a'), ord('z') + 1):\n",
    "        if chr(i) in skip:\n",
    "            continue\n",
    "        character.append(chr(i))\n",
    "    \n",
    "    # 해당 character + index를 answer에 넣어주기\n",
    "    for i in range(len(s)):\n",
    "        answer += character[(character.index(s[i]) + index) % (len(character))]\n",
    "    \n",
    "    return answer"
   ]
  }
 ],
 "metadata": {
  "kernelspec": {
   "display_name": "Python 3",
   "language": "python",
   "name": "python3"
  },
  "language_info": {
   "name": "python",
   "version": "3.8.6"
  },
  "orig_nbformat": 4,
  "vscode": {
   "interpreter": {
    "hash": "2ba6819d172d60e93b2f90e5d47af36d4f36070393882cfcbe0fef625705f185"
   }
  }
 },
 "nbformat": 4,
 "nbformat_minor": 2
}
