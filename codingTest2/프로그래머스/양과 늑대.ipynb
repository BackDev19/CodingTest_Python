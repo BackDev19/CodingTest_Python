{
 "cells": [
  {
   "cell_type": "code",
   "execution_count": null,
   "metadata": {},
   "outputs": [],
   "source": [
    "def solution(info, edges):\n",
    "    def dfs(sheep, wolf):\n",
    "        if sheep > wolf:\n",
    "            global answer\n",
    "            answer = max(answer, sheep)\n",
    "        else:\n",
    "            return\n",
    " \n",
    "        for parent, child in edges:\n",
    "            if visited[parent] and not visited[child]:\n",
    "                visited[child] = True\n",
    "                if info[child] == 0:\n",
    "                    dfs(sheep + 1, wolf)\n",
    "                else:\n",
    "                    dfs(sheep, wolf + 1)\n",
    "                \n",
    "                visited[child] = False\n",
    "                \n",
    "    global answer\n",
    "    answer = 0\n",
    "    \n",
    "    visited = [False] * (len(info))\n",
    "    visited[0] = True\n",
    "    \n",
    "    dfs(1, 0)\n",
    "    \n",
    "    return answer"
   ]
  }
 ],
 "metadata": {
  "language_info": {
   "name": "python"
  },
  "orig_nbformat": 4
 },
 "nbformat": 4,
 "nbformat_minor": 2
}
