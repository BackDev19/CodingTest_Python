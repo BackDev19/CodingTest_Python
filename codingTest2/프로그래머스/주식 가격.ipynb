{
 "cells": [
  {
   "cell_type": "code",
   "execution_count": null,
   "metadata": {},
   "outputs": [],
   "source": [
    "\tdef solution(prices):\n",
    "    answer = [0] * len(prices)\n",
    "    stack = []\n",
    "    \n",
    "    for i in range(len(prices)):\n",
    "        for j in range(len(stack) - 1, -1, -1):\n",
    "        \n",
    "        \t# answer[stack에 들어있는 index의 위치] += 1\n",
    "            answer[stack[j][1]] += 1\n",
    "            \n",
    "            # stack에 있는 데이터가 더 크다면, pop\n",
    "            if prices[i] < stack[j][0]:\n",
    "                stack.pop()\n",
    "        \n",
    "        stack.append([prices[i], i])\n",
    "        \n",
    "    return answer"
   ]
  }
 ],
 "metadata": {
  "language_info": {
   "name": "python"
  },
  "orig_nbformat": 4
 },
 "nbformat": 4,
 "nbformat_minor": 2
}
