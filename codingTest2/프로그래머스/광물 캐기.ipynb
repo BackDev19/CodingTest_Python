{
 "cells": [
  {
   "cell_type": "code",
   "execution_count": null,
   "metadata": {},
   "outputs": [],
   "source": [
    "\t# cur = 현재 캐야 하는 미네랄의 위치\n",
    "def solution(picks, minerals):\n",
    "    def dfs(score, cur):\n",
    "        \n",
    "        if sum(picks) == 0 or cur >= len(minerals):\n",
    "            global answer\n",
    "            answer = min(answer, score)\n",
    "            return\n",
    "        \n",
    "        for i in range(3):\n",
    "            if picks[i] == 0:\n",
    "                continue\n",
    "            \n",
    "            picks[i] -= 1\n",
    "            cnt = 0\n",
    "            tmp_score = 0\n",
    "            \n",
    "            for j in range(5):\n",
    "                if cur + j >= len(minerals):\n",
    "                    break\n",
    "                cnt += 1\n",
    "                tmp_score += cal_score(i, minerals[cur+j])\n",
    "            \n",
    "            dfs(score + tmp_score, cur + cnt)\n",
    "            picks[i] += 1\n",
    "            \n",
    "    # 광석 점수 구하기\n",
    "    def cal_score(pick_num, mineral):\n",
    "        if pick_num == 0:\n",
    "            return dia_dic[mineral]\n",
    "        elif pick_num == 1:\n",
    "            return iron_dic[mineral]\n",
    "        else:\n",
    "            return stone_dic[mineral]\n",
    "    \n",
    "    dia_dic = {\"diamond\":1, \"iron\":1, \"stone\":1}\n",
    "    iron_dic = {\"diamond\":5, \"iron\":1, \"stone\":1}\n",
    "    stone_dic = {\"diamond\":25, \"iron\":5, \"stone\":1}\n",
    "        \n",
    "    global answer\n",
    "    answer = 1e9\n",
    "    \n",
    "    dfs(0, 0)\n",
    "    \n",
    "    return answer"
   ]
  }
 ],
 "metadata": {
  "language_info": {
   "name": "python"
  },
  "orig_nbformat": 4
 },
 "nbformat": 4,
 "nbformat_minor": 2
}
