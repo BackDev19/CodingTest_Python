{
 "cells": [
  {
   "cell_type": "code",
   "execution_count": null,
   "metadata": {},
   "outputs": [],
   "source": [
    "# 작업의 진도가 적힌 정수 배열 progresses와 작업의 개발 속도가 적힌 정수 배열 speeds\n",
    "# 뒤에 있는 기능이 앞에 있는 기능보다 먼저 개발될 수 있고, 뒤에 있는 기능은 앞에 있는 기능이 배포될 때 함께 배포\n",
    "# 배포되어야 하는 순서대로 작업의 진도가 적힌 정수 배열 progresses와 각 작업의 개발 속도가 적힌 정수 배열 speeds\n",
    "# 각 배포마다 몇 개의 기능이 배포되는지\n",
    "\n",
    "from collections import deque\n",
    "def solution(progresses, speeds):\n",
    "    answer = []\n",
    "    \n",
    "    time = 0\n",
    "    progresses = deque(progresses)\n",
    "    speeds = deque(speeds)\n",
    "    while progresses:\n",
    "        cnt = 0\n",
    "        while progresses and progresses[0] + time * speeds[0] >= 100:\n",
    "            progresses.popleft()\n",
    "            speeds.popleft()\n",
    "            cnt += 1\n",
    "        \n",
    "        if cnt:\n",
    "            answer.append(cnt)\n",
    "        \n",
    "        time += 1\n",
    "    \n",
    "    return answer"
   ]
  }
 ],
 "metadata": {
  "language_info": {
   "name": "python"
  },
  "orig_nbformat": 4
 },
 "nbformat": 4,
 "nbformat_minor": 2
}
