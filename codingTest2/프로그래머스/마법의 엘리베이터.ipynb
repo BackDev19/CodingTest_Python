{
 "cells": [
  {
   "cell_type": "code",
   "execution_count": null,
   "metadata": {},
   "outputs": [],
   "source": [
    "# 0층으로 내려가는데 필요한 돌의 최소 개수\n",
    "\n",
    "def solution(storey):\n",
    "    answer = 0\n",
    "    \n",
    "    while storey:\n",
    "        # 일의 자리에서부터 계산하기\n",
    "        value = storey % 10\n",
    "        if value > 5:\n",
    "            storey += 10\n",
    "            answer += 10 - value\n",
    "        \n",
    "        elif value < 5:\n",
    "            answer += value\n",
    "        \n",
    "        else:\n",
    "            if (storey // 10) % 10 > 4:\n",
    "                storey += (10 - value)\n",
    "            answer += value\n",
    "        \n",
    "        storey = storey // 10\n",
    "    \n",
    "    return answer"
   ]
  }
 ],
 "metadata": {
  "language_info": {
   "name": "python"
  },
  "orig_nbformat": 4
 },
 "nbformat": 4,
 "nbformat_minor": 2
}
