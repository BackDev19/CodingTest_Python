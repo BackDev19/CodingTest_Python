{
 "cells": [
  {
   "cell_type": "code",
   "execution_count": null,
   "metadata": {},
   "outputs": [],
   "source": [
    "def solution(board):\n",
    "    answer = 0\n",
    "    \n",
    "    # 맨 앞부분에 0 추가\n",
    "    board.insert(0, [0] * len(board[0]))\n",
    "    for i in range(len(board)):\n",
    "        board[i].insert(0, 0)\n",
    "    \n",
    "    # 왼쪽 대각, 좌, 상쪽에 모두 값이 있다면, 가장 작은값 + 1\n",
    "    for i in range(len(board)):\n",
    "        for j in range(len(board[0])):\n",
    "            if board[i][j] == 1:\n",
    "                board[i][j] = min(board[i-1][j-1], board[i-1][j], board[i][j-1]) + 1\n",
    "                answer = max(board[i][j], answer)\n",
    "    \n",
    "    return answer ** 2"
   ]
  }
 ],
 "metadata": {
  "language_info": {
   "name": "python"
  },
  "orig_nbformat": 4
 },
 "nbformat": 4,
 "nbformat_minor": 2
}
