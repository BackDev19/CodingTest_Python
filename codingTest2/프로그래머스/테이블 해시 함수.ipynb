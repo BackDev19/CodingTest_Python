{
 "cells": [
  {
   "cell_type": "code",
   "execution_count": null,
   "metadata": {},
   "outputs": [],
   "source": [
    "def solution(data, col, row_begin, row_end):\n",
    "    answer = 0\n",
    " \n",
    "    # 정렬\n",
    "    data.sort(key = lambda x : (x[col-1], -x[0]))\n",
    " \n",
    "    # xor\n",
    "    for i in range(row_begin, row_end + 1):\n",
    "        res = 0\n",
    "        for datum in data[i - 1]:\n",
    "            res += datum % i\n",
    " \n",
    "        answer = answer ^ res\n",
    "        \n",
    "    return answer"
   ]
  }
 ],
 "metadata": {
  "language_info": {
   "name": "python"
  },
  "orig_nbformat": 4
 },
 "nbformat": 4,
 "nbformat_minor": 2
}
