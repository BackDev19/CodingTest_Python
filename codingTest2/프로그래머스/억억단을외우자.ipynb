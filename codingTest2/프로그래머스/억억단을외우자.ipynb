{
 "cells": [
  {
   "cell_type": "code",
   "execution_count": null,
   "metadata": {},
   "outputs": [],
   "source": [
    "def solution(e, starts):\n",
    "    num = [0 for _ in range(e+1)]\n",
    "    \n",
    "    # end까지 개수 저장하기\n",
    "    for i in range(1, e+1):\n",
    "        for j in range(i, e+1):\n",
    "            idx = i * j\n",
    "            # j * k가 e보다 크다면 break\n",
    "            if idx > e:\n",
    "                break\n",
    " \n",
    "            # 숫자가 동일한 경우 1 증가\n",
    "            if i == j:\n",
    "                num[idx]\n",
    "            # 숫자가 다른 경우 2 증가\n",
    "            else:\n",
    "                num[idx] = num[idx] + 2\n",
    "    \n",
    "    result = [0] * (e+1)\n",
    "    max_value = 0\n",
    "    \n",
    "    for i in range(e, 0, -1):\n",
    "        if num[i] >= max_value:\n",
    "            max_value = num[i]\n",
    "            result[i] = i\n",
    "        else:\n",
    "            result[i] = result[i + 1]\n",
    "        \n",
    "    return [result[start] for start in starts]"
   ]
  }
 ],
 "metadata": {
  "language_info": {
   "name": "python"
  },
  "orig_nbformat": 4
 },
 "nbformat": 4,
 "nbformat_minor": 2
}
