{
 "cells": [
  {
   "cell_type": "code",
   "execution_count": null,
   "metadata": {},
   "outputs": [],
   "source": [
    "def solution(targets):\n",
    "    # answer는 요격한 미사일의 수\n",
    "    answer = 0\n",
    "    # end는 미사일의 마지막 타격 가능한 지점\n",
    "    end = 0;\n",
    "    \n",
    "    targets = sorted(targets, key = lambda x : (x[1]))\n",
    "    \n",
    "    for target in targets:\n",
    "        if end <= target[0]:\n",
    "            answer += 1\n",
    "            end = target[1]\n",
    "    \n",
    "    return answer"
   ]
  }
 ],
 "metadata": {
  "language_info": {
   "name": "python"
  },
  "orig_nbformat": 4
 },
 "nbformat": 4,
 "nbformat_minor": 2
}
