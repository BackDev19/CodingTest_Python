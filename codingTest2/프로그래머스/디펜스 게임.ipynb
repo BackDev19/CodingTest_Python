{
 "cells": [
  {
   "cell_type": "code",
   "execution_count": null,
   "metadata": {},
   "outputs": [],
   "source": [
    "import heapq\n",
    "def solution(n, k, enemy):\n",
    "    answer = 0\n",
    "    q = []\n",
    "\n",
    "    for e in enemy:\n",
    "        # 무적권이 존재한다면\n",
    "        if k:\n",
    "            heapq.heappush(q, e)\n",
    "            k -= 1\n",
    "        # 무적권이 존재하지 않는 경우\n",
    "        else:\n",
    "            # sub에 저장한 뒤, 남은 병사에서 뺄 수 있는지를 비교할 예정\n",
    "            sub = 0\n",
    "            # 새로 들어온 enemy가 더 많은 경우\n",
    "            if q and q[0] < e:\n",
    "                sub = heapq.heappop(q)\n",
    "                heapq.heappush(q, e)\n",
    "            # 무적권은 다 사용했는데, enemy가 계속 들어오는 경우\n",
    "            else:\n",
    "                sub = e\n",
    "            \n",
    "            if n - sub < 0:\n",
    "                break\n",
    "            n -= sub\n",
    "        \n",
    "        answer += 1\n",
    "    \n",
    "    return answer"
   ]
  }
 ],
 "metadata": {
  "language_info": {
   "name": "python"
  },
  "orig_nbformat": 4
 },
 "nbformat": 4,
 "nbformat_minor": 2
}
