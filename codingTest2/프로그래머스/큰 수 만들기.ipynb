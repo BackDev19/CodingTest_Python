{
 "cells": [
  {
   "cell_type": "code",
   "execution_count": null,
   "metadata": {},
   "outputs": [],
   "source": [
    "\tdef solution(number, k):\n",
    "    answer = ''\n",
    "    stack = []\n",
    "    \n",
    "    for i in range(len(number)):\n",
    "        while k and stack and stack[-1] < number[i]:\n",
    "            stack.pop()\n",
    "            k -= 1\n",
    "        \n",
    "        stack.append(number[i])\n",
    "    \n",
    "    # 남은 k만큼 빼줄 것 ex) 999\n",
    "    for i in range(k):\n",
    "        stack.pop()\n",
    "    \n",
    "    answer = \"\".join(stack)\n",
    "    \n",
    "    return answer"
   ]
  }
 ],
 "metadata": {
  "language_info": {
   "name": "python"
  },
  "orig_nbformat": 4
 },
 "nbformat": 4,
 "nbformat_minor": 2
}
