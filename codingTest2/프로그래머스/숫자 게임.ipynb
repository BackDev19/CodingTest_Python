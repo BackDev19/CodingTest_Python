{
 "cells": [
  {
   "cell_type": "code",
   "execution_count": null,
   "metadata": {},
   "outputs": [],
   "source": [
    "def solution(A, B):\n",
    "    \n",
    "    A.sort(reverse = True)\n",
    "    B.sort(reverse = True)\n",
    "    \n",
    "    answer = 0\n",
    "    idx = 0\n",
    "    for i in range(len(A)):\n",
    "        if A[i] < B[idx]:\n",
    "            answer += 1\n",
    "            idx += 1\n",
    "    \n",
    "    return answer"
   ]
  }
 ],
 "metadata": {
  "language_info": {
   "name": "python"
  },
  "orig_nbformat": 4
 },
 "nbformat": 4,
 "nbformat_minor": 2
}
