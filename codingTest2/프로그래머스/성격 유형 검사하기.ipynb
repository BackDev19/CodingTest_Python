{
 "cells": [
  {
   "cell_type": "code",
   "execution_count": null,
   "metadata": {},
   "outputs": [],
   "source": [
    "def solution(survey, choices):\n",
    "    answer = ''\n",
    "    \n",
    "    category = dict()\n",
    "    # result에 넣어줄 행과 열의 위치\n",
    "    category['R'] = [0, 0]; category['T'] = [0, 1]\n",
    "    category['C'] = [1, 0]; category['F'] = [1, 1]\n",
    "    category['J'] = [2, 0]; category['M'] = [2, 1]\n",
    "    category['A'] = [3, 0]; category['N'] = [3, 1]\n",
    "    \n",
    "    character = [\"RT\", \"CF\", \"JM\", \"AN\"]\n",
    "    score = [0, 3, 2, 1, 0, 1, 2, 3]\n",
    "    result = [[0, 0], [0, 0], [0, 0], [0, 0]]\n",
    "    \n",
    "    for i in range(len(survey)):\n",
    "        \n",
    "        # choices의 숫자가 4보다 작다면, 첫번째에 있는 단어에 점수 부여\n",
    "        # result에 넣어 줄 index위치 -> [0, 0] 형식\n",
    "        if choices[i] < 4:\n",
    "            index = category[survey[i][0]]\n",
    "            result[index[0]][index[1]] += score[choices[i]]\n",
    "        else:\n",
    "            index = category[survey[i][1]]\n",
    "            result[index[0]][index[1]] += score[choices[i]]\n",
    "        \n",
    "    # 4가지 지표에서 우수한 점수 찾기\n",
    "    for i in range(4):\n",
    "        # 첫번재 성격이 더 크거나 같다면 -> 같으면 우선순위가 첫번째이므로\n",
    "        if result[i][1] <= result[i][0]:\n",
    "            answer += character[i][0]\n",
    "        else:\n",
    "            answer += character[i][1]\n",
    "\n",
    "    return answer"
   ]
  }
 ],
 "metadata": {
  "language_info": {
   "name": "python"
  },
  "orig_nbformat": 4
 },
 "nbformat": 4,
 "nbformat_minor": 2
}
