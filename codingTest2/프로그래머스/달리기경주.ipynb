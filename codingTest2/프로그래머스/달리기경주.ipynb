{
 "cells": [
  {
   "cell_type": "code",
   "execution_count": null,
   "metadata": {},
   "outputs": [],
   "source": [
    "import sys\n",
    "sys.stdin = open(\"input.txt\", \"rt\")\n",
    "input = sys.stdin.readline\n",
    "\n",
    "# 부른 이름이 앞 선수를 추월\n",
    "\n",
    "def solution(players, callings):\n",
    "    answer = []\n",
    "\n",
    "    rank = {player: i for i, player in enumerate(players)}\n",
    "    \n",
    "    # calling 시, kai와 앞 번호 변경, 플레이어 위치 변경\n",
    "    for calling in callings:\n",
    "        before_rank = rank[calling] - 1\n",
    "        before_player = players[before_rank]\n",
    "\n",
    "        cur_rank = rank[calling]\n",
    "        cur_player = calling\n",
    "\n",
    "        players[before_rank], players[cur_rank] = players[cur_rank], players[before_rank]\n",
    "        rank[before_player], rank[cur_player] = rank[cur_player], rank[before_player]\n",
    "\n",
    "    return players\n",
    "\n",
    "players = [\"mumu\", \"soe\", \"poe\", \"kai\", \"mine\"]\n",
    "callings = [\"kai\", \"kai\", \"mine\", \"mine\"]\n",
    "\n",
    "solution(players, callings)"
   ]
  }
 ],
 "metadata": {
  "language_info": {
   "name": "python"
  },
  "orig_nbformat": 4
 },
 "nbformat": 4,
 "nbformat_minor": 2
}
