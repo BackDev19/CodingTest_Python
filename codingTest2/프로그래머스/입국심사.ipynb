{
 "cells": [
  {
   "cell_type": "code",
   "execution_count": null,
   "metadata": {},
   "outputs": [],
   "source": [
    "import sys\n",
    "sys.stdin = open(\"input.txt\", \"rt\")\n",
    "input = sys.stdin.readline\n",
    "\n",
    "# n명\n",
    "# 심사관마다 각 걸리는 시간이 다르다\n",
    "# 처음 심사대는 비어잇음. 한 심사대에서는 한 명만\n",
    "# 가장 앞에 서잇는 사람은 비어있는 곳에서 진행\n",
    "# 더 빨리 끝나는 심사대가 있으면 기다렸다가 그곳으로 이동\n",
    "# 모든 사람이 심사를 받는데 걸리는 시간을 최소로\n",
    "\n",
    "# 1. 해당 28 // 7, 28 // 10일 때의 수를 모두 계산\n",
    "def solution(n, times):\n",
    "    INF = int(1e9 * 1e9 * 1e5)\n",
    "    answer = INF\n",
    "    lt = 0; rt = INF\n",
    "\n",
    "    # 해당 시간 내에서 입국심사를 처리하는 인원들을 count\n",
    "    while lt <= rt:\n",
    "        mid = (lt + rt) // 2\n",
    "        result = 0\n",
    "\n",
    "        for time in times:\n",
    "            result += (mid // time)\n",
    "        \n",
    "        if n <= result:\n",
    "            rt = mid - 1\n",
    "            answer = min(answer, mid)\n",
    "        else:\n",
    "            lt = mid + 1\n",
    "    \n",
    "    return answer\n",
    "\n",
    "print(solution(6, [7, 10]))\n"
   ]
  }
 ],
 "metadata": {
  "kernelspec": {
   "display_name": "Python 3",
   "language": "python",
   "name": "python3"
  },
  "language_info": {
   "name": "python",
   "version": "3.8.6"
  },
  "orig_nbformat": 4
 },
 "nbformat": 4,
 "nbformat_minor": 2
}
