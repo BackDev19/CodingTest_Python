{
 "cells": [
  {
   "cell_type": "code",
   "execution_count": null,
   "metadata": {},
   "outputs": [],
   "source": [
    "def solution(n, s):\n",
    "    answer = []\n",
    "    # n보다 s가 더 작다면 [-1]\n",
    "    if s < n:\n",
    "        answer = [-1]\n",
    "    else:\n",
    "        remain = s % n\n",
    "        answer = [s // n] * n\n",
    " \n",
    "        for i in range(len(answer) - 1, len(answer) - remain - 1, -1):\n",
    "            answer[i] += 1\n",
    "            \n",
    "    return answer"
   ]
  }
 ],
 "metadata": {
  "language_info": {
   "name": "python"
  },
  "orig_nbformat": 4
 },
 "nbformat": 4,
 "nbformat_minor": 2
}
