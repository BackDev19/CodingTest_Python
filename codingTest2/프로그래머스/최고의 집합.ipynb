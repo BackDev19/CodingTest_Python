{
 "cells": [
  {
   "cell_type": "code",
   "execution_count": null,
   "metadata": {},
   "outputs": [],
   "source": [
    "def solution(n, s):\n",
    "    answer = []\n",
    "\n",
    "    if s < n:\n",
    "        return [-1]\n",
    "\n",
    "    for i in range(n):\n",
    "        answer.append(s // n)\n",
    "    \n",
    "    for i in range(s % n):\n",
    "        answer[-1-i] += 1\n",
    "\n",
    "    return answer"
   ]
  }
 ],
 "metadata": {
  "language_info": {
   "name": "python"
  },
  "orig_nbformat": 4
 },
 "nbformat": 4,
 "nbformat_minor": 2
}
