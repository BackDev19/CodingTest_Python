{
 "cells": [
  {
   "cell_type": "code",
   "execution_count": null,
   "metadata": {},
   "outputs": [],
   "source": [
    "# k, d\n",
    "# x축 방향으로 a * k, y축 방향으로 b * k\n",
    "# d를 넘으면 x\n",
    "import math\n",
    "def solution(k, d):\n",
    "    answer = 0\n",
    "    \n",
    "    for x in range(0, d + 1, k):\n",
    "        res_d = math.floor(math.sqrt(d*d - x*x))\n",
    "        answer += (res_d // k) + 1\n",
    "    \n",
    "    return answer \n"
   ]
  }
 ],
 "metadata": {
  "language_info": {
   "name": "python"
  },
  "orig_nbformat": 4
 },
 "nbformat": 4,
 "nbformat_minor": 2
}
