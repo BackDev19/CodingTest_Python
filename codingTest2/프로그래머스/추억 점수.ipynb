{
 "cells": [
  {
   "cell_type": "code",
   "execution_count": null,
   "metadata": {},
   "outputs": [],
   "source": [
    "# 각 인물별로 점수\n",
    "# 라인별로 점수 매기기\n",
    "\n",
    "def solution(name, yearning, photo):\n",
    "    answer = []\n",
    "    \n",
    "    dic = dict(zip(name, yearning))\n",
    "    \n",
    "    for photos in photo:\n",
    "        score = 0\n",
    "        for x in photos:\n",
    "                score += dic.get(x, 0)\n",
    "        \n",
    "        answer.append(score)\n",
    "    \n",
    "    return answer"
   ]
  }
 ],
 "metadata": {
  "language_info": {
   "name": "python"
  },
  "orig_nbformat": 4
 },
 "nbformat": 4,
 "nbformat_minor": 2
}
