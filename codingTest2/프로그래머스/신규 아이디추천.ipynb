{
 "cells": [
  {
   "cell_type": "code",
   "execution_count": null,
   "metadata": {},
   "outputs": [],
   "source": [
    "# 새로 가입하는 유저들이 카카오 아이디 규칙에 맞지 않는 아이디를 입력했을 때\n",
    "# 입력된 아이디와 유사하면서 규칙에 맞는 아이디를 추천\n",
    "\n",
    "# 3자 이상 15자 이하\n",
    "# 문자 조건\n",
    "# 마침표 조건\n",
    "import re\n",
    "\n",
    "def solution(new_id):\n",
    "    # 1단계\n",
    "    new_id = new_id.lower()\n",
    "    \n",
    "    # 2단계\n",
    "    cond = re.compile('[0-9a-z-_.]+')\n",
    "    new_id = \"\".join(cond.findall(new_id))\n",
    "\n",
    "    # 3단계\n",
    "    while '..' in new_id:\n",
    "        new_id = new_id.replace('..', '.')\n",
    "\n",
    "    # 4단계\n",
    "    new_id = new_id.strip('.')\n",
    "\n",
    "    # 5단계\n",
    "    if not new_id:\n",
    "        new_id = 'a'\n",
    "\n",
    "    # 6단계\n",
    "    new_id = new_id[:15].rstrip(\".\")\n",
    "\n",
    "    # 7단계\n",
    "    while len(new_id) <= 2:\n",
    "        new_id = new_id + new_id[-1]\n",
    "    \n",
    "    answer = new_id\n",
    "    return answer\n"
   ]
  }
 ],
 "metadata": {
  "language_info": {
   "name": "python"
  },
  "orig_nbformat": 4
 },
 "nbformat": 4,
 "nbformat_minor": 2
}
