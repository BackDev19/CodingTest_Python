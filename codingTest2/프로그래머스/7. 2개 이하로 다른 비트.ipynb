{
 "cells": [
  {
   "cell_type": "code",
   "execution_count": null,
   "metadata": {},
   "outputs": [],
   "source": [
    "# x보다 크고, x와 비트가 1 ~ 2개 다른 수들 중에서 제일 작은 수\n",
    "\n",
    "def mod(n, base):\n",
    "    arr = \"0123456789\"\n",
    "    q, r = divmod(n, base)\n",
    "\n",
    "    if q == 0:\n",
    "        return arr[r]\n",
    "\n",
    "    return mod(n // base, base) + arr[r]\n",
    "\n",
    "def solution(numbers):\n",
    "    answer = []\n",
    "    \n",
    "    for number in numbers:\n",
    "        \n",
    "        bin_number = list('0' + (mod(number, 2)))\n",
    "        idx = ''.join(bin_number).rfind('0')\n",
    "        bin_number[idx] = '1'\n",
    "\n",
    "        if number % 2 == 1:\n",
    "            bin_number[idx + 1] = '0'\n",
    "            \n",
    "        answer.append(int(''.join(bin_number), 2))\n",
    "\n",
    "    return answer"
   ]
  }
 ],
 "metadata": {
  "kernelspec": {
   "display_name": "Python 3",
   "language": "python",
   "name": "python3"
  },
  "language_info": {
   "name": "python",
   "version": "3.8.6"
  },
  "orig_nbformat": 4,
  "vscode": {
   "interpreter": {
    "hash": "2ba6819d172d60e93b2f90e5d47af36d4f36070393882cfcbe0fef625705f185"
   }
  }
 },
 "nbformat": 4,
 "nbformat_minor": 2
}
