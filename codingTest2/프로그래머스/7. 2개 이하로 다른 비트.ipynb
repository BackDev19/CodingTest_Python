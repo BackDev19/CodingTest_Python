{
 "cells": [
  {
   "cell_type": "code",
   "execution_count": null,
   "metadata": {},
   "outputs": [],
   "source": [
    "# x보다 크고, x와 비트가 1 ~ 2개 다른 수들 중에서 제일 작은 수\n",
    "\n",
    "def mod(n, base):\n",
    "    arr = \"0123456789\"\n",
    "    q, r = divmod(n, base)\n",
    "\n",
    "    if q == 0:\n",
    "        return arr[r]\n",
    "\n",
    "    return mod(n // base, base) + arr[r]\n",
    "\n",
    "def solution(numbers):\n",
    "    answer = []\n",
    "    \n",
    "    for number in numbers:\n",
    "        \n",
    "        bin_number = list('0' + (mod(number, 2)))\n",
    "        idx = ''.join(bin_number).rfind('0')\n",
    "        bin_number[idx] = '1'\n",
    "\n",
    "        if number % 2 == 1:\n",
    "            bin_number[idx + 1] = '0'\n",
    "            \n",
    "        answer.append(int(''.join(bin_number), 2))\n",
    "\n",
    "    return answer"
   ]
  }
 ],
 "metadata": {
  "language_info": {
   "name": "python"
  },
  "orig_nbformat": 4
 },
 "nbformat": 4,
 "nbformat_minor": 2
}
