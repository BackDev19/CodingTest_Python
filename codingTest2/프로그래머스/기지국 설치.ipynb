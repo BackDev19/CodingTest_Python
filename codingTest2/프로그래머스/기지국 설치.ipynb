{
 "cells": [
  {
   "cell_type": "code",
   "execution_count": null,
   "metadata": {},
   "outputs": [],
   "source": [
    "# N개의 아파트\n",
    "# 최소로 설치하면서 전파를 전달\n",
    "# 전파가 설치된 아파트 stations 도달거리 w\n",
    "\n",
    "def solution(n, stations, w):\n",
    "    answer = 0\n",
    "    \n",
    "    sections = []\n",
    "    cur = 1\n",
    "    # 1. 각각 전파가 필요한 구간 구하기\n",
    "    for station in stations:\n",
    "        # 한 구간에서 필요한 전파의 길이\n",
    "        result = (station - w - 1 - cur) + 1\n",
    "        \n",
    "        # 자신이 속한 부분을 포함하지 않는 경우에만 append\n",
    "        if result >= 1:\n",
    "            sections.append(result)\n",
    "        \n",
    "        # 오른쪽 구간으로 cur을 이동\n",
    "        cur = station + w + 1\n",
    "    \n",
    "    # 끝 길이 계산\n",
    "    result = n - cur + 1\n",
    "    if result >= 1:\n",
    "        sections.append(result)\n",
    "    \n",
    "    # 2. 구간별로 필요한 기지국 개수 구하기\n",
    "    for section in sections:\n",
    "        answer += section // (2 * w + 1)\n",
    "        if section % (2 * w + 1) > 0:\n",
    "            answer += 1\n",
    "\n",
    "    return answer"
   ]
  },
  {
   "cell_type": "code",
   "execution_count": null,
   "metadata": {},
   "outputs": [],
   "source": [
    "from math import ceil\n",
    " \n",
    "def solution(n, stations, w):\n",
    "    answer = 0\n",
    "    \n",
    "    sections = []\n",
    "    cur = 1\n",
    "    # 1. 각각 전파가 필요한 구간 구하기\n",
    "    for station in stations:\n",
    "        # 한 구간에서 필요한 전파의 길이\n",
    "        result = (station - w - 1 - cur) + 1\n",
    "        \n",
    "        # 2. 구간별로 필요한 기지국 개수 구하기\n",
    "        answer += max(ceil(result / (2 * w + 1)), 0)\n",
    " \n",
    "        # 오른쪽 구간으로 cur을 이동\n",
    "        cur = station + w + 1\n",
    "    \n",
    "    # 끝 길이 계산\n",
    "    result = (n - cur) + 1\n",
    "    if result >= 1:\n",
    "        answer += max(ceil(result / (2 * w + 1)), 0)\n",
    " \n",
    "    return answer"
   ]
  }
 ],
 "metadata": {
  "kernelspec": {
   "display_name": "Python 3",
   "language": "python",
   "name": "python3"
  },
  "language_info": {
   "codemirror_mode": {
    "name": "ipython",
    "version": 3
   },
   "file_extension": ".py",
   "mimetype": "text/x-python",
   "name": "python",
   "nbconvert_exporter": "python",
   "pygments_lexer": "ipython3",
   "version": "3.11.4"
  },
  "orig_nbformat": 4
 },
 "nbformat": 4,
 "nbformat_minor": 2
}
