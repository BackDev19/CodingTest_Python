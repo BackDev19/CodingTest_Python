{
 "cells": [
  {
   "cell_type": "code",
   "execution_count": null,
   "metadata": {},
   "outputs": [],
   "source": [
    "from collections import deque\n",
    "def solution(x, y, n):\n",
    "\n",
    "    def bfs():\n",
    "        q = deque([[x, 0]])\n",
    "        visited = [False] * (y + 1)\n",
    "        visited[x] = True\n",
    "\n",
    "        while q:\n",
    "            now, cnt = q.popleft()\n",
    "            if now == y:\n",
    "                return cnt\n",
    "\n",
    "            for res in [now + n, now * 2, now * 3]:\n",
    "                if res <= y and not visited[res]:\n",
    "                    visited[res] = True\n",
    "                    q.append([res, cnt + 1])\n",
    "        \n",
    "        return -1\n",
    "\n",
    "    answer = bfs()\n",
    "    return answer"
   ]
  }
 ],
 "metadata": {
  "language_info": {
   "name": "python"
  },
  "orig_nbformat": 4
 },
 "nbformat": 4,
 "nbformat_minor": 2
}
