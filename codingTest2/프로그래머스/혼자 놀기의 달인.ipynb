{
 "cells": [
  {
   "cell_type": "code",
   "execution_count": null,
   "metadata": {},
   "outputs": [],
   "source": [
    "import sys\n",
    "sys.stdin = open(\"input.txt\", \"rt\")\n",
    "input = sys.stdin.readline\n",
    "\n",
    "# 100장\n",
    "# 상자가 나열된 순서에 따라 1번부터 순차적으로 증가하는 번호를 붙임\n",
    "# 열은 숫자에 해당하는 상자를 계속 열고, 이미 열려있을 때까지 반복\n",
    "\n",
    "# 1번 상자, 2번 상자그룹을 곱한 최대값 구하기\n",
    "\n",
    "def solution(cards):\n",
    "    # 변수 선언\n",
    "    answer = 0\n",
    "    n = len(cards)\n",
    "    visited = [False] * (n + 1)\n",
    "    group = [0]\n",
    "\n",
    "    # 상자 그룹 구하기\n",
    "    for i in range(1, n+1):\n",
    "        cnt = 0\n",
    "        idx = i - 1\n",
    "        if not visited[idx]:\n",
    "            next_idx = idx\n",
    "            # 열려있는 곳까지 탐색\n",
    "            while not visited[next_idx]:\n",
    "                visited[next_idx] = True\n",
    "                next_idx = cards[next_idx] - 1\n",
    "                cnt += 1\n",
    "\n",
    "            group.append(cnt)\n",
    "            \n",
    "    group.sort(reverse=True)\n",
    "    return group[0] * group[1]\n",
    "\n",
    "solution([1])\n"
   ]
  }
 ],
 "metadata": {
  "language_info": {
   "name": "python"
  }
 },
 "nbformat": 4,
 "nbformat_minor": 2
}
