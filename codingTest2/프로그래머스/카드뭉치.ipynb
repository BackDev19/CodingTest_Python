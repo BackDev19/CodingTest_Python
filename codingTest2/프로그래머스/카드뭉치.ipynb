{
 "cells": [
  {
   "cell_type": "code",
   "execution_count": null,
   "metadata": {},
   "outputs": [],
   "source": [
    "\tdef solution(cards1, cards2, goal):\n",
    "    answer = 'Yes'\n",
    "    \n",
    "    for i in range(len(goal)):\n",
    "        if cards1 and cards1[0] == goal[0]:\n",
    "            cards1.pop(0)\n",
    "            goal.pop(0)\n",
    "            \n",
    "        elif cards2 and cards2[0] == goal[0]:\n",
    "            cards2.pop(0)\n",
    "            goal.pop(0)\n",
    "            \n",
    "        else:\n",
    "            answer = 'No'\n",
    "            break\n",
    "    \n",
    "    return answer"
   ]
  }
 ],
 "metadata": {
  "language_info": {
   "name": "python"
  },
  "orig_nbformat": 4
 },
 "nbformat": 4,
 "nbformat_minor": 2
}
