{
 "cells": [
  {
   "cell_type": "code",
   "execution_count": null,
   "metadata": {},
   "outputs": [],
   "source": [
    "def solution(sticker):\n",
    "    answer = 0\n",
    "    size = len(sticker)\n",
    "    dp = [[0] * len(sticker) for _ in range(2)]\n",
    "\n",
    "    if size == 1:\n",
    "        return sticker[0]\n",
    "    \n",
    "    # dp[0] = 첫번째를 뜯은 경우. dp[1] = 두번째를 뜯은 경우\n",
    "    dp[0][0] = sticker[0]\n",
    "    dp[1][0] = sticker[1]\n",
    "\n",
    "    for i in range(1, size-1):\n",
    "        dp[0][i] = max(sticker[i], dp[0][i-1])\n",
    "        dp[1][i] = max(sticker[i+1], dp[1][i-1])\n",
    "        # 세번째를 뜯을 때\n",
    "        if i > 1:\n",
    "            dp[0][i] = max(dp[0][i-2] + sticker[i], dp[0][i-1])\n",
    "            dp[1][i] = max(dp[1][i-2] + sticker[i+1], dp[1][i-1])\n",
    "    \n",
    "    answer = max(dp[0][-2], dp[1][-2])\n",
    "    return answer"
   ]
  }
 ],
 "metadata": {
  "language_info": {
   "name": "python"
  },
  "orig_nbformat": 4
 },
 "nbformat": 4,
 "nbformat_minor": 2
}
