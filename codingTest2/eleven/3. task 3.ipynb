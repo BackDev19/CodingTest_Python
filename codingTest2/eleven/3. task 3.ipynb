{
 "cells": [
  {
   "cell_type": "code",
   "execution_count": 41,
   "metadata": {},
   "outputs": [
    {
     "name": "stdout",
     "output_type": "stream",
     "text": [
      "0\n",
      "8\n",
      "10\n",
      "2\n",
      "2\n",
      "0\n"
     ]
    }
   ],
   "source": [
    "\n",
    "# 짝수의  character인 String은 symmetric\n",
    "# <<<>>> 이면 대칭\n",
    "# 가장 긴 symmetric을 찾아서 return\n",
    "# Question mark는 아무거나 가능\n",
    "\n",
    "# >에서 <까지 만날때까지의 위치의 Counter 최소값 x 2 + ?의 개수\n",
    "\n",
    "from collections import Counter\n",
    "def solution(S):\n",
    "\n",
    "    cnt = 0\n",
    "    isOpen = False\n",
    "    isClosed = False\n",
    "    closed_idx = 0\n",
    "\n",
    "    tmp = []\n",
    "    answer = []\n",
    "\n",
    "    for i in range(len(S)):\n",
    "        if S[i] == '>':\n",
    "            isClosed = True\n",
    "            closed_idx = i\n",
    "\n",
    "        if isClosed and S[i] == '<':\n",
    "            # 전체 길이를 계산하고, closed_idx + 1에서 i까지 노드를 넣어준다\n",
    "            dic = Counter(tmp)\n",
    "            if not dic['<']:\n",
    "                result = 0\n",
    "            elif not dic['>']:\n",
    "                result = 0\n",
    "            else:\n",
    "                result = min(dic['<'], dic['>']) * 2\n",
    "\n",
    "            if dic['?']:\n",
    "                result += dic['?']\n",
    "            \n",
    "            result = result if result % 2 == 0 else result - 1\n",
    "            answer.append(result)\n",
    "\n",
    "            # S를 ?의 위치에서부터 시작\n",
    "            tmp = list(S[closed_idx + 1: i])\n",
    "            isClosed = False\n",
    "\n",
    "        tmp.append(S[i])\n",
    "\n",
    "    if tmp:\n",
    "        dic = Counter(tmp)\n",
    "        result = min(dic['<'], dic['>']) * 2\n",
    "\n",
    "        if dic['?']:\n",
    "            result += dic['?']\n",
    "        \n",
    "        result = result if result % 2 == 0 else result - 1\n",
    "        answer.append(result)\n",
    "    \n",
    "    print(max(answer))\n",
    "\n",
    "# solution('<??>>><>') # 4\n",
    "# solution('??????') # 6\n",
    "solution('<<?') # 2\n",
    "solution('<<??>>??') # 8\n",
    "solution('<<??>>??<<<<>>?>>>') # 12\n",
    "solution('<<<<<><')\n",
    "solution('<>>>>><>')\n",
    "solution('>>>><')\n",
    "\n"
   ]
  }
 ],
 "metadata": {
  "kernelspec": {
   "display_name": "Python 3",
   "language": "python",
   "name": "python3"
  },
  "language_info": {
   "codemirror_mode": {
    "name": "ipython",
    "version": 3
   },
   "file_extension": ".py",
   "mimetype": "text/x-python",
   "name": "python",
   "nbconvert_exporter": "python",
   "pygments_lexer": "ipython3",
   "version": "3.8.6"
  },
  "orig_nbformat": 4
 },
 "nbformat": 4,
 "nbformat_minor": 2
}
