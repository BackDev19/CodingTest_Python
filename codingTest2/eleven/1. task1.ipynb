{
 "cells": [
  {
   "cell_type": "code",
   "execution_count": null,
   "metadata": {},
   "outputs": [],
   "source": [
    "from collections import Counter\n",
    "def solution(S):\n",
    "    # Implement your solution here\n",
    "    answer = 0\n",
    "    dic = Counter(S)\n",
    "    for key in dic.keys():\n",
    "        if dic[key] % 2 == 1:\n",
    "            answer += 1\n",
    "    \n",
    "    return answer\n"
   ]
  }
 ],
 "metadata": {
  "language_info": {
   "name": "python"
  },
  "orig_nbformat": 4
 },
 "nbformat": 4,
 "nbformat_minor": 2
}
