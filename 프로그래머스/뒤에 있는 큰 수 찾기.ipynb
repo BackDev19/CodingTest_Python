{
 "cells": [
  {
   "cell_type": "code",
   "execution_count": null,
   "metadata": {},
   "outputs": [],
   "source": [
    "import heapq\n",
    "def solution(numbers):\n",
    "    answer = [-1] * len(numbers)\n",
    "    \n",
    "    # 숫자마다 index붙여주기\n",
    "    num_index = []\n",
    "    for idx, num in enumerate(numbers):\n",
    "        num_index.append((num, idx))\n",
    "    \n",
    "    # heapq를 통해서 숫자들을 비교해주고, 큰 숫자가 나오면 멈출 예정\n",
    "    q = []\n",
    "    for num, idx in num_index:\n",
    "        # q가 비어있지 않다면, q에 있는 값과 비교\n",
    "        # data의 index 위치에 비교한 num을 넣어준다\n",
    "        while q and q[0][0] < num:\n",
    "            data = heapq.heappop(q)\n",
    "            answer[data[1]] = num\n",
    "        \n",
    "        # 현재 들어온 데이터 heapq에 담아주기\n",
    "        heapq.heappush(q, [num, idx])\n",
    "        \n",
    "    return answer"
   ]
  }
 ],
 "metadata": {
  "language_info": {
   "name": "python"
  },
  "orig_nbformat": 4
 },
 "nbformat": 4,
 "nbformat_minor": 2
}
