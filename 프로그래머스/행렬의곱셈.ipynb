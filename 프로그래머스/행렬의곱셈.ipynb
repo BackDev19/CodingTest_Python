{
 "cells": [
  {
   "cell_type": "code",
   "execution_count": null,
   "metadata": {},
   "outputs": [],
   "source": [
    "def solution(arr1, arr2):\n",
    "    \n",
    "    # n x m 행렬\n",
    "    n, m = len(arr1), len(arr2[0])\n",
    "    answer = [[] for _ in range(n)]\n",
    "    \n",
    "    for i in range(n):\n",
    "        for j in range(m):\n",
    "            sum = 0\n",
    "            for k in range(len(arr1[0])):\n",
    "                sum += arr1[i][k] * arr2[k][j]\n",
    "            answer[i].append(sum)\n",
    "    \n",
    "    return answer"
   ]
  }
 ],
 "metadata": {
  "language_info": {
   "name": "python"
  },
  "orig_nbformat": 4
 },
 "nbformat": 4,
 "nbformat_minor": 2
}
