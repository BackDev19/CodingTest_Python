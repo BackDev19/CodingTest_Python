{
 "cells": [
  {
   "cell_type": "code",
   "execution_count": null,
   "metadata": {},
   "outputs": [],
   "source": [
    "def solution(n, k):\n",
    "    answer = []\n",
    "    \n",
    "    dp = [0] * (n)\n",
    "    dp[0] = 1\n",
    "    # factorial\n",
    "    for i in range(1, n):\n",
    "        dp[i] = dp[i-1] * i\n",
    "    \n",
    "    numbers = [i for i in range(1, n+1)]\n",
    "    k -= 1\n",
    "    \n",
    "    while numbers:\n",
    "        size = len(numbers) - 1\n",
    "        pos = k // dp[size]\n",
    "        answer.append(numbers.pop(pos))\n",
    "        k = k % dp[size]\n",
    "    \n",
    "    return answer"
   ]
  }
 ],
 "metadata": {
  "language_info": {
   "name": "python"
  },
  "orig_nbformat": 4
 },
 "nbformat": 4,
 "nbformat_minor": 2
}
