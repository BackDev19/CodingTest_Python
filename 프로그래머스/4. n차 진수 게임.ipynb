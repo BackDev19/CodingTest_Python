{
 "cells": [
  {
   "cell_type": "code",
   "execution_count": null,
   "metadata": {},
   "outputs": [],
   "source": [
    "# 숫자를 0부터 시작\n",
    "# 10 이상의 숫자부터는 한 자리씩 끊어서 멀한다.\n",
    "# ex) 10일 때 11번째는 1, 12번째는 0 -> 총 10\n",
    "\n",
    "# 총 구해야 하는 개수는 t x m개만큼\n",
    "\n",
    "# 형변환\n",
    "alpha = ['0', '1', '2', '3', '4', '5', '6', '7', '8', '9', 'A', 'B', 'C', 'D', 'E', 'F']\n",
    "def mod(n, p):\n",
    "    global data\n",
    "    if p == 0:\n",
    "        return\n",
    "    \n",
    "    mod(n, p // n)\n",
    "    # 11진법부터이고, p % 10이 10 이상이라면, 해당되는 알파벳으로 넣어주기\n",
    "    data += alpha[p % n]\n",
    "\n",
    "def solution(n, t, m, p):\n",
    "    answer = ''\n",
    "    global data\n",
    "    data = '0'\n",
    "    \n",
    "    # data가 t * m보다 작은 경우까지만 순환\n",
    "    # 여기까지가 개수 구하기\n",
    "    idx = 0\n",
    "    while len(data) < (t * m):\n",
    "        mod(n, idx)\n",
    "        idx += 1\n",
    "    \n",
    "    # print(data)\n",
    "    # 데이터 추출하기\n",
    "    for i in range(t):\n",
    "        answer += data[p-1]\n",
    "        data = data[m:]\n",
    "    \n",
    "    return answer"
   ]
  }
 ],
 "metadata": {
  "kernelspec": {
   "display_name": "Python 3",
   "language": "python",
   "name": "python3"
  },
  "language_info": {
   "name": "python",
   "version": "3.8.6"
  },
  "orig_nbformat": 4,
  "vscode": {
   "interpreter": {
    "hash": "2ba6819d172d60e93b2f90e5d47af36d4f36070393882cfcbe0fef625705f185"
   }
  }
 },
 "nbformat": 4,
 "nbformat_minor": 2
}
