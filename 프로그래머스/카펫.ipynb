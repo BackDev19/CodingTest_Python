{
 "cells": [
  {
   "cell_type": "code",
   "execution_count": null,
   "metadata": {},
   "outputs": [],
   "source": [
    "def solution(brown, yellow):\n",
    "    answer = []\n",
    "    \n",
    "    graph = [[0] * 3 for _ in range(3)]\n",
    "    size = brown + yellow\n",
    "    \n",
    "    # yellow가 나오려면 -2보다 값이 큰 3이상일 수 밖에없음\n",
    "    # 최대공약수를 구한 뒤, 그 범위 내에서 노랑과 갈색 크기가 나오는지를 계산\n",
    "    for i in range(3, int(size ** (1/2) + 1)):\n",
    "        if size % i == 0:\n",
    "            if yellow == (i - 2) * ((size // i) - 2):\n",
    "                answer = [size // i, i]\n",
    "                break\n",
    "    \n",
    "    return answer"
   ]
  }
 ],
 "metadata": {
  "language_info": {
   "name": "python"
  },
  "orig_nbformat": 4
 },
 "nbformat": 4,
 "nbformat_minor": 2
}
