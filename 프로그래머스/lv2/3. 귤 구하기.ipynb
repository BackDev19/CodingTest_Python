{
 "cells": [
  {
   "cell_type": "code",
   "execution_count": null,
   "metadata": {},
   "outputs": [],
   "source": [
    "# k개를 골라 상자 하나에 담아 판매\n",
    "# 귤을 크기별로 분류했을 때 서로 다른 종류의 수를 최소화\n",
    "# ex) 6개를 판매할 때 크기가 1,4인 귤을 제외 -> 2, 3, 5로 총 3가지, 서로 다른 종류가 최소\n",
    "\n",
    "# 한 상자에 담으려는 귤의 개수 k, 귤의 배열 tangerine\n",
    "# 귤 k개를 고를 때 서로 다른 종류의 수의 최솟값 구하기\n",
    "def solution(k, tangerine):\n",
    "    answer = 0\n",
    "    \n",
    "    # 1. 각 수의 개수를 count해서 넣어줌\n",
    "    # 2. 종류가 제일 많은 순으로 담아놓기\n",
    "    \n",
    "    dp = [0] * (max(tangerine) + 1)\n",
    "    for x in tangerine:\n",
    "        dp[x] += 1\n",
    "    \n",
    "    # 1. 정렬\n",
    "    # 2. dp값을 순회하면서 >= k라면 break\n",
    "    dp.sort(reverse=True)\n",
    "    for i in range(len(tangerine)):\n",
    "        k -= dp[i]\n",
    "        answer += 1\n",
    "        if k <= 0:\n",
    "            break\n",
    "        \n",
    "    return answer"
   ]
  }
 ],
 "metadata": {
  "kernelspec": {
   "display_name": "Python 3",
   "language": "python",
   "name": "python3"
  },
  "language_info": {
   "name": "python",
   "version": "3.8.6 (tags/v3.8.6:db45529, Sep 23 2020, 15:52:53) [MSC v.1927 64 bit (AMD64)]"
  },
  "orig_nbformat": 4,
  "vscode": {
   "interpreter": {
    "hash": "2ba6819d172d60e93b2f90e5d47af36d4f36070393882cfcbe0fef625705f185"
   }
  }
 },
 "nbformat": 4,
 "nbformat_minor": 2
}
