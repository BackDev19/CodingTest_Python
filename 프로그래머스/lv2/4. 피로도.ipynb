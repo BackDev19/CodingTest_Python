{
 "cells": [
  {
   "cell_type": "code",
   "execution_count": null,
   "metadata": {},
   "outputs": [],
   "source": [
    "# 일정 피로도를 사용해서 던전을 탐험\n",
    "# 던전마다 탐험을 시작하기 위한 최소 필요 피로도, 던전 탐험을 마쳤을 때 소모되는 소모 피로도\n",
    "\n",
    "# 하루에 한번씩 탐험할 수 있는 던전이 여러개\n",
    "# 던전들을 최대한 많이 탐험\n",
    "# 피로도 k와 던전별 최소 필요 피로도, 소모 피로도가 담긴 2차원 배열 dangerous\n",
    "# 유저가 탐험할 수 잇는 최대 던전 수를 return\n",
    "\n",
    "def dfs(stemina, dungeons, L):\n",
    "    \n",
    "    global answer\n",
    "    answer = max(L, answer)\n",
    "    \n",
    "    for i in range(len(dungeons)):\n",
    "        max_stemina, sleepy = dungeons[i]\n",
    "        \n",
    "        # 현재 스테미나 < 최소 필요 피로도\n",
    "        if not visited[i] and max_stemina <= stemina:\n",
    "                visited[i] = True\n",
    "                dfs(stemina - sleepy, dungeons, L + 1)\n",
    "                visited[i] = False\n",
    "\n",
    "def solution(k, dungeons):\n",
    "    \n",
    "    global answer\n",
    "    answer = 0\n",
    "    \n",
    "    global visited\n",
    "    visited = [False] * len(dungeons)\n",
    "    \n",
    "    dfs(k, dungeons, 0)\n",
    "    \n",
    "    return answer"
   ]
  }
 ],
 "metadata": {
  "kernelspec": {
   "display_name": "Python 3",
   "language": "python",
   "name": "python3"
  },
  "language_info": {
   "name": "python",
   "version": "3.8.6 (tags/v3.8.6:db45529, Sep 23 2020, 15:52:53) [MSC v.1927 64 bit (AMD64)]"
  },
  "orig_nbformat": 4,
  "vscode": {
   "interpreter": {
    "hash": "2ba6819d172d60e93b2f90e5d47af36d4f36070393882cfcbe0fef625705f185"
   }
  }
 },
 "nbformat": 4,
 "nbformat_minor": 2
}
