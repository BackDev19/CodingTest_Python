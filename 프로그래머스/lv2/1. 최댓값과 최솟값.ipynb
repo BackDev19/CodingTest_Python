{
 "cells": [
  {
   "cell_type": "code",
   "execution_count": 3,
   "metadata": {},
   "outputs": [],
   "source": [
    "a= 'asfd'\n",
    "if a.isalpha():\n",
    "    print(\"alpha\")\n",
    "elif a.isdecimal():\n",
    "    print(\"decimal\")\n"
   ]
  },
  {
   "cell_type": "code",
   "execution_count": 44,
   "metadata": {},
   "outputs": [
    {
     "data": {
      "text/plain": [
       "'3people Unfollowed   Me'"
      ]
     },
     "execution_count": 44,
     "metadata": {},
     "output_type": "execute_result"
    }
   ],
   "source": [
    "def solution(s):\n",
    "    s = s.split(\" \")\n",
    "    for i in range(len(s)):\n",
    "        s[i] = s[i][:1].upper() + s[i][1:].lower()\n",
    "    return ' '.join(s)\n",
    "\n",
    "solution('3people unFollowed   me')"
   ]
  },
  {
   "cell_type": "code",
   "execution_count": 48,
   "metadata": {},
   "outputs": [
    {
     "data": {
      "text/plain": [
       "'3people Unfollowed   Me'"
      ]
     },
     "execution_count": 48,
     "metadata": {},
     "output_type": "execute_result"
    }
   ],
   "source": [
    "def solution(s):\n",
    "    answer = ''\n",
    "    \n",
    "    # 1. split으로 단어들 분리\n",
    "    # 2. 첫 단어가 영어라면 -> 대문자\n",
    "    # 3. else -> 소문자\n",
    "    \n",
    "    data = s.split(\" \")\n",
    "    temp = []\n",
    "    for x in data:\n",
    "        first = x[:1].upper()\n",
    "        last = x.lower()[1:]\n",
    "        temp.append(first + last)\n",
    "    \n",
    "    answer = ' '.join(temp)\n",
    "    return answer\n",
    "\n",
    "solution('3people unFollowed   me')"
   ]
  },
  {
   "cell_type": "code",
   "execution_count": 75,
   "metadata": {},
   "outputs": [
    {
     "name": "stdout",
     "output_type": "stream",
     "text": [
      "0\n"
     ]
    }
   ],
   "source": [
    "def fibo(n):\n",
    "    if n < 2:\n",
    "        return d[n]\n",
    "    if d[n] != 0:\n",
    "        return d[n]\n",
    "    \n",
    "    d[n] = fibo(n-1) + fibo(n-2)\n",
    "    return d[n]\n",
    "    \n",
    "def solution(n):\n",
    "    answer = 0\n",
    "        \n",
    "    global d\n",
    "    d = [0] * (n+1)\n",
    "    d[0] = 0\n",
    "    d[1] = 1\n",
    "    \n",
    "    answer = fibo(n)\n",
    "    return answer % 1234567\n",
    "\n",
    "print(solution(10))\n"
   ]
  }
 ],
 "metadata": {
  "kernelspec": {
   "display_name": "Python 3.8.6 64-bit (system)",
   "language": "python",
   "name": "python3"
  },
  "language_info": {
   "codemirror_mode": {
    "name": "ipython",
    "version": 3
   },
   "file_extension": ".py",
   "mimetype": "text/x-python",
   "name": "python",
   "nbconvert_exporter": "python",
   "pygments_lexer": "ipython3",
   "version": "3.8.6 (tags/v3.8.6:db45529, Sep 23 2020, 15:52:53) [MSC v.1927 64 bit (AMD64)]"
  },
  "orig_nbformat": 4,
  "vscode": {
   "interpreter": {
    "hash": "2ba6819d172d60e93b2f90e5d47af36d4f36070393882cfcbe0fef625705f185"
   }
  }
 },
 "nbformat": 4,
 "nbformat_minor": 2
}
