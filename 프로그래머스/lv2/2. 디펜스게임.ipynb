{
 "cells": [
  {
   "cell_type": "code",
   "execution_count": null,
   "metadata": {},
   "outputs": [],
   "source": [
    "import heapq\n",
    "def solution(n, k, enemy):\n",
    "    answer = 0\n",
    "    \n",
    "    q = []\n",
    "    for x in enemy:\n",
    "        # n이 더 크다면, x를 빼주기 + q에 넣어줄 것\n",
    "        if n >= x:\n",
    "            n -= x\n",
    "            heapq.heappush(q, -x)\n",
    "        # n이 더 작은 상황 -> 무적기 사용\n",
    "        else:\n",
    "            if k:\n",
    "                # q가 존재하고, x < q[0]일 경우 복원 + q[0]에 무적권\n",
    "                if q:\n",
    "                    if x < -q[0]:\n",
    "                        n += -heapq.heappop(q)\n",
    "                        \n",
    "                        # 가장 큰 값에 무적권을 사용하고, 복원 + 다음에 들어온 값을 n -= x해줄 것\n",
    "                        heapq.heappush(q, -x)\n",
    "                        n -= x\n",
    "                # 공통\n",
    "                # q[0] < x 일 경우, x에 무적권을 사용 -> 차감만\n",
    "                k -= 1\n",
    "            # 무적권이 없는 상황\n",
    "            else:\n",
    "                break\n",
    "        answer += 1\n",
    "    # break없이 모두 클리어\n",
    "        \n",
    "    \n",
    "    return answer"
   ]
  },
  {
   "cell_type": "code",
   "execution_count": 7,
   "metadata": {},
   "outputs": [
    {
     "name": "stdout",
     "output_type": "stream",
     "text": [
      "{'a': 1, 'b': 1, 'c': 1}\n",
      "['a', 'b', 'c']\n",
      "dict_items([('a', 1), ('b', 1), ('c', 1)])\n",
      "[('a', 1), ('b', 1), ('c', 1)]\n"
     ]
    }
   ],
   "source": [
    "dict = {}\n",
    "dict['a'] = 1\n",
    "dict['b'] = 1\n",
    "dict['c'] = 1\n",
    "\n",
    "print(dict)\n",
    "print(list(dict))\n",
    "\n",
    "print(dict.items())\n",
    "print(list(dict.items()))"
   ]
  }
 ],
 "metadata": {
  "kernelspec": {
   "display_name": "Python 3",
   "language": "python",
   "name": "python3"
  },
  "language_info": {
   "codemirror_mode": {
    "name": "ipython",
    "version": 3
   },
   "file_extension": ".py",
   "mimetype": "text/x-python",
   "name": "python",
   "nbconvert_exporter": "python",
   "pygments_lexer": "ipython3",
   "version": "3.8.6"
  },
  "orig_nbformat": 4,
  "vscode": {
   "interpreter": {
    "hash": "2ba6819d172d60e93b2f90e5d47af36d4f36070393882cfcbe0fef625705f185"
   }
  }
 },
 "nbformat": 4,
 "nbformat_minor": 2
}
