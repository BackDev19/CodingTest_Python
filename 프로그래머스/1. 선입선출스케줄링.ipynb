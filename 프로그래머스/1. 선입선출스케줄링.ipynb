{
 "cells": [
  {
   "cell_type": "code",
   "execution_count": null,
   "metadata": {},
   "outputs": [],
   "source": [
    "# 작업 n\n",
    "# cpu에는 여러개의 core\n",
    "# 한 작업을 처리하는 시간이 다르다\n",
    "# 한 코어에서 작업이 끝나면 작업이 없는 코어가 바로 다음 작업을 수행\n",
    "# 2개 이상의 코어가 남을 경우 앞의 코어부터 작업을 처리\n",
    "\n",
    "# 작업의 수 n, 처리시간이 담긴 배열 cores\n",
    "# 마지막 작업을 처리하는 코어의 번호를 return\n",
    "\n",
    "def solution(n, cores):\n",
    "    answer = 0\n",
    "    \n",
    "    time = 0\n",
    "    while n > 0:\n",
    "        for i in range(len(cores)):\n",
    "            # cores안에 있는 시간이 다 됐다면 작업의 개수를 하나 감소\n",
    "            if time % cores[i] == 0:\n",
    "                n -= 1\n",
    "            \n",
    "            # 작업의 양이 0이 되었다면 break\n",
    "            # cores의 idx를 넣어준다\n",
    "            if n == 0:\n",
    "                answer = i + 1\n",
    "                break\n",
    "        \n",
    "        time += 1\n",
    "        \n",
    "    return answer"
   ]
  }
 ],
 "metadata": {
  "kernelspec": {
   "display_name": "Python 3",
   "language": "python",
   "name": "python3"
  },
  "language_info": {
   "name": "python",
   "version": "3.8.6"
  },
  "orig_nbformat": 4,
  "vscode": {
   "interpreter": {
    "hash": "2ba6819d172d60e93b2f90e5d47af36d4f36070393882cfcbe0fef625705f185"
   }
  }
 },
 "nbformat": 4,
 "nbformat_minor": 2
}
