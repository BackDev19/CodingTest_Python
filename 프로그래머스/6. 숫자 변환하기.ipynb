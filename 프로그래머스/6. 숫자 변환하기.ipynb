{
 "cells": [
  {
   "cell_type": "code",
   "execution_count": null,
   "metadata": {},
   "outputs": [],
   "source": [
    "# 자연수 x를 y로 변환\n",
    "# x에 n을 더하기\n",
    "# x에 2를 곱하기\n",
    "# x에 3을 곱하기\n",
    "\n",
    "# x를 y로 변환하기 위해 필요한 최소 연산 횟수\n",
    "\n",
    "def solution(x, y, n):\n",
    "    answer = 0\n",
    "    \n",
    "    dp = [1e9] * (y+1)\n",
    "    dp[x] = 0\n",
    "    \n",
    "    for i in range(x, y+1):\n",
    "        if i + n <= y:\n",
    "            dp[i + n] = min(dp[i + n], dp[i] + 1)\n",
    "        if i * 2 <= y:\n",
    "            dp[2 * i] = min(dp[i * 2], dp[i] + 1)\n",
    "        if i * 3 <= y:\n",
    "            dp[3 * i] = min(dp[i * 3], dp[i] + 1)\n",
    "    \n",
    "    if dp[y] == 1e9:\n",
    "        answer = -1\n",
    "    else:\n",
    "        answer = dp[y]\n",
    "    \n",
    "    return answer"
   ]
  }
 ],
 "metadata": {
  "language_info": {
   "name": "python"
  },
  "orig_nbformat": 4
 },
 "nbformat": 4,
 "nbformat_minor": 2
}
