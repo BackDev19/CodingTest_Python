{
 "cells": [
  {
   "cell_type": "code",
   "execution_count": null,
   "metadata": {},
   "outputs": [],
   "source": [
    "def solution(enroll, referral, seller, amount):\n",
    "    \n",
    "    def dfs(now, price):\n",
    "    \t# center로 오거나, price의 값이 0이라면 return\n",
    "        if now == '-' or price == 0:\n",
    "            return\n",
    "        \n",
    "        # reward_nodes += 이익 - (이익 / 10)\n",
    "        reward_nodes[now] += price - (price // 10)\n",
    "        dfs(saved_parents_nodes[now], price // 10)\n",
    "        \n",
    "    # dictionary로 부모들을 저장\n",
    "    saved_parents_nodes = dict()\n",
    "    reward_nodes = dict()\n",
    "    \n",
    "    for child, parent in zip(enroll, referral):\n",
    "        saved_parents_nodes[child] = parent\n",
    "        reward_nodes[child] = 0\n",
    "    \n",
    "    # 판매자들의 이윤 계산\n",
    "    for now, price in zip(seller, amount):\n",
    "        dfs(now, price * 100)\n",
    "        \n",
    "    answer = list(reward_nodes.values())\n",
    "    return answer"
   ]
  }
 ],
 "metadata": {
  "language_info": {
   "name": "python"
  },
  "orig_nbformat": 4
 },
 "nbformat": 4,
 "nbformat_minor": 2
}
