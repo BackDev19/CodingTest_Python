{
 "cells": [
  {
   "cell_type": "code",
   "execution_count": null,
   "metadata": {},
   "outputs": [],
   "source": [
    "# 같은 길이의 펄스 수열을 각 원소끼리 곱하여 연속 펄스 부분 수열 구하기\n",
    "# 펄스 수열 1, -1, 1, -1\n",
    "# 부분수열 x 펄스 수열 합 중 가장 큰 것\n",
    "\n",
    "def solution(sequence):\n",
    "    idx = 1\n",
    "    \n",
    "    arr1 = []\n",
    "    arr2 = []\n",
    "    \n",
    "    # 각 펄스끼리 곱들을 구해준다\n",
    "    for i in range(len(sequence)):\n",
    "        arr1.append(sequence[i] * idx)\n",
    "        arr2.append(sequence[i] * (-idx))\n",
    "        \n",
    "        idx *= -1\n",
    "    \n",
    "    # 두개의 dp를 이용해서 가장 큰 값 구하기\n",
    "    dp1 = [arr1[0]]\n",
    "    dp2 = [arr2[0]]\n",
    "    for i in range(1, len(sequence)):\n",
    "        dp1.append(max(arr1[i], dp1[i-1] + arr1[i]))\n",
    "        dp2.append(max(arr2[i], dp2[i-1] + arr2[i]))\n",
    "        \n",
    "    print(arr1, arr2)\n",
    "    print(dp1, dp2)\n",
    "    answer = max(max(dp1), max(dp2))\n",
    "    \n",
    "    return answer"
   ]
  },
  {
   "cell_type": "code",
   "execution_count": null,
   "metadata": {},
   "outputs": [],
   "source": [
    "def solution(sequence):\n",
    "    idx = [1, -1]\n",
    "    result = [0]\n",
    "    \n",
    "    for i in range(len(sequence)):\n",
    "        result.append(result[-1] + sequence[i] * idx[i % 2])\n",
    "    \n",
    "    answer = abs(max(result) - min(result))\n",
    "    return answer"
   ]
  }
 ],
 "metadata": {
  "language_info": {
   "name": "python"
  },
  "orig_nbformat": 4
 },
 "nbformat": 4,
 "nbformat_minor": 2
}
