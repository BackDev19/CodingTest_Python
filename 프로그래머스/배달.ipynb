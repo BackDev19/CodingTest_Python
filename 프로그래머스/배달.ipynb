{
 "cells": [
  {
   "cell_type": "code",
   "execution_count": null,
   "metadata": {},
   "outputs": [],
   "source": [
    "\timport heapq\n",
    "def dijkstra(start):\n",
    "    q = []\n",
    "    q.append((0, start))\n",
    "    \n",
    "    global distance\n",
    "    distance[start] = 0\n",
    "    \n",
    "    \n",
    "    while q:\n",
    "        dist, now = heapq.heappop(q)\n",
    "        if dist > distance[now]:\n",
    "            continue\n",
    "        \n",
    "        for i in graph[now]:\n",
    "            cost = dist + i[1]\n",
    "            if cost < distance[i[0]]:\n",
    "                distance[i[0]] = cost\n",
    "                heapq.heappush(q, (cost, i[0]))\n",
    " \n",
    "def solution(N, road, K):\n",
    "    answer = 0\n",
    "    \n",
    "    global distance, graph\n",
    "    graph = [[] for _ in range(N+1)]\n",
    "    INF = int(1e9)\n",
    "    distance = [INF] * (N+1)\n",
    "    \n",
    "    for a, b, cost in road:\n",
    "        graph[a].append((b, cost))\n",
    "        graph[b].append((a, cost))\n",
    "    \n",
    "    dijkstra(1)\n",
    "    \n",
    "    answer = len([i for i in range(len(distance)) if distance[i] <= K])\n",
    "        \n",
    "    return answer"
   ]
  }
 ],
 "metadata": {
  "language_info": {
   "name": "python"
  },
  "orig_nbformat": 4
 },
 "nbformat": 4,
 "nbformat_minor": 2
}
