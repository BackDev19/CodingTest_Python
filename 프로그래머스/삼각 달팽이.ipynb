{
 "cells": [
  {
   "cell_type": "code",
   "execution_count": null,
   "metadata": {},
   "outputs": [],
   "source": [
    "# 맨 위 꼭지점부터 반시계방향으로 달팽이 채우기\n",
    "# 로직 : 하, 우, 왼쪽 대각으로 n -= 1만큼 회전\n",
    "def solution(n):\n",
    "    answer = []\n",
    "    \n",
    "    arr = [[0] * n for _ in range(n)]\n",
    "    \n",
    "    # 초기 위치. 맨 처음 dx, dy [1, 0]을 더했을 때 원점이 되게 하기 위해\n",
    "    x, y = -1, 0\n",
    "    # 배열에 넣어줄 숫자\n",
    "    count = 1\n",
    "    \n",
    "    # 세 방향으로 순환하기 위한 index\n",
    "    index = 0\n",
    "    dx = [1, 0, -1]\n",
    "    dy = [0, 1, -1]\n",
    "    \n",
    "    # 세방향으로 돌면서 배열 안에 숫자를 넣어줌\n",
    "    while n >= 1:\n",
    "        for _ in range(n):\n",
    "            x += dx[index % 3]\n",
    "            y += dy[index % 3]\n",
    "            arr[x][y] = count\n",
    "            count += 1\n",
    "        \n",
    "        n -= 1\n",
    "        index += 1\n",
    "    \n",
    "    # j가 하나씩 증가하면서 배열에 담기므로 순서대로 answer에 담아준다\n",
    "    for i in range(len(arr)):\n",
    "        for j in range(i+1):\n",
    "            answer.append(arr[i][j])\n",
    "    \n",
    "    print(*arr, sep='\\n')\n",
    "    return answer"
   ]
  }
 ],
 "metadata": {
  "language_info": {
   "name": "python"
  },
  "orig_nbformat": 4
 },
 "nbformat": 4,
 "nbformat_minor": 2
}
