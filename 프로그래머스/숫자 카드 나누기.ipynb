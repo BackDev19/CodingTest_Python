{
 "cells": [
  {
   "cell_type": "code",
   "execution_count": null,
   "metadata": {},
   "outputs": [],
   "source": [
    "def solution(arrayA, arrayB):\n",
    "    answer = 0\n",
    "\t\n",
    "    # GCD a > b에 넣기 위해서 정렬\n",
    "    arrayA.sort()\n",
    "    arrayB.sort()\n",
    "        \n",
    "    gcd_A = arrayA[0]\n",
    "    gcd_B = arrayB[0]\n",
    "    \n",
    "    # 각 배열들의 최대공약수\n",
    "    for i in range(len(arrayA)):\n",
    "        gcd_A = GCD(arrayA[i], gcd_A)\n",
    " \n",
    "    for i in range(len(arrayB)):\n",
    "        gcd_B = GCD(arrayB[i], gcd_B)\n",
    " \n",
    "    # 서로의 최대공약수에 나누어떨어지지 않는다면\n",
    "    # 그 중 가장 큰 값이 정답\n",
    "    if not isDiv(arrayA, gcd_B):\n",
    "        answer = gcd_B\n",
    " \n",
    "    if not isDiv(arrayB, gcd_A):\n",
    "        answer = max(answer, gcd_A)\n",
    " \n",
    "    return answer\n",
    " \n",
    "# 최대공약수\n",
    "def GCD(a, b):\n",
    "    if a % b == 0:\n",
    "        return b\n",
    "    return GCD(b, a % b)\n",
    " \n",
    "# 나누어떨어지는지\n",
    "def isDiv(array, gcd):\n",
    "    for i in range(len(array)):\n",
    "        if array[i] % gcd == 0:\n",
    "            return True\n",
    "    return False"
   ]
  }
 ],
 "metadata": {
  "language_info": {
   "name": "python"
  },
  "orig_nbformat": 4
 },
 "nbformat": 4,
 "nbformat_minor": 2
}
