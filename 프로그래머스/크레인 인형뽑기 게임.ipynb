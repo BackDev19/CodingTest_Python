{
 "cells": [
  {
   "cell_type": "code",
   "execution_count": 1,
   "metadata": {},
   "outputs": [],
   "source": [
    "# 격자의 가장 아래 칸부터 \n",
    "# 크레인을 좌우로 움직여서 멈춘 위치에서 가장 위에 있는 인형을 올린다 -> 바구니로\n",
    "# 바구니의 가장 아래칸부터 인형이 순서대로 쌓인다\n",
    "\n",
    "# 바구니에 2개 연속 -> 바구니에서 사라진다\n",
    "\n",
    "# 인형이 없는 곳에서 작동 -> 아무일 x\n",
    "# 바구니는 모든 인형이 들어갈 수 있음\n",
    "\n",
    "# 격자의 상태가 담긴 2차원 배열 board와 인형을 집기 위해 크레인을 작동시킨 위치가 담긴 배열 moves가 매개변수\n",
    "# 크레인을 모두 작동시킨 후 터트려져 사라진 인형의 개수를 return\n",
    "\n",
    "# 1. 인형 뽑기\n",
    "# 2. 바구니에 쌓아올리기\n",
    "# 3. 똑같은 모양으로 쌓기\n",
    "\n",
    "def move(board, col):\n",
    "    global n, bucket\n",
    "    \n",
    "    count = 0\n",
    "    \n",
    "    for i in range(0, n):\n",
    "        if board[i][col]:\n",
    "            bucket.append(board[i][col])\n",
    "            board[i][col] = 0\n",
    "            # bucket의 마지막 두개가 서로 동일하다면, 2개를 pop시켜준다\n",
    "            if len(bucket) >= 2 and (bucket[-1] == bucket[-2]):\n",
    "                bucket.pop()\n",
    "                bucket.pop()\n",
    "                count += 2\n",
    "            \n",
    "            break\n",
    "            \n",
    "    return count\n",
    "\n",
    "def solution(board, moves):\n",
    "    answer = 0\n",
    "    \n",
    "    # board의 가로, 세로 길이\n",
    "    global n, bucket\n",
    "    n = len(board)\n",
    "    bucket = []\n",
    "    \n",
    "    for i in range(len(moves)):\n",
    "        answer += move(board, moves[i] - 1)\n",
    "        \n",
    "    return answer"
   ]
  }
 ],
 "metadata": {
  "kernelspec": {
   "display_name": "Python 3",
   "language": "python",
   "name": "python3"
  },
  "language_info": {
   "codemirror_mode": {
    "name": "ipython",
    "version": 3
   },
   "file_extension": ".py",
   "mimetype": "text/x-python",
   "name": "python",
   "nbconvert_exporter": "python",
   "pygments_lexer": "ipython3",
   "version": "3.8.6"
  },
  "orig_nbformat": 4,
  "vscode": {
   "interpreter": {
    "hash": "2ba6819d172d60e93b2f90e5d47af36d4f36070393882cfcbe0fef625705f185"
   }
  }
 },
 "nbformat": 4,
 "nbformat_minor": 2
}
