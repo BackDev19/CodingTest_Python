{
 "cells": [
  {
   "cell_type": "code",
   "execution_count": null,
   "metadata": {},
   "outputs": [],
   "source": [
    "# 삼각형의 꼭대기에서 바닥까지 이어지는 경로 중, 거쳐간 숫자의 합이 가장 큰 경우\n",
    "# \n",
    "\n",
    "def solution(triangle):\n",
    "    answer = 0\n",
    "    \n",
    "    # 1. 변수 선언\n",
    "    dp = [[0] * len(triangle[-1]) for _ in range(len(triangle))]\n",
    "    \n",
    "    for i in range(len(triangle)):\n",
    "        for j in range(i+1):\n",
    "            if j == 0:\n",
    "                dp[i][j] = dp[i-1][j] + triangle[i][j]\n",
    "            elif j == i:\n",
    "                dp[i][j] = dp[i-1][j-1] + triangle[i][j]\n",
    "            else:\n",
    "                dp[i][j] = max(dp[i-1][j-1], dp[i-1][j]) + triangle[i][j]\n",
    "    \n",
    "    answer = max(dp[-1])\n",
    "    \n",
    "    return answer"
   ]
  }
 ],
 "metadata": {
  "language_info": {
   "name": "python"
  },
  "orig_nbformat": 4
 },
 "nbformat": 4,
 "nbformat_minor": 2
}
