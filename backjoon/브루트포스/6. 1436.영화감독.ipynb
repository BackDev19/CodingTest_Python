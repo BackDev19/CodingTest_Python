{
 "cells": [
  {
   "cell_type": "code",
   "execution_count": 12,
   "metadata": {},
   "outputs": [
    {
     "name": "stdout",
     "output_type": "stream",
     "text": [
      "166699\n"
     ]
    }
   ],
   "source": [
    "from sys import stdin\n",
    "stdin = open(\"./input/input6.txt\", \"rt\")\n",
    "input = stdin.readline\n",
    "\n",
    "n = int(input())\n",
    "\n",
    "# 6이 적어도 3개 듣어가면 성공\n",
    "# 4000만번\n",
    "# 그냥 '666' in str \n",
    "i = 666\n",
    "count = 0\n",
    "while count < n:\n",
    "    # 3 <= str(i).count('6')\n",
    "    if '666' in str(i):\n",
    "        count += 1\n",
    "    \n",
    "    i += 1\n",
    "print(i-1)\n"
   ]
  },
  {
   "cell_type": "code",
   "execution_count": 22,
   "metadata": {},
   "outputs": [
    {
     "name": "stdout",
     "output_type": "stream",
     "text": [
      "[1, 3, 2, 6, 9, 5, 4, 7, 8]\n",
      "[2, 3, 4, 6, 9, 5, 8, 7]\n",
      "[3, 6, 4, 7, 9, 5, 8]\n",
      "[4, 6, 5, 7, 9, 8]\n",
      "[5, 6, 8, 7, 9]\n",
      "[6, 7, 8, 9]\n",
      "[7, 9, 8]\n",
      "[8, 9]\n",
      "[9]\n",
      "[]\n",
      "[0, 1, 2, 3, 4, 5, 6, 7, 8, 9]\n"
     ]
    }
   ],
   "source": [
    "import heapq\n",
    "import sys\n",
    "input = sys.stdin.readline\n",
    "INF = int(ie9)\n",
    "\n",
    "# n, m = map(int, input().split())\n",
    "# start = int(input())\n",
    "# graph = [[] for i in range(n)]\n",
    "# distance = [INF] * (n+1)\n",
    "\n",
    "n, m = map(int, input().split())\n",
    "start = int(input())\n",
    "graph = [[] for i in range(n)]\n",
    "distance = [INF] * (n+1)\n",
    "\n",
    "for _ in range(m):\n",
    "    a, b, c = map(int, input().split())\n",
    "    graph[a].append((b, c))\n",
    "\n",
    "def dijkstra(start):\n",
    "    q = []\n",
    "    heapq.heappush(q, (0, start))\n",
    "    distance[start] = 0\n",
    "\n",
    "    dist, now = heapq.heappop(q)\n",
    "\n",
    "dijkstra(s)\n",
    "\n"
   ]
  },
  {
   "cell_type": "code",
   "execution_count": 58,
   "metadata": {},
   "outputs": [
    {
     "name": "stdout",
     "output_type": "stream",
     "text": [
      "0\n",
      "1\n",
      "2\n",
      "12345678\n",
      "0\n"
     ]
    }
   ],
   "source": [
    "import heapq\n",
    "from sys import stdin\n",
    "stdin = open(\"./input/input6.txt\")\n",
    "input = stdin.readline\n",
    "\n",
    "n = int(input())\n",
    "arr = [int(input()) for i in range(n)]\n",
    "q = []\n",
    "\n",
    "for i in range(n):\n",
    "    # arr[i]가 0이라면, heappop을 통해서, 가장 작은 정수를 탈락\n",
    "    # 배열이 비어있는 경우는 0\n",
    "    if arr[i] == 0:\n",
    "        if not q:\n",
    "            print(0)\n",
    "        else:\n",
    "            print(heapq.heappop(q))\n",
    "    else:\n",
    "        # x값을 입력\n",
    "        heapq.heappush(q, arr[i])\n",
    "\n",
    "\n"
   ]
  },
  {
   "cell_type": "code",
   "execution_count": 65,
   "metadata": {},
   "outputs": [
    {
     "name": "stdout",
     "output_type": "stream",
     "text": [
      "[12345678, 32, 2, 1, 0, 0, 0, 0, 0]\n"
     ]
    }
   ],
   "source": [
    "import heapq\n",
    "from sys import stdin\n",
    "stdin = open(\"./input/input6.txt\")\n",
    "input = stdin.readline\n",
    "\n",
    "n = int(input())\n",
    "arr = [int(input()) for i in range(n)]\n",
    "q = []\n",
    "\n",
    "for i in range(n):\n",
    "    # arr[i]가 0이라면, heappop을 통해서, 가장 작은 정수를 탈락\n",
    "    # 배열이 비어있는 경우는 0\n",
    "    # x값을 입력\n",
    "    heapq.heappush(q, -arr[i])\n",
    "\n",
    "\n",
    "data = []\n",
    "while q:\n",
    "    data.append(-heapq.heappop(q))\n",
    "\n",
    "\n",
    "print(data)\n",
    "\n",
    "\n",
    "\n"
   ]
  },
  {
   "cell_type": "code",
   "execution_count": 1,
   "metadata": {},
   "outputs": [
    {
     "ename": "FileNotFoundError",
     "evalue": "[Errno 2] No such file or directory: './input/input6.txt.txt'",
     "output_type": "error",
     "traceback": [
      "\u001b[1;31m---------------------------------------------------------------------------\u001b[0m",
      "\u001b[1;31mFileNotFoundError\u001b[0m                         Traceback (most recent call last)",
      "\u001b[1;32mc:\\Users\\황인권\\OneDrive - 동국대학교\\문서\\CodingTest_Python\\backjoon\\브루트포스\\6. 1436.영화감독.ipynb 셀 5\u001b[0m in \u001b[0;36m<cell line: 3>\u001b[1;34m()\u001b[0m\n\u001b[0;32m      <a href='vscode-notebook-cell:/c%3A/Users/%ED%99%A9%EC%9D%B8%EA%B6%8C/OneDrive%20-%20%EB%8F%99%EA%B5%AD%EB%8C%80%ED%95%99%EA%B5%90/%EB%AC%B8%EC%84%9C/CodingTest_Python/backjoon/%EB%B8%8C%EB%A3%A8%ED%8A%B8%ED%8F%AC%EC%8A%A4/6.%201436.%EC%98%81%ED%99%94%EA%B0%90%EB%8F%85.ipynb#W4sZmlsZQ%3D%3D?line=0'>1</a>\u001b[0m \u001b[39mimport\u001b[39;00m \u001b[39mheapq\u001b[39;00m\n\u001b[0;32m      <a href='vscode-notebook-cell:/c%3A/Users/%ED%99%A9%EC%9D%B8%EA%B6%8C/OneDrive%20-%20%EB%8F%99%EA%B5%AD%EB%8C%80%ED%95%99%EA%B5%90/%EB%AC%B8%EC%84%9C/CodingTest_Python/backjoon/%EB%B8%8C%EB%A3%A8%ED%8A%B8%ED%8F%AC%EC%8A%A4/6.%201436.%EC%98%81%ED%99%94%EA%B0%90%EB%8F%85.ipynb#W4sZmlsZQ%3D%3D?line=1'>2</a>\u001b[0m \u001b[39mimport\u001b[39;00m \u001b[39msys\u001b[39;00m\n\u001b[1;32m----> <a href='vscode-notebook-cell:/c%3A/Users/%ED%99%A9%EC%9D%B8%EA%B6%8C/OneDrive%20-%20%EB%8F%99%EA%B5%AD%EB%8C%80%ED%95%99%EA%B5%90/%EB%AC%B8%EC%84%9C/CodingTest_Python/backjoon/%EB%B8%8C%EB%A3%A8%ED%8A%B8%ED%8F%AC%EC%8A%A4/6.%201436.%EC%98%81%ED%99%94%EA%B0%90%EB%8F%85.ipynb#W4sZmlsZQ%3D%3D?line=2'>3</a>\u001b[0m sys\u001b[39m.\u001b[39mstdin \u001b[39m=\u001b[39m \u001b[39mopen\u001b[39;49m(\u001b[39m\"\u001b[39;49m\u001b[39m./input/input6.txt.txt\u001b[39;49m\u001b[39m\"\u001b[39;49m)\n\u001b[0;32m      <a href='vscode-notebook-cell:/c%3A/Users/%ED%99%A9%EC%9D%B8%EA%B6%8C/OneDrive%20-%20%EB%8F%99%EA%B5%AD%EB%8C%80%ED%95%99%EA%B5%90/%EB%AC%B8%EC%84%9C/CodingTest_Python/backjoon/%EB%B8%8C%EB%A3%A8%ED%8A%B8%ED%8F%AC%EC%8A%A4/6.%201436.%EC%98%81%ED%99%94%EA%B0%90%EB%8F%85.ipynb#W4sZmlsZQ%3D%3D?line=3'>4</a>\u001b[0m \u001b[39minput\u001b[39m \u001b[39m=\u001b[39m sys\u001b[39m.\u001b[39mstdin\u001b[39m.\u001b[39mreadline\n\u001b[0;32m      <a href='vscode-notebook-cell:/c%3A/Users/%ED%99%A9%EC%9D%B8%EA%B6%8C/OneDrive%20-%20%EB%8F%99%EA%B5%AD%EB%8C%80%ED%95%99%EA%B5%90/%EB%AC%B8%EC%84%9C/CodingTest_Python/backjoon/%EB%B8%8C%EB%A3%A8%ED%8A%B8%ED%8F%AC%EC%8A%A4/6.%201436.%EC%98%81%ED%99%94%EA%B0%90%EB%8F%85.ipynb#W4sZmlsZQ%3D%3D?line=5'>6</a>\u001b[0m n \u001b[39m=\u001b[39m \u001b[39mint\u001b[39m(\u001b[39minput\u001b[39m())\n",
      "\u001b[1;31mFileNotFoundError\u001b[0m: [Errno 2] No such file or directory: './input/input6.txt.txt'"
     ]
    }
   ],
   "source": [
    "import heapq\n",
    "import sys\n",
    "sys.stdin = open(\"./input/input6.txt.txt\")\n",
    "input = sys.stdin.readline\n",
    "\n",
    "n = int(input())\n",
    "arr = [int(input()) for i in range(n)]\n",
    "\n",
    "print(arr)\n"
   ]
  },
  {
   "cell_type": "code",
   "execution_count": 54,
   "metadata": {},
   "outputs": [
    {
     "name": "stdout",
     "output_type": "stream",
     "text": [
      "1\n"
     ]
    }
   ],
   "source": [
    "import heapq\n",
    "q = []\n",
    "heapq.heappush(q, 2)\n",
    "heapq.heappush(q, 1)\n",
    "heapq.heappush(q, 3)\n",
    "heapq.heappush(q, 4)\n"
   ]
  },
  {
   "cell_type": "code",
   "execution_count": 66,
   "metadata": {},
   "outputs": [
    {
     "data": {
      "text/plain": [
       "1"
      ]
     },
     "execution_count": 66,
     "metadata": {},
     "output_type": "execute_result"
    }
   ],
   "source": [
    "abs(-1)"
   ]
  }
 ],
 "metadata": {
  "kernelspec": {
   "display_name": "Python 3.8.6 64-bit",
   "language": "python",
   "name": "python3"
  },
  "language_info": {
   "codemirror_mode": {
    "name": "ipython",
    "version": 3
   },
   "file_extension": ".py",
   "mimetype": "text/x-python",
   "name": "python",
   "nbconvert_exporter": "python",
   "pygments_lexer": "ipython3",
   "version": "3.8.6"
  },
  "orig_nbformat": 4,
  "vscode": {
   "interpreter": {
    "hash": "2ba6819d172d60e93b2f90e5d47af36d4f36070393882cfcbe0fef625705f185"
   }
  }
 },
 "nbformat": 4,
 "nbformat_minor": 2
}
