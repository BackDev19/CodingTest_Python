{
 "cells": [
  {
   "cell_type": "code",
   "execution_count": 9,
   "metadata": {},
   "outputs": [
    {
     "name": "stdout",
     "output_type": "stream",
     "text": [
      "497\n",
      "[519, 488, 589, 310, 459, 412, 490, 569, 552, 653, 374, 523, 476, 554, 633, 622, 343, 492, 445, 523, 602, 444, 593, 546, 624, 703, 314, 267, 345, 424, 416, 494, 573, 447, 526, 604, 640, 741, 462, 611, 564, 642, 721, 710, 431, 580, 533, 611, 690, 532, 681, 634, 712, 791, 402, 355, 433, 512, 504, 582, 661, 535, 614, 692, 774, 495, 644, 597, 675, 754, 596, 745, 698, 776, 855, 466, 419, 497, 576, 568, 646, 725, 599, 678, 756, 565, 714, 667, 745, 824, 435, 388, 466, 545, 537, 615, 694, 568, 647, 725, 536, 489, 567, 646, 638, 716, 795, 669, 748, 826, 359, 437, 516, 390, 469, 547, 539, 618, 696, 649]\n"
     ]
    }
   ],
   "source": [
    "from sys import stdin\n",
    "from itertools import combinations, permutations\n",
    "\n",
    "stdin = open(\"./input/input3.txt\", \"rt\")\n",
    "input = stdin.readline\n",
    "\n",
    "n, m = map(int, input().split())\n",
    "arr = list(map(int, input().split()))\n",
    "\n",
    "arr2 = list(combinations(arr, 3))\n",
    "arr2 = list(map(sum, arr2))\n",
    "\n",
    "# 합의 최대 길이\n",
    "maxLen = -1\n",
    "for x in arr2:\n",
    "    # x <= 21이어야 하고, 합의 최대 길이보다 커야 함\n",
    "    if x <= m and maxLen < x:\n",
    "        maxLen = x\n",
    "\n",
    "print(maxLen)"
   ]
  }
 ],
 "metadata": {
  "kernelspec": {
   "display_name": "Python 3.8.6 64-bit",
   "language": "python",
   "name": "python3"
  },
  "language_info": {
   "codemirror_mode": {
    "name": "ipython",
    "version": 3
   },
   "file_extension": ".py",
   "mimetype": "text/x-python",
   "name": "python",
   "nbconvert_exporter": "python",
   "pygments_lexer": "ipython3",
   "version": "3.8.6"
  },
  "orig_nbformat": 4,
  "vscode": {
   "interpreter": {
    "hash": "2ba6819d172d60e93b2f90e5d47af36d4f36070393882cfcbe0fef625705f185"
   }
  }
 },
 "nbformat": 4,
 "nbformat_minor": 2
}
