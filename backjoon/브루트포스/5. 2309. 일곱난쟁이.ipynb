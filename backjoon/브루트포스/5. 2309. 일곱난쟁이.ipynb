{
 "cells": [
  {
   "cell_type": "code",
   "execution_count": 4,
   "metadata": {},
   "outputs": [
    {
     "name": "stdout",
     "output_type": "stream",
     "text": [
      "7\n",
      "8\n",
      "10\n",
      "13\n",
      "19\n",
      "20\n",
      "23\n"
     ]
    }
   ],
   "source": [
    "from sys import stdin\n",
    "stdin = open(\"./input/input5.txt\", \"rt\")\n",
    "input = stdin.readline\n",
    "\n",
    "arr = [int(input()) for i in range(9)]\n",
    "\n",
    "# 1. 9명 - 2명 = 100인 경우\n",
    "rem = []\n",
    "\n",
    "data1 = 0\n",
    "data2 = 0\n",
    "for i in range(9):\n",
    "    for j in range(i+1, 9):\n",
    "        if sum(arr) - arr[i] - arr[j] == 100:\n",
    "            data1 = arr[i]\n",
    "            data2 = arr[j]\n",
    "\n",
    "            # print(arr)\n",
    "            \n",
    "            # arr.remove(arr[j])\n",
    "\n",
    "arr.remove(data1)\n",
    "arr.remove(data2)\n",
    "arr.sort()\n",
    "\n",
    "for x in arr:\n",
    "    print(x)\n",
    "\n",
    "\n",
    "\n"
   ]
  },
  {
   "cell_type": "code",
   "execution_count": 12,
   "metadata": {},
   "outputs": [
    {
     "name": "stdout",
     "output_type": "stream",
     "text": [
      "7\n",
      "8\n",
      "10\n",
      "13\n",
      "19\n",
      "20\n",
      "23\n"
     ]
    }
   ],
   "source": [
    "from sys import stdin\n",
    "from itertools import combinations\n",
    "stdin = open(\"./input/input5.txt\", \"rt\")\n",
    "input = stdin.readline\n",
    "\n",
    "arr = [int(input()) for i in range(9)]\n",
    "\n",
    "# 1. combinations 모든 경우의 수 구하기\n",
    "# 2. combination으로 값이 100이 되는 항 구하기\n",
    "data = list(combinations(arr, 7))\n",
    "result = []\n",
    "for x in data:\n",
    "    if sum(x) == 100:\n",
    "        result = x\n",
    "\n",
    "result = list(result)\n",
    "result.sort()\n",
    "for x in result:\n",
    "    print(x)\n",
    "\n",
    "\n"
   ]
  },
  {
   "cell_type": "code",
   "execution_count": null,
   "metadata": {},
   "outputs": [],
   "source": []
  }
 ],
 "metadata": {
  "kernelspec": {
   "display_name": "Python 3.8.6 64-bit",
   "language": "python",
   "name": "python3"
  },
  "language_info": {
   "codemirror_mode": {
    "name": "ipython",
    "version": 3
   },
   "file_extension": ".py",
   "mimetype": "text/x-python",
   "name": "python",
   "nbconvert_exporter": "python",
   "pygments_lexer": "ipython3",
   "version": "3.8.6"
  },
  "orig_nbformat": 4,
  "vscode": {
   "interpreter": {
    "hash": "2ba6819d172d60e93b2f90e5d47af36d4f36070393882cfcbe0fef625705f185"
   }
  }
 },
 "nbformat": 4,
 "nbformat_minor": 2
}
