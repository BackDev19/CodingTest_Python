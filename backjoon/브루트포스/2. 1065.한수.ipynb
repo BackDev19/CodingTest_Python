{
 "cells": [
  {
   "cell_type": "code",
   "execution_count": 10,
   "metadata": {},
   "outputs": [
    {
     "name": "stdout",
     "output_type": "stream",
     "text": [
      "99\n"
     ]
    }
   ],
   "source": [
    "from sys import stdin\n",
    "stdin = open(\"./input/input2.txt\", \"rt\")\n",
    "input = stdin.readline\n",
    "\n",
    "n = int(input())\n",
    "\n",
    "def isSequence(n):\n",
    "    \n",
    "    # 차이를 저장할 변수\n",
    "    diff = 0\n",
    "\n",
    "    for i in range(1, len(n)):\n",
    "        # 차이값 구하기\n",
    "        if i == 1: # 한번만 초기화가 되어야 함\n",
    "            diff = n[i] - n[i-1] \n",
    "\n",
    "        # n[i] = n[i-1] + diff라는 값과 동일한지 다르다면, return False\n",
    "        if n[i] != (n[i-1] + diff):\n",
    "            return False\n",
    "        \n",
    "    return True\n",
    "\n",
    "\n",
    "# 각 자리수 분리\n",
    "# 등차수열인지 확인\n",
    "# 1. 뒤에 잇는 문자가 더 큰지 + 숫자의 차이 저장\n",
    "# 2. 다음에 있는 문자와의 숫자의 차이가 동일한지\n",
    "cnt = 0\n",
    "for i in range(1, n+1):\n",
    "    # 자릿수 분리\n",
    "    num = list(map(int, list(str(i))))\n",
    "\n",
    "    if isSequence(num):\n",
    "        cnt += 1\n",
    "\n",
    "print(cnt)\n",
    "\n",
    "    \n",
    "\n",
    "\n"
   ]
  }
 ],
 "metadata": {
  "kernelspec": {
   "display_name": "Python 3.8.6 64-bit",
   "language": "python",
   "name": "python3"
  },
  "language_info": {
   "codemirror_mode": {
    "name": "ipython",
    "version": 3
   },
   "file_extension": ".py",
   "mimetype": "text/x-python",
   "name": "python",
   "nbconvert_exporter": "python",
   "pygments_lexer": "ipython3",
   "version": "3.8.6"
  },
  "orig_nbformat": 4,
  "vscode": {
   "interpreter": {
    "hash": "2ba6819d172d60e93b2f90e5d47af36d4f36070393882cfcbe0fef625705f185"
   }
  }
 },
 "nbformat": 4,
 "nbformat_minor": 2
}
