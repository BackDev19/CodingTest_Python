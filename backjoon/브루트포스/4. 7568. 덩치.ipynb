{
 "cells": [
  {
   "cell_type": "code",
   "execution_count": 40,
   "metadata": {},
   "outputs": [
    {
     "name": "stdout",
     "output_type": "stream",
     "text": [
      "2 2 1 2 5 "
     ]
    }
   ],
   "source": [
    "from sys import stdin\n",
    "stdin = open(\"./input/input4.txt\", \"rt\")\n",
    "input = stdin.readline\n",
    "\n",
    "# 몸무계 순으로 정렬\n",
    "n = int(input())\n",
    "arr = [list(map(int, input().split())) for i in range(n)]\n",
    "\n",
    "for i in range(n):\n",
    "    arr[i].append(i+1)\n",
    "\n",
    "# 정렬\n",
    "arr.sort(key = lambda x : (x[1], x[0]))\n",
    "\n",
    "# 몸무계와 키를 비교해서, 더 큰 값이 있다면, cnt += 1 => 2가 된다면, 앞순위\n",
    "# 몸무계가 크지 않다면, 해당 수보다 뒷순위\n",
    "\n",
    "# 순위를 저장할 변수\n",
    "rank = [1] * n\n",
    "for i in range(n):\n",
    "    for j in range(n-1, i, -1): # n-1번째 수 부터, i+1번째까지 비교\n",
    "        # 몸무계 = arr[i][0], 키 = arr[i][1]\n",
    "        # 몸무계가 작을수록 rank += 1 만일 동일하다면, rank를 그대로 대입\n",
    "        # 뒤의 사람보다** 몸무계가 더 작다면, rank += 1 -> 키 순으로 정렬해놨으므로 몸무계마저 작으면 rank가 올라감\n",
    "\n",
    "        if arr[i][0] < arr[j][0]: # 뒤의 사람보다 몸무계가 더 작다면\n",
    "            rank[arr[i][2] - 1] += 1\n",
    "\n",
    "for x in rank:\n",
    "    print(x, end = ' ')"
   ]
  },
  {
   "cell_type": "code",
   "execution_count": 45,
   "metadata": {},
   "outputs": [
    {
     "ename": "TypeError",
     "evalue": "'int' object is not subscriptable",
     "output_type": "error",
     "traceback": [
      "\u001b[1;31m---------------------------------------------------------------------------\u001b[0m",
      "\u001b[1;31mTypeError\u001b[0m                                 Traceback (most recent call last)",
      "\u001b[1;32mc:\\Users\\황인권\\OneDrive - 동국대학교\\문서\\CodingTest_Python\\backjoon\\브루트포스\\4. 7568. 덩치.ipynb 셀 2\u001b[0m in \u001b[0;36m<cell line: 12>\u001b[1;34m()\u001b[0m\n\u001b[0;32m     <a href='vscode-notebook-cell:/c%3A/Users/%ED%99%A9%EC%9D%B8%EA%B6%8C/OneDrive%20-%20%EB%8F%99%EA%B5%AD%EB%8C%80%ED%95%99%EA%B5%90/%EB%AC%B8%EC%84%9C/CodingTest_Python/backjoon/%EB%B8%8C%EB%A3%A8%ED%8A%B8%ED%8F%AC%EC%8A%A4/4.%207568.%20%EB%8D%A9%EC%B9%98.ipynb#W2sZmlsZQ%3D%3D?line=12'>13</a>\u001b[0m rank \u001b[39m=\u001b[39m \u001b[39m1\u001b[39m\n\u001b[0;32m     <a href='vscode-notebook-cell:/c%3A/Users/%ED%99%A9%EC%9D%B8%EA%B6%8C/OneDrive%20-%20%EB%8F%99%EA%B5%AD%EB%8C%80%ED%95%99%EA%B5%90/%EB%AC%B8%EC%84%9C/CodingTest_Python/backjoon/%EB%B8%8C%EB%A3%A8%ED%8A%B8%ED%8F%AC%EC%8A%A4/4.%207568.%20%EB%8D%A9%EC%B9%98.ipynb#W2sZmlsZQ%3D%3D?line=13'>14</a>\u001b[0m \u001b[39mfor\u001b[39;00m j \u001b[39min\u001b[39;00m student_list:\n\u001b[1;32m---> <a href='vscode-notebook-cell:/c%3A/Users/%ED%99%A9%EC%9D%B8%EA%B6%8C/OneDrive%20-%20%EB%8F%99%EA%B5%AD%EB%8C%80%ED%95%99%EA%B5%90/%EB%AC%B8%EC%84%9C/CodingTest_Python/backjoon/%EB%B8%8C%EB%A3%A8%ED%8A%B8%ED%8F%AC%EC%8A%A4/4.%207568.%20%EB%8D%A9%EC%B9%98.ipynb#W2sZmlsZQ%3D%3D?line=14'>15</a>\u001b[0m     \u001b[39mif\u001b[39;00m i[\u001b[39m0\u001b[39;49m] \u001b[39m<\u001b[39m j[\u001b[39m0\u001b[39m] \u001b[39mand\u001b[39;00m i[\u001b[39m1\u001b[39m] \u001b[39m<\u001b[39m j[\u001b[39m1\u001b[39m]:\n\u001b[0;32m     <a href='vscode-notebook-cell:/c%3A/Users/%ED%99%A9%EC%9D%B8%EA%B6%8C/OneDrive%20-%20%EB%8F%99%EA%B5%AD%EB%8C%80%ED%95%99%EA%B5%90/%EB%AC%B8%EC%84%9C/CodingTest_Python/backjoon/%EB%B8%8C%EB%A3%A8%ED%8A%B8%ED%8F%AC%EC%8A%A4/4.%207568.%20%EB%8D%A9%EC%B9%98.ipynb#W2sZmlsZQ%3D%3D?line=15'>16</a>\u001b[0m         rank \u001b[39m+\u001b[39m\u001b[39m=\u001b[39m \u001b[39m1\u001b[39m\n\u001b[0;32m     <a href='vscode-notebook-cell:/c%3A/Users/%ED%99%A9%EC%9D%B8%EA%B6%8C/OneDrive%20-%20%EB%8F%99%EA%B5%AD%EB%8C%80%ED%95%99%EA%B5%90/%EB%AC%B8%EC%84%9C/CodingTest_Python/backjoon/%EB%B8%8C%EB%A3%A8%ED%8A%B8%ED%8F%AC%EC%8A%A4/4.%207568.%20%EB%8D%A9%EC%B9%98.ipynb#W2sZmlsZQ%3D%3D?line=16'>17</a>\u001b[0m \u001b[39mprint\u001b[39m(rank, end \u001b[39m=\u001b[39m \u001b[39m'\u001b[39m\u001b[39m \u001b[39m\u001b[39m'\u001b[39m)\n",
      "\u001b[1;31mTypeError\u001b[0m: 'int' object is not subscriptable"
     ]
    }
   ],
   "source": [
    "from sys import stdin\n",
    "stdin = open(\"./input/input4.txt\", \"rt\")\n",
    "input = stdin.readline\n",
    "\n",
    "num_student = int(input())\n",
    "student_list = []\n",
    "\n",
    "for _ in range(num_student):\n",
    "    weight, height = map(int, input().split())\n",
    "    student_list.append((weight, height))\n",
    "\n",
    "for _ in student_list:\n",
    "    rank = 1\n",
    "    for j in student_list:\n",
    "        if i[0] < j[0] and i[1] < j[1]:\n",
    "            rank += 1\n",
    "    print(rank, end = ' ')\n",
    "\n",
    "\n",
    "\n",
    "\n"
   ]
  }
 ],
 "metadata": {
  "kernelspec": {
   "display_name": "Python 3.8.6 64-bit",
   "language": "python",
   "name": "python3"
  },
  "language_info": {
   "codemirror_mode": {
    "name": "ipython",
    "version": 3
   },
   "file_extension": ".py",
   "mimetype": "text/x-python",
   "name": "python",
   "nbconvert_exporter": "python",
   "pygments_lexer": "ipython3",
   "version": "3.8.6"
  },
  "orig_nbformat": 4,
  "vscode": {
   "interpreter": {
    "hash": "2ba6819d172d60e93b2f90e5d47af36d4f36070393882cfcbe0fef625705f185"
   }
  }
 },
 "nbformat": 4,
 "nbformat_minor": 2
}
