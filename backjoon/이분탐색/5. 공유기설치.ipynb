{
 "cells": [
  {
   "cell_type": "code",
   "execution_count": 17,
   "metadata": {},
   "outputs": [
    {
     "name": "stdout",
     "output_type": "stream",
     "text": [
      "18\n"
     ]
    }
   ],
   "source": [
    "import sys\n",
    "sys.stdin = open(\"./input/input5.txt\", \"rt\")\n",
    "\n",
    "# 도현이의 집 N개가 수직선 위에 있다.\n",
    "# 공유기 C개를 설치하려고 한다. \n",
    "# 한 집에는 공유기를 하나만 설치할 수 있고, \n",
    "# 두 공유기 사이의 거리를 가능한 크게\n",
    "# C개의 공유기를 N개의 집에 적당히 설치해서, 가장 인접한 두 공유기 사이의 거리를 최대\n",
    "\n",
    "# n은 집의 개수 c는 공유기의 개수 arr은 집의 좌표\n",
    "n, c = (map(int, sys.stdin.readline().split()))\n",
    "arr = []\n",
    "for _ in range(n):\n",
    "    arr.append(int(sys.stdin.readline()))\n",
    "\n",
    "arr.sort()\n",
    "# 1. 좌표를 순서대로 정렬하고, 이진탐색으로 가장 최소 거리를 비교 \n",
    "# 2. 개수가 c가 나오는 선에서 순회\n",
    "\n",
    "\n",
    "# 1. for문을 통해서 arr[0]과 arr[1]을 비교 => 길이가 mid 이상이라면, count\n",
    "# 2. arr은 n-1만큼 돌아야 함\n",
    "# 3. 처음의 위치와, 그 다음 위치를 비교해야 함\n",
    "# 4. cur로 현재의 위치를 저장, 다음 위치까지의 거리가 c가 될 때까지\n",
    "def count(mid):\n",
    "    cnt = 0\n",
    "    cur = arr[0]\n",
    "    for i in range(1, len(arr)):\n",
    "        if mid <= arr[i] - cur:\n",
    "            cur = arr[i]\n",
    "            cnt += 1\n",
    "    return cnt\n",
    "\n",
    "\n",
    "# 1. cnt < c이라면, 길이를 줄여야 함 => end = mid - 1\n",
    "# 2. cnt > c이라면, 길이를 늘려야 함 => start = mid + 1\n",
    "# 3. cnt == c이라면, 저장을 해놓고 계속 탐색 => 길이를 늘리는 방향으로\n",
    "start = 0\n",
    "end = arr[-1]\n",
    "res = 0\n",
    "while start <= end:\n",
    "    mid = (start + end) // 2\n",
    "    cnt = count(mid) + 1\n",
    "    if c == cnt:\n",
    "        res = mid\n",
    "        start = mid + 1\n",
    "    elif c < cnt:\n",
    "        start = mid + 1\n",
    "    else:\n",
    "        end = mid - 1\n",
    "\n",
    "\n",
    "print(res)\n"
   ]
  }
 ],
 "metadata": {
  "kernelspec": {
   "display_name": "Python 3.8.6 64-bit (system)",
   "language": "python",
   "name": "python3"
  },
  "language_info": {
   "codemirror_mode": {
    "name": "ipython",
    "version": 3
   },
   "file_extension": ".py",
   "mimetype": "text/x-python",
   "name": "python",
   "nbconvert_exporter": "python",
   "pygments_lexer": "ipython3",
   "version": "3.8.6"
  },
  "orig_nbformat": 4,
  "vscode": {
   "interpreter": {
    "hash": "2ba6819d172d60e93b2f90e5d47af36d4f36070393882cfcbe0fef625705f185"
   }
  }
 },
 "nbformat": 4,
 "nbformat_minor": 2
}
