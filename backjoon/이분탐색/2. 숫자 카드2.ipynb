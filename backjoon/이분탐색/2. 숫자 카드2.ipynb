{
 "cells": [
  {
   "cell_type": "code",
   "execution_count": null,
   "metadata": {},
   "outputs": [],
   "source": [
    "import sys\n",
    "# sys.stdin = open(\"./input/input1.txt\", \"rt\")\n",
    "\n",
    "n = int(sys.stdin.readline())\n",
    "print(n)"
   ]
  },
  {
   "cell_type": "code",
   "execution_count": 7,
   "metadata": {},
   "outputs": [
    {
     "name": "stdout",
     "output_type": "stream",
     "text": [
      "3 0 0 1 2 0 0 2\n"
     ]
    }
   ],
   "source": [
    "from sys import stdin\n",
    "stdin = open(\"./input/input1.txt\", \"rt\")\n",
    "\n",
    "_ = stdin.readline()\n",
    "N = sorted(map(int,stdin.readline().split()))\n",
    "_ = stdin.readline()\n",
    "M = map(int,stdin.readline().split())\n",
    "\n",
    "def binary(n, N, start, end):\n",
    "    if start > end:\n",
    "        return 0\n",
    "    m = (start+end)//2\n",
    "    if n == N[m]:\n",
    "        return N[start:end+1].count(n)\n",
    "    elif n < N[m]:\n",
    "        return binary(n, N, start, m-1)\n",
    "    else:\n",
    "        return binary(n, N, m+1, end)\n",
    "\n",
    "n_dic = {}\n",
    "for n in N:\n",
    "    start = 0\n",
    "    end = len(N) - 1\n",
    "    if n not in n_dic:\n",
    "        n_dic[n] = binary(n, N, start, end)\n",
    "\n",
    "print(' '.join(str(n_dic[x]) if x in n_dic else '0' for x in M ))"
   ]
  },
  {
   "cell_type": "code",
   "execution_count": null,
   "metadata": {},
   "outputs": [],
   "source": []
  }
 ],
 "metadata": {
  "kernelspec": {
   "display_name": "Python 3.8.6 64-bit (system)",
   "language": "python",
   "name": "python3"
  },
  "language_info": {
   "codemirror_mode": {
    "name": "ipython",
    "version": 3
   },
   "file_extension": ".py",
   "mimetype": "text/x-python",
   "name": "python",
   "nbconvert_exporter": "python",
   "pygments_lexer": "ipython3",
   "version": "3.8.6"
  },
  "orig_nbformat": 4,
  "vscode": {
   "interpreter": {
    "hash": "2ba6819d172d60e93b2f90e5d47af36d4f36070393882cfcbe0fef625705f185"
   }
  }
 },
 "nbformat": 4,
 "nbformat_minor": 2
}
