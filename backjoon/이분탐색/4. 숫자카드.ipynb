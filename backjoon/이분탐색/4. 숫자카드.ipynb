{
 "cells": [
  {
   "cell_type": "code",
   "execution_count": 2,
   "metadata": {},
   "outputs": [
    {
     "name": "stdout",
     "output_type": "stream",
     "text": [
      "1 0 0 1 1 0 0 1 "
     ]
    }
   ],
   "source": [
    "import sys\n",
    "sys.stdin = open(\"./input/input4.txt\", \"rt\")\n",
    "\n",
    "n = int(sys.stdin.readline())\n",
    "card1 = list(map(int, sys.stdin.readline().split()))\n",
    "\n",
    "m = int(sys.stdin.readline())\n",
    "card2 = list(map(int, sys.stdin.readline().split()))\n",
    "\n",
    "card1.sort()\n",
    "\n",
    "res = []\n",
    "for x in card2:\n",
    "    start = 0\n",
    "    end = n-1\n",
    "    search = False\n",
    "\n",
    "    while start <= end:\n",
    "        mid = (start + end) // 2\n",
    "        if x == card1[mid]:\n",
    "            search = True\n",
    "            break\n",
    "        elif x < card1[mid]:\n",
    "            end = mid - 1\n",
    "        else:\n",
    "            start = mid + 1\n",
    "    if search:\n",
    "        res.append(1)\n",
    "    else:\n",
    "        res.append(0)\n",
    "\n",
    "for x in res:\n",
    "    print(x, end = ' ')\n",
    "\n"
   ]
  },
  {
   "cell_type": "code",
   "execution_count": null,
   "metadata": {},
   "outputs": [],
   "source": []
  }
 ],
 "metadata": {
  "kernelspec": {
   "display_name": "Python 3.8.6 64-bit (system)",
   "language": "python",
   "name": "python3"
  },
  "language_info": {
   "codemirror_mode": {
    "name": "ipython",
    "version": 3
   },
   "file_extension": ".py",
   "mimetype": "text/x-python",
   "name": "python",
   "nbconvert_exporter": "python",
   "pygments_lexer": "ipython3",
   "version": "3.8.6"
  },
  "orig_nbformat": 4,
  "vscode": {
   "interpreter": {
    "hash": "2ba6819d172d60e93b2f90e5d47af36d4f36070393882cfcbe0fef625705f185"
   }
  }
 },
 "nbformat": 4,
 "nbformat_minor": 2
}
