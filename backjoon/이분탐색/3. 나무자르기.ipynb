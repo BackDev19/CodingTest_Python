{
 "cells": [
  {
   "cell_type": "code",
   "execution_count": 3,
   "metadata": {},
   "outputs": [
    {
     "name": "stdout",
     "output_type": "stream",
     "text": [
      "36\n"
     ]
    }
   ],
   "source": [
    "import sys\n",
    "\n",
    "sys.stdin = open(\"./input/input3.txt\", \"rt\")\n",
    "\n",
    "n, m = map(int, sys.stdin.readline().split())\n",
    "# height는 나무의 높이\n",
    "height = list(map(int, sys.stdin.readline().split()))\n",
    "\n",
    "# 1. height를 정렬\n",
    "# 2. while문을 통해서, 목표 높이를 구한다\n",
    "# 3. 목표높이까지 나무들을 잘라내고 해당 길이와 m이 동일한지\n",
    "# 4. 만약 cnt < m => 적게 잘라냄 => rt = mid - 1\n",
    "# 5. cnt > m -> 많이 잘라냄 => rt = mid - 1\n",
    "# 6. 적어도 M미터의 나무를 집에 가져가기 위해서 => 나무의 높이 -> 나무높이의 최대값이었음!! -> mid를 낮춰야 함\n",
    "\n",
    "height.sort()\n",
    "lt = 0\n",
    "rt = height[-1]\n",
    "cnt  = 0\n",
    "res = 0\n",
    "\n",
    "while lt <= rt:\n",
    "    mid = (lt + rt) // 2\n",
    "\n",
    "    cnt = 0\n",
    "    for i in height:\n",
    "        if mid <= i:\n",
    "            cnt += i - mid\n",
    "\n",
    "    if cnt < m:\n",
    "        rt = mid - 1\n",
    "        # 나무가 m개의 수보다 많음\n",
    "    elif cnt >= m:\n",
    "        res = mid\n",
    "        lt = mid + 1\n",
    "    \n",
    "print(res)\n",
    "\n",
    "\n"
   ]
  },
  {
   "cell_type": "code",
   "execution_count": null,
   "metadata": {},
   "outputs": [],
   "source": []
  },
  {
   "cell_type": "code",
   "execution_count": null,
   "metadata": {},
   "outputs": [],
   "source": []
  }
 ],
 "metadata": {
  "kernelspec": {
   "display_name": "Python 3.8.6 64-bit (system)",
   "language": "python",
   "name": "python3"
  },
  "language_info": {
   "codemirror_mode": {
    "name": "ipython",
    "version": 3
   },
   "file_extension": ".py",
   "mimetype": "text/x-python",
   "name": "python",
   "nbconvert_exporter": "python",
   "pygments_lexer": "ipython3",
   "version": "3.8.6"
  },
  "orig_nbformat": 4,
  "vscode": {
   "interpreter": {
    "hash": "2ba6819d172d60e93b2f90e5d47af36d4f36070393882cfcbe0fef625705f185"
   }
  }
 },
 "nbformat": 4,
 "nbformat_minor": 2
}
