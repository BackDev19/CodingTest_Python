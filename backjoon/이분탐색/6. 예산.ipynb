{
 "cells": [
  {
   "cell_type": "code",
   "execution_count": 13,
   "metadata": {},
   "outputs": [
    {
     "name": "stdout",
     "output_type": "stream",
     "text": [
      "100\n"
     ]
    }
   ],
   "source": [
    "import sys\n",
    "sys.stdin = open(\"./input/input6.txt\", \"rt\")\n",
    "\n",
    "# 그래서 정해진 총액 이하에서 가능한 한 최대의 총 예산을 다음과 같은 방법으로 배정한다.\n",
    "\n",
    "# 모든 요청이 배정될 수 있는 경우에는 요청한 금액을 그대로 배정\n",
    "# 모든 요청이 배정될 수 없는 경우에는 특정한 정수 상한액을 계산하여 그 이상인 예산요청에는 모두 상한액을 배정\n",
    "# 상한액 이하 요청한 금액을 그대로 배정\n",
    "# 예를 들어, 전체 국가예산이 485이고 4개 지방의 예산요청이 각각 120, 110, 140, 150이라고 하자. \n",
    "# 이 경우, 상한액을 127로 잡으면, 위의 요청들에 대해서 각각 120, 110, 127, 127을 배정하고 \n",
    "# 그 합이 484로 가능한 최대가 된다. \n",
    "\n",
    "n = int(sys.stdin.readline())\n",
    "cost = list(map(int, sys.stdin.readline().split()))\n",
    "totalCost = int(sys.stdin.readline())\n",
    "\n",
    "#  합 485를 만족하는 상한액을 결정하기\n",
    "# 1. 상한액을 만족하는 mid를 구하기\n",
    "# 2. 그 합을 max에 저장해서 가장 큰 값을 비교\n",
    "# 3. 총합이 totalCost보다 크다면, rt = mid - 1\n",
    "# 4. 총합이 totalCost보다 작거나 같다면, lt = mid + 1\n",
    "\n",
    "cost.sort()\n",
    "start = 0\n",
    "end = cost[-1]\n",
    "res = 0\n",
    "\n",
    "while start <= end:\n",
    "    mid = (start + end) // 2\n",
    "    costsum = 0\n",
    "    for x in cost:\n",
    "        costsum += min(mid, x)\n",
    "\n",
    "    if totalCost >= costsum:\n",
    "        res = mid\n",
    "        start = mid + 1\n",
    "    else:\n",
    "        end = mid - 1\n",
    "    \n",
    "\n",
    "print(res)"
   ]
  }
 ],
 "metadata": {
  "kernelspec": {
   "display_name": "Python 3.8.6 64-bit (system)",
   "language": "python",
   "name": "python3"
  },
  "language_info": {
   "codemirror_mode": {
    "name": "ipython",
    "version": 3
   },
   "file_extension": ".py",
   "mimetype": "text/x-python",
   "name": "python",
   "nbconvert_exporter": "python",
   "pygments_lexer": "ipython3",
   "version": "3.8.6"
  },
  "orig_nbformat": 4,
  "vscode": {
   "interpreter": {
    "hash": "2ba6819d172d60e93b2f90e5d47af36d4f36070393882cfcbe0fef625705f185"
   }
  }
 },
 "nbformat": 4,
 "nbformat_minor": 2
}
