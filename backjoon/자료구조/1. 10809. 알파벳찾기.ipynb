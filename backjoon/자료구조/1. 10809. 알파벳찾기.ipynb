{
 "cells": [
  {
   "cell_type": "markdown",
   "metadata": {},
   "source": [
    "<p>딕셔너리</p>\n",
    "\n"
   ]
  },
  {
   "cell_type": "code",
   "execution_count": 35,
   "metadata": {},
   "outputs": [
    {
     "name": "stdout",
     "output_type": "stream",
     "text": [
      "1 0 -1 -1 2 -1 -1 -1 -1 4 3 -1 -1 7 5 -1 -1 -1 -1 -1 -1 -1 -1 -1 -1 -1 "
     ]
    }
   ],
   "source": [
    "from sys import stdin\n",
    "stdin = open(\"./input/input2.txt\")\n",
    "input = stdin.readline\n",
    "\n",
    "data = list(input())\n",
    "dic = {}\n",
    "# 각각 등장 위치를 저장\n",
    "n = (ord('z') - ord('a') + 1)\n",
    "char = [0] * n\n",
    "\n",
    "# 단어들의 index를 저장\n",
    "for i in range(len(data)):\n",
    "    if data[i] in dic.keys():\n",
    "        continue\n",
    "    dic[data[i]] = i\n",
    "\n",
    "#'a' ~ 'z'까지 순환하면서 딕셔너리에 있는 데이터를 확인 후, 출력\n",
    "for i in range(ord('a'), ord('z') + 1):\n",
    "    if chr(i) not in dic.keys():\n",
    "        print(-1, end = ' ')\n",
    "    else:\n",
    "        print(dic[chr(i)], end = ' ')\n"
   ]
  },
  {
   "cell_type": "code",
   "execution_count": 37,
   "metadata": {},
   "outputs": [
    {
     "name": "stdout",
     "output_type": "stream",
     "text": [
      "1 0 -1 -1 2 -1 -1 -1 -1 4 3 -1 -1 7 5 -1 -1 -1 -1 -1 -1 -1 -1 -1 -1 -1 "
     ]
    }
   ],
   "source": [
    "from sys import stdin\n",
    "stdin = open(\"./input/input2.txt\")\n",
    "input = stdin.readline\n",
    "\n",
    "word = input()\n",
    "alphabet = list(range(97, 123))\n",
    "\n",
    "for x in alphabet:\n",
    "    print(word.find(chr(x)), end = ' ')"
   ]
  },
  {
   "cell_type": "code",
   "execution_count": 52,
   "metadata": {},
   "outputs": [
    {
     "name": "stdout",
     "output_type": "stream",
     "text": [
      "Askar\n",
      "Artem\n"
     ]
    }
   ],
   "source": [
    "from sys import stdin\n",
    "stdin = open(\"./input/input2.txt\")\n",
    "input = stdin.readline\n",
    "\n",
    "n = int(input())\n",
    "dic = {}\n",
    "\n",
    "for _ in range(n):\n",
    "    # 문자들을 입력받아서, 교체\n",
    "    name, present = input().split()\n",
    "    if present == 'enter':\n",
    "        dic[name] = present\n",
    "    else:\n",
    "        if dic[name]:\n",
    "            del dic[name]\n",
    "\n",
    "# 사전 순의 역순으로 정렬\n",
    "dic = sorted(dic, reverse=True)\n",
    "for x in dic:\n",
    "    print(x)\n",
    "    \n",
    "\n"
   ]
  },
  {
   "cell_type": "code",
   "execution_count": null,
   "metadata": {},
   "outputs": [
    {
     "ename": "",
     "evalue": "",
     "output_type": "error",
     "traceback": [
      "\u001b[1;31mCanceled future for execute_request message before replies were done"
     ]
    },
    {
     "ename": "",
     "evalue": "",
     "output_type": "error",
     "traceback": [
      "\u001b[1;31m현재 셀 또는 이전 셀에서 코드를 실행하는 동안 Kernel이 충돌했습니다. 셀의 코드를 검토하여 오류의 가능한 원인을 식별하세요. 자세한 내용을 보려면 <a href='https://aka.ms/vscodeJupyterKernelCrash'> 여기 </a> 를 클릭하세요. 자세한 내용은 Jupyter <a href='command:jupyter.viewOutput'>로그</a>를 참조하세요."
     ]
    }
   ],
   "source": [
    "# 어떤 사이트의 친구 관계가 생긴 순서대로 주어졌을 때, \n",
    "# 두 사람의 친구 네트워크에 몇 명이 있는지 구하는 프로그램을 작성하시오.\n",
    "\n",
    "# 친구 네트워크란 친구 관계만으로 이동할 수 있는 사이를 말한다.\n",
    "\n",
    "from sys import stdin\n",
    "stdin = open(\"./input/input2.txt\")\n",
    "input = stdin.readline\n",
    "\n",
    "# 친구관계의 수\n",
    "n, m = map(int, input().split())\n",
    "parent = [0] * (n+1)\n",
    "\n",
    "# 자기 자신으로 초기화\n",
    "for i in range(1, n+1):\n",
    "    parent[i] = i\n",
    "\n",
    "def find_parent(parent, x):\n",
    "    if parent[x] != x:\n",
    "        parent[x] = find_parent(parent, x)\n",
    "    else:\n",
    "        return parent[x]\n",
    "\n",
    "def union_parent(x, y):\n",
    "    root_x = find_parent(parent, x)\n",
    "    root_y = find_parent(parent, y)\n",
    "    if root_x < root_y:\n",
    "        parent[root_y] = root_x\n",
    "    else:\n",
    "        parent[root_x] = root_y\n",
    "\n",
    "for _ in range(m):\n",
    "    cycle = False\n",
    "    oper, a, b = map(int, input().split())\n",
    "    if oper == 0: # 0이라면, union 연산을 실행\n",
    "        union_parent(a, b)\n",
    "    elif oper == 1: # 같은 루트를 가지고 있는지를 확인\n",
    "        if parent[a] == parent[b]:\n",
    "            cycle = True\n",
    "            break\n",
    "\n",
    "    if cycle:\n",
    "        print(\"YES\")\n",
    "    else:\n",
    "        print(\"NO\")\n",
    "\n"
   ]
  },
  {
   "cell_type": "code",
   "execution_count": 3,
   "metadata": {},
   "outputs": [
    {
     "name": "stdout",
     "output_type": "stream",
     "text": [
      "True [0, 1, 2, 3, 3, 5, 6, 7]\n"
     ]
    }
   ],
   "source": [
    "from sys import stdin\n",
    "stdin = open(\"./input/input2.txt\")\n",
    "input = stdin.readline\n",
    "\n",
    "# 친구관계의 수\n",
    "n, m = map(int, input().split())\n",
    "parent = [0] * (n+1)\n",
    "\n",
    "# 자기 자신으로 초기화\n",
    "for i in range(1, n+1):\n",
    "    parent[i] = i\n",
    "\n",
    "def find_parent(parent, x):\n",
    "    if parent[x] != x:\n",
    "        parent[x] = find_parent(parent, parent[x])\n",
    "    return parent[x]\n",
    "\n",
    "def union_parent(x, y):\n",
    "    root_x = find_parent(parent, x)\n",
    "    root_y = find_parent(parent, y)\n",
    "    if root_x < root_y:\n",
    "        parent[root_y] = root_x\n",
    "    else:\n",
    "        parent[root_x] = root_y\n",
    "\n",
    "union_parent(3, 4)\n",
    "test = find_parent(parent, 3) == find_parent(parent, 4)\n",
    "print(test, parent)"
   ]
  },
  {
   "cell_type": "code",
   "execution_count": null,
   "metadata": {},
   "outputs": [],
   "source": []
  },
  {
   "cell_type": "code",
   "execution_count": null,
   "metadata": {},
   "outputs": [],
   "source": [
    "def find_parent(parent, x):\n",
    "    if parent[x] != x:\n",
    "        parent[x] = find_parent(parent, parent[x])\n",
    "    return parent[x]\n",
    "\n",
    "def union_parent(parent, a, b):\n",
    "    a = find_parent(parent, a)\n",
    "    b = find_parent(parent, b)\n",
    "    if a < b:\n",
    "        parent[b] = a\n",
    "    else:\n",
    "        parent[a] = b\n",
    "\n",
    "def union_parent(parente, a, b):\n",
    "    a = find_parent(parent, a)\n",
    "    b = find_parent(parent, b)\n",
    "\n",
    "    if a < b:\n",
    "        parent[b] = a\n",
    "    else:\n",
    "        parent[a] = b\n",
    "\n",
    "    \n",
    "\n",
    "\n"
   ]
  },
  {
   "cell_type": "code",
   "execution_count": null,
   "metadata": {},
   "outputs": [],
   "source": []
  },
  {
   "cell_type": "code",
   "execution_count": 31,
   "metadata": {},
   "outputs": [
    {
     "data": {
      "text/plain": [
       "'a'"
      ]
     },
     "execution_count": 31,
     "metadata": {},
     "output_type": "execute_result"
    }
   ],
   "source": [
    "ord('a')\n",
    "chr(97)"
   ]
  }
 ],
 "metadata": {
  "kernelspec": {
   "display_name": "Python 3.8.6 64-bit",
   "language": "python",
   "name": "python3"
  },
  "language_info": {
   "codemirror_mode": {
    "name": "ipython",
    "version": 3
   },
   "file_extension": ".py",
   "mimetype": "text/x-python",
   "name": "python",
   "nbconvert_exporter": "python",
   "pygments_lexer": "ipython3",
   "version": "3.8.6"
  },
  "orig_nbformat": 4,
  "vscode": {
   "interpreter": {
    "hash": "2ba6819d172d60e93b2f90e5d47af36d4f36070393882cfcbe0fef625705f185"
   }
  }
 },
 "nbformat": 4,
 "nbformat_minor": 2
}
