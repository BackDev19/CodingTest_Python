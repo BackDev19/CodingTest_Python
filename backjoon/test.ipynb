{
 "cells": [
  {
   "cell_type": "code",
   "execution_count": 8,
   "source": [
    "file = open(\"input.txt\", \"rt\")\r\n",
    "\r\n",
    "n, f = map(int, file.readline().split())\r\n",
    "arr = list(map(int, file.readline().split()))"
   ],
   "outputs": [],
   "metadata": {}
  },
  {
   "cell_type": "code",
   "execution_count": 14,
   "source": [
    "# n, f = map(int, input().split())\r\n",
    "# arr = int(input().split())\r\n",
    "\r\n",
    "#n = 개수, f = 목표 숫자\r\n",
    "# 3개를 더해서, min값으로 가장 f에 근삿값 저장\r\n",
    "\r\n",
    "n, f = map(int, input().split())\r\n",
    "arr = list(map(int, input().split()))\r\n",
    "\r\n",
    "sum = 0\r\n",
    "min = 30000000\r\n",
    "\r\n",
    "for i in range(n):\r\n",
    "    for j in range(i+1, n):\r\n",
    "        for k in range(j+1, n):\r\n",
    "            # i+j+k를 f에 빼줌 = tmp\r\n",
    "            # f에 가장 근접하다면 + tmp가 양수여야함\r\n",
    "            tmp = f - (arr[i] + arr[j] + arr[k]) \r\n",
    "            if tmp < min and tmp >= 0:\r\n",
    "                min = tmp\r\n",
    "                sum = arr[i]+arr[j]+arr[k]\r\n",
    "                \r\n",
    "\r\n",
    "print(sum)\r\n",
    "\r\n",
    "\r\n"
   ],
   "outputs": [
    {
     "output_type": "stream",
     "name": "stdout",
     "text": [
      "21\n"
     ]
    }
   ],
   "metadata": {}
  }
 ],
 "metadata": {
  "orig_nbformat": 4,
  "language_info": {
   "name": "python",
   "version": "3.8.5",
   "mimetype": "text/x-python",
   "codemirror_mode": {
    "name": "ipython",
    "version": 3
   },
   "pygments_lexer": "ipython3",
   "nbconvert_exporter": "python",
   "file_extension": ".py"
  },
  "kernelspec": {
   "name": "python3",
   "display_name": "Python 3.8.5 64-bit ('base': conda)"
  },
  "interpreter": {
   "hash": "81633e02b4f1afd1cc0c66085616c53052b8ad9646c0c5b7d4c3487792a772f4"
  }
 },
 "nbformat": 4,
 "nbformat_minor": 2
}