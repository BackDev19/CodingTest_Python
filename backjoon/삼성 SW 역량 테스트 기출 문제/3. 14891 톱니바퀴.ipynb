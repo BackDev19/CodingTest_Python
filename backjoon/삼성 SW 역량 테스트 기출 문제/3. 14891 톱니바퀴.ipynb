{
 "cells": [
  {
   "cell_type": "code",
   "execution_count": 23,
   "metadata": {},
   "outputs": [
    {
     "name": "stdout",
     "output_type": "stream",
     "text": [
      "6\n"
     ]
    }
   ],
   "source": [
    "import sys\n",
    "from collections import deque\n",
    "sys.stdin = open(\"./input/input3.txt\", \"rt\")\n",
    "input = sys.stdin.readline\n",
    "\n",
    "# 총 8개의 톱니를 가지고 있는 톱니바퀴 4개. 1,2,3,4 순\n",
    "# 톱니바퀴를 총 k번 회전\n",
    "\n",
    "# 시계, 반시계방향으로 회전 가능\n",
    "# 맞닿은 극에 따라서 옆에 있는 톱니 회전, 회전 x\n",
    "# ex) 톱니바퀴 A를 회전 -> B와 맞닿은 극이 다르다면 반대방향으로 회전\n",
    "# 극이 같다면 회전 x\n",
    "\n",
    "# 톱니바퀴의 초기상태와 회전시킨 바업이 주어졌을 때, 회종 톱니바퀴의 상태 구하기\n",
    "\n",
    "# 입력\n",
    "# 4개의 톱니바퀴의 상태 8개의 정수, 12방향부터 시계방향 순서\n",
    "# N극은 0, S극은 1\n",
    "\n",
    "# 다섯째 줄에는 회전 횟수\n",
    "# k개 줄에는 회전시킨 방법\n",
    "# 2개의 정수. 첫 번째 정수는 회전시킨 톱니바퀴의 번호, 두번째 정수는 방향\n",
    "# 1인 경우는 시계 방향, -1인 경우는 반시계 방향\n",
    "\n",
    "# 총 K번 회전시킨 이후에 네 톱니바퀴의 점수의 합을 출력한다. 점수란 다음과 같이 계산한다.\n",
    "\n",
    "# 1번 톱니바퀴의 12시방향이 N극이면 0점, S극이면 1점\n",
    "# 2번 톱니바퀴의 12시방향이 N극이면 0점, S극이면 2점\n",
    "# 3번 톱니바퀴의 12시방향이 N극이면 0점, S극이면 4점\n",
    "# 4번 톱니바퀴의 12시방향이 N극이면 0점, S극이면 8점\n",
    "\n",
    "def rotate(num, direction):\n",
    "\n",
    "    # 한번 rotate를 실행했다면 return\n",
    "    if (0 > num or num >= 4) or visited[num]:\n",
    "        return\n",
    "\n",
    "    # 실행하지 않은 경우 방문한 톱니를 True\n",
    "    global topni\n",
    "    visited[num] = True\n",
    "\n",
    "    # topni[num][2]와 topni[num][6] = 우측 비교\n",
    "    if num + 1 < 4:\n",
    "        if topni[num][2] != topni[num + 1][6]:\n",
    "            rotate(num + 1, direction * (-1))\n",
    "    \n",
    "    # topni[num-1][2]와 topni[num][6] = 좌측 비교\n",
    "    if num - 1 >= 0:\n",
    "        if topni[num-1][2] != topni[num][6]:\n",
    "            rotate(num - 1, direction * (-1))\n",
    "    \n",
    "    topni[num].rotate(direction)\n",
    "\n",
    "topni = [deque(list(map(int, input().rstrip()))) for _ in range(4)]\n",
    "\n",
    "k = int(input())\n",
    "\n",
    "for _ in range(k):\n",
    "    n, dir = map(int, input().split())\n",
    "\n",
    "    # print(*topni, sep='\\n')\n",
    "    # 톱니 회전\n",
    "    visited = [False] * 4\n",
    "    rotate(n-1, dir)\n",
    "    # print()\n",
    "    # print(*topni, sep='\\n')\n",
    "    # print()\n",
    "\n",
    "# 값 계산\n",
    "# 맨 위의 값이 S인 경우 score * 2\n",
    "answer = 0\n",
    "score = 1\n",
    "for i in range(4):\n",
    "    if topni[i][0] == 1:\n",
    "        answer += score\n",
    "    \n",
    "    score *= 2\n",
    "\n",
    "print(answer)\n",
    "    "
   ]
  }
 ],
 "metadata": {
  "kernelspec": {
   "display_name": "Python 3",
   "language": "python",
   "name": "python3"
  },
  "language_info": {
   "codemirror_mode": {
    "name": "ipython",
    "version": 3
   },
   "file_extension": ".py",
   "mimetype": "text/x-python",
   "name": "python",
   "nbconvert_exporter": "python",
   "pygments_lexer": "ipython3",
   "version": "3.8.6"
  },
  "orig_nbformat": 4,
  "vscode": {
   "interpreter": {
    "hash": "2ba6819d172d60e93b2f90e5d47af36d4f36070393882cfcbe0fef625705f185"
   }
  }
 },
 "nbformat": 4,
 "nbformat_minor": 2
}
