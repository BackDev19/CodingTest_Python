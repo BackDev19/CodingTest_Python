{
 "cells": [
  {
   "cell_type": "code",
   "execution_count": 75,
   "metadata": {},
   "outputs": [
    {
     "name": "stdout",
     "output_type": "stream",
     "text": [
      "9\n"
     ]
    }
   ],
   "source": [
    "import sys\n",
    "from collections import deque\n",
    "sys.stdin = open(\"./input/input2.txt\", \"rt\")\n",
    "input = sys.stdin.readline\n",
    "\n",
    "# 사과를 먹으면 뱀 길이가 늘어난다\n",
    "# 벽 또는 자기 자신의 몸과 부딪히면 게임이 끝남\n",
    "# 1, 1 시작. 뱀의 길이는 1이고, 처음에 오른쪽을 향한다\n",
    "# N x N 정사각 보드\n",
    "\n",
    "# 규칙\n",
    "# 뱀은 매 초마다 이동\n",
    "# 1. 몸길이를 늘려 머리를 다음칸에 위치\n",
    "# 2. 이동한 칸에 사과가 있다면, 사과가 없어지고 꼬리는 움직이지 않는다\n",
    "# 3. 사과가 없다면, 꼬리가 위치한 칸을 비워준다 몸길이는 변하지 않는다\n",
    "\n",
    "# 게임이 몇 초에 끝나는지 계산\n",
    "# 보드의 크기 N, 사과의 개수 K\n",
    "# K개의 줄에는 사과의 위치\n",
    "# 첫 번째 정수는 행, 두 번째 정수는 열\n",
    "# 사과의 위치는 모두 다르며, 1행 1열에는 사과 x\n",
    "\n",
    "# L개의 줄에는 뱀의 방향 변환 정보. X와 C로 이루어져 있음\n",
    "# X초가 끝난 뒤에 L왼쪽 또는 D오른쪽으로 90도 방향을 회전\n",
    "# X가 증가하는 순으로 주어진다\n",
    "\n",
    "# 뱀 이동\n",
    "def move():\n",
    "    global snake\n",
    "    tail = snake[-1][:]\n",
    "\n",
    "    # 머리부\n",
    "    # 머리 부분은 사과먹기 진행\n",
    "    # 가독성을 위해 nx, ny로 활용\n",
    "    nx = snake[0][0] + dx[direction]\n",
    "    ny = snake[0][1] + dy[direction]\n",
    "\n",
    "    # 범위 아웃 : return False\n",
    "    if 0 > nx or n <= nx or 0 > ny or n <= ny:\n",
    "        return False\n",
    "    \n",
    "    # 머리가 몸통안에 포함되어있다면 False를 return\n",
    "    if [nx, ny] in snake[:]:\n",
    "        return False\n",
    "\n",
    "    # 사과가 있다면 사과 지우고 머리 붙이기\n",
    "    if graph[nx][ny] == 1:\n",
    "        graph[nx][ny] = 0\n",
    "        snake.insert(0, [nx, ny])\n",
    "    # 사과가 없다면, 머리 붙이고\n",
    "    else:\n",
    "        snake.insert(0, [nx, ny])\n",
    "        snake.pop()\n",
    "    \n",
    "    # # 뱀의 머리 이동\n",
    "    # snake[0][0] = nx\n",
    "    # snake[0][1] = ny\n",
    "\n",
    "    return True\n",
    "\n",
    "n = int(input())\n",
    "k = int(input())\n",
    "\n",
    "graph = [[0] * (n) for _ in range(n)]\n",
    "for _ in range(k):\n",
    "    a, b = map(int, input().split())\n",
    "    graph[a-1][b-1] = 1\n",
    "\n",
    "L = int(input())\n",
    "info = deque()\n",
    "\n",
    "for _ in range(L):\n",
    "    x, c = input().split()\n",
    "    info.append((int(x), c))\n",
    "\n",
    "# snake = [[1, 2], [1, 1], [0, 1]]\n",
    "snake = [[0, 0]]\n",
    "time = 0\n",
    "\n",
    "# 상 우 하 좌\n",
    "dx = [-1, 0, 1, 0]\n",
    "dy = [0, 1, 0, -1]\n",
    "\n",
    "direction = 1\n",
    "\n",
    "count = 0\n",
    "while True:\n",
    "    count += 1\n",
    "\n",
    "    # out될 일이 있다면 break\n",
    "    if not move():\n",
    "        break\n",
    "    \n",
    "    if info and count == info[0][0]:\n",
    "        time, dir = info.popleft()\n",
    "        # 좌측이면, 반시계방향\n",
    "        if dir == 'L':\n",
    "            direction = (direction - 1) % 4\n",
    "        else:\n",
    "            direction = (direction + 1) % 4\n",
    "\n",
    "    # print(*graph,sep='\\n')\n",
    "    # print(snake)\n",
    "    # print(count, direction)\n",
    "\n",
    "print(count)"
   ]
  },
  {
   "cell_type": "code",
   "execution_count": 43,
   "metadata": {},
   "outputs": [
    {
     "name": "stdout",
     "output_type": "stream",
     "text": [
      "2\n"
     ]
    }
   ],
   "source": [
    "a = (-2) % 4\n",
    "print(a)"
   ]
  },
  {
   "cell_type": "code",
   "execution_count": 5,
   "metadata": {},
   "outputs": [
    {
     "name": "stdout",
     "output_type": "stream",
     "text": [
      "True\n"
     ]
    }
   ],
   "source": [
    "a = [[1, 2], [2, 3], [5, 2], [1, 2]]\n",
    "print([1, 2] in a[1:])"
   ]
  },
  {
   "cell_type": "code",
   "execution_count": 61,
   "metadata": {},
   "outputs": [
    {
     "name": "stdout",
     "output_type": "stream",
     "text": [
      "deque([[0, 0], [1, 1]])\n"
     ]
    }
   ],
   "source": [
    "from collections import deque\n",
    "\n",
    "dir = deque([[0, 0], [1, 1]])\n",
    "if 0 in dir[0]:\n",
    "    print(dir)"
   ]
  },
  {
   "cell_type": "code",
   "execution_count": 58,
   "metadata": {},
   "outputs": [],
   "source": [
    "dir = [[8, 'D'], [10, 'D']]\n",
    "if 8 in dir:\n",
    "    print('gd')"
   ]
  },
  {
   "cell_type": "code",
   "execution_count": 38,
   "metadata": {},
   "outputs": [
    {
     "name": "stdout",
     "output_type": "stream",
     "text": [
      "gd\n"
     ]
    }
   ],
   "source": [
    "q = [0, 0, 1, 2]\n",
    "if q[0] in q[1:]:\n",
    "    print('gd')"
   ]
  },
  {
   "cell_type": "code",
   "execution_count": 19,
   "metadata": {},
   "outputs": [
    {
     "name": "stdout",
     "output_type": "stream",
     "text": [
      "0\n"
     ]
    }
   ],
   "source": [
    "from collections import deque\n",
    "q = deque([[0, 0]])\n",
    "print(q[0][1])"
   ]
  },
  {
   "cell_type": "code",
   "execution_count": 13,
   "metadata": {},
   "outputs": [
    {
     "ename": "IndexError",
     "evalue": "list assignment index out of range",
     "output_type": "error",
     "traceback": [
      "\u001b[1;31m---------------------------------------------------------------------------\u001b[0m",
      "\u001b[1;31mIndexError\u001b[0m                                Traceback (most recent call last)",
      "\u001b[1;32mc:\\Users\\황인권\\OneDrive - 동국대학교\\문서\\CodingTest_Python\\backjoon\\삼성 SW 역량 테스트 기출 문제\\2. 3190 뱀.ipynb Cell 2\u001b[0m in \u001b[0;36m<cell line: 6>\u001b[1;34m()\u001b[0m\n\u001b[0;32m      <a href='vscode-notebook-cell:/c%3A/Users/%ED%99%A9%EC%9D%B8%EA%B6%8C/OneDrive%20-%20%EB%8F%99%EA%B5%AD%EB%8C%80%ED%95%99%EA%B5%90/%EB%AC%B8%EC%84%9C/CodingTest_Python/backjoon/%EC%82%BC%EC%84%B1%20SW%20%EC%97%AD%EB%9F%89%20%ED%85%8C%EC%8A%A4%ED%8A%B8%20%EA%B8%B0%EC%B6%9C%20%EB%AC%B8%EC%A0%9C/2.%203190%20%EB%B1%80.ipynb#W1sZmlsZQ%3D%3D?line=7'>8</a>\u001b[0m         nx \u001b[39m=\u001b[39m x \u001b[39m+\u001b[39m dx[\u001b[39m0\u001b[39m]\n\u001b[0;32m      <a href='vscode-notebook-cell:/c%3A/Users/%ED%99%A9%EC%9D%B8%EA%B6%8C/OneDrive%20-%20%EB%8F%99%EA%B5%AD%EB%8C%80%ED%95%99%EA%B5%90/%EB%AC%B8%EC%84%9C/CodingTest_Python/backjoon/%EC%82%BC%EC%84%B1%20SW%20%EC%97%AD%EB%9F%89%20%ED%85%8C%EC%8A%A4%ED%8A%B8%20%EA%B8%B0%EC%B6%9C%20%EB%AC%B8%EC%A0%9C/2.%203190%20%EB%B1%80.ipynb#W1sZmlsZQ%3D%3D?line=8'>9</a>\u001b[0m         ny \u001b[39m=\u001b[39m y \u001b[39m+\u001b[39m dy[\u001b[39m0\u001b[39m]\n\u001b[1;32m---> <a href='vscode-notebook-cell:/c%3A/Users/%ED%99%A9%EC%9D%B8%EA%B6%8C/OneDrive%20-%20%EB%8F%99%EA%B5%AD%EB%8C%80%ED%95%99%EA%B5%90/%EB%AC%B8%EC%84%9C/CodingTest_Python/backjoon/%EC%82%BC%EC%84%B1%20SW%20%EC%97%AD%EB%9F%89%20%ED%85%8C%EC%8A%A4%ED%8A%B8%20%EA%B8%B0%EC%B6%9C%20%EB%AC%B8%EC%A0%9C/2.%203190%20%EB%B1%80.ipynb#W1sZmlsZQ%3D%3D?line=9'>10</a>\u001b[0m         snake[i] \u001b[39m=\u001b[39m [nx, ny]\n\u001b[0;32m     <a href='vscode-notebook-cell:/c%3A/Users/%ED%99%A9%EC%9D%B8%EA%B6%8C/OneDrive%20-%20%EB%8F%99%EA%B5%AD%EB%8C%80%ED%95%99%EA%B5%90/%EB%AC%B8%EC%84%9C/CodingTest_Python/backjoon/%EC%82%BC%EC%84%B1%20SW%20%EC%97%AD%EB%9F%89%20%ED%85%8C%EC%8A%A4%ED%8A%B8%20%EA%B8%B0%EC%B6%9C%20%EB%AC%B8%EC%A0%9C/2.%203190%20%EB%B1%80.ipynb#W1sZmlsZQ%3D%3D?line=11'>12</a>\u001b[0m \u001b[39mprint\u001b[39m(snake)\n",
      "\u001b[1;31mIndexError\u001b[0m: list assignment index out of range"
     ]
    }
   ],
   "source": [
    "snake = [[0, 0], [1, 1]]\n",
    "dx = [1, 0, -1, 0]\n",
    "dy = [0, 1, 0, -1]\n",
    "\n",
    "\n",
    "for x, y in snake:\n",
    "    for i in range(4):\n",
    "        nx = x + dx[0]\n",
    "        ny = y + dy[0]\n",
    "        snake[i] = [nx, ny]\n",
    "\n",
    "print(snake)"
   ]
  }
 ],
 "metadata": {
  "kernelspec": {
   "display_name": "Python 3",
   "language": "python",
   "name": "python3"
  },
  "language_info": {
   "codemirror_mode": {
    "name": "ipython",
    "version": 3
   },
   "file_extension": ".py",
   "mimetype": "text/x-python",
   "name": "python",
   "nbconvert_exporter": "python",
   "pygments_lexer": "ipython3",
   "version": "3.8.6"
  },
  "orig_nbformat": 4,
  "vscode": {
   "interpreter": {
    "hash": "2ba6819d172d60e93b2f90e5d47af36d4f36070393882cfcbe0fef625705f185"
   }
  }
 },
 "nbformat": 4,
 "nbformat_minor": 2
}
