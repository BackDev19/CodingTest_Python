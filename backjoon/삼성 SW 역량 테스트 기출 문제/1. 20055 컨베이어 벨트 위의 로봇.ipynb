{
 "cells": [
  {
   "cell_type": "code",
   "execution_count": 25,
   "metadata": {},
   "outputs": [
    {
     "name": "stdout",
     "output_type": "stream",
     "text": [
      "472\n"
     ]
    }
   ],
   "source": [
    "import sys\n",
    "from collections import deque\n",
    "sys.stdin = open(\"./input/input1.txt\", \"rt\")\n",
    "input = sys.stdin.readline\n",
    "\n",
    "# 길이가 N, 길이가 2N인 벨트\n",
    "# 1 ~ 2N-1은 다음칸, 2N번 칸은 1번 칸으로\n",
    "# i번 칸의 내구도는 Ai\n",
    "# 1번은 올리는 위치, N은 내리는 위치\n",
    "# 로봇은 올리는 위치에만 가능, 내리는 위치에 도달하면 내린다\n",
    "# 로봇은 컨베이어 벨트 위에서 스스로 이동 가능\n",
    "# 로봇을 올리는 위치에 올리거나 어떤 칸으로 이동하면 칸의 내구도가 1씩 감소\n",
    "\n",
    "# 로봇을 옮기는 과정\n",
    "# 1. 벨트가 각 칸 위에 있는 로봇과 한 칸 회전\n",
    "# 2. 가장 먼저 벨트에 올라간 로봇부터, 회전하는 방향으로 한칸 이동할 수 있다면 이동, 이동할 수 없다면 가만히\n",
    "# 2-1. 이동하기 위해서는 이동하려는 칸에 로봇 x, 그 칸의 내구도가 1 이상\n",
    "# 3. 올리는 위치에 칸의 내구도가 0이 아니면 올리는 위치에 로봇을 올린다\n",
    "# 4. 내구도가 0인 칸의 개수가 K개 이상 -> 과정 종료, 그 외에는 1번으로 돌아간다\n",
    "# 종료되었을 때 몇 번째 단계가 진행 중이었는지\n",
    "\n",
    "\n",
    "# 풀이\n",
    "# 가장 먼저 벨트를 회전 => 내리는 위치면 내리기\n",
    "# 로봇들이 있다면, 조건을 확인하고 이동 -> 내리는 위치면 내리기\n",
    "# 내구도가 0이 아니라면 올리기\n",
    "# 내구도 0인 칸이 k개 이상 -> 종료\n",
    "\n",
    "def cycle(belt, robot):\n",
    "    belt.appendleft(belt.pop())\n",
    "    robot.appendleft(robot.pop())\n",
    "\n",
    "    # 내리는 위치에 로봇이 있다면, \n",
    "    if robot[n-1] == 1:\n",
    "        robot[n-1] = 0\n",
    "\n",
    "# 로봇 이동\n",
    "def move(belt, robot):\n",
    "    for i in range(n-2, -1, -1):\n",
    "        # i번 위치에 로봇이 있다면, i+1번째 위치에 로봇이 있는지 확인 + belt의 내구도가 1 이상인지\n",
    "        # robot[i+1]에 로봇의 위치를 옮기고, 기존것은 0으로\n",
    "        # i+1의 내구도는 한칸 감소\n",
    "        if robot[i] == 1:\n",
    "            if robot[i+1] == 0 and belt[i+1] >= 1:\n",
    "                robot[i+1] = 1\n",
    "                robot[i] = 0\n",
    "                belt[i+1] -= 1\n",
    "\n",
    "        # 내리는 위치에 있다면, 로봇 내리기\n",
    "        if robot[n-1] == 1:\n",
    "            robot[n-1] = 0\n",
    "\n",
    "# 로봇 올리기\n",
    "def up(belt, robot):\n",
    "    # 내구도가 1 이상이라면, 로봇을 올리고 내구도가 1 감소\n",
    "    if belt[0] >= 1:\n",
    "        robot[0] = 1\n",
    "        belt[0] -= 1\n",
    "\n",
    "n, k = map(int, input().split())\n",
    "belt = deque(list(map(int, input().split())))\n",
    "robot = deque([0] * (2*n))\n",
    "\n",
    "# print(belt)\n",
    "# print(robot)\n",
    "\n",
    "count = 1\n",
    "\n",
    "while True:\n",
    "    # 벨트를 회전\n",
    "    cycle(belt, robot)\n",
    "    # print(belt, robot)\n",
    "\n",
    "    # 로봇 이동\n",
    "    move(belt, robot)\n",
    "    # print(belt, robot)\n",
    "\n",
    "    # 로봇 올리기\n",
    "    up(belt, robot)\n",
    "    # print(belt, robot)\n",
    "\n",
    "    if belt.count(0) >= k:\n",
    "        break\n",
    "\n",
    "    count += 1\n",
    "\n",
    "print(count)"
   ]
  },
  {
   "cell_type": "code",
   "execution_count": 40,
   "metadata": {},
   "outputs": [
    {
     "name": "stdout",
     "output_type": "stream",
     "text": [
      "deque([1, 2, 3])\n"
     ]
    }
   ],
   "source": [
    "from collections import deque\n",
    "arr = deque([1, 2, 3])\n",
    "arr.rotate(1)\n",
    "print(arr)"
   ]
  }
 ],
 "metadata": {
  "kernelspec": {
   "display_name": "Python 3",
   "language": "python",
   "name": "python3"
  },
  "language_info": {
   "codemirror_mode": {
    "name": "ipython",
    "version": 3
   },
   "file_extension": ".py",
   "mimetype": "text/x-python",
   "name": "python",
   "nbconvert_exporter": "python",
   "pygments_lexer": "ipython3",
   "version": "3.8.6"
  },
  "orig_nbformat": 4,
  "vscode": {
   "interpreter": {
    "hash": "2ba6819d172d60e93b2f90e5d47af36d4f36070393882cfcbe0fef625705f185"
   }
  }
 },
 "nbformat": 4,
 "nbformat_minor": 2
}
