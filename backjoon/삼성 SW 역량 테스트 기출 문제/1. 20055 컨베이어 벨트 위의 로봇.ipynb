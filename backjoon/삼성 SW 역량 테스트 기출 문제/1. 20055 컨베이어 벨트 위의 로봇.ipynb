{
 "cells": [
  {
   "cell_type": "code",
   "execution_count": null,
   "metadata": {},
   "outputs": [],
   "source": [
    "import sys\n",
    "sys.stdin = open(\"input.txt\", \"rt\")\n",
    "input = sys.stdin.readline\n",
    "\n",
    "# 길이가 N, 길이가 2N인 벨트\n",
    "# 1 ~ 2N-1은 다음칸, 2N번 칸은 1번 칸으로\n",
    "# i번 칸의 내구도는 Ai\n",
    "# 1번은 올리는 위치, N은 내리는 위치\n",
    "# 로봇은 올리는 위치에만 가능, 내리는 위치에 도달하면 내린다\n",
    "# 로봇은 컨베이어 벨트 위에서 스스로 이동 가능\n",
    "# 로봇을 올리는 위치에 올리거나 어떤 칸으로 이동하면 칸의 내구도가 1씩 감소\n",
    "\n",
    "# 로봇을 옮기는 과정\n",
    "# 1. 벨트가 각 칸 위에 있는 로봇과 한 칸 회전\n",
    "# 2. 가장 먼저 벨트에 올라간 로봇부터, 회전하는 방향으로 한칸 이동할 수 있다면 이동, 이동할 수 없다면 가만히\n",
    "# 2-1. 이동하기 위해서는 이동하려는 칸에 로봇 x, 그 칸의 내구도가 1 이상\n",
    "# 3. 올리는 위치에 칸의 내구도가 0이 아니면 올리는 위치에 로봇을 올린다\n",
    "# 4. 내구도가 0인 칸의 개수가 K개 이상 -> 과정 종료, 그 외에는 1번으로 돌아간다\n",
    "# 종료되었을 때 몇 번째 단계가 진행 중이었는지\n",
    "\n",
    "\n"
   ]
  }
 ],
 "metadata": {
  "kernelspec": {
   "display_name": "Python 3",
   "language": "python",
   "name": "python3"
  },
  "language_info": {
   "codemirror_mode": {
    "name": "ipython",
    "version": 3
   },
   "file_extension": ".py",
   "mimetype": "text/x-python",
   "name": "python",
   "nbconvert_exporter": "python",
   "pygments_lexer": "ipython3",
   "version": "3.8.6"
  },
  "orig_nbformat": 4,
  "vscode": {
   "interpreter": {
    "hash": "2ba6819d172d60e93b2f90e5d47af36d4f36070393882cfcbe0fef625705f185"
   }
  }
 },
 "nbformat": 4,
 "nbformat_minor": 2
}
