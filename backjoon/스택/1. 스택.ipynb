{
 "cells": [
  {
   "cell_type": "code",
   "execution_count": 4,
   "metadata": {},
   "outputs": [
    {
     "name": "stdout",
     "output_type": "stream",
     "text": [
      "-1\n",
      "-1\n",
      "123\n",
      "123\n",
      "-1\n",
      "-1\n"
     ]
    }
   ],
   "source": [
    "import sys\n",
    "sys.stdin = open(\"./input/input1.txt\", \"rt\")\n",
    "\n",
    "n = int(sys.stdin.readline())\n",
    "\n",
    "# 1. split을 통해서 데이터가 들어왓는지 확인해볼 것\n",
    "# 2. 데이터 중에서 push가 있다면, data[1]의 값을 push할 것\n",
    "result = []\n",
    "for _ in range(n):\n",
    "    data = list(sys.stdin.readline().split())\n",
    "    if data[0] in 'push':\n",
    "        result.append(int(data[1]))\n",
    "    elif data[0] in 'pop':\n",
    "        if result:\n",
    "            print(result.pop())\n",
    "        else:\n",
    "            print(-1)\n",
    "    elif data[0] in 'size':\n",
    "        print(len(result))\n",
    "    elif data[0] in 'empty':\n",
    "        if not result:\n",
    "            print(1)\n",
    "        else:\n",
    "            print(0)\n",
    "    elif data[0] in 'top':\n",
    "        if result:\n",
    "            print(result[-1])\n",
    "        else:\n",
    "            print(-1)\n"
   ]
  }
 ],
 "metadata": {
  "kernelspec": {
   "display_name": "Python 3.8.6 64-bit (system)",
   "language": "python",
   "name": "python3"
  },
  "language_info": {
   "codemirror_mode": {
    "name": "ipython",
    "version": 3
   },
   "file_extension": ".py",
   "mimetype": "text/x-python",
   "name": "python",
   "nbconvert_exporter": "python",
   "pygments_lexer": "ipython3",
   "version": "3.8.6"
  },
  "orig_nbformat": 4,
  "vscode": {
   "interpreter": {
    "hash": "2ba6819d172d60e93b2f90e5d47af36d4f36070393882cfcbe0fef625705f185"
   }
  }
 },
 "nbformat": 4,
 "nbformat_minor": 2
}
