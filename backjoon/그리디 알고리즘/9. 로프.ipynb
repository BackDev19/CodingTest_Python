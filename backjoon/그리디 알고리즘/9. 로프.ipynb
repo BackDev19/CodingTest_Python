{
 "cells": [
  {
   "cell_type": "code",
   "execution_count": 10,
   "metadata": {},
   "outputs": [
    {
     "name": "stdout",
     "output_type": "stream",
     "text": [
      "20\n"
     ]
    }
   ],
   "source": [
    "import sys\n",
    "sys.stdin = open(\"./input/input9.txt\", \"rt\")\n",
    "\n",
    "# ex) 10 10 40 이면, 총 30을 들어올릴 수 있음 ex) 30 / 3\n",
    "# 하지만, 40혼자만 사용한다면 40을 들어올릴 수 있음\n",
    "\n",
    "n = int(sys.stdin.readline())\n",
    "rope = []\n",
    "for _ in range(n):\n",
    "    rope.append(int(sys.stdin.readline()))\n",
    "\n",
    "rope.sort(reverse=True)\n",
    "result = []\n",
    "\n",
    "def maxWeight():\n",
    "    for i in range(n):\n",
    "        result.append(rope[i] * (i+1))\n",
    "    return max(result)\n",
    "\n",
    "print(maxWeight())"
   ]
  }
 ],
 "metadata": {
  "kernelspec": {
   "display_name": "Python 3.8.6 64-bit (system)",
   "language": "python",
   "name": "python3"
  },
  "language_info": {
   "codemirror_mode": {
    "name": "ipython",
    "version": 3
   },
   "file_extension": ".py",
   "mimetype": "text/x-python",
   "name": "python",
   "nbconvert_exporter": "python",
   "pygments_lexer": "ipython3",
   "version": "3.8.6"
  },
  "orig_nbformat": 4,
  "vscode": {
   "interpreter": {
    "hash": "2ba6819d172d60e93b2f90e5d47af36d4f36070393882cfcbe0fef625705f185"
   }
  }
 },
 "nbformat": 4,
 "nbformat_minor": 2
}
