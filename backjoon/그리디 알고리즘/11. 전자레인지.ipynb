{
 "cells": [
  {
   "cell_type": "code",
   "execution_count": 14,
   "metadata": {},
   "outputs": [
    {
     "name": "stdout",
     "output_type": "stream",
     "text": [
      "-1 "
     ]
    }
   ],
   "source": [
    "# 만일 요리시간이 100초라고 하면(T=100) B를 1번, C는 4번 누르면 된다. \n",
    "# 이와 다르게 C를 10번 눌러도 100초가 되지만 이 경우 10번은 최소 횟수가 아니기 때문이 답이 될 수 없다. \n",
    "# 이 경우 B 1번, C 4번, 총 5번이 최소버튼 조작이다. \n",
    "# 그리고 T=234와 같이 3개의 버튼으로 시간을 정확히 맞출 수 없는 경우도 있다. \n",
    "\n",
    "# 여러분은 주어진 요리시간 T초를 맞추기 위한 최소버튼 조작 방법을 구하는 프로그램을 작성해야 한다. \n",
    "\n",
    "import sys\n",
    "sys.stdin = open(\"./input/input11.txt\", \"rt\")\n",
    "\n",
    "time = [300, 60, 10]\n",
    "t = int(sys.stdin.readline())\n",
    "\n",
    "def solution():\n",
    "    global t\n",
    "    # 1. for문으로 time을 순회하면서\n",
    "    # 2. t % x\n",
    "    # 3. t가 남아있다면, -1\n",
    "    result = []\n",
    "    for x in time:\n",
    "        result.append(t // x)\n",
    "        t = t % x\n",
    "    if t > 0 :\n",
    "        return [-1]\n",
    "    else:\n",
    "        return result\n",
    "\n",
    "\n",
    "res = solution()\n",
    "for x in res:\n",
    "    print(x, end = ' ')\n",
    "\n"
   ]
  }
 ],
 "metadata": {
  "kernelspec": {
   "display_name": "Python 3.8.6 64-bit (system)",
   "language": "python",
   "name": "python3"
  },
  "language_info": {
   "codemirror_mode": {
    "name": "ipython",
    "version": 3
   },
   "file_extension": ".py",
   "mimetype": "text/x-python",
   "name": "python",
   "nbconvert_exporter": "python",
   "pygments_lexer": "ipython3",
   "version": "3.8.6"
  },
  "orig_nbformat": 4,
  "vscode": {
   "interpreter": {
    "hash": "2ba6819d172d60e93b2f90e5d47af36d4f36070393882cfcbe0fef625705f185"
   }
  }
 },
 "nbformat": 4,
 "nbformat_minor": 2
}
