{
 "cells": [
  {
   "cell_type": "code",
   "execution_count": 27,
   "metadata": {},
   "outputs": [
    {
     "name": "stdout",
     "output_type": "stream",
     "text": [
      "4\n",
      "3\n"
     ]
    }
   ],
   "source": [
    "from audioop import reverse\n",
    "import sys\n",
    "sys.stdin = open(\"./input/input13.txt\", \"rt\")\n",
    "\n",
    "# 그래서 진영 주식회사는, 다른 모든 지원자와 비교했을 때 서류심사 성적과 면접시험 성적 중 \n",
    "# 적어도 하나가 다른 지원자보다 떨어지지 않는 자만 선발한다는 원칙을 세웠다. \n",
    "\n",
    "# testcase, 지원자의 수, 성적, 면접 성적\n",
    "case = int(sys.stdin.readline())\n",
    "arr = []\n",
    "\n",
    "# 1. arr을 정렬 \n",
    "# 2. cur를 arr[0][1] 대입\n",
    "# 3. cur > arr[i][1] 이라면, cur = arr[i][1] cnt += 1 (순위임)\n",
    "# 4. return 해줄 것\n",
    "def count(arr):\n",
    "    arr.sort()\n",
    "    \n",
    "    cur = arr[0][1]\n",
    "    cnt = 1\n",
    "\n",
    "    for i in range(1, len(arr)):\n",
    "        if cur > arr[i][1]:\n",
    "            cur = arr[i][1]\n",
    "            cnt += 1\n",
    "    return cnt\n",
    "\n",
    "\n",
    "res = []\n",
    "for _ in range(case):\n",
    "    num = int(sys.stdin.readline())\n",
    "    arr.clear()\n",
    "    \n",
    "    for _ in range(num):\n",
    "        score1, score2 = map(int, sys.stdin.readline().split())\n",
    "        arr.append((score1, score2))\n",
    "\n",
    "    res.append(count(arr))\n",
    "\n",
    "for x in res:\n",
    "    print(x)\n",
    "\n"
   ]
  },
  {
   "cell_type": "code",
   "execution_count": 6,
   "metadata": {},
   "outputs": [
    {
     "name": "stdout",
     "output_type": "stream",
     "text": [
      "[(1, 2), (4, 3), (2, 4), (3, 5), (2, 7)]\n"
     ]
    }
   ],
   "source": [
    "x = [\n",
    "    (1,2), \n",
    "    (4,3),\n",
    "    (3,5),\n",
    "    (2,7),\n",
    "    (2,4)]\n",
    "\n",
    "x.sort(key = lambda x : [x[1], x[0]])\n",
    "print(x)"
   ]
  },
  {
   "cell_type": "code",
   "execution_count": null,
   "metadata": {},
   "outputs": [],
   "source": []
  }
 ],
 "metadata": {
  "kernelspec": {
   "display_name": "Python 3.8.6 64-bit (system)",
   "language": "python",
   "name": "python3"
  },
  "language_info": {
   "codemirror_mode": {
    "name": "ipython",
    "version": 3
   },
   "file_extension": ".py",
   "mimetype": "text/x-python",
   "name": "python",
   "nbconvert_exporter": "python",
   "pygments_lexer": "ipython3",
   "version": "3.8.6"
  },
  "orig_nbformat": 4,
  "vscode": {
   "interpreter": {
    "hash": "2ba6819d172d60e93b2f90e5d47af36d4f36070393882cfcbe0fef625705f185"
   }
  }
 },
 "nbformat": 4,
 "nbformat_minor": 2
}
