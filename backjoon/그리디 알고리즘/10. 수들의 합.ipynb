{
 "cells": [
  {
   "cell_type": "code",
   "execution_count": 21,
   "metadata": {},
   "outputs": [
    {
     "name": "stdout",
     "output_type": "stream",
     "text": [
      "19\n"
     ]
    }
   ],
   "source": [
    "# 서로 다른 N개의 자연수의 합이 S\n",
    "import sys\n",
    "sys.stdin = open(\"./input/input10.txt\", \"rt\")\n",
    "\n",
    "s = int(sys.stdin.readline())\n",
    "\n",
    "def solution():\n",
    "    res = 0\n",
    "    i = 1\n",
    "    global s\n",
    "\n",
    "    # 1. s에서 i를 하나씩 빼줌\n",
    "    # 2. s에서 i를 뺏을 때 s < 0보다 작다면, break\n",
    "    while s > 0:\n",
    "        s -= i\n",
    "        if s >= 0:\n",
    "            res = i\n",
    "        i += 1\n",
    "    \n",
    "    return res\n",
    "    \n",
    "print(solution())"
   ]
  },
  {
   "cell_type": "code",
   "execution_count": 6,
   "metadata": {},
   "outputs": [
    {
     "name": "stdout",
     "output_type": "stream",
     "text": [
      "1\n"
     ]
    }
   ],
   "source": [
    "n = 15\n",
    "def test():\n",
    "    return n - 14\n",
    "print(test())"
   ]
  }
 ],
 "metadata": {
  "kernelspec": {
   "display_name": "Python 3.8.6 64-bit (system)",
   "language": "python",
   "name": "python3"
  },
  "language_info": {
   "codemirror_mode": {
    "name": "ipython",
    "version": 3
   },
   "file_extension": ".py",
   "mimetype": "text/x-python",
   "name": "python",
   "nbconvert_exporter": "python",
   "pygments_lexer": "ipython3",
   "version": "3.8.6"
  },
  "orig_nbformat": 4,
  "vscode": {
   "interpreter": {
    "hash": "2ba6819d172d60e93b2f90e5d47af36d4f36070393882cfcbe0fef625705f185"
   }
  }
 },
 "nbformat": 4,
 "nbformat_minor": 2
}
