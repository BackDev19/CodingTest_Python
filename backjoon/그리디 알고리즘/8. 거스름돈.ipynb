{
 "cells": [
  {
   "cell_type": "code",
   "execution_count": 6,
   "metadata": {},
   "outputs": [
    {
     "name": "stdout",
     "output_type": "stream",
     "text": [
      "15\n"
     ]
    }
   ],
   "source": [
    "# JOI잡화점에는 잔돈으로 500엔, 100엔, 50엔, 10엔, 5엔, 1엔이 충분히 있고, \n",
    "# 거스름돈 개수가 가장 적게\n",
    "# 타로가 JOI잡화점에서 물건을 사고 카운터에서 1000엔 지폐를 한장 냈을 때, \n",
    "# 받을 잔돈에 포함된 잔돈의 개수를 구하는 프로그램을 작성하시오.\n",
    "\n",
    "import sys\n",
    "sys.stdin = open(\"./input/input8.txt\", \"rt\")\n",
    "\n",
    "pay = int(sys.stdin.readline())\n",
    "coin = [500, 100, 50, 10, 5, 1]\n",
    "i = 0\n",
    "cnt = 0\n",
    "\n",
    "money = 1000 - pay\n",
    "# cnt += money // coin[i]\n",
    "# 2. money = money % coin[i]\n",
    "# 3. \n",
    "while money > 0:\n",
    "    cnt += money // coin[i]\n",
    "    money = money % coin[i]\n",
    "    i += 1\n",
    "\n",
    "print(cnt)\n"
   ]
  }
 ],
 "metadata": {
  "kernelspec": {
   "display_name": "Python 3.8.6 64-bit (system)",
   "language": "python",
   "name": "python3"
  },
  "language_info": {
   "codemirror_mode": {
    "name": "ipython",
    "version": 3
   },
   "file_extension": ".py",
   "mimetype": "text/x-python",
   "name": "python",
   "nbconvert_exporter": "python",
   "pygments_lexer": "ipython3",
   "version": "3.8.6"
  },
  "orig_nbformat": 4,
  "vscode": {
   "interpreter": {
    "hash": "2ba6819d172d60e93b2f90e5d47af36d4f36070393882cfcbe0fef625705f185"
   }
  }
 },
 "nbformat": 4,
 "nbformat_minor": 2
}
