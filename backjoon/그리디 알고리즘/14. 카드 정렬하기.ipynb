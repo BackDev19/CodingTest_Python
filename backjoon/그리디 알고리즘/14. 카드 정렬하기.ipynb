{
 "cells": [
  {
   "cell_type": "code",
   "execution_count": null,
   "metadata": {},
   "outputs": [],
   "source": [
    "\n",
    "# 1. 그냥 순서대로 더하면 되는거 아님??\n",
    "# 1. 10과 20을 더하고\n",
    "# 2. 30 과 40을 더해서 반납\n",
    "\n",
    "# for문을 돌려서, sum에 누적시키면 됨\n",
    "# 1. sum = arr[0]\n",
    "# 1. for i in range(1, n):\n",
    "# 1. sum = arr[0] + arr[1]\n",
    "# 2. sum += sum + arr[i]\n",
    "\n",
    "\n",
    "# or sum = arr[0]\n",
    "# if i == 1\n",
    "# sum += arr[1]\n",
    "# elif i"
   ]
  },
  {
   "cell_type": "code",
   "execution_count": 20,
   "metadata": {},
   "outputs": [
    {
     "name": "stdout",
     "output_type": "stream",
     "text": [
      "100\n"
     ]
    }
   ],
   "source": [
    "import sys\n",
    "sys.stdin = open(\"./input/input14.txt\", \"rt\")\n",
    "\n",
    "n = int(sys.stdin.readline())\n",
    "arr = []\n",
    "for _ in range(n):\n",
    "    arr.append(int(sys.stdin.readline()))\n",
    "\n",
    "arr.sort()\n",
    "def solution():\n",
    "    sum = 0\n",
    "    for i in range(n):\n",
    "        if i <= 1:\n",
    "            sum += arr[i]\n",
    "        else:\n",
    "            sum += (sum + arr[i])\n",
    "    return sum\n",
    "\n",
    "res = solution()\n",
    "print(res)\n",
    "    # 1. 10 20 40 50 -> 10 + 20 30 + 40 70 + 50\n",
    "\n"
   ]
  }
 ],
 "metadata": {
  "kernelspec": {
   "display_name": "Python 3.8.6 64-bit (system)",
   "language": "python",
   "name": "python3"
  },
  "language_info": {
   "codemirror_mode": {
    "name": "ipython",
    "version": 3
   },
   "file_extension": ".py",
   "mimetype": "text/x-python",
   "name": "python",
   "nbconvert_exporter": "python",
   "pygments_lexer": "ipython3",
   "version": "3.8.6"
  },
  "orig_nbformat": 4,
  "vscode": {
   "interpreter": {
    "hash": "2ba6819d172d60e93b2f90e5d47af36d4f36070393882cfcbe0fef625705f185"
   }
  }
 },
 "nbformat": 4,
 "nbformat_minor": 2
}
