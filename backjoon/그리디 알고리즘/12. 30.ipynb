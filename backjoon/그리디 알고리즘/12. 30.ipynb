{
 "cells": [
  {
   "cell_type": "code",
   "execution_count": 5,
   "metadata": {},
   "outputs": [
    {
     "name": "stdout",
     "output_type": "stream",
     "text": [
      "['8', '8', '7', '5', '5', '4', '2', '0']\n",
      "8 8 7 5 5 4 2 0\n"
     ]
    }
   ],
   "source": [
    "# 어느 날, 미르코는 우연히 길거리에서 양수 N을 보았다. \n",
    "# 미르코는 30이란 수를 존경하기 때문에, 그는 길거리에서 찾은 수에 포함된 숫자들을 섞어 30의 배수가 되는 \n",
    "# 가장 큰 수를 만들고 싶어한다.\n",
    "\n",
    "import sys\n",
    "sys.stdin = open(\"./input/input12.txt\", \"rt\")\n",
    "\n",
    "n = sys.stdin.readline()\n",
    "n = sorted(n, reverse=True)\n",
    "sum = 0\n",
    "if '0' not in n:\t# 우선은 input의 디폴트인 string으로 받았기에 '0' 문자로 적음\n",
    "    print(-1)\n",
    "else:\n",
    "    for i in n:\n",
    "        sum += int(i)\n",
    "    if sum % 3 != 0 :\t# 3의 배수 체크\n",
    "        print(-1)\n",
    "    else :\n",
    "        print(''.join(n))\n",
    "\n",
    "        \n"
   ]
  },
  {
   "cell_type": "code",
   "execution_count": 14,
   "metadata": {},
   "outputs": [
    {
     "name": "stdout",
     "output_type": "stream",
     "text": [
      "123546\n"
     ]
    }
   ],
   "source": [
    "import sys\n",
    "sys.stdin = open(\"./input/input12.txt\", \"rt\")\n",
    "\n",
    "n = \"123546\"\n",
    "sorted(n)\n",
    "print(n)"
   ]
  }
 ],
 "metadata": {
  "kernelspec": {
   "display_name": "Python 3.8.6 64-bit (system)",
   "language": "python",
   "name": "python3"
  },
  "language_info": {
   "codemirror_mode": {
    "name": "ipython",
    "version": 3
   },
   "file_extension": ".py",
   "mimetype": "text/x-python",
   "name": "python",
   "nbconvert_exporter": "python",
   "pygments_lexer": "ipython3",
   "version": "3.8.6"
  },
  "orig_nbformat": 4,
  "vscode": {
   "interpreter": {
    "hash": "2ba6819d172d60e93b2f90e5d47af36d4f36070393882cfcbe0fef625705f185"
   }
  }
 },
 "nbformat": 4,
 "nbformat_minor": 2
}
