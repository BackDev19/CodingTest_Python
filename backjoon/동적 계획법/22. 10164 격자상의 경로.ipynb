{
 "cells": [
  {
   "cell_type": "code",
   "execution_count": null,
   "metadata": {},
   "outputs": [],
   "source": [
    "import sys\n",
    "sys.stdin = open(\"input.txt\", \"rt\")\n",
    "input = sys.stdin.readline\n",
    "\n",
    "import sys\n",
    "input = sys.stdin.readline\n",
    "n,m,k = map(int,input().split())\n",
    "\n",
    "def find(n,m) :\n",
    "    dp = [[0]*(m+1)]*(n+1)\n",
    "\n",
    "    for i in range(1,n+1) :\n",
    "        for j in range(1,m+1) :\n",
    "            if i == 1 and j == 1 :\n",
    "                dp[i][j] = 1\n",
    "                continue\n",
    "            dp[i][j] = dp[i-1][j] + dp[i][j-1]\n",
    "    return dp[n][m]\n",
    "\n",
    "if k == 0 :\n",
    "    print(find(n,m))\n",
    "else :\n",
    "    dotN1 = (k-1)//m + 1\n",
    "    dotM1 = k - (dotN1-1)*m\n",
    "    dotN2 = n - (dotN1-1)\n",
    "    dotM2 = m - (dotM1-1)\n",
    "\n",
    "    first = find(dotN1,dotM1)\n",
    "    second = find(dotN2,dotM2)\n",
    "\n",
    "    print(first*second)\n"
   ]
  }
 ],
 "metadata": {
  "kernelspec": {
   "display_name": "Python 3",
   "language": "python",
   "name": "python3"
  },
  "language_info": {
   "name": "python",
   "version": "3.8.6 (tags/v3.8.6:db45529, Sep 23 2020, 15:52:53) [MSC v.1927 64 bit (AMD64)]"
  },
  "orig_nbformat": 4,
  "vscode": {
   "interpreter": {
    "hash": "2ba6819d172d60e93b2f90e5d47af36d4f36070393882cfcbe0fef625705f185"
   }
  }
 },
 "nbformat": 4,
 "nbformat_minor": 2
}
