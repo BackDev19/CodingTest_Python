{
 "cells": [
  {
   "cell_type": "code",
   "execution_count": 43,
   "metadata": {},
   "outputs": [
    {
     "name": "stdout",
     "output_type": "stream",
     "text": [
      "47\n"
     ]
    }
   ],
   "source": [
    "from sys import stdin\n",
    "stdin = open(\"./input/input10.txt\", \"rt\")\n",
    "input = stdin.readline\n",
    "\n",
    "# 연속으로 놓여 있는 3잔을 모두 마실 수는 없다.\n",
    "# 가장 많은 양의 포도주를 마실 수 있도록 하는 프로그램을 작성하시오. \n",
    "# 6, 10, 13, 9, 8, 1 첫 번째, 두 번째, 네 번째, 다섯 번째 33으로 최대\n",
    "\n",
    "n = int(input())\n",
    "w = [0]\n",
    "for i in range(n):\n",
    "    w.append(int(input()))\n",
    "\n",
    "dp = [0]\n",
    "dp.append(w[1])\n",
    "if n > 1:\n",
    "    dp.append(w[1] + w[2])\n",
    "\n",
    "for i in range(3, n+1):\n",
    "    dp.append(max(dp[i-1], dp[i-3] + w[i-1] + w[i], dp[i-2] + w[i]))\n",
    "\n",
    "print(dp[n])\n",
    "\n"
   ]
  }
 ],
 "metadata": {
  "kernelspec": {
   "display_name": "Python 3.8.6 64-bit",
   "language": "python",
   "name": "python3"
  },
  "language_info": {
   "codemirror_mode": {
    "name": "ipython",
    "version": 3
   },
   "file_extension": ".py",
   "mimetype": "text/x-python",
   "name": "python",
   "nbconvert_exporter": "python",
   "pygments_lexer": "ipython3",
   "version": "3.8.6"
  },
  "orig_nbformat": 4,
  "vscode": {
   "interpreter": {
    "hash": "2ba6819d172d60e93b2f90e5d47af36d4f36070393882cfcbe0fef625705f185"
   }
  }
 },
 "nbformat": 4,
 "nbformat_minor": 2
}
