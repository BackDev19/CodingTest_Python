{
 "cells": [
  {
   "cell_type": "code",
   "execution_count": null,
   "metadata": {},
   "outputs": [],
   "source": [
    "import sys\n",
    "sys.stdin = open(\"input.txt\", \"rt\")\n",
    "input = sys.stdin.readline\n",
    "\n",
    "# n x m 행렬\n",
    "# 우주선이 움직일 수 있는 방향\n",
    "# 전에 움직인 방향으로 움직일 수 없음\n",
    "# 최소연료\n",
    "\n",
    "n , m = map(int, input().split())\n",
    "arr = [[0] * m] + [list(map(int, input().split())) for _ in range(n)]\n",
    "dp = [[[0] * 3 for _ in range(m)] for _ in range(n+1)]\n",
    "\n",
    "\n",
    "# [0, 1, 2] - 좌측에서 들어온 값 중 가장 작은 값, 중앙, 우측 순\n",
    "for i in range(1, n+1):\n",
    "    for j in range(m):\n",
    "        # 좌측에서 왔다면, 중간에서 온 값을 더해줄 때, 좌측에서 들어온 값을 넣어줄 수 없음. 범위 밖\n",
    "        if j < 1:\n",
    "            dp[i][j][1] = dp[i-1][j][2] + arr[i][j]\n",
    "            dp[i][j][2] = min(dp[i-1][j+1][0], dp[i-1][j+1][1]) + arr[i][j]\n",
    "\n",
    "        if 1 <= j < m-1:\n",
    "            dp[i][j][0] = min(dp[i-1][j-1][1], dp[i-1][j-1][2]) + arr[i][j]\n",
    "            dp[i][j][1] = min(dp[i-1][j][0], dp[i-1][j][2]) + arr[i][j]\n",
    "            dp[i][j][2] = min(dp[i-1][j+1][0], dp[i-1][j+1][1]) + arr[i][j]\n",
    "\n",
    "        # 우측에서 온 친구는, 중간에서 값이 들어올 때, 우측에서 데이터가 들어올 수 없음\n",
    "        if m-1 <= j:\n",
    "            dp[i][j][0] = min(dp[i-1][j-1][1], dp[i-1][j-1][2]) + arr[i][j]\n",
    "            dp[i][j][1] = dp[i-1][j][0] + arr[i][j]\n",
    "\n",
    "\n",
    "# print(*arr, sep='\\n')\n",
    "# print()\n",
    "print(*dp, sep='\\n')\n",
    "answer = 1e9\n",
    "for i in dp[n]:\n",
    "    for x in i:\n",
    "        if x != 0:\n",
    "            answer = min(answer, x)\n",
    "\n",
    "print(answer)"
   ]
  }
 ],
 "metadata": {
  "language_info": {
   "name": "python"
  },
  "orig_nbformat": 4
 },
 "nbformat": 4,
 "nbformat_minor": 2
}
