{
 "cells": [
  {
   "cell_type": "code",
   "execution_count": 42,
   "metadata": {},
   "outputs": [
    {
     "name": "stdout",
     "output_type": "stream",
     "text": [
      "[1, 3, 3]\n",
      "[1, 3, 6]\n",
      "6\n",
      "[1, 3, 3]\n",
      "[1, 3, 6]\n",
      "[1, 4, 6]\n",
      "[1, 4, 10]\n",
      "10\n"
     ]
    }
   ],
   "source": [
    "# k층의 n호 (k-1)층의 1호부터 n호까지 사람들의 수의 합\n",
    "# 아파트에 비어있는 집은 없다\n",
    "# k층에 n호에는 몇 명\n",
    "# 0층부터 있고 각층에는 1호부터 있으며, 0층의 i호에는 i명이 산다.\n",
    "\n",
    "from sys import stdin\n",
    "stdin = open(\"./input/input5.txt\", \"rt\")\n",
    "input = stdin.readline\n",
    "\n",
    "# ex) 0층의 1호 -> 1명\n",
    "\n",
    "# 1호 -> 1명\n",
    "# 2호 -> 2명\n",
    "\n",
    "# k = 0 n = 2\n",
    "# 0층 1호 -> 1명\n",
    "# 0층 2호 -> 2명\n",
    "# 0층 3호 -> 3명\n",
    "\n",
    "# 1층 1호 -> 1명\n",
    "# 1층 2호 -> 3명\n",
    "# 1층 3호 -> 3 + 2 + 1 = 6명\n",
    "\n",
    "# 2층 1호 -> 1명\n",
    "# 2층 2호 -> 5명\n",
    "\n",
    "# 일단 1층 부터\n",
    "t = int(input())\n",
    "\n",
    "for _ in range(t):  \n",
    "    floor = int(input())  # 층\n",
    "    num = int(input())  # 호\n",
    "    f0 = [x for x in range(1, num+1)]  # 0층 리스트\n",
    "    for k in range(floor):  # 층 수 만큼 반복\n",
    "        for i in range(1, num):  # 1 ~ n-1까지 (인덱스로 사용)\n",
    "            f0[i] += f0[i-1]  # 층별 각 호실의 사람 수를 변경\n",
    "            print(f0)\n",
    "    print(f0[-1])  # 가장 마지막 수 출력              \n",
    "    \n",
    "\n"
   ]
  },
  {
   "cell_type": "code",
   "execution_count": 44,
   "metadata": {},
   "outputs": [
    {
     "name": "stdout",
     "output_type": "stream",
     "text": [
      "6\n",
      "10\n"
     ]
    }
   ],
   "source": [
    "from sys import stdin\n",
    "stdin = open(\"./input/input5.txt\", \"rt\")\n",
    "input = stdin.readline\n",
    "\n",
    "t = int(input())\n",
    "\n",
    "for _ in range(t):  \n",
    "    floor = int(input())  # 층\n",
    "    num = int(input())  # 호\n",
    "    f0 = [x for x in range(1, num+1)]  # 0층 리스트\n",
    "    for k in range(floor):  # 층 수 만큼 반복\n",
    "        for i in range(1, num):  # 1 ~ n-1까지 (인덱스로 사용)\n",
    "            f0[i] += f0[i-1]  # 층별 각 호실의 사람 수를 변경\n",
    "    print(f0[-1])  # 가장 마지막 수 출력     "
   ]
  }
 ],
 "metadata": {
  "kernelspec": {
   "display_name": "Python 3.8.6 64-bit (system)",
   "language": "python",
   "name": "python3"
  },
  "language_info": {
   "codemirror_mode": {
    "name": "ipython",
    "version": 3
   },
   "file_extension": ".py",
   "mimetype": "text/x-python",
   "name": "python",
   "nbconvert_exporter": "python",
   "pygments_lexer": "ipython3",
   "version": "3.8.6"
  },
  "orig_nbformat": 4,
  "vscode": {
   "interpreter": {
    "hash": "2ba6819d172d60e93b2f90e5d47af36d4f36070393882cfcbe0fef625705f185"
   }
  }
 },
 "nbformat": 4,
 "nbformat_minor": 2
}
