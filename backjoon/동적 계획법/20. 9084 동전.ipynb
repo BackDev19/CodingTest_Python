{
 "cells": [
  {
   "cell_type": "code",
   "execution_count": 14,
   "metadata": {},
   "outputs": [],
   "source": [
    "import sys\n",
    "sys.stdin = open(\"./input/input20.txt\", \"rt\")\n",
    "input = sys.stdin.readline\n",
    "\n",
    "# 1원, 5원, 10원, 50원, 100원, 500원\n",
    "# 동전의 종류가 주어질 때에 주어진 금액을 만드는 모든 방법을 세는 프로그램을 작성\n",
    "\n",
    "# 테스트케이스 T, 가지 수 N\n",
    "# N가지의 동전의 각 동전이 오름차순\n",
    "# N가지 동전으로 만들어야 할 금액 M\n",
    "\n",
    "t = int(input())\n",
    "\n",
    "for k in range(t):\n",
    "    n = int(input())\n",
    "    coin = list(map(int, input().split()))\n",
    "\n",
    "    dp = [0] * (10001)\n",
    "\n",
    "    num = int(input())\n",
    "\n",
    "    for x in coin:\n",
    "        if x == 1:\n",
    "            for i in range(1, num+1):\n",
    "                dp[i] += 1\n",
    "            continue\n",
    "\n",
    "        for i in range(x, num+1):\n",
    "            dp[i] += (i // x)\n",
    "\n",
    "    # if k == 1:\n",
    "    #     print(dp)"
   ]
  },
  {
   "cell_type": "code",
   "execution_count": null,
   "metadata": {},
   "outputs": [],
   "source": [
    "import sys\n",
    "sys.stdin = open(\"./input/input20.txt\", \"rt\")\n",
    "input = sys.stdin.readline\n",
    "\n",
    "t = int(sys.stdin.readline())\n",
    "for _ in range(t):\n",
    "    n = int(sys.stdin.readline())\n",
    "    coin = map(int, sys.stdin.readline().split())\n",
    "    m = int(sys.stdin.readline())\n",
    "\n",
    "    dp = [0] * 10001\n",
    "    dp[0] = 1\n",
    "\n",
    "    # 반복문을 통해 코인을 확인\n",
    "    for i in coin:\n",
    "        # 반복문을 통해 코인으로 1원부터 m원까지 만들 수 있는 경우의 수를 확인\n",
    "        for j in range(1, m + 1):\n",
    "            if j - i >= 0:\n",
    "                dp[j] += dp[j - i]\n",
    "\n",
    "    print(dp[m])"
   ]
  }
 ],
 "metadata": {
  "kernelspec": {
   "display_name": "Python 3",
   "language": "python",
   "name": "python3"
  },
  "language_info": {
   "codemirror_mode": {
    "name": "ipython",
    "version": 3
   },
   "file_extension": ".py",
   "mimetype": "text/x-python",
   "name": "python",
   "nbconvert_exporter": "python",
   "pygments_lexer": "ipython3",
   "version": "3.8.6"
  },
  "orig_nbformat": 4,
  "vscode": {
   "interpreter": {
    "hash": "2ba6819d172d60e93b2f90e5d47af36d4f36070393882cfcbe0fef625705f185"
   }
  }
 },
 "nbformat": 4,
 "nbformat_minor": 2
}
