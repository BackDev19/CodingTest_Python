{
 "cells": [
  {
   "cell_type": "code",
   "execution_count": 20,
   "metadata": {},
   "outputs": [
    {
     "name": "stdout",
     "output_type": "stream",
     "text": [
      "260\n",
      "290\n"
     ]
    }
   ],
   "source": [
    "import sys\n",
    "import copy\n",
    "sys.stdin = open(\"./input/input21.txt\", \"rt\")\n",
    "input = sys.stdin.readline\n",
    "\n",
    "# 스티커 2n\n",
    "# 2행 n열\n",
    "# 스티커를 떼면 상하좌우는 못씀\n",
    "# 점수의 합이 최대가 되게 스티커를 떼어내기\n",
    "# 뗄 수 있는 스티커의 점수의 최댓값\n",
    "\n",
    "# T, 2 x n개의 정수\n",
    "# 두 n줄에 스티커의 점수\n",
    "\n",
    "t = int(input())\n",
    "\n",
    "# 1. 상하좌우 비교 후, 0으로 만들기\n",
    "# 2. 주위가 모두 0이라면, 숫자 복귀\n",
    "# 3. 모든 값 더해주기\n",
    "\n",
    "\n"
   ]
  }
 ],
 "metadata": {
  "kernelspec": {
   "display_name": "Python 3",
   "language": "python",
   "name": "python3"
  },
  "language_info": {
   "codemirror_mode": {
    "name": "ipython",
    "version": 3
   },
   "file_extension": ".py",
   "mimetype": "text/x-python",
   "name": "python",
   "nbconvert_exporter": "python",
   "pygments_lexer": "ipython3",
   "version": "3.8.6"
  },
  "orig_nbformat": 4,
  "vscode": {
   "interpreter": {
    "hash": "2ba6819d172d60e93b2f90e5d47af36d4f36070393882cfcbe0fef625705f185"
   }
  }
 },
 "nbformat": 4,
 "nbformat_minor": 2
}
