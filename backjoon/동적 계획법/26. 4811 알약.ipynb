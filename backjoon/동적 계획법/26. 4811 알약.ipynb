{
 "cells": [
  {
   "cell_type": "code",
   "execution_count": null,
   "metadata": {},
   "outputs": [],
   "source": [
    "import sys\n",
    "sys.stdin = open(\"input.txt\", \"rt\")\n",
    "input = sys.stdin.readline\n",
    "\n",
    "# 동전의 종류가 주어질 때, 주어진 금액을 만드는 모든 방법\n",
    "\n",
    "# 테스트 케이스의 개수 T, 동전의 가지 수 N\n",
    "# N가지 동전의 각 금액이 오름차순으로\n",
    "# 만들어야 하는 금액\n",
    "\n",
    "t = int(input())\n",
    "\n",
    "for _ in range(t):\n",
    "    n = int(input())\n",
    "    coin = list(map(int, input().split()))\n",
    "    target = int(input())\n",
    "\n",
    "    dp = [[0] * (target+1) for _ in range(n)]\n",
    "    # dp = [0] * (10001)\n",
    "\n",
    "    for i in range(0, target+1, coin[0]):\n",
    "        dp[0][i] = 1\n",
    "\n",
    "    for i in range(1, n):\n",
    "        for j in range(0, target+1):\n",
    "            # j - arr[i] < 0이라면, dp[i][j] = dp[i-1][j]\n",
    "            # else dp[i][j-arr[i]] + arr[i-1][j]\n",
    "            if j - coin[i] < 0:\n",
    "                dp[i][j] = dp[i-1][j]\n",
    "            else:\n",
    "                dp[i][j] = dp[i][j-coin[i]] + dp[i-1][j]\n",
    "\n",
    "    print(dp[-1][-1])\n"
   ]
  }
 ],
 "metadata": {
  "language_info": {
   "name": "python"
  },
  "orig_nbformat": 4
 },
 "nbformat": 4,
 "nbformat_minor": 2
}
