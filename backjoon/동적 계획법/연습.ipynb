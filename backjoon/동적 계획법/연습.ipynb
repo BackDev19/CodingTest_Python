{
 "cells": [
  {
   "cell_type": "code",
   "execution_count": 6,
   "metadata": {},
   "outputs": [
    {
     "name": "stdout",
     "output_type": "stream",
     "text": [
      "5\n"
     ]
    }
   ],
   "source": [
    "from sys import stdin\n",
    "stdin = open(\"./input/input16.txt\", \"rt\")\n",
    "input = stdin.readline\n",
    "\n",
    "# 0 또는 1\n",
    "# 1 하나만으로 이루어진 타일 또는 0타일을 두 개 붙인 한 쌍의 00타일들\n"
   ]
  },
  {
   "cell_type": "code",
   "execution_count": null,
   "metadata": {},
   "outputs": [],
   "source": [
    "from sys import stdin\n",
    "stdin = open(\"./input/input16.txt\", \"rt\")\n",
    "input = stdin.readline\n",
    "\n",
    "# N개의 물건, 무게 W와 가치 V\n",
    "# 최대 K만큼의 무게만을 넣을 수 있는 배낭만\n",
    "n, K = map(int, input().split())\n",
    "weight = [0] * (n+1)\n",
    "dp = [[0] * (n+1) for i in range(n+1)]\n",
    "\n",
    "for i in range(1, n+1):\n",
    "    w, v = map(int, input().split())\n",
    "    weight[w] = v\n",
    "    \n",
    "\n",
    "for i in range(1, n+1):\n",
    "    # 해당 무게보다 작은 경우\n",
    "    # i < \n"
   ]
  },
  {
   "cell_type": "code",
   "execution_count": null,
   "metadata": {},
   "outputs": [],
   "source": [
    "# 2가지 종류의 타일을 이용하여, N 길이의 수열을 만드는 모든 경우의 수\n",
    "\n",
    "\n"
   ]
  },
  {
   "cell_type": "code",
   "execution_count": null,
   "metadata": {},
   "outputs": [],
   "source": [
    "# 각 물병에는 물을 무한대\n",
    "# 한번에 K개의 물병을 옮길 수 있음\n",
    "# "
   ]
  },
  {
   "cell_type": "code",
   "execution_count": null,
   "metadata": {},
   "outputs": [],
   "source": []
  }
 ],
 "metadata": {
  "kernelspec": {
   "display_name": "Python 3.8.6 64-bit",
   "language": "python",
   "name": "python3"
  },
  "language_info": {
   "codemirror_mode": {
    "name": "ipython",
    "version": 3
   },
   "file_extension": ".py",
   "mimetype": "text/x-python",
   "name": "python",
   "nbconvert_exporter": "python",
   "pygments_lexer": "ipython3",
   "version": "3.8.6"
  },
  "orig_nbformat": 4,
  "vscode": {
   "interpreter": {
    "hash": "2ba6819d172d60e93b2f90e5d47af36d4f36070393882cfcbe0fef625705f185"
   }
  }
 },
 "nbformat": 4,
 "nbformat_minor": 2
}
