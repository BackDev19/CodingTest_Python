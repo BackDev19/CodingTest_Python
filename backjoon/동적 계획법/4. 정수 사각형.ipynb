{
 "cells": [
  {
   "cell_type": "code",
   "execution_count": 2,
   "metadata": {},
   "outputs": [
    {
     "name": "stdout",
     "output_type": "stream",
     "text": [
      "30\n"
     ]
    }
   ],
   "source": [
    "from sys import stdin\n",
    "stdin = open(\"./input/input3.txt\", \"rt\")\n",
    "input = stdin.readline\n",
    "\n",
    "n = int(input())\n",
    "t = []\n",
    "for i in range(n):\n",
    "    t.append(list(map(int, input().split())))\n",
    "\n",
    "k = 2\n",
    "for i in range(1, n):\n",
    "    for j in range(k):\n",
    "        if j == 0:\n",
    "            t[i][j] = t[i][j] + t[i-1][j]\n",
    "        if i == j:\n",
    "            t[i][j] = t[i][j] + t[i-1][j-1]\n",
    "        else:\n",
    "            t[i][j] = max(t[i-1][j-1], t[i-1][j]) + t[i][j]\n",
    "\n",
    "    k += 1\n",
    "\n",
    "print(max(t[n-1]))\n"
   ]
  },
  {
   "cell_type": "code",
   "execution_count": 9,
   "metadata": {},
   "outputs": [
    {
     "name": "stdout",
     "output_type": "stream",
     "text": [
      "Odd\n"
     ]
    }
   ],
   "source": [
    "num = 1\n",
    "answer = \"Even\" if num % 2 == 0 else \"Odd\"\n",
    "print(answer)"
   ]
  }
 ],
 "metadata": {
  "kernelspec": {
   "display_name": "Python 3.8.6 64-bit (system)",
   "language": "python",
   "name": "python3"
  },
  "language_info": {
   "codemirror_mode": {
    "name": "ipython",
    "version": 3
   },
   "file_extension": ".py",
   "mimetype": "text/x-python",
   "name": "python",
   "nbconvert_exporter": "python",
   "pygments_lexer": "ipython3",
   "version": "3.8.6"
  },
  "orig_nbformat": 4,
  "vscode": {
   "interpreter": {
    "hash": "2ba6819d172d60e93b2f90e5d47af36d4f36070393882cfcbe0fef625705f185"
   }
  }
 },
 "nbformat": 4,
 "nbformat_minor": 2
}
