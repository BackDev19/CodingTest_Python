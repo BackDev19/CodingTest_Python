{
 "cells": [
  {
   "cell_type": "code",
   "execution_count": null,
   "metadata": {},
   "outputs": [],
   "source": [
    "n = int(input())\n",
    "dp = [0 for _ in range(31)]\n",
    "dp[2] = 3\n",
    "for i in range(4,n+1) :\n",
    "    if i%2 == 0 :\n",
    "        dp[i] = dp[i-2] * 3 + sum(dp[:i-2]) * 2 + 2\n",
    "    else :\n",
    "        dp[i] = 0\n",
    "print(dp[n])"
   ]
  }
 ],
 "metadata": {
  "language_info": {
   "name": "python"
  },
  "orig_nbformat": 4
 },
 "nbformat": 4,
 "nbformat_minor": 2
}
