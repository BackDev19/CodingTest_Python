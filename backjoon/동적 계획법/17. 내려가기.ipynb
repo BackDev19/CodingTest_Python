{
 "cells": [
  {
   "cell_type": "code",
   "execution_count": null,
   "metadata": {},
   "outputs": [],
   "source": [
    "import sys\n",
    "from collections import deque\n",
    "sys.stdin = open(\"input.txt\", \"rt\")\n",
    "input = sys.stdin.readline\n",
    "\n",
    "# N줄에 0이상 9이하의 숫자가 3개씩\n",
    "# 바로 아래 좌우만 이동 가능\n",
    "\n",
    "# N\n",
    "# N개의 줄에는 숫자가 세개씩\n",
    "# 첫째 줄 원하는 칸에서 실행 가능\n",
    "\n",
    "n = int(input())\n",
    "\n",
    "max_dp = [0] * 3\n",
    "min_dp = [0] * 3\n",
    "\n",
    "for i in range(n):\n",
    "    a, b, c = map(int, input().split())\n",
    "\n",
    "    # temp를 안쓰게되면, max_dp[0] = max(max_dp[:2]) + a에서 max_dp의 값이 변하게되므로, 이전의 값을 가지고 있는 temp를 사용\n",
    "    temp = max_dp[:]\n",
    "    # print('a, b, c', a, b, c)\n",
    "    # print('max_dp', max_dp)\n",
    "    # print('min_dp', min_dp)\n",
    "    max_dp[0] = max(temp[:2]) + a\n",
    "    max_dp[1] = max(temp) + b\n",
    "    max_dp[2] = max(temp[1:3]) + c\n",
    "\n",
    "\n",
    "    temp = min_dp[:]\n",
    "    min_dp[0] = min(temp[:2]) + a\n",
    "    min_dp[1] = min(temp) + b\n",
    "    min_dp[2] = min(temp[1:3]) + c\n",
    "\n",
    "print(max(max_dp))\n",
    "print(min(min_dp))"
   ]
  }
 ],
 "metadata": {
  "language_info": {
   "name": "python"
  },
  "orig_nbformat": 4
 },
 "nbformat": 4,
 "nbformat_minor": 2
}
