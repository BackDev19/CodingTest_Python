{
 "cells": [
  {
   "cell_type": "code",
   "execution_count": 17,
   "metadata": {},
   "outputs": [
    {
     "name": "stdout",
     "output_type": "stream",
     "text": [
      "30\n"
     ]
    }
   ],
   "source": [
    "from sys import stdin\n",
    "stdin = open(\"./input/input8.txt\", \"rt\")\n",
    "input = stdin.readline\n",
    "\n",
    "n = int(input())\n",
    "graph = [list(map(int, input().split())) for _ in range(n)]\n",
    "graph.insert(0, [0])\n",
    "\n",
    "\n",
    "# for i -> 2, n+1 만큼 순회, j -> 0, i 만큼 순회\n",
    "# graph[i][j] = max(graph[i-1][j], graph[i-1][j+1])\n",
    "# 맨 왼쪽, 맨 오른쪽 나누기\n",
    "for i in range(2, n+1):\n",
    "    for j in range(0, i):\n",
    "        if j == 0: # 맨 왼쪽인 경우\n",
    "            graph[i][j] = graph[i-1][0] + graph[i][j]\n",
    "        elif j == i-1: # 맨 오른쪽인 경우\n",
    "            graph[i][j] = graph[i-1][-1] + graph[i][j]\n",
    "        else:\n",
    "            # 그 외의 경우인 경우\n",
    "            # graph[i][j]왼쪽과 오른쪽을 비교하고, 가장 큰 수와 자기 자신을 더하기\n",
    "            graph[i][j] = max(graph[i-1][j-1], graph[i-1][j]) + graph[i][j]\n",
    "\n",
    "result = -1\n",
    "for i in range(n+1):\n",
    "    if result < max(graph[i]):\n",
    "        result = max(graph[i])\n",
    "\n",
    "print(result)\n",
    "        \n",
    "\n",
    "\n"
   ]
  }
 ],
 "metadata": {
  "kernelspec": {
   "display_name": "Python 3.8.6 64-bit (system)",
   "language": "python",
   "name": "python3"
  },
  "language_info": {
   "codemirror_mode": {
    "name": "ipython",
    "version": 3
   },
   "file_extension": ".py",
   "mimetype": "text/x-python",
   "name": "python",
   "nbconvert_exporter": "python",
   "pygments_lexer": "ipython3",
   "version": "3.8.6"
  },
  "orig_nbformat": 4,
  "vscode": {
   "interpreter": {
    "hash": "2ba6819d172d60e93b2f90e5d47af36d4f36070393882cfcbe0fef625705f185"
   }
  }
 },
 "nbformat": 4,
 "nbformat_minor": 2
}
