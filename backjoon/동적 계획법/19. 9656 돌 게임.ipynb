{
 "cells": [
  {
   "cell_type": "code",
   "execution_count": 2,
   "metadata": {},
   "outputs": [
    {
     "ename": "FileNotFoundError",
     "evalue": "[Errno 2] No such file or directory: 'input.txt'",
     "output_type": "error",
     "traceback": [
      "\u001b[1;31m---------------------------------------------------------------------------\u001b[0m",
      "\u001b[1;31mFileNotFoundError\u001b[0m                         Traceback (most recent call last)",
      "\u001b[1;32mc:\\Users\\황인권\\OneDrive - 동국대학교\\문서\\CodingTest_Python\\backjoon\\동적 계획법\\19. 9656 돌 게임.ipynb Cell 1\u001b[0m in \u001b[0;36m<cell line: 2>\u001b[1;34m()\u001b[0m\n\u001b[0;32m      <a href='vscode-notebook-cell:/c%3A/Users/%ED%99%A9%EC%9D%B8%EA%B6%8C/OneDrive%20-%20%EB%8F%99%EA%B5%AD%EB%8C%80%ED%95%99%EA%B5%90/%EB%AC%B8%EC%84%9C/CodingTest_Python/backjoon/%EB%8F%99%EC%A0%81%20%EA%B3%84%ED%9A%8D%EB%B2%95/19.%209656%20%EB%8F%8C%20%EA%B2%8C%EC%9E%84.ipynb#W0sZmlsZQ%3D%3D?line=0'>1</a>\u001b[0m \u001b[39mimport\u001b[39;00m \u001b[39msys\u001b[39;00m\n\u001b[1;32m----> <a href='vscode-notebook-cell:/c%3A/Users/%ED%99%A9%EC%9D%B8%EA%B6%8C/OneDrive%20-%20%EB%8F%99%EA%B5%AD%EB%8C%80%ED%95%99%EA%B5%90/%EB%AC%B8%EC%84%9C/CodingTest_Python/backjoon/%EB%8F%99%EC%A0%81%20%EA%B3%84%ED%9A%8D%EB%B2%95/19.%209656%20%EB%8F%8C%20%EA%B2%8C%EC%9E%84.ipynb#W0sZmlsZQ%3D%3D?line=1'>2</a>\u001b[0m sys\u001b[39m.\u001b[39mstdin \u001b[39m=\u001b[39m \u001b[39mopen\u001b[39;49m(\u001b[39m'\u001b[39;49m\u001b[39minput.txt\u001b[39;49m\u001b[39m'\u001b[39;49m , \u001b[39m'\u001b[39;49m\u001b[39mrt\u001b[39;49m\u001b[39m'\u001b[39;49m)\n\u001b[0;32m      <a href='vscode-notebook-cell:/c%3A/Users/%ED%99%A9%EC%9D%B8%EA%B6%8C/OneDrive%20-%20%EB%8F%99%EA%B5%AD%EB%8C%80%ED%95%99%EA%B5%90/%EB%AC%B8%EC%84%9C/CodingTest_Python/backjoon/%EB%8F%99%EC%A0%81%20%EA%B3%84%ED%9A%8D%EB%B2%95/19.%209656%20%EB%8F%8C%20%EA%B2%8C%EC%9E%84.ipynb#W0sZmlsZQ%3D%3D?line=2'>3</a>\u001b[0m \u001b[39minput\u001b[39m \u001b[39m=\u001b[39m sys\u001b[39m.\u001b[39mstdin\u001b[39m.\u001b[39mreadline\n\u001b[0;32m      <a href='vscode-notebook-cell:/c%3A/Users/%ED%99%A9%EC%9D%B8%EA%B6%8C/OneDrive%20-%20%EB%8F%99%EA%B5%AD%EB%8C%80%ED%95%99%EA%B5%90/%EB%AC%B8%EC%84%9C/CodingTest_Python/backjoon/%EB%8F%99%EC%A0%81%20%EA%B3%84%ED%9A%8D%EB%B2%95/19.%209656%20%EB%8F%8C%20%EA%B2%8C%EC%9E%84.ipynb#W0sZmlsZQ%3D%3D?line=4'>5</a>\u001b[0m n \u001b[39m=\u001b[39m \u001b[39mint\u001b[39m(\u001b[39minput\u001b[39m())\n",
      "\u001b[1;31mFileNotFoundError\u001b[0m: [Errno 2] No such file or directory: 'input.txt'"
     ]
    }
   ],
   "source": [
    "import sys\n",
    "sys.stdin = open('input.txt' , 'rt')\n",
    "input = sys.stdin.readline\n",
    "\n",
    "# 돌 N개\n",
    "# 돌은 1개 또는 3개 가져갈 수 있다\n",
    "# 마지막에 돌을 가져가는 사람이 지는 것\n",
    "\n",
    "# 이기는 사람을 구하는 프로그램\n",
    "n = int(input())\n",
    "\n",
    "# 짝수이면, 창영이가 짐\n",
    "if n % 2 == 0:\n",
    "    print('SK')\n",
    "else:\n",
    "    print('CY')"
   ]
  }
 ],
 "metadata": {
  "kernelspec": {
   "display_name": "Python 3",
   "language": "python",
   "name": "python3"
  },
  "language_info": {
   "codemirror_mode": {
    "name": "ipython",
    "version": 3
   },
   "file_extension": ".py",
   "mimetype": "text/x-python",
   "name": "python",
   "nbconvert_exporter": "python",
   "pygments_lexer": "ipython3",
   "version": "3.8.6"
  },
  "orig_nbformat": 4,
  "vscode": {
   "interpreter": {
    "hash": "2ba6819d172d60e93b2f90e5d47af36d4f36070393882cfcbe0fef625705f185"
   }
  }
 },
 "nbformat": 4,
 "nbformat_minor": 2
}
