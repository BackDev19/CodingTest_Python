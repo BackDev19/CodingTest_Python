{
 "cells": [
  {
   "cell_type": "code",
   "execution_count": 18,
   "metadata": {},
   "outputs": [
    {
     "name": "stdout",
     "output_type": "stream",
     "text": [
      "208\n"
     ]
    }
   ],
   "source": [
    "from sys import stdin\n",
    "stdin = open(\"./input/input2.txt\", \"rt\")\n",
    "input = stdin.readline\n",
    "\n",
    "n = int(input())\n",
    "arr = [list(map(int, input().split())) for _ in range(n)]\n",
    "# 1번째 집은 2번의 집의 색과 같지 않아야 한다\n",
    "\n",
    "# 1부터 n까지 index는 0 ~ 2\n",
    "for i in range(1, n):\n",
    "    # arr[1]과, arr[2] 중에서, 작은 값과 + [0]을 더함\n",
    "    arr[i][0] = min(arr[i-1][1], arr[i-1][2]) + arr[i][0]\n",
    "    arr[i][1] = min(arr[i-1][0], arr[i-1][2]) + arr[i][1]\n",
    "    arr[i][2] = min(arr[i-1][0], arr[i-1][1]) + arr[i][2]\n",
    "\n",
    "print(min(arr[n-1]))\n",
    "\n"
   ]
  }
 ],
 "metadata": {
  "kernelspec": {
   "display_name": "Python 3.8.6 64-bit (system)",
   "language": "python",
   "name": "python3"
  },
  "language_info": {
   "codemirror_mode": {
    "name": "ipython",
    "version": 3
   },
   "file_extension": ".py",
   "mimetype": "text/x-python",
   "name": "python",
   "nbconvert_exporter": "python",
   "pygments_lexer": "ipython3",
   "version": "3.8.6"
  },
  "orig_nbformat": 4,
  "vscode": {
   "interpreter": {
    "hash": "2ba6819d172d60e93b2f90e5d47af36d4f36070393882cfcbe0fef625705f185"
   }
  }
 },
 "nbformat": 4,
 "nbformat_minor": 2
}
