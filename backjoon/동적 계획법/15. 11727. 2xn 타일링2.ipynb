{
 "cells": [
  {
   "cell_type": "code",
   "execution_count": null,
   "metadata": {},
   "outputs": [],
   "source": [
    "from sys import stdin\n",
    "stdin = open(\"./input/input15.txt\", \"rt\")\n",
    "input = stdin.readline\n",
    "\n",
    "n = int(input())\n",
    "\n",
    "\n",
    "\n"
   ]
  },
  {
   "cell_type": "code",
   "execution_count": 62,
   "metadata": {},
   "outputs": [
    {
     "name": "stdout",
     "output_type": "stream",
     "text": [
      "0\n",
      "10\n",
      "3\n",
      "3\n",
      "10\n",
      "[0, 101, 11]\n"
     ]
    }
   ],
   "source": [
    "from itertools import permutations\n",
    "\n",
    "def isSosu(n):\n",
    "    if n <= 1:\n",
    "        return False\n",
    "    # 에타토스테네스의 체 초기화: n개 요소에 True 설정\n",
    "    m = int(n ** (0.5))\n",
    "\n",
    "    for i in range(2, m+1):\n",
    "        if n % i == 0:\n",
    "            return False\n",
    "    else:\n",
    "        return True\n",
    "    \n",
    "\n",
    "def solution(numbers):\n",
    "    answer = []\n",
    "    # 문자의 조합을 만들어야 함\n",
    "    numbers = list(numbers)\n",
    "    arr = []\n",
    "    for i in range(1, len(numbers) + 1):\n",
    "        arr += list(permutations(numbers, i))\n",
    "    \n",
    "    # arr = set(arr)\n",
    "    \n",
    "    # 숫자들을 저장할 data\n",
    "    data = set()\n",
    "    for x in arr:\n",
    "        data.add(int(\"\".join(x)))\n",
    "    \n",
    "    # data가 소수인지 확인\n",
    "    for x in data:\n",
    "        if isSosu(x):\n",
    "            answer.append(x)\n",
    "\n",
    "    return len(answer)\n",
    "\n"
   ]
  },
  {
   "cell_type": "code",
   "execution_count": 50,
   "metadata": {},
   "outputs": [
    {
     "data": {
      "text/plain": [
       "[2, 3, 5, 7, 11, 13, 17]"
      ]
     },
     "execution_count": 50,
     "metadata": {},
     "output_type": "execute_result"
    }
   ],
   "source": [
    "def prime_list(n):\n",
    "\t\t# 에타토스테네스의 체 초기화: n개 요소에 True 설정\n",
    "    sieve = [True] * (n+1)\n",
    "    \n",
    "    m = int(n ** 0.5)\n",
    "    for i in range(2, m+1):\n",
    "        if sieve[i] == True:\n",
    "            for j in range(i+i, n+1, i): # i가 소수인 경우\n",
    "                sieve[j] = False # i 이후의 배수들을 False 판정\n",
    "\n",
    "    # 소수 목록 산출\n",
    "    return [i for i in range(2, n+1) if sieve[i] == True]\n",
    "\n",
    "\n",
    "prime_list(17)"
   ]
  }
 ],
 "metadata": {
  "kernelspec": {
   "display_name": "Python 3.8.6 64-bit",
   "language": "python",
   "name": "python3"
  },
  "language_info": {
   "codemirror_mode": {
    "name": "ipython",
    "version": 3
   },
   "file_extension": ".py",
   "mimetype": "text/x-python",
   "name": "python",
   "nbconvert_exporter": "python",
   "pygments_lexer": "ipython3",
   "version": "3.8.6"
  },
  "orig_nbformat": 4,
  "vscode": {
   "interpreter": {
    "hash": "2ba6819d172d60e93b2f90e5d47af36d4f36070393882cfcbe0fef625705f185"
   }
  }
 },
 "nbformat": 4,
 "nbformat_minor": 2
}
