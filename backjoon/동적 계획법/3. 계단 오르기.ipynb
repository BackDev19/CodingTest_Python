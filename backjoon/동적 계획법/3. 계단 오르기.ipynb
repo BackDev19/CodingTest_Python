{
 "cells": [
  {
   "cell_type": "code",
   "execution_count": 69,
   "metadata": {},
   "outputs": [
    {
     "name": "stdout",
     "output_type": "stream",
     "text": [
      "75\n"
     ]
    }
   ],
   "source": [
    "from sys import stdin\n",
    "stdin = open(\"./input/input3.txt\", \"rt\")\n",
    "input = stdin.readline\n",
    "\n",
    "# 모든 경우의 수를 구해보는게 좋을 듯\n",
    "n = int(input())\n",
    "\n",
    "arr = [0 for _ in range(300+1)]\n",
    "for i in range(1, n+1):\n",
    "    arr[i] = int(input())\n",
    "dp = [0 for _ in range(300+1)]\n",
    "\n",
    "dp[1] = arr[1] # 첫번째 계단 dp에 arr[1]\n",
    "dp[2] = arr[1] + arr[2] # 두번째 계단 dp에 arr[1] + arr[2]\n",
    "dp[3] = max(arr[1] , arr[2]) + arr[3] # 세번째 계단 dp에 max(arr[1], arr[2]) + arr[3]\n",
    "\n",
    "# 2부터 ~ n까지 탐색\n",
    "# arr[i] = max(arr[i-1], arr[i-2]) + arr[i]\n",
    "for i in range(4, n+1):\n",
    "    # 2칸 건너뛴 경우, 1칸 건너 뛴 경우\n",
    "    dp[i] = max(dp[i-3] + arr[i-1], dp[i-2]) + arr[i]\n",
    "\n",
    "print(dp[n])\n",
    "\n"
   ]
  },
  {
   "cell_type": "code",
   "execution_count": 41,
   "metadata": {},
   "outputs": [
    {
     "name": "stdout",
     "output_type": "stream",
     "text": [
      "7\n",
      "44\n",
      "274\n"
     ]
    }
   ],
   "source": [
    "# 더 적은 봉지의 개수\n",
    "from sys import stdin\n",
    "stdin = open(\"./input/input3.txt\", \"rt\")\n",
    "input = stdin.readline\n",
    "\n",
    "\n",
    "t = int(input())\n",
    "arr = [0] * (n+11)\n",
    "\n",
    "def sol(n):\n",
    "    if n == 1:\n",
    "        return 1\n",
    "    elif n == 2:\n",
    "        return 2\n",
    "    elif n == 3:\n",
    "        return 4\n",
    "    \n",
    "    if arr[n]:\n",
    "        return arr[n]\n",
    "    else:\n",
    "        arr[n] = sol(n-1) + sol(n-2) + sol(n-3)\n",
    "    \n",
    "    return arr[n]\n",
    "\n",
    "a = [int(input()) for _ in range(t)]\n",
    "for x in a:\n",
    "    print(sol(x))\n",
    "\n"
   ]
  },
  {
   "cell_type": "code",
   "execution_count": null,
   "metadata": {},
   "outputs": [],
   "source": [
    "from sys import stdin\n",
    "stdin = open(\"input.txt\", \"rt\")\n",
    "input = stdin.readline\n",
    "\n",
    "t = int(input())\n",
    "\n",
    "def sol(n):\n",
    "    if n == 1:\n",
    "        return 1\n",
    "    elif n == 2:\n",
    "        return 2\n",
    "    elif n == 3:\n",
    "        return 4\n",
    "    \n",
    "    return sol(n-1) + sol(n-2) + sol(n-3)\n",
    "\n",
    "a = [int(input()) for _ in range(t)]\n",
    "for x in a:\n",
    "    print(sol(x))"
   ]
  },
  {
   "cell_type": "code",
   "execution_count": null,
   "metadata": {},
   "outputs": [],
   "source": []
  },
  {
   "cell_type": "code",
   "execution_count": 29,
   "metadata": {},
   "outputs": [
    {
     "name": "stdout",
     "output_type": "stream",
     "text": [
      "[0, 1, 2, 3, 0, 0, 0, 0, 0]\n"
     ]
    }
   ],
   "source": [
    "arr = [0, 1, 2, 3] + [0] * (5)\n",
    "print(arr)"
   ]
  }
 ],
 "metadata": {
  "kernelspec": {
   "display_name": "Python 3.8.6 64-bit (system)",
   "language": "python",
   "name": "python3"
  },
  "language_info": {
   "codemirror_mode": {
    "name": "ipython",
    "version": 3
   },
   "file_extension": ".py",
   "mimetype": "text/x-python",
   "name": "python",
   "nbconvert_exporter": "python",
   "pygments_lexer": "ipython3",
   "version": "3.8.6"
  },
  "orig_nbformat": 4,
  "vscode": {
   "interpreter": {
    "hash": "2ba6819d172d60e93b2f90e5d47af36d4f36070393882cfcbe0fef625705f185"
   }
  }
 },
 "nbformat": 4,
 "nbformat_minor": 2
}
