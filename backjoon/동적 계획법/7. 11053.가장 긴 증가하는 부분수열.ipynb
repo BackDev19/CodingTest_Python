{
 "cells": [
  {
   "cell_type": "code",
   "execution_count": 13,
   "metadata": {},
   "outputs": [
    {
     "name": "stdout",
     "output_type": "stream",
     "text": [
      "4\n"
     ]
    }
   ],
   "source": [
    "from sys import stdin\n",
    "stdin = open(\"./input/input6.txt\", \"rt\")\n",
    "input = stdin.readline\n",
    "\n",
    "# 수열 A가 주어졌을 때, 가장 긴 증가하는 부분 수열\n",
    "# 배열용 arr 선언\n",
    "# dp 선언 -> 가장 긴 수열 저장용\n",
    "n = int(input())\n",
    "arr = list(map(int, input().split()))\n",
    "arr.insert(0, 0)\n",
    "dp = [0] * (n+1)\n",
    "\n",
    "\n",
    "for i in range(1, n+1):\n",
    "    for j in range(i-1, 0, -1):\n",
    "        if arr[j] < arr[i] and dp[i] < dp[j]: # arr[j] < arr[i] 이면서, dp[i] < dp[j] -> 더 길이가 긴 곳\n",
    "            # dp[i] = dp[j]대입\n",
    "            dp[i] = dp[j]\n",
    "    \n",
    "    # 기본적으로 1씩 증가해야 함\n",
    "    dp[i] += 1\n",
    "\n",
    "#가장 긴 길이를 출력\n",
    "print(max(dp))\n"
   ]
  }
 ],
 "metadata": {
  "kernelspec": {
   "display_name": "Python 3.8.6 64-bit (system)",
   "language": "python",
   "name": "python3"
  },
  "language_info": {
   "codemirror_mode": {
    "name": "ipython",
    "version": 3
   },
   "file_extension": ".py",
   "mimetype": "text/x-python",
   "name": "python",
   "nbconvert_exporter": "python",
   "pygments_lexer": "ipython3",
   "version": "3.8.6 (tags/v3.8.6:db45529, Sep 23 2020, 15:52:53) [MSC v.1927 64 bit (AMD64)]"
  },
  "orig_nbformat": 4,
  "vscode": {
   "interpreter": {
    "hash": "2ba6819d172d60e93b2f90e5d47af36d4f36070393882cfcbe0fef625705f185"
   }
  }
 },
 "nbformat": 4,
 "nbformat_minor": 2
}
