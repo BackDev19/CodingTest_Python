{
 "cells": [
  {
   "cell_type": "code",
   "execution_count": null,
   "metadata": {},
   "outputs": [],
   "source": [
    "import sys\n",
    "sys.stdin = open(\"input.txt\", \"rt\")\n",
    "input = sys.stdin.readline\n",
    "\n",
    "# n가지 종류의 동전\n",
    "# 가치의 합 k원이 되도록\n",
    "# 동전의 개수 최소\n",
    "\n",
    "# 1. coin을 정렬\n",
    "# 2. i-x >= 0 이면, min(dp[i-x], dp[i])\n",
    "n, k = map(int, input().split())\n",
    "coin = []\n",
    "dp = [0] + [int(1e9)] * (k)\n",
    "\n",
    "# coin 세팅\n",
    "for _ in range(n):\n",
    "    coin.append(int(input()))\n",
    "coin.sort()\n",
    "\n",
    "for i in range(1, k+1):\n",
    "    for x in coin:\n",
    "        if i-x >= 0:\n",
    "            dp[i] = min(dp[i-x], dp[i])\n",
    "        else:\n",
    "            break\n",
    "    dp[i] += 1\n",
    "            \n",
    "print(dp[k])"
   ]
  }
 ],
 "metadata": {
  "language_info": {
   "name": "python"
  },
  "orig_nbformat": 4
 },
 "nbformat": 4,
 "nbformat_minor": 2
}
