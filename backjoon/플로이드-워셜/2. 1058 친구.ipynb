{
 "cells": [
  {
   "cell_type": "code",
   "execution_count": 33,
   "metadata": {},
   "outputs": [
    {
     "name": "stdout",
     "output_type": "stream",
     "text": [
      "8\n"
     ]
    }
   ],
   "source": [
    "import sys\n",
    "sys.stdin = open(\"./input/input2.txt\", \"rt\")\n",
    "input = sys.stdin.readline\n",
    "\n",
    "# A와 친구이고 B와 친구인 C가 존재\n",
    "# 2 친구의 수가 가장 많은 사람\n",
    "\n",
    "n = int(input())\n",
    "graph = [[0] * (n) for _ in range(n)]\n",
    "friend = []\n",
    "\n",
    "for i in range(n):\n",
    "    friend.append(list(input().rstrip()))\n",
    "\n",
    "# 친구관계 등록\n",
    "for k in range(n):\n",
    "    for i in range(n):\n",
    "        for j in range(n):\n",
    "            if i == j:\n",
    "                continue\n",
    "            if friend[i][j] == 'Y' or (friend[i][k] == 'Y' and friend[k][j] == 'Y'):\n",
    "                graph[i][j] = 1\n",
    "\n",
    "answer = 0\n",
    "for i in range(n):\n",
    "    answer = max(answer, sum(graph[i]))\n",
    "\n",
    "print(answer)\n"
   ]
  }
 ],
 "metadata": {
  "kernelspec": {
   "display_name": "Python 3",
   "language": "python",
   "name": "python3"
  },
  "language_info": {
   "codemirror_mode": {
    "name": "ipython",
    "version": 3
   },
   "file_extension": ".py",
   "mimetype": "text/x-python",
   "name": "python",
   "nbconvert_exporter": "python",
   "pygments_lexer": "ipython3",
   "version": "3.8.6"
  },
  "orig_nbformat": 4,
  "vscode": {
   "interpreter": {
    "hash": "2ba6819d172d60e93b2f90e5d47af36d4f36070393882cfcbe0fef625705f185"
   }
  }
 },
 "nbformat": 4,
 "nbformat_minor": 2
}
