{
 "cells": [
  {
   "cell_type": "code",
   "execution_count": 54,
   "metadata": {},
   "outputs": [
    {
     "name": "stdout",
     "output_type": "stream",
     "text": [
      "0 2 3 1 4 \n",
      "12 0 15 2 5 \n",
      "8 5 0 1 1 \n",
      "10 7 13 0 3 \n",
      "7 4 10 6 0 \n"
     ]
    }
   ],
   "source": [
    "import sys\n",
    "sys.stdin = open(\"./input/input1.txt\", \"rt\")\n",
    "input = sys.stdin.readline\n",
    "\n",
    "# n개의 도시\n",
    "# 다른 도시에 도착하는 m개의 버스\n",
    "# 각 버스는 한번 사용할 때 필요한 비용이 있다\n",
    "# A에서 B로 가는데 필요한 비용의 최솟값\n",
    "\n",
    "n = int(input())\n",
    "m = int(input())\n",
    "\n",
    "INF = int(1e9)\n",
    "graph = [[INF] * (n+1) for _ in range(n+1)]\n",
    "\n",
    "for _ in range(m):\n",
    "    a, b, c = map(int, input().split())\n",
    "    if c < graph[a][b]:\n",
    "        graph[a][b] = c\n",
    "\n",
    "for i in range(1, n+1):\n",
    "    graph[i][i] = 0\n",
    "\n",
    "for k in range(1, n+1):\n",
    "    for i in range(1, n+1):\n",
    "        for j in range(1, n+1):\n",
    "            if graph[i][k] != INF and graph[k][j] != INF:\n",
    "                graph[i][j] = min(graph[i][j], graph[i][k] + graph[k][j])\n",
    "            # graph[i][j]가 세팅이 안되어있는 경우\n",
    "\n",
    "for i in range(1, n+1):\n",
    "    for j in range(1, n+1):\n",
    "        if graph[i][j] == INF:\n",
    "            print('0', end = ' ')\n",
    "        else:\n",
    "            print(graph[i][j], end = ' ')\n",
    "    print()\n"
   ]
  }
 ],
 "metadata": {
  "kernelspec": {
   "display_name": "Python 3",
   "language": "python",
   "name": "python3"
  },
  "language_info": {
   "codemirror_mode": {
    "name": "ipython",
    "version": 3
   },
   "file_extension": ".py",
   "mimetype": "text/x-python",
   "name": "python",
   "nbconvert_exporter": "python",
   "pygments_lexer": "ipython3",
   "version": "3.8.6"
  },
  "orig_nbformat": 4,
  "vscode": {
   "interpreter": {
    "hash": "2ba6819d172d60e93b2f90e5d47af36d4f36070393882cfcbe0fef625705f185"
   }
  }
 },
 "nbformat": 4,
 "nbformat_minor": 2
}
