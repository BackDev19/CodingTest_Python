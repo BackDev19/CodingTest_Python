{
 "cells": [
  {
   "cell_type": "code",
   "execution_count": 14,
   "metadata": {},
   "outputs": [
    {
     "name": "stdout",
     "output_type": "stream",
     "text": [
      "5\n",
      "[0, 0, 0, 0, 0, 0, 0]\n",
      "[0, 0, 1, 0, 1, 1, 1]\n",
      "[0, 0, 0, 0, 0, 0, 0]\n",
      "[0, 0, 1, 0, 1, 0, 1]\n",
      "[0, 0, 1, 0, 0, 0, 1]\n",
      "[0, 0, 1, 0, 1, 0, 1]\n",
      "[0, 0, 0, 0, 0, 0, 0]\n",
      "1\n"
     ]
    }
   ],
   "source": [
    "import sys\n",
    "sys.stdin = open(\"./input/input3.txt\", \"rt\")\n",
    "input = sys.stdin.readline\n",
    "\n",
    "# 1번부터 N번까지 두 학생의 키를 비교\n",
    "# a < b\n",
    "# 두 학생의 키를 비교한 결과\n",
    "# 자신의 키가 몇 번째인지 알 수 있는 학생이 모두 몇 명인지\n",
    "\n",
    "n, m = map(int, input().split())\n",
    "graph = [[0] * (n+1) for _ in range(n+1)]\n",
    "\n",
    "for _ in range(m):\n",
    "    a, b = map(int, input().split())\n",
    "    graph[a][b] = 1\n",
    "\n",
    "# 플루이드 워셜로 자신과 모두 연결되어있는 노드들의 개수를 세면 되는거 아님?\n",
    "\n",
    "for k in range(1, n+1):\n",
    "    for i in range(1, n+1):\n",
    "        for j in range(1, n+1):\n",
    "            if i == j:\n",
    "                continue\n",
    "            if graph[i][k] and graph[k][j]:\n",
    "                graph[i][j] = 1\n",
    "\n",
    "answer = 0\n",
    "for i in range(1, n+1):\n",
    "    check = 0                \n",
    "    for j in range(1, n+1):\n",
    "        check += graph[i][j] + graph[j][i]\n",
    "    if check == n-1:\n",
    "        print(check)\n",
    "\n",
    "        answer += 1\n",
    "        \n",
    "print(*graph, sep='\\n')\n",
    "print(answer)"
   ]
  }
 ],
 "metadata": {
  "kernelspec": {
   "display_name": "Python 3",
   "language": "python",
   "name": "python3"
  },
  "language_info": {
   "codemirror_mode": {
    "name": "ipython",
    "version": 3
   },
   "file_extension": ".py",
   "mimetype": "text/x-python",
   "name": "python",
   "nbconvert_exporter": "python",
   "pygments_lexer": "ipython3",
   "version": "3.8.6"
  },
  "orig_nbformat": 4,
  "vscode": {
   "interpreter": {
    "hash": "2ba6819d172d60e93b2f90e5d47af36d4f36070393882cfcbe0fef625705f185"
   }
  }
 },
 "nbformat": 4,
 "nbformat_minor": 2
}
