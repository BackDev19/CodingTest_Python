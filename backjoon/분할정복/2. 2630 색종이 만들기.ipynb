{
 "cells": [
  {
   "cell_type": "code",
   "execution_count": null,
   "metadata": {},
   "outputs": [],
   "source": [
    "import sys\n",
    "sys.stdin = open(\"input.txt\", \"rt\")\n",
    "input = sys.stdin.readline\n",
    "\n",
    "# 정사각형 모양의 종이 N x N\n",
    "# 각 정사각형들은 하얀색, or 파란색\n",
    "# 종이를 일정한 규칙으로 잘라서 하얀색 or 파란색\n",
    "\n",
    "# 전체 종이가 모두 같은 색 -> 가로, 세로로 중간 부분을 자름\n",
    "# 그림 1, 2, 3, 4와 같이 똑같은 크기의 네 개의 N / 2 x N / 2 색종이로 나눈다\n",
    "# 나눠진 종이에 대해서도 같은 색으로 칠해져 있지 않으면 같은 방법으로 반복\n",
    "# 모두 하얀색 or 파란색일 때까지\n",
    "\n",
    "# 잘라진 하얀색, 파란색 종이의 개수 구하기\n",
    "\n",
    "# 1. 전체 숫자들을 판별하는 법 : [x][y] 하나를 저장한 후, 전체를 비교\n",
    "# 2. 값이 다르다면, dfs(x + k * n // 2, y + l * n // 2, n // 2) 후, return\n",
    "# 3. 빠져나온 후에, graph[x][y] == 1: 파랑 += 1 else 하양 += 1\n",
    "\n",
    "n = int(input())\n",
    "graph = [list(map(int, input().split())) for _ in range(n)]\n",
    "\n",
    "blue = 0\n",
    "white = 0\n",
    "\n",
    "def dfs(x, y, n):\n",
    "\n",
    "    # 첫째 값 저장하기\n",
    "    first = graph[x][y]\n",
    "    for i in range(x, x + n):\n",
    "        for j in range(y, y + n):\n",
    "            if first != graph[i][j]:\n",
    "                for k in range(2):\n",
    "                    for l in range(2):\n",
    "                        dfs(x + k * (n // 2), y + l * (n // 2), n // 2)\n",
    "                    \n",
    "                return\n",
    "    global blue, white\n",
    "    if first == 1:\n",
    "        blue += 1\n",
    "    else:\n",
    "        white += 1\n",
    "\n",
    "dfs(0, 0, n)\n",
    "print(white)\n",
    "print(blue)"
   ]
  }
 ],
 "metadata": {
  "language_info": {
   "name": "python"
  },
  "orig_nbformat": 4
 },
 "nbformat": 4,
 "nbformat_minor": 2
}
