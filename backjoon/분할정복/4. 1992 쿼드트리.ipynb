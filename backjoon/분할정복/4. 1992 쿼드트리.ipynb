{
 "cells": [
  {
   "cell_type": "code",
   "execution_count": null,
   "metadata": {},
   "outputs": [],
   "source": [
    "import sys\n",
    "sys.stdin = open(\"input.txt\", \"rt\")\n",
    "input = sys.stdin.readline\n",
    "\n",
    "# 흰 점 0, 검은 점 1\n",
    "# 0으로만 되어있다면 0, 1로만 되어있으면 1\n",
    "# 0과 1이 섞여 있다면 괄호로 묶어서 4개의 영역으로\n",
    "\n",
    "# 영상을 압축한 결과를 출력\n",
    "\n",
    "# 1. 같은 수인지 확인\n",
    "# 2. 다르다면 괄호 열고, dfs() 4방향\n",
    "# 3. 괄호 닫고 return\n",
    "# 4. graph[i][j]\n",
    "\n",
    "n = int(input())\n",
    "graph = [list(map(int, input().rstrip())) for _ in range(n)]\n",
    "# print(*graph, sep = '\\n')\n",
    "\n",
    "def dfs(x, y, n):\n",
    "    first = graph[x][y]\n",
    "    for i in range(x, x + n):\n",
    "        for j in range(y, y + n):\n",
    "            if first != graph[i][j]:\n",
    "                print('(', end = '')\n",
    "                size = n // 2\n",
    "                dfs(x, y, size)\n",
    "                dfs(x, y + size, size)\n",
    "                dfs(x + size, y, size)\n",
    "                dfs(x + size, y + size, size)\n",
    "                print(')', end = '')\n",
    "                return\n",
    "\n",
    "    print(first, end = '')\n",
    "\n",
    "dfs(0, 0, n)"
   ]
  }
 ],
 "metadata": {
  "language_info": {
   "name": "python"
  },
  "orig_nbformat": 4
 },
 "nbformat": 4,
 "nbformat_minor": 2
}
