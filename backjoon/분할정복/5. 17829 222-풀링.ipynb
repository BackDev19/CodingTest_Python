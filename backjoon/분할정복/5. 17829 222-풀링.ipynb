{
 "cells": [
  {
   "cell_type": "code",
   "execution_count": null,
   "metadata": {},
   "outputs": [],
   "source": [
    "import sys\n",
    "sys.stdin = open(\"input.txt\", \"rt\")\n",
    "input = sys.stdin.readline\n",
    "\n",
    "# 1. 8x8 행렬이 주어졌을 때\n",
    "# 2. 행렬을 2x2 행렬로 나눔\n",
    "# 3. 2번째로 큰 수만 남겨서 합침\n",
    "# 4. 또 2번 과정을 반복\n",
    "\n",
    "n = int(input())\n",
    "graph = [list(map(int, input().split())) for _ in range(n)]\n",
    "\n",
    "result = []\n",
    "\n",
    "def dfs(x, y, n):\n",
    "    if n == 2:\n",
    "        temp = []\n",
    "        for i in range(2):\n",
    "            for j in range(2):\n",
    "                temp.append(graph[x + i][y + j])\n",
    "        temp.sort()\n",
    "        # 두번째 큰 값을 넣어주기\n",
    "        graph[x // 2][y // 2] = temp[2]\n",
    "        return\n",
    "    \n",
    "    size = n // 2\n",
    "    for i in range(2):\n",
    "        for j in range(2):\n",
    "            dfs(x + size * (i), y + size * (j), size)\n",
    "\n",
    "idx = n\n",
    "while idx != 1:\n",
    "    dfs(0, 0, idx)\n",
    "    idx = idx // 2\n",
    "\n",
    "print(graph[0][0])\n",
    "# print(result)\n",
    "    \n",
    "    "
   ]
  }
 ],
 "metadata": {
  "kernelspec": {
   "display_name": "Python 3",
   "language": "python",
   "name": "python3"
  },
  "language_info": {
   "name": "python",
   "version": "3.8.6 (tags/v3.8.6:db45529, Sep 23 2020, 15:52:53) [MSC v.1927 64 bit (AMD64)]"
  },
  "orig_nbformat": 4,
  "vscode": {
   "interpreter": {
    "hash": "2ba6819d172d60e93b2f90e5d47af36d4f36070393882cfcbe0fef625705f185"
   }
  }
 },
 "nbformat": 4,
 "nbformat_minor": 2
}
