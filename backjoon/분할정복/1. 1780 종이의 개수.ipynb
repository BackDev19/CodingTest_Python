{
 "cells": [
  {
   "cell_type": "code",
   "execution_count": null,
   "metadata": {},
   "outputs": [],
   "source": [
    "import sys\n",
    "sys.stdin = open(\"input.txt\", \"rt\")\n",
    "input = sys.stdin.readline\n",
    "\n",
    "def cut_paper(r,c,n):\n",
    "    num = paper[r][c]\n",
    "    for i in range(r,r+n):\n",
    "        for j in range(c,c+n):\n",
    "            if paper[i][j] != num:\n",
    "                for k in range(3):\n",
    "                    for l in range(3):\n",
    "                        cut_paper(r+k*(n//3),c+l*(n//3),n//3)\n",
    "                return\n",
    "\n",
    "    if num == -1:\n",
    "        ans[0] += 1\n",
    "    elif num == 0:\n",
    "        ans[1] += 1\n",
    "    else:\n",
    "        ans[2] += 1\n",
    "\n",
    "n = int(input())\n",
    "paper = [list(map(int,input().split())) for _ in range(n)]\n",
    "ans = [0,0,0]\n",
    "\n",
    "cut_paper(0,0,n)\n",
    "print(*ans,sep='\\n')"
   ]
  }
 ],
 "metadata": {
  "kernelspec": {
   "display_name": "Python 3",
   "language": "python",
   "name": "python3"
  },
  "language_info": {
   "name": "python",
   "version": "3.8.6 (tags/v3.8.6:db45529, Sep 23 2020, 15:52:53) [MSC v.1927 64 bit (AMD64)]"
  },
  "orig_nbformat": 4,
  "vscode": {
   "interpreter": {
    "hash": "2ba6819d172d60e93b2f90e5d47af36d4f36070393882cfcbe0fef625705f185"
   }
  }
 },
 "nbformat": 4,
 "nbformat_minor": 2
}
