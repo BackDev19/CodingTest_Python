{
 "cells": [
  {
   "cell_type": "code",
   "execution_count": null,
   "metadata": {},
   "outputs": [],
   "source": [
    "import sys\n",
    "sys.stdin = open(\"input.txt\", \"rt\")\n",
    "input = sys.stdin.readline\n",
    "\n",
    "n, r, c = map(int, input().split())\n",
    "\n",
    "answer = 0\n",
    "count = -1\n",
    "\n",
    "def dfs(x, y, n):\n",
    "    if n == 2:\n",
    "        global count, answer\n",
    "        for i in range(x, x + n):\n",
    "            for j in range(y, y + n):\n",
    "                count += 1\n",
    "                # i와 j가 목표와 같다면 \n",
    "                if i == r and j == c:\n",
    "                    answer = count\n",
    "                    return\n",
    "\n",
    "        return\n",
    "\n",
    "    size = n // 2\n",
    "    if r < x + size and c < y + size:\n",
    "        count += (n ** 2) // 4 * 0\n",
    "        dfs(x, y, size)\n",
    "    elif r < x + size and y + size <= c:\n",
    "        count += (n ** 2) // 4 * 1\n",
    "        dfs(x, y + size, size)\n",
    "    elif x + size <= r and c < y + size:\n",
    "        count += (n ** 2) // 4 * 2\n",
    "        dfs(x + size, y, size)\n",
    "    elif x + size <= r and y + size <= c:\n",
    "        count += (n ** 2) // 4 * 3\n",
    "        dfs(x + size, y + size, size)\n",
    "\n",
    "dfs(0, 0, 2 ** n)\n",
    "print(answer)"
   ]
  }
 ],
 "metadata": {
  "language_info": {
   "name": "python"
  },
  "orig_nbformat": 4
 },
 "nbformat": 4,
 "nbformat_minor": 2
}
