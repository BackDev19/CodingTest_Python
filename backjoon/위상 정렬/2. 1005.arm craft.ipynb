{
 "cells": [
  {
   "cell_type": "code",
   "execution_count": 31,
   "metadata": {},
   "outputs": [
    {
     "name": "stdout",
     "output_type": "stream",
     "text": [
      "130\n",
      "38\n"
     ]
    }
   ],
   "source": [
    "from collections import deque\n",
    "from sys import stdin\n",
    "stdin = open(\"./input/input2.txt\")\n",
    "input = stdin.readline\n",
    "\n",
    "\n",
    "# 첫째 줄에는 테스트케이스의 개수 T가 주어진다. 각 \n",
    "# 첫째 줄에 건물의 개수 N과 건물간의 건설순서 규칙의 총 개수 K이 주어진다. \n",
    "# (건물의 번호는 1번부터 N번까지 존재한다) \n",
    "\n",
    "# 둘째 줄에는 각 건물당 건설에 걸리는 시간 D1, D2, ..., DN이 공백을 사이로 주어진다. \n",
    "# 셋째 줄부터 K+2줄까지 건설순서 X Y가 주어진다. \n",
    "# (이는 건물 X를 지은 다음에 건물 Y를 짓는 것이 가능하다는 의미이다) \n",
    "\n",
    "# 마지막 줄에는 백준이가 승리하기 위해 건설해야 할 건물의 번호 W가 주어진다.\n",
    "\n",
    "def topology_sort():\n",
    "    q = deque()\n",
    "    result = []\n",
    "    cnt = 0\n",
    "\n",
    "    q.append(1)\n",
    "    while q:\n",
    "        now = q.popleft()\n",
    "        cnt += indegree[now]\n",
    "\n",
    "\n",
    "        maxCount = -1\n",
    "        # 각 그래프별로 시간이 지남에 따라서\n",
    "        for x in graph[now]:\n",
    "            # print(x, cnt)\n",
    "            # x가 target이라면, 마지막 행이라면, 도달해야 하는 값을 넣어주고, break\n",
    "            if x == target:\n",
    "                maxCount = indegree[x]\n",
    "                break\n",
    "            # max(graph[now])를 통해서, 가장 큰 값을 cnt에 더해주고, 둘 다 0으로 만들기\n",
    "            # indegree[x] = 0\n",
    "            # 순서대로 q에 넣어줘야 함 => 초단위만 계산하므로 괜찮을듯?\n",
    "            if maxCount < indegree[x]:\n",
    "                maxCount = indegree[x]\n",
    "                \n",
    "            q.append(x) # x를 넣어줄 것 => 한번만 넣어줄 것\n",
    "            indegree[x] = 0\n",
    "            \n",
    "        cnt += maxCount\n",
    "\n",
    "    print(cnt)\n",
    "                \n",
    "\n",
    "T = int(input())\n",
    "for t in range(T):\n",
    "    # n은 건물의 개수, k는 건설순서 규칙의 총 개수. 건물은 1 ~ n번까지\n",
    "    n, k = map(int, input().split())\n",
    "\n",
    "    graph = [[] for i in range(n+1)]\n",
    "    indegree = list(map(int, input().split())) # 건물 당 걸리는 시간을 입력\n",
    "    indegree.insert(0, 0)\n",
    "\n",
    "    # 그래프 구성\n",
    "    for _ in range(k):\n",
    "        a, b = map(int, input().split())\n",
    "        graph[a].append(b)\n",
    "    \n",
    "    target = int(input())\n",
    "\n",
    "    topology_sort() "
   ]
  }
 ],
 "metadata": {
  "kernelspec": {
   "display_name": "Python 3.8.6 64-bit",
   "language": "python",
   "name": "python3"
  },
  "language_info": {
   "codemirror_mode": {
    "name": "ipython",
    "version": 3
   },
   "file_extension": ".py",
   "mimetype": "text/x-python",
   "name": "python",
   "nbconvert_exporter": "python",
   "pygments_lexer": "ipython3",
   "version": "3.8.6"
  },
  "orig_nbformat": 4,
  "vscode": {
   "interpreter": {
    "hash": "2ba6819d172d60e93b2f90e5d47af36d4f36070393882cfcbe0fef625705f185"
   }
  }
 },
 "nbformat": 4,
 "nbformat_minor": 2
}
