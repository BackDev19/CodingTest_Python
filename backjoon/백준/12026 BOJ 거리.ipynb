{
 "cells": [
  {
   "cell_type": "code",
   "execution_count": null,
   "metadata": {},
   "outputs": [],
   "source": [
    "import sys\n",
    "sys.stdin = open(\"input.txt\", \"rt\")\n",
    "input = sys.stdin.readline\n",
    "\n",
    "# N개가 일렬로 놓여진 형태의 도로\n",
    "# BOJ\n",
    "# k칸 만큼 점프를 하는데 필요한 에너지 양은 k * k\n",
    "# BOJ 순서로 점프\n",
    "# 에너지 양의 최솟값\n",
    "\n",
    "n = int(input())\n",
    "block = [0] + list(input())\n",
    "dp = [1e9] * (n+1)\n",
    "\n",
    "# 문자들을 숫자로 치환\n",
    "for i in range(1, n+1):\n",
    "    if block[i] == 'B':\n",
    "        block[i] = 0\n",
    "\n",
    "    if block[i] == 'O':\n",
    "        block[i] = 1\n",
    "\n",
    "    if block[i] == 'J':\n",
    "        block[i] = 2        \n",
    "\n",
    "answer = 0\n",
    "dp[1] = 0\n",
    "for i in range(1, n+1):\n",
    "\n",
    "    # 1부터 i+1 ~ n까지를 탐색. BOJ순으로 거리를 최신화\n",
    "    for j in range(i+1, n+1):\n",
    "        # 해당 조건은 있어도 되고 없어도 됨. 가독성을 위해 추가\n",
    "        # 1e9라면, 즉 순서가 안맞아서 해당 블록에 접근하지 않았다면 continue\n",
    "        if block[i] == 1e9:\n",
    "            continue\n",
    "        # 0 1 2순으로 다음 숫자라면 가장 짧은 거리로 최신화\n",
    "        if (block[i] + 1) % 3 == block[j]:\n",
    "            dp[j] = min(dp[j], dp[i] + (j - i) ** 2)\n",
    "\n",
    "answer = dp[n] if dp[n] != 1e9 else -1\n",
    "print(answer)"
   ]
  }
 ],
 "metadata": {
  "kernelspec": {
   "display_name": "Python 3",
   "language": "python",
   "name": "python3"
  },
  "language_info": {
   "name": "python",
   "version": "3.8.6"
  },
  "orig_nbformat": 4,
  "vscode": {
   "interpreter": {
    "hash": "2ba6819d172d60e93b2f90e5d47af36d4f36070393882cfcbe0fef625705f185"
   }
  }
 },
 "nbformat": 4,
 "nbformat_minor": 2
}
