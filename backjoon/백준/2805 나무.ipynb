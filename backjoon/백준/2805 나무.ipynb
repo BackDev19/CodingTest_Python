{
 "cells": [
  {
   "cell_type": "code",
   "execution_count": null,
   "metadata": {},
   "outputs": [],
   "source": [
    "import sys\n",
    "sys.stdin = open(\"input.txt\", \"rt\")\n",
    "input = sys.stdin.readline\n",
    "\n",
    "# 상근이는 절단기에 높이 H\n",
    "# H미터 위로. 연속해있는 나무를 모두 절단\n",
    "# 적어도 M미터의 나무를 집에 가져가기 위해서 높이의 최대값\n",
    "\n",
    "# 나무를 높이만큼 잘랐을 때 얻을 수 있는 나무의 개수\n",
    "def getTree(height):\n",
    "    tree_num = 0\n",
    "    for i in range(len(tree)):\n",
    "        tree_num += tree[i] - height if tree[i] - height >= 0 else 0\n",
    "    return tree_num\n",
    "\n",
    "# 이진탐색\n",
    "def binary_search():\n",
    "    lt = 0\n",
    "    rt = max(tree)\n",
    "\n",
    "    while lt <= rt:\n",
    "        mid = (lt + rt) // 2\n",
    "        # 적어도 m개의 나무들을 확보한 상황 -> 최대 높이를 구할 때까지 탐색 계속 진행\n",
    "        if m <= getTree(mid):\n",
    "            lt = mid + 1\n",
    "        else:\n",
    "            rt = mid - 1\n",
    "\n",
    "    return rt\n",
    "\n",
    "n, m = map(int, input().split())\n",
    "tree = list(map(int, input().split()))\n",
    "print(binary_search())\n",
    "\n"
   ]
  }
 ],
 "metadata": {
  "language_info": {
   "name": "python"
  },
  "orig_nbformat": 4
 },
 "nbformat": 4,
 "nbformat_minor": 2
}
