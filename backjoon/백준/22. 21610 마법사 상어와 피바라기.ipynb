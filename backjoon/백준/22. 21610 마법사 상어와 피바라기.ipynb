{
 "cells": [
  {
   "cell_type": "code",
   "execution_count": 1,
   "metadata": {},
   "outputs": [
    {
     "ename": "FileNotFoundError",
     "evalue": "[Errno 2] No such file or directory: 'input.txt'",
     "output_type": "error",
     "traceback": [
      "\u001b[1;31m---------------------------------------------------------------------------\u001b[0m",
      "\u001b[1;31mFileNotFoundError\u001b[0m                         Traceback (most recent call last)",
      "\u001b[1;32mc:\\Users\\황인권\\OneDrive - 동국대학교\\문서\\CodingTest_Python\\codingTest2\\backjoon\\22. 21610 마법사 상어와 피바라기.ipynb 셀 1\u001b[0m in \u001b[0;36m<cell line: 2>\u001b[1;34m()\u001b[0m\n\u001b[0;32m      <a href='vscode-notebook-cell:/c%3A/Users/%ED%99%A9%EC%9D%B8%EA%B6%8C/OneDrive%20-%20%EB%8F%99%EA%B5%AD%EB%8C%80%ED%95%99%EA%B5%90/%EB%AC%B8%EC%84%9C/CodingTest_Python/codingTest2/backjoon/22.%2021610%20%EB%A7%88%EB%B2%95%EC%82%AC%20%EC%83%81%EC%96%B4%EC%99%80%20%ED%94%BC%EB%B0%94%EB%9D%BC%EA%B8%B0.ipynb#W0sZmlsZQ%3D%3D?line=0'>1</a>\u001b[0m \u001b[39mimport\u001b[39;00m \u001b[39msys\u001b[39;00m\n\u001b[1;32m----> <a href='vscode-notebook-cell:/c%3A/Users/%ED%99%A9%EC%9D%B8%EA%B6%8C/OneDrive%20-%20%EB%8F%99%EA%B5%AD%EB%8C%80%ED%95%99%EA%B5%90/%EB%AC%B8%EC%84%9C/CodingTest_Python/codingTest2/backjoon/22.%2021610%20%EB%A7%88%EB%B2%95%EC%82%AC%20%EC%83%81%EC%96%B4%EC%99%80%20%ED%94%BC%EB%B0%94%EB%9D%BC%EA%B8%B0.ipynb#W0sZmlsZQ%3D%3D?line=1'>2</a>\u001b[0m sys\u001b[39m.\u001b[39mstdin \u001b[39m=\u001b[39m \u001b[39mopen\u001b[39;49m(\u001b[39m\"\u001b[39;49m\u001b[39minput.txt\u001b[39;49m\u001b[39m\"\u001b[39;49m, \u001b[39m\"\u001b[39;49m\u001b[39mrt\u001b[39;49m\u001b[39m\"\u001b[39;49m)\n\u001b[0;32m      <a href='vscode-notebook-cell:/c%3A/Users/%ED%99%A9%EC%9D%B8%EA%B6%8C/OneDrive%20-%20%EB%8F%99%EA%B5%AD%EB%8C%80%ED%95%99%EA%B5%90/%EB%AC%B8%EC%84%9C/CodingTest_Python/codingTest2/backjoon/22.%2021610%20%EB%A7%88%EB%B2%95%EC%82%AC%20%EC%83%81%EC%96%B4%EC%99%80%20%ED%94%BC%EB%B0%94%EB%9D%BC%EA%B8%B0.ipynb#W0sZmlsZQ%3D%3D?line=2'>3</a>\u001b[0m \u001b[39minput\u001b[39m \u001b[39m=\u001b[39m sys\u001b[39m.\u001b[39mstdin\u001b[39m.\u001b[39mreadline\n\u001b[0;32m      <a href='vscode-notebook-cell:/c%3A/Users/%ED%99%A9%EC%9D%B8%EA%B6%8C/OneDrive%20-%20%EB%8F%99%EA%B5%AD%EB%8C%80%ED%95%99%EA%B5%90/%EB%AC%B8%EC%84%9C/CodingTest_Python/codingTest2/backjoon/22.%2021610%20%EB%A7%88%EB%B2%95%EC%82%AC%20%EC%83%81%EC%96%B4%EC%99%80%20%ED%94%BC%EB%B0%94%EB%9D%BC%EA%B8%B0.ipynb#W0sZmlsZQ%3D%3D?line=3'>4</a>\u001b[0m \u001b[39m#! 미완\u001b[39;00m\n\u001b[0;32m      <a href='vscode-notebook-cell:/c%3A/Users/%ED%99%A9%EC%9D%B8%EA%B6%8C/OneDrive%20-%20%EB%8F%99%EA%B5%AD%EB%8C%80%ED%95%99%EA%B5%90/%EB%AC%B8%EC%84%9C/CodingTest_Python/codingTest2/backjoon/22.%2021610%20%EB%A7%88%EB%B2%95%EC%82%AC%20%EC%83%81%EC%96%B4%EC%99%80%20%ED%94%BC%EB%B0%94%EB%9D%BC%EA%B8%B0.ipynb#W0sZmlsZQ%3D%3D?line=4'>5</a>\u001b[0m \u001b[39m# 비바라기\u001b[39;00m\n\u001b[0;32m      <a href='vscode-notebook-cell:/c%3A/Users/%ED%99%A9%EC%9D%B8%EA%B6%8C/OneDrive%20-%20%EB%8F%99%EA%B5%AD%EB%8C%80%ED%95%99%EA%B5%90/%EB%AC%B8%EC%84%9C/CodingTest_Python/codingTest2/backjoon/22.%2021610%20%EB%A7%88%EB%B2%95%EC%82%AC%20%EC%83%81%EC%96%B4%EC%99%80%20%ED%94%BC%EB%B0%94%EB%9D%BC%EA%B8%B0.ipynb#W0sZmlsZQ%3D%3D?line=5'>6</a>\u001b[0m \u001b[39m# n x n인 격자\u001b[39;00m\n\u001b[1;32m   (...)\u001b[0m\n\u001b[0;32m     <a href='vscode-notebook-cell:/c%3A/Users/%ED%99%A9%EC%9D%B8%EA%B6%8C/OneDrive%20-%20%EB%8F%99%EA%B5%AD%EB%8C%80%ED%95%99%EA%B5%90/%EB%AC%B8%EC%84%9C/CodingTest_Python/codingTest2/backjoon/22.%2021610%20%EB%A7%88%EB%B2%95%EC%82%AC%20%EC%83%81%EC%96%B4%EC%99%80%20%ED%94%BC%EB%B0%94%EB%9D%BC%EA%B8%B0.ipynb#W0sZmlsZQ%3D%3D?line=15'>16</a>\u001b[0m \u001b[39m# 방향은 총 8방향, 8개의 정수\u001b[39;00m\n\u001b[0;32m     <a href='vscode-notebook-cell:/c%3A/Users/%ED%99%A9%EC%9D%B8%EA%B6%8C/OneDrive%20-%20%EB%8F%99%EA%B5%AD%EB%8C%80%ED%95%99%EA%B5%90/%EB%AC%B8%EC%84%9C/CodingTest_Python/codingTest2/backjoon/22.%2021610%20%EB%A7%88%EB%B2%95%EC%82%AC%20%EC%83%81%EC%96%B4%EC%99%80%20%ED%94%BC%EB%B0%94%EB%9D%BC%EA%B8%B0.ipynb#W0sZmlsZQ%3D%3D?line=16'>17</a>\u001b[0m \u001b[39m# 좌측부터 시계방향\u001b[39;00m\n",
      "\u001b[1;31mFileNotFoundError\u001b[0m: [Errno 2] No such file or directory: 'input.txt'"
     ]
    }
   ],
   "source": [
    "import sys\n",
    "sys.stdin = open(\"input.txt\", \"rt\")\n",
    "input = sys.stdin.readline\n",
    "#! 미완\n",
    "# 비바라기\n",
    "# n x n인 격자\n",
    "# 저장할 수 있는 물의 양에는 제한 x\n",
    "# r, c는 격자의 r행 c열에 있는 바구니\n",
    "# A[r][c]는 (r, c)에 있는 바구니에 저장되어있는 물의 양을 의미\n",
    "\n",
    "# 1, 1, n, n\n",
    "# 1번 n번 연결\n",
    "\n",
    "# 4칸에 비바림 이동 m번\n",
    "# i번째 이동 명령은 방향 d와 거리 s로 이루어져 있다.\n",
    "# 방향은 총 8방향, 8개의 정수\n",
    "# 좌측부터 시계방향\n",
    "\n",
    "dx = [0, -1, -1, -1, 0, 1, 1, 1]\n",
    "dy = [-1, -1, 0, 1, 1, 1, 0, -1]\n",
    "\n",
    "# 1. 모든 구름이 d방향으로 s칸 이동\n",
    "# 2. 비가 내려 구름이 있는 칸의 바구니에 저장된 물의 양이 1 증가\n",
    "# 3. 구름이 사라진다\n",
    "# 2에서 r,c 에 물복사 마법 시전. 대각선 방향 물이 있는 바구니의 수만큼 r,c에 잇는 바구니의 물이 증가\n",
    "# 경계를 넘어가는 칸은 대각선 방향으로 거리가 1인 칸이 아니다\n",
    "# 물의 양이 2 이상인 모든 칸에 구름, 물의 양이 2 줄어든다.\n",
    "# M번의 이동이 끝난 후, 물의 양의 합\n",
    "\n",
    "n, m = map(int, input().split())\n",
    "graph = [list(map(int, input().split())) for _ in range(n)]\n",
    "\n",
    "print(*graph, sep='\\n')"
   ]
  }
 ],
 "metadata": {
  "kernelspec": {
   "display_name": "Python 3",
   "language": "python",
   "name": "python3"
  },
  "language_info": {
   "codemirror_mode": {
    "name": "ipython",
    "version": 3
   },
   "file_extension": ".py",
   "mimetype": "text/x-python",
   "name": "python",
   "nbconvert_exporter": "python",
   "pygments_lexer": "ipython3",
   "version": "3.8.6"
  },
  "orig_nbformat": 4,
  "vscode": {
   "interpreter": {
    "hash": "2ba6819d172d60e93b2f90e5d47af36d4f36070393882cfcbe0fef625705f185"
   }
  }
 },
 "nbformat": 4,
 "nbformat_minor": 2
}
