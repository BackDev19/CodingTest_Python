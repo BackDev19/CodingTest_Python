{
 "cells": [
  {
   "cell_type": "code",
   "execution_count": null,
   "metadata": {},
   "outputs": [],
   "source": [
    "import sys\n",
    "sys.stdin = open(\"input.txt\", \"rt\")\n",
    "input = sys.stdin.readline\n",
    "\n",
    "# 정사각형 4개 = 테트로미노\n",
    "# 하나를 놓아서 칸에 놓여있는 수들의 합을 최대로\n",
    "\n",
    "n, m = map(int, input().split())\n",
    "graph = [list(map(int, input().split())) for _ in range(n)]\n",
    "\n",
    "# 1. 3이면 answer와 total을 비교\n",
    "# 2. \n",
    "dx = [-1, 0, 1, 0]\n",
    "dy = [0, 1, 0, -1]\n",
    "def dfs(x, y, index, total):\n",
    "\n",
    "    if index == 3:\n",
    "        global answer\n",
    "        answer = max(total, answer)\n",
    "        return\n",
    "    \n",
    "    for i in range(4):\n",
    "        nx = x + dx[i]\n",
    "        ny = y + dy[i]\n",
    "        if 0 <= nx < n and 0 <= ny < m and not visit[nx][ny]:\n",
    "            # index가 1이라면, dfs(x, y, index + 1, total + graph[nx][ny])\n",
    "            if index == 1:\n",
    "                visit[nx][ny] = 1\n",
    "                dfs(x, y, index + 1, total + graph[nx][ny])\n",
    "                visit[nx][ny] = 0\n",
    "            \n",
    "            visit[nx][ny] = 1\n",
    "            dfs(nx, ny, index + 1, total + graph[nx][ny])\n",
    "            visit[nx][ny] = 0\n",
    "\n",
    "\n",
    "global visit\n",
    "visit = [[False] * m for _ in range(n)]\n",
    "global answer\n",
    "answer = 0\n",
    "\n",
    "for i in range(n):\n",
    "    for j in range(m):\n",
    "        visit[i][j] = 1\n",
    "        dfs(i, j, 0, graph[i][j])\n",
    "        visit[i][j] = 0\n",
    "\n",
    "print(answer)"
   ]
  }
 ],
 "metadata": {
  "language_info": {
   "name": "python"
  },
  "orig_nbformat": 4
 },
 "nbformat": 4,
 "nbformat_minor": 2
}
