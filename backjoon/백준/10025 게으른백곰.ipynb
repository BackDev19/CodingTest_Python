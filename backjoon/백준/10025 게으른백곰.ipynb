{
 "cells": [
  {
   "cell_type": "code",
   "execution_count": null,
   "metadata": {},
   "outputs": [],
   "source": [
    "import sys\n",
    "from collections import defaultdict\n",
    "sys.stdin = open(\"input.txt\", \"rt\")\n",
    "input = sys.stdin.readline\n",
    "\n",
    "n, k = map(int, input().split())\n",
    "dic = defaultdict(int)\n",
    "\n",
    "k = k*2 + 1\n",
    "\n",
    "# 좌표 위치\n",
    "max_num = 0\n",
    "min_num = 1e9\n",
    "# 1. 좌표에 얼음 넣기\n",
    "for _ in range(n):\n",
    "    g, x = map(int, input().split())\n",
    "    dic[x] = g\n",
    "\n",
    "    max_num = max(max_num, x)\n",
    "    min_num = min(min_num, x)\n",
    "\n",
    "ice = 0\n",
    "# 출발 위치에서 해당 위치까지 sliding\n",
    "for i in range(min_num, min_num + k):\n",
    "    if dic[i]:\n",
    "        ice += dic[i]\n",
    "\n",
    "answer = ice\n",
    "# 이제 sliding window를 진행\n",
    "for i in range(min_num + k, max_num):\n",
    "\n",
    "    if dic[i]:\n",
    "        ice += dic[i]\n",
    "    if dic[i-k]:\n",
    "        ice -= dic[i - k]\n",
    "\n",
    "    answer = max(answer, ice)\n",
    "print(answer)"
   ]
  }
 ],
 "metadata": {
  "language_info": {
   "name": "python"
  },
  "orig_nbformat": 4
 },
 "nbformat": 4,
 "nbformat_minor": 2
}
