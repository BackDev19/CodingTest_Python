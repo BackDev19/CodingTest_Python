{
 "cells": [
  {
   "cell_type": "code",
   "execution_count": null,
   "metadata": {},
   "outputs": [],
   "source": [
    "import sys\n",
    "from collections import Counter\n",
    "from collections import defaultdict\n",
    "sys.stdin = open(\"input.txt\", \"rt\")\n",
    "input = sys.stdin.readline\n",
    "\n",
    "n, d, k, c = map(int, input().split())\n",
    "chobab = [int(input()) for _ in range(n)]\n",
    "\n",
    "lt = 0; rt = 0\n",
    "dic = defaultdict(int)\n",
    "dic[c] += 1\n",
    "\n",
    "# rt가 다 돌고나서 k에 위치함\n",
    "while rt < k:\n",
    "    dic[chobab[rt]] += 1\n",
    "    rt += 1\n",
    "\n",
    "maxLen = 0\n",
    "for i in range(n):\n",
    "    # 크기 비교\n",
    "    maxLen = max(maxLen, len(dic))\n",
    "\n",
    "    # 왼쪽 노드 빼주기\n",
    "    dic[chobab[lt]] -= 1\n",
    "    if dic[chobab[lt]] == 0:\n",
    "        del dic[chobab[lt]]\n",
    "\n",
    "    # 오른쪽 더해주기\n",
    "    dic[chobab[rt % n]] += 1\n",
    "    lt += 1\n",
    "    rt += 1\n",
    "\n",
    "print(maxLen)"
   ]
  }
 ],
 "metadata": {
  "language_info": {
   "name": "python"
  },
  "orig_nbformat": 4
 },
 "nbformat": 4,
 "nbformat_minor": 2
}
