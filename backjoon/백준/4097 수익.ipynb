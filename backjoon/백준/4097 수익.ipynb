{
 "cells": [
  {
   "cell_type": "code",
   "execution_count": null,
   "metadata": {},
   "outputs": [],
   "source": [
    "import sys\n",
    "sys.stdin = open(\"input.txt\", \"rt\")\n",
    "input = sys.stdin.readline\n",
    "\n",
    "# 가장 많은 수익을 올린 구간의 수익\n",
    "# N, 둘째 줄부터 N개의 줄에는 매일 매일의 수익 P가 주어진다\n",
    "\n",
    "\n",
    "while True:\n",
    "    n = int(input())\n",
    "    if n == 0:\n",
    "        break\n",
    "\n",
    "    day = [0] + [int(input()) for _ in range(n)]\n",
    "    dp = [0] * (n+1)\n",
    "\n",
    "    # 이전의 숫자가 양수면 더해주고, 음수면 현재 day값만 계산하기\n",
    "    for i in range(1, n+1):\n",
    "        dp[i] = max(day[i], dp[i-1] + day[i])\n",
    "\n",
    "    print(max(dp[1:]))"
   ]
  }
 ],
 "metadata": {
  "language_info": {
   "name": "python"
  },
  "orig_nbformat": 4
 },
 "nbformat": 4,
 "nbformat_minor": 2
}
