{
 "cells": [
  {
   "cell_type": "code",
   "execution_count": null,
   "metadata": {},
   "outputs": [],
   "source": [
    "import sys\n",
    "input = sys.stdin.readline\n",
    " \n",
    "# n은 학생 수, m개까지의 블록, 높이 H\n",
    "n, m, h = map(int, input().split())\n",
    "dp = [[0] * (h+1) for _ in range(n+1)]\n",
    " \n",
    "for i in range(1, n+1):\n",
    "    blocks = list(map(int, input().split()))\n",
    "    \n",
    "    # 가장먼저 i-1에 있는 값들 그대로 복사\n",
    "    for j in range(1, h+1):\n",
    "        dp[i][j] = dp[i-1][j]\n",
    "        \n",
    "    for block in blocks:\n",
    "        dp[i][block] += 1\n",
    "        for j in range(1, h+1):\n",
    "            if j >= block:\n",
    "                dp[i][j] += dp[i-1][j-block]\n",
    " \n",
    "print(dp[n][h] % 10007)\n"
   ]
  }
 ],
 "metadata": {
  "language_info": {
   "name": "python"
  },
  "orig_nbformat": 4
 },
 "nbformat": 4,
 "nbformat_minor": 2
}
