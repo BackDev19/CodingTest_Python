{
 "cells": [
  {
   "cell_type": "code",
   "execution_count": null,
   "metadata": {},
   "outputs": [],
   "source": [
    "import sys\n",
    "from collections import defaultdict\n",
    "sys.stdin = open(\"input.txt\", \"rt\")\n",
    "input = sys.stdin.readline\n",
    "\n",
    "# 같은 원소가 여러 개 들어있는 수열을 싫어한다\n",
    "# K개 이하로 들어 있는 최장 연속 부분 수열의 길이\n",
    "\n",
    "# 길이가 N인 수열\n",
    "# 이 수열에서 같은 정수를 K개 이하로 포함한 최장 연속 부분 수열의 길이를 구하는 프로그램\n",
    "\n",
    "n, k = map(int, input().split())\n",
    "arr = list(map(int, input().split()))\n",
    "\n",
    "# dictionary에 숫자 저장\n",
    "# 1. k개 이상이라면, 왼쪽 이동\n",
    "# 2. k개 미만일 때, 오른쪽 이동\n",
    "\n",
    "r_pointer = 0; l_pointer = 0\n",
    "number_dict = defaultdict(int)\n",
    "maxLen = 0\n",
    "\n",
    "# r_pointer가 범위를 넘어가면 break\n",
    "while r_pointer < n:\n",
    "    # dictionary의 중복된 값이 k 이하라면, maxLen과 비교\n",
    "    # r_pointer 하나 증가\n",
    "    if number_dict[arr[r_pointer]] < k:\n",
    "        number_dict[arr[r_pointer]] += 1\n",
    "        r_pointer += 1\n",
    "    \n",
    "    # k보다 값이 작다면, 해당 값을 줄이고, l pointer 하나 증가\n",
    "    else:\n",
    "        number_dict[arr[l_pointer]] -= 1\n",
    "        l_pointer += 1\n",
    "\n",
    "    maxLen = max(maxLen, r_pointer - l_pointer)\n",
    "\n",
    "print(maxLen)"
   ]
  }
 ],
 "metadata": {
  "language_info": {
   "name": "python"
  },
  "orig_nbformat": 4
 },
 "nbformat": 4,
 "nbformat_minor": 2
}
