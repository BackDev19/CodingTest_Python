{
 "cells": [
  {
   "cell_type": "code",
   "execution_count": null,
   "metadata": {},
   "outputs": [],
   "source": [
    "import sys\n",
    "sys.stdin = open(\"input.txt\", \"rt\")\n",
    "input = sys.stdin.readline\n",
    "\n",
    "# 점의 개수 N과 선분 개수 M\n",
    "n, m = map(int, input().split())\n",
    "graph = list(map(int, input().split()))\n",
    "graph.sort()\n",
    "\n",
    "# 각각의 선분 마다, 선분 위에 입력으로 주어진 점이 몇 개 있는지 출력\n",
    "# 점들 중에서 시작점과 끝 점이 어느 위치에 놓여있는지를 찾기\n",
    "\n",
    "# 점들 중에서 가장 작은 index 찾기\n",
    "def search_min(target):\n",
    "    lt = 0\n",
    "    rt = n-1\n",
    "\n",
    "    while lt <= rt:\n",
    "        mid = (lt + rt) // 2\n",
    "        if target <= graph[mid]:\n",
    "            rt = mid - 1\n",
    "        else:\n",
    "            lt = mid + 1\n",
    "\n",
    "    return rt + 1\n",
    "\n",
    "# 점들 중에서 가장 큰 index 찾기\n",
    "def search_max(target):\n",
    "    lt = 0\n",
    "    rt = n - 1\n",
    "\n",
    "    while lt <= rt:\n",
    "        mid = (lt + rt) // 2\n",
    "        if target >= graph[mid]:\n",
    "            lt = mid + 1\n",
    "        else:\n",
    "            rt = mid - 1\n",
    "\n",
    "    return rt\n",
    "\n",
    "for i in range(m):\n",
    "    start, end = map(int, input().split())\n",
    "    print(search_max(end) - search_min(start) + 1)\n"
   ]
  }
 ],
 "metadata": {
  "language_info": {
   "name": "python"
  },
  "orig_nbformat": 4
 },
 "nbformat": 4,
 "nbformat_minor": 2
}
