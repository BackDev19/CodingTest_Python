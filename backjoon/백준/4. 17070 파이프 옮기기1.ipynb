{
 "cells": [
  {
   "cell_type": "code",
   "execution_count": null,
   "metadata": {},
   "outputs": [],
   "source": [
    "import sys\n",
    "sys.stdin = open(\"input.txt\", \"rt\")\n",
    "input = sys.stdin.readline\n",
    "\n",
    "# 파이프는 2개의 연속된 칸을 차지하는 크기\n",
    "# 항상 빈 칸만 차지\n",
    "# ->, 아래 우, 아래 방향\n",
    "\n",
    "# 파이프를 1,1에서 N, N로 이동시키는 방법의 개수\n",
    "\n",
    "n = int(input())\n",
    "graph = [[0] * (n + 1)] + [list(map(int, input().split())) for _ in range(n)]\n",
    "for i in range(1, n+1):\n",
    "    graph[i].insert(0, 0)\n",
    "\n",
    "# [i][j][0] = 세로, [1] = 대각, [2] = 가로\n",
    "dp = [[[0] * 3 for _ in range(n+1)] for _ in range(n+1)]\n",
    "# 1, 1 위치에서 1,2로 주어지므로, 1,2를 1로 표시\n",
    "dp[1][2][2] = 1\n",
    "\n",
    "for i in range(1, n+1):\n",
    "    for j in range(1, n+1):\n",
    "        # 벽인 부분은 continue. 따로 continue말고 처리를 안해줘도 되는게, 어차피 연산이 안돼서 [0, 0, 0] 의값이 됨\n",
    "        if graph[i][j] == 1:\n",
    "            continue\n",
    "        # 세로에서 오는 경우\n",
    "        dp[i][j][0] += dp[i-1][j][0] + dp[i-1][j][1]\n",
    "        # 가로에서 오는 경우\n",
    "        dp[i][j][2] += dp[i][j-1][1] + dp[i][j-1][2]\n",
    "\n",
    "        # 대각에서 오는 경우\n",
    "        # 대각에서 오는 경우는, 주변에 찢어져있으면 안됨\n",
    "        if graph[i-1][j] or graph[i][j-1]:\n",
    "            continue\n",
    "        dp[i][j][1] += dp[i-1][j-1][0] + dp[i-1][j-1][1] + dp[i-1][j-1][2]\n",
    "\n",
    "print(sum(dp[n][n]), sep='\\n')"
   ]
  }
 ],
 "metadata": {
  "kernelspec": {
   "display_name": "Python 3",
   "language": "python",
   "name": "python3"
  },
  "language_info": {
   "name": "python",
   "version": "3.8.6"
  },
  "orig_nbformat": 4,
  "vscode": {
   "interpreter": {
    "hash": "2ba6819d172d60e93b2f90e5d47af36d4f36070393882cfcbe0fef625705f185"
   }
  }
 },
 "nbformat": 4,
 "nbformat_minor": 2
}
