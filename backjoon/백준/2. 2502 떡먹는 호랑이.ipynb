{
 "cells": [
  {
   "cell_type": "code",
   "execution_count": null,
   "metadata": {},
   "outputs": [],
   "source": [
    "import sys\n",
    "sys.stdin = open(\"input.txt\", \"rt\")\n",
    "input = sys.stdin.readline\n",
    "\n",
    "# 떡의 개수 찾기\n",
    "def find():\n",
    "    for i in range(1, k+1):\n",
    "        for j in range(i, k+1):\n",
    "            if j * b[d] + i * a[d] > k:\n",
    "                break\n",
    "            \n",
    "            if j * b[d] + i * a[d] == k:\n",
    "                return i, j\n",
    "\n",
    "d, k = map(int, input().split())\n",
    "\n",
    "a = [0] * (30+1)\n",
    "b = [0] * (30+1)\n",
    "a[1] = 1\n",
    "b[2] = 1\n",
    "\n",
    "for i in range(3, d+1):\n",
    "    a[i] = a[i-1] + a[i-2]\n",
    "    b[i] = b[i-1] + b[i-2]\n",
    "\n",
    "# 여기서, \n",
    "first, second = find()\n",
    "print(first, second, sep='\\n')\n"
   ]
  },
  {
   "cell_type": "code",
   "execution_count": null,
   "metadata": {},
   "outputs": [],
   "source": []
  }
 ],
 "metadata": {
  "kernelspec": {
   "display_name": "Python 3",
   "language": "python",
   "name": "python3"
  },
  "language_info": {
   "name": "python",
   "version": "3.8.6 (tags/v3.8.6:db45529, Sep 23 2020, 15:52:53) [MSC v.1927 64 bit (AMD64)]"
  },
  "orig_nbformat": 4,
  "vscode": {
   "interpreter": {
    "hash": "2ba6819d172d60e93b2f90e5d47af36d4f36070393882cfcbe0fef625705f185"
   }
  }
 },
 "nbformat": 4,
 "nbformat_minor": 2
}
