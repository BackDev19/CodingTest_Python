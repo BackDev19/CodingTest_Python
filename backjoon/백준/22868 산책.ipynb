{
 "cells": [
  {
   "cell_type": "code",
   "execution_count": null,
   "metadata": {},
   "outputs": [],
   "source": [
    "import sys\n",
    "from collections import deque\n",
    "import copy\n",
    "input = sys.stdin.readline\n",
    " \n",
    "def bfs(s, e):\n",
    "    global result\n",
    "    q = deque()\n",
    "    q.append([s, []])\n",
    "    visited = [False] * (n+1)\n",
    "    visited[s] = True\n",
    " \n",
    "    while q:\n",
    "        now, path = q.popleft()\n",
    "        if now == e:\n",
    "            return path\n",
    " \n",
    "        for x in graph[now]:\n",
    "            if not path and x == e:\n",
    "                continue\n",
    " \n",
    "            if not visited[x] and x not in result:\n",
    "                visited[x] = True\n",
    "                q.append([x, copy.deepcopy(path + [x])])\n",
    " \n",
    "global n, m\n",
    "n, m = map(int, input().split())\n",
    "graph = [[] for _ in range(n+1)]\n",
    " \n",
    "for _ in range(m):\n",
    "    a, b = map(int, input().split())\n",
    "    graph[a].append(b)\n",
    "    graph[b].append(a)\n",
    " \n",
    "for i in range(len(graph)):\n",
    "    graph[i].sort()\n",
    " \n",
    "s, e = map(int, input().split())\n",
    " \n",
    "result = []\n",
    "result = bfs(s, e)\n",
    "result += bfs(e, s)\n",
    "print(len(result))"
   ]
  }
 ],
 "metadata": {
  "language_info": {
   "name": "python"
  },
  "orig_nbformat": 4
 },
 "nbformat": 4,
 "nbformat_minor": 2
}
