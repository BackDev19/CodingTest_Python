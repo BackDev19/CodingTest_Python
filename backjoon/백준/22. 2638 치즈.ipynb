{
 "cells": [
  {
   "cell_type": "code",
   "execution_count": null,
   "metadata": {},
   "outputs": [],
   "source": [
    "import sys\n",
    "from collections import deque\n",
    "sys.stdin = open(\"input.txt\", \"rt\")\n",
    "input = sys.stdin.readline\n",
    "\n",
    "n, m = map(int, input().split())\n",
    "graph = [list(map(int, input().split())) for _ in range(n)]\n",
    "\n",
    "def bfs():\n",
    "    visited = [[False] * m for _ in range(n)]\n",
    "    graph2 = [[0] * m for _ in range(n)]\n",
    "\n",
    "    dx = [-1, 0, 1, 0]\n",
    "    dy = [0, 1, 0, -1]\n",
    "\n",
    "    q = deque()\n",
    "    q.append((0, 0))\n",
    "    while q:\n",
    "        x, y = q.popleft()\n",
    "        for i in range(4):\n",
    "            nx = x + dx[i]\n",
    "            ny = y + dy[i]\n",
    "            if 0 <= nx < n and 0 <= ny < m and not visited[nx][ny]:\n",
    "                if graph[nx][ny] == 0:\n",
    "                    q.append((nx, ny))\n",
    "                    visited[nx][ny] = True\n",
    "                elif graph[nx][ny] == 1:\n",
    "                    graph2[nx][ny] += 1\n",
    "\n",
    "    # 여기서 graph2를 확인하면서, 값이 2 이상이라면 해당 부분을 0으로 만들어주기\n",
    "    for i in range(n):\n",
    "        for j in range(m):\n",
    "            if graph2[i][j] >= 2:\n",
    "                graph[i][j] = 0\n",
    "                \n",
    "    # 각 행마다 1의 값을 확인해서 return\n",
    "    count = 0\n",
    "    for i in range(n):\n",
    "        count += graph[i].count(1)\n",
    "    \n",
    "    return count\n",
    "\n",
    "answer = 1\n",
    "# count값이 0이라면 중단되도록\n",
    "while bfs():\n",
    "    answer += 1\n",
    "print(answer)"
   ]
  }
 ],
 "metadata": {
  "language_info": {
   "name": "python"
  },
  "orig_nbformat": 4
 },
 "nbformat": 4,
 "nbformat_minor": 2
}
