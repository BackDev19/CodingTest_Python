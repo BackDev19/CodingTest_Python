{
 "cells": [
  {
   "cell_type": "code",
   "execution_count": null,
   "metadata": {},
   "outputs": [],
   "source": [
    "import sys\n",
    "from collections import deque\n",
    "sys.stdin = open(\"input.txt\", \"rt\")\n",
    "input = sys.stdin.readline\n",
    "\n",
    "# 얇은 치즈\n",
    "# 치즈에는 하나 이상의 구멍\n",
    "# 공기와 접된 칸은 한 시간이 지나면 녹아 없어진다.\n",
    "\n",
    "# 치즈의 구멍 속에는 공기가 없지마, 구멍을 둘러싼 치즈가 녹아서 구멍이 ㅕㅇㄹ리면 구멍 속으로 공기가 들어가게 된다.\n",
    "\n",
    "# 치즈가 모두 녹아 없어지는 데 걸리는 시간, \n",
    "# 모두 녹기 한 시간 전에 남아 있는 치즈조각이 놓여 있는 칸의 개수\n",
    "def melting():\n",
    "    q = deque()\n",
    "    q.append((0, 0))\n",
    "\n",
    "    visited = [[False] * m for _ in range(n)]\n",
    "    visited[0][0] = True\n",
    "\n",
    "    dx = [-1, 0, 1, 0]\n",
    "    dy = [0, 1, 0, -1]\n",
    "\n",
    "    while q:\n",
    "        x, y = q.popleft()\n",
    "        for i in range(4):\n",
    "            nx = x + dx[i]\n",
    "            ny = y + dy[i]\n",
    "            if 0 <= nx < n and 0 <= ny < m and not visited[nx][ny]:\n",
    "                # 해당 위치가 0이라면, \n",
    "                if graph[nx][ny] == 0:\n",
    "                    q.append((nx, ny))\n",
    "\n",
    "                elif graph[nx][ny] == 1:\n",
    "                    graph[nx][ny] = 0\n",
    "\n",
    "                visited[nx][ny] = True\n",
    "\n",
    "    count = 0\n",
    "    for i in range(n):\n",
    "        count += graph[i].count(1)\n",
    "\n",
    "    return count        \n",
    "\n",
    "\n",
    "n, m = map(int, input().split())\n",
    "graph = [list(map(int, input().split())) for _ in range(n)]\n",
    "\n",
    "answer = []\n",
    "\n",
    "count = 0\n",
    "for i in range(n):\n",
    "    count += graph[i].count(1)\n",
    "answer.append(count)\n",
    "# answer 맨 뒤에 붙는게 0이라면 break\n",
    "# 치즈가 없는 경우, \n",
    "\n",
    "while True:\n",
    "    result = melting()\n",
    "    answer.append(result)\n",
    "    if result == 0:\n",
    "        break\n",
    "\n",
    "print(len(answer) - 1, answer[-2], sep='\\n')"
   ]
  }
 ],
 "metadata": {
  "kernelspec": {
   "display_name": "Python 3",
   "language": "python",
   "name": "python3"
  },
  "language_info": {
   "name": "python",
   "version": "3.8.6"
  },
  "orig_nbformat": 4,
  "vscode": {
   "interpreter": {
    "hash": "2ba6819d172d60e93b2f90e5d47af36d4f36070393882cfcbe0fef625705f185"
   }
  }
 },
 "nbformat": 4,
 "nbformat_minor": 2
}
