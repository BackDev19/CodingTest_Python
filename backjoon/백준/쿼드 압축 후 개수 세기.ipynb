{
 "cells": [
  {
   "cell_type": "code",
   "execution_count": null,
   "metadata": {},
   "outputs": [],
   "source": [
    "# arr을 쿼드 트리와 같은 방식으로 압축\n",
    "# 특정 영역을 S라고 정의\n",
    "# S 내부에 있는 수가 모두 같은 값이라면, S를 해당 수 하나로 압축\n",
    "\n",
    "def dfs(x, y, n, arr):\n",
    "    \n",
    "    if n == 1:\n",
    "        answer[arr[x][y]] += 1\n",
    "        return\n",
    "    \n",
    "    if check(x, y, n, arr):\n",
    "        answer[arr[x][y]] += 1\n",
    "        return\n",
    "    \n",
    "    \n",
    "    # 4단계로 탐색\n",
    "    dist = int((n // 4) ** (1/2))\n",
    "    dfs(x, y, n // 4, arr)\n",
    "    dfs(x + dist, y, n // 4, arr)\n",
    "    dfs(x, y + dist, n // 4, arr)\n",
    "    dfs(x + dist, y + dist, n // 4, arr)\n",
    "    \n",
    "# 모든 수들이 동일한 수인지\n",
    "def check(x, y, n, arr):\n",
    "    \n",
    "    first = arr[x][y]\n",
    "    for i in range(x, x + int(n ** (1/2))):\n",
    "        for j in range(y, int(y + n ** (1/2))):\n",
    "            if arr[i][j] != first:\n",
    "                return False\n",
    "    \n",
    "    return True\n",
    "    \n",
    "def solution(arr):\n",
    "    global answer\n",
    "    answer = [0, 0]\n",
    "    \n",
    "    dfs(0, 0, len(arr) ** 2, arr)\n",
    "    \n",
    "    return answer"
   ]
  }
 ],
 "metadata": {
  "language_info": {
   "name": "python"
  },
  "orig_nbformat": 4
 },
 "nbformat": 4,
 "nbformat_minor": 2
}
