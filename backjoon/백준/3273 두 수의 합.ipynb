{
 "cells": [
  {
   "cell_type": "code",
   "execution_count": null,
   "metadata": {},
   "outputs": [],
   "source": [
    "import sys\n",
    "sys.stdin = open(\"input.txt\", \"rt\")\n",
    "input = sys.stdin.readline\n",
    "\n",
    "# 어치피 인형 N개\n",
    "\n",
    "n = int(input())\n",
    "arr = list(map(int, input().split()))\n",
    "x = int(input())\n",
    "\n",
    "arr.sort()\n",
    "\n",
    "lt = 0; rt = n-1\n",
    "count = 0\n",
    "\n",
    "while rt > lt:\n",
    "    if arr[lt] + arr[rt] < x:\n",
    "        lt += 1\n",
    "\n",
    "    else:\n",
    "        if arr[lt] + arr[rt] == x:\n",
    "            count += 1\n",
    "        rt -= 1\n",
    "    \n",
    "print(count)"
   ]
  }
 ],
 "metadata": {
  "language_info": {
   "name": "python"
  },
  "orig_nbformat": 4
 },
 "nbformat": 4,
 "nbformat_minor": 2
}
