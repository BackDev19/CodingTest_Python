{
 "cells": [
  {
   "cell_type": "code",
   "execution_count": null,
   "metadata": {},
   "outputs": [],
   "source": [
    "import sys\n",
    "sys.stdin = open(\"input.txt\", \"rt\")\n",
    "input = sys.stdin.readline\n",
    "\n",
    "# N개 담긴 병\n",
    "# 반 쪼개서 한 조각 먹고, 다른 조각은 병에 넣는다\n",
    "# 반 조각이라면 먹고, 다른 조각은 넣는다\n",
    "# 한 조각은 W, 반 조각은 H\n",
    "\n",
    "n, k = map(int, input().split())\n",
    "coin = [int(input().rstrip()) for _ in range(n)]\n",
    "\n",
    "dp = [0] * (10000+1)\n",
    "dp[0] = 1\n",
    "# 첫째 항은 배수들로 초기화\n",
    "for i in range(coin[0], k+1, coin[0]):\n",
    "    dp[i] = 1\n",
    "\n",
    "for i in range(1, n):\n",
    "    for j in range(k+1):\n",
    "        if j - coin[i] < 0:\n",
    "            continue\n",
    "        else:\n",
    "            dp[j] = dp[j] + dp[j-coin[i]]\n",
    "\n",
    "print(dp[k])\n"
   ]
  }
 ],
 "metadata": {
  "kernelspec": {
   "display_name": "Python 3",
   "language": "python",
   "name": "python3"
  },
  "language_info": {
   "name": "python",
   "version": "3.8.6"
  },
  "orig_nbformat": 4,
  "vscode": {
   "interpreter": {
    "hash": "2ba6819d172d60e93b2f90e5d47af36d4f36070393882cfcbe0fef625705f185"
   }
  }
 },
 "nbformat": 4,
 "nbformat_minor": 2
}
