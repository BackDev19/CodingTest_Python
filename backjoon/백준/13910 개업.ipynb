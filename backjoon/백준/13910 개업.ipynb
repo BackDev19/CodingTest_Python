{
 "cells": [
  {
   "cell_type": "code",
   "execution_count": null,
   "metadata": {},
   "outputs": [],
   "source": [
    "import sys\n",
    "from itertools import combinations\n",
    "sys.stdin = open(\"input.txt\", \"rt\")\n",
    "input = sys.stdin.readline\n",
    "\n",
    "# 동시에 두개의 웍을 사용하여 요리\n",
    "# 필요이상 크기의 웍을 사용 x, 주문 받은 짜장면의 그릇 수에 딱 맞게 요리\n",
    "# ex) 짜장면 4그릇을 주문 받았는데 5그릇 이상을 요리 x\n",
    "\n",
    "# 짜장면 수와 가지고 있는 웍의 크기\n",
    "\n",
    "n, m = map(int, input().split())\n",
    "woks = list(map(int, input().split()))\n",
    "dp = [1e9] * (n+1)\n",
    "dp[0] = 0\n",
    "\n",
    "# 하나의 wok만 사용할 예정\n",
    "for wok in woks:\n",
    "    # 현재 wok은 1로 놓기\n",
    "    dp[wok] = 1\n",
    "\n",
    "    # wok으로 \n",
    "    for i in range(wok + 1, n+1):\n",
    "        dp[i] = min(dp[i - wok] + 1, dp[i])\n",
    "\n",
    "# 두개의 wok 사용할 예정\n",
    "for x in combinations(woks, 2):\n",
    "    two = sum(x)\n",
    "    for i in range(two, n+1):\n",
    "        dp[i] = min(dp[i-two] + 1, dp[i])\n",
    "\n",
    "if dp[-1] == 1e9:\n",
    "    print(-1)\n",
    "else:\n",
    "    print(dp[-1])\n",
    "\n",
    "print(dp)"
   ]
  }
 ],
 "metadata": {
  "language_info": {
   "name": "python"
  },
  "orig_nbformat": 4
 },
 "nbformat": 4,
 "nbformat_minor": 2
}
