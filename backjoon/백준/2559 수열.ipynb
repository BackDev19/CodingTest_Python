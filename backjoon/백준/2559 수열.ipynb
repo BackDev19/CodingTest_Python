{
 "cells": [
  {
   "cell_type": "code",
   "execution_count": null,
   "metadata": {},
   "outputs": [],
   "source": [
    "import sys\n",
    "sys.stdin = open(\"input.txt\", \"rt\")\n",
    "input = sys.stdin.readline\n",
    "\n",
    "\n",
    "n, k = map(int, input().split())\n",
    "arr = list(map(int, input().split()))\n",
    "\n",
    "total = 0\n",
    "rt = -1; lt = -1\n",
    "for i in range(k):\n",
    "    rt += 1\n",
    "    total += arr[rt]\n",
    "\n",
    "answer = total\n",
    "for i in range(k, n):\n",
    "    total = total + arr[i] - arr[i-k]\n",
    "    answer = max(answer, total)\n",
    "\n",
    "print(answer)"
   ]
  }
 ],
 "metadata": {
  "language_info": {
   "name": "python"
  },
  "orig_nbformat": 4
 },
 "nbformat": 4,
 "nbformat_minor": 2
}
