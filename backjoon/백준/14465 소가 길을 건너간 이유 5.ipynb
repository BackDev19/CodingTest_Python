{
 "cells": [
  {
   "cell_type": "code",
   "execution_count": null,
   "metadata": {},
   "outputs": [],
   "source": [
    "import sys\n",
    "sys.stdin = open(\"input.txt\", \"rt\")\n",
    "input = sys.stdin.readline\n",
    "\n",
    "n, k, b = map(int, input().split())\n",
    "light = [0] * (n)\n",
    "for _ in range(b):\n",
    "    light[int(input()) - 1] = 1\n",
    "\n",
    "total = 0\n",
    "for i in range(k):\n",
    "    total += light[i]\n",
    "\n",
    "answer = 1e9\n",
    "for i in range(k, n):\n",
    "    total += light[i] - light[i-k]\n",
    "    answer = min(answer, total)\n",
    "\n",
    "print(answer)\n"
   ]
  }
 ],
 "metadata": {
  "language_info": {
   "name": "python"
  },
  "orig_nbformat": 4
 },
 "nbformat": 4,
 "nbformat_minor": 2
}
