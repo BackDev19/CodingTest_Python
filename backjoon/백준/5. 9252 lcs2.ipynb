{
 "cells": [
  {
   "cell_type": "code",
   "execution_count": null,
   "metadata": {},
   "outputs": [],
   "source": [
    "import sys\n",
    "sys.stdin = open(\"input.txt\", \"rt\")\n",
    "input = sys.stdin.readline\n",
    "\n",
    "word1 = list(input().rstrip())\n",
    "word2 = list(input().rstrip())\n",
    "\n",
    "# 문자로 초기화\n",
    "dp = [[''] * (len(word1) + 1) for _ in range(len(word2) + 1)]\n",
    "\n",
    "# 비교를 했을 때, 문자를 저장하는 식으로\n",
    "for i in range(1, len(word2) + 1):\n",
    "    for j in range(1, len(word1) + 1):\n",
    "        if word2[i-1] == word1[j-1]:\n",
    "            # 문자가 같다면, i-1, j-1에 있는 문자에 동일한 문자를 추가해서 더해주려고 함\n",
    "            dp[i][j] = dp[i-1][j-1] + word1[j-1]\n",
    "        # 다르다면, i-1 or j-1에 있는 dp 중에서 가장 문자열이 긴 것\n",
    "        else:\n",
    "            if len(dp[i-1][j]) <= len(dp[i][j-1]):\n",
    "                dp[i][j] = dp[i][j-1]\n",
    "            else:\n",
    "                dp[i][j] = dp[i-1][j]\n",
    "\n",
    "print(len(dp[len(word2)][len(word1)]))\n",
    "print(dp[len(word2)][len(word1)])\n"
   ]
  },
  {
   "cell_type": "code",
   "execution_count": 1,
   "metadata": {},
   "outputs": [
    {
     "ename": "FileNotFoundError",
     "evalue": "[Errno 2] No such file or directory: 'input.txt'",
     "output_type": "error",
     "traceback": [
      "\u001b[1;31m---------------------------------------------------------------------------\u001b[0m",
      "\u001b[1;31mFileNotFoundError\u001b[0m                         Traceback (most recent call last)",
      "\u001b[1;32mc:\\Users\\황인권\\OneDrive - 동국대학교\\문서\\CodingTest_Python\\codingTest2\\backjoon\\5. 9252 lcs2.ipynb Cell 1\u001b[0m in \u001b[0;36m<cell line: 2>\u001b[1;34m()\u001b[0m\n\u001b[0;32m      <a href='vscode-notebook-cell:/c%3A/Users/%ED%99%A9%EC%9D%B8%EA%B6%8C/OneDrive%20-%20%EB%8F%99%EA%B5%AD%EB%8C%80%ED%95%99%EA%B5%90/%EB%AC%B8%EC%84%9C/CodingTest_Python/codingTest2/backjoon/5.%209252%20lcs2.ipynb#W0sZmlsZQ%3D%3D?line=0'>1</a>\u001b[0m \u001b[39mimport\u001b[39;00m \u001b[39msys\u001b[39;00m\n\u001b[1;32m----> <a href='vscode-notebook-cell:/c%3A/Users/%ED%99%A9%EC%9D%B8%EA%B6%8C/OneDrive%20-%20%EB%8F%99%EA%B5%AD%EB%8C%80%ED%95%99%EA%B5%90/%EB%AC%B8%EC%84%9C/CodingTest_Python/codingTest2/backjoon/5.%209252%20lcs2.ipynb#W0sZmlsZQ%3D%3D?line=1'>2</a>\u001b[0m sys\u001b[39m.\u001b[39mstdin \u001b[39m=\u001b[39m \u001b[39mopen\u001b[39;49m(\u001b[39m\"\u001b[39;49m\u001b[39minput.txt\u001b[39;49m\u001b[39m\"\u001b[39;49m, \u001b[39m\"\u001b[39;49m\u001b[39mrt\u001b[39;49m\u001b[39m\"\u001b[39;49m)\n\u001b[0;32m      <a href='vscode-notebook-cell:/c%3A/Users/%ED%99%A9%EC%9D%B8%EA%B6%8C/OneDrive%20-%20%EB%8F%99%EA%B5%AD%EB%8C%80%ED%95%99%EA%B5%90/%EB%AC%B8%EC%84%9C/CodingTest_Python/codingTest2/backjoon/5.%209252%20lcs2.ipynb#W0sZmlsZQ%3D%3D?line=2'>3</a>\u001b[0m \u001b[39minput\u001b[39m \u001b[39m=\u001b[39m sys\u001b[39m.\u001b[39mstdin\u001b[39m.\u001b[39mreadline\n\u001b[0;32m      <a href='vscode-notebook-cell:/c%3A/Users/%ED%99%A9%EC%9D%B8%EA%B6%8C/OneDrive%20-%20%EB%8F%99%EA%B5%AD%EB%8C%80%ED%95%99%EA%B5%90/%EB%AC%B8%EC%84%9C/CodingTest_Python/codingTest2/backjoon/5.%209252%20lcs2.ipynb#W0sZmlsZQ%3D%3D?line=4'>5</a>\u001b[0m n \u001b[39m=\u001b[39m \u001b[39mint\u001b[39m(\u001b[39minput\u001b[39m())\n",
      "\u001b[1;31mFileNotFoundError\u001b[0m: [Errno 2] No such file or directory: 'input.txt'"
     ]
    }
   ],
   "source": []
  }
 ],
 "metadata": {
  "kernelspec": {
   "display_name": "Python 3",
   "language": "python",
   "name": "python3"
  },
  "language_info": {
   "codemirror_mode": {
    "name": "ipython",
    "version": 3
   },
   "file_extension": ".py",
   "mimetype": "text/x-python",
   "name": "python",
   "nbconvert_exporter": "python",
   "pygments_lexer": "ipython3",
   "version": "3.8.6"
  },
  "orig_nbformat": 4,
  "vscode": {
   "interpreter": {
    "hash": "2ba6819d172d60e93b2f90e5d47af36d4f36070393882cfcbe0fef625705f185"
   }
  }
 },
 "nbformat": 4,
 "nbformat_minor": 2
}
