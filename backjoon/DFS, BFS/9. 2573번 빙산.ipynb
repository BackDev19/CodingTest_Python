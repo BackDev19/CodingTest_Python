{
 "cells": [
  {
   "cell_type": "code",
   "execution_count": 26,
   "metadata": {},
   "outputs": [
    {
     "name": "stdout",
     "output_type": "stream",
     "text": [
      "0\n"
     ]
    }
   ],
   "source": [
    "from collections import deque\n",
    "from sys import stdin\n",
    "stdin = open(\"./input/input9.txt\", \"rt\")\n",
    "input = stdin.readline\n",
    "\n",
    "n, m = map(int, input().split())\n",
    "\n",
    "graph = [list(map(int, input().split())) for _ in range(n)]\n",
    "\n",
    "dx = [-1, 0, 1, 0]\n",
    "dy = [0, 1, 0, -1]\n",
    "\n",
    "# 빙산을 탐색해서 개수 구해주기\n",
    "def bfs(i, j):\n",
    "    visited[i][j] = True\n",
    "    queue = deque()\n",
    "    queue.append([i, j])\n",
    "\n",
    "    # 1. 하나씩 뽑아주면서 순차적으로 탐색해주기\n",
    "    while queue:\n",
    "        x, y = queue.popleft()\n",
    "        for i in range(4):\n",
    "            nx = x + dx[i]\n",
    "            ny = y + dy[i]\n",
    "            if 0 <= nx < n and 0 <= ny < m:\n",
    "                if (graph[nx][ny] > 0) and (not visited[nx][ny]):\n",
    "                    queue.append([nx, ny])\n",
    "                    visited[nx][ny] = True\n",
    "\n",
    "                elif graph[nx][ny] == 0:\n",
    "                    count[x][y] += 1\n",
    "\n",
    "\n",
    "#  그래프에서 최대값이 0이라면, return False\n",
    "# 빙산이 두개로 분리가 될 때까지 dfs돌리기\n",
    "year = 0\n",
    "while True:\n",
    "\n",
    "    count = [[0] * m for _ in range(n)]\n",
    "\n",
    "    # 탈출 조건 => 0이 하나도 없다면\n",
    "    for i in range(n):\n",
    "        if max(graph[i]) != 0:\n",
    "            break\n",
    "    else:\n",
    "        print(0)\n",
    "        break\n",
    "\n",
    "    global visited\n",
    "    visited = [[False] * m for _ in range(n)]\n",
    "    result = 0\n",
    "\n",
    "    for i in range(n):\n",
    "        for j in range(m):\n",
    "            if (graph[i][j] > 0) and (not visited[i][j]):\n",
    "                bfs(i, j)\n",
    "                result += 1\n",
    "\n",
    "    if result == 0:\n",
    "        print(0)\n",
    "        break\n",
    "    if result >= 2:\n",
    "        print(year)\n",
    "        break\n",
    "\n",
    "\n",
    "    # 빙산을 깍아줌           \n",
    "    for i in range(n):\n",
    "        for j in range(m):\n",
    "            graph[i][j] -= count[i][j]\n",
    "            if graph[i][j] < 0:\n",
    "                graph[i][j] = 0\n",
    "\n",
    "    year += 1"
   ]
  }
 ],
 "metadata": {
  "kernelspec": {
   "display_name": "Python 3.8.6 64-bit (system)",
   "language": "python",
   "name": "python3"
  },
  "language_info": {
   "codemirror_mode": {
    "name": "ipython",
    "version": 3
   },
   "file_extension": ".py",
   "mimetype": "text/x-python",
   "name": "python",
   "nbconvert_exporter": "python",
   "pygments_lexer": "ipython3",
   "version": "3.8.6 (tags/v3.8.6:db45529, Sep 23 2020, 15:52:53) [MSC v.1927 64 bit (AMD64)]"
  },
  "orig_nbformat": 4,
  "vscode": {
   "interpreter": {
    "hash": "2ba6819d172d60e93b2f90e5d47af36d4f36070393882cfcbe0fef625705f185"
   }
  }
 },
 "nbformat": 4,
 "nbformat_minor": 2
}
