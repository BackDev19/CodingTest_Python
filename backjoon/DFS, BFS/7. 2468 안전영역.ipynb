{
 "cells": [
  {
   "cell_type": "code",
   "execution_count": 4,
   "metadata": {},
   "outputs": [
    {
     "name": "stdout",
     "output_type": "stream",
     "text": [
      "6\n"
     ]
    }
   ],
   "source": [
    "from sys import stdin\n",
    "from collections import deque\n",
    "\n",
    "stdin = open(\"./input/input3.txt\", \"rt\")\n",
    "input = stdin.readline\n",
    "\n",
    "dx = [-1, 0, 1, 0]\n",
    "dy = [0, 1, 0, -1]\n",
    "\n",
    "\n",
    "def bfs(a, b, height, visited):\n",
    "    queue = deque()\n",
    "    queue.append((a, b))\n",
    "    visited[a][b] = True\n",
    "\n",
    "    while queue:\n",
    "        x, y = queue.popleft()\n",
    "        for i in range(4):\n",
    "            nx = x + dx[i]\n",
    "            ny = y + dy[i]\n",
    "            # 1. 순차적으로 돌면서 height보다 크다면, bfs를 진행\n",
    "\n",
    "            if 0 <= nx < n and 0 <= ny < n:\n",
    "                # if graph[nx][ny] > height and visited[nx][nx] == False:\n",
    "                if (graph[nx][ny] > height) and (visited[nx][ny] == False):\n",
    "                    visited[nx][ny] = True\n",
    "                    queue.append([nx, ny])\n",
    "\n",
    "n = int(input())\n",
    "graph = [list(map(int, input().split())) for _ in range(n)]\n",
    "\n",
    "maxNum = 0\n",
    "for i in range(n):\n",
    "    maxNum = max(maxNum, max(graph[i]))\n",
    "\n",
    "\n",
    "result = 0\n",
    "\n",
    "# 1. 1번부터 n번까지의 높이 정보를 출력\n",
    "for height in range(maxNum):\n",
    "    visited = [[False] * n for _ in range(n)]\n",
    "    count = 0\n",
    "\n",
    "    for i in range(n):\n",
    "        for j in range(n):\n",
    "            if graph[i][j] > height and visited[i][j] == False:\n",
    "                bfs(i, j, height, visited)\n",
    "                count += 1\n",
    "\n",
    "    if result < count:\n",
    "        result = count\n",
    "\n",
    "print(result)\n"
   ]
  },
  {
   "cell_type": "code",
   "execution_count": 1,
   "metadata": {},
   "outputs": [
    {
     "name": "stdout",
     "output_type": "stream",
     "text": [
      "5\n"
     ]
    }
   ],
   "source": [
    "from sys import stdin\n",
    "from collections import deque\n",
    "\n",
    "stdin = open(\"./input/input3.txt\", \"rt\")\n",
    "input = stdin.readline\n",
    " \n",
    "n = int(input())\n",
    "graph = []\n",
    "maxNum = 0\n",
    " \n",
    "for i in range(n):\n",
    "    graph.append(list(map(int, input().split())))\n",
    "    for j in range(n):\n",
    "        if graph[i][j] > maxNum:\n",
    "            maxNum = graph[i][j] \n",
    " \n",
    " \n",
    " \n",
    "dx = [0 ,0, 1, -1]\n",
    "dy = [1, -1, 0 ,0]\n",
    "def bfs(a, b, value, visited):\n",
    "    q = deque()\n",
    "    q.append((a, b))\n",
    "    visited[a][b] = 1\n",
    " \n",
    "    while q:\n",
    "        x, y = q.popleft()\n",
    " \n",
    "        for i in range(4):\n",
    "            nx = x + dx[i]\n",
    "            ny = y + dy[i]\n",
    "            if 0 <= nx < n and 0 <= ny < n:\n",
    "                if graph[nx][ny] > value and visited[nx][ny] == 0:\n",
    "                    visited[nx][ny] = 1\n",
    "                    q.append((nx, ny))\n",
    " \n",
    " \n",
    "result = 0\n",
    "for i in range(maxNum): \n",
    "    visited = [[0] * n for i in range(n)]\n",
    "    cnt = 0\n",
    " \n",
    "    for j in range(n):\n",
    "        for k in range(n):\n",
    "            if graph[j][k] > i and visited[j][k] == 0: \n",
    "                bfs(j, k, i, visited)\n",
    "                cnt += 1\n",
    " \n",
    "    if result < cnt:\n",
    "        result = cnt\n",
    " \n",
    "print(result)"
   ]
  }
 ],
 "metadata": {
  "kernelspec": {
   "display_name": "Python 3.8.6 64-bit (system)",
   "language": "python",
   "name": "python3"
  },
  "language_info": {
   "codemirror_mode": {
    "name": "ipython",
    "version": 3
   },
   "file_extension": ".py",
   "mimetype": "text/x-python",
   "name": "python",
   "nbconvert_exporter": "python",
   "pygments_lexer": "ipython3",
   "version": "3.8.6"
  },
  "orig_nbformat": 4,
  "vscode": {
   "interpreter": {
    "hash": "2ba6819d172d60e93b2f90e5d47af36d4f36070393882cfcbe0fef625705f185"
   }
  }
 },
 "nbformat": 4,
 "nbformat_minor": 2
}
