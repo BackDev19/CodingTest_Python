{
 "cells": [
  {
   "cell_type": "code",
   "execution_count": 2,
   "metadata": {},
   "outputs": [
    {
     "name": "stdout",
     "output_type": "stream",
     "text": [
      "3 1 2 5 4 \n",
      "3 1 4 2 5 "
     ]
    }
   ],
   "source": [
    "import sys\n",
    "from collections import deque\n",
    "\n",
    "sys.stdin = open(\"./input/input1.txt\", \"rt\")\n",
    "input = sys.stdin.readline\n",
    "\n",
    "n, m, start = map(int, input().split())\n",
    "graph = [[] for _ in range(n+1)]\n",
    "\n",
    "for _ in range(m):\n",
    "  s, e = map(int, input().split())\n",
    "  graph[s].append(e)\n",
    "  graph[e].append(s)\n",
    "\n",
    "# 정렬\n",
    "for i in range(len(graph)):\n",
    "  graph[i].sort()\n",
    "\n",
    "def DFS(graph, start):\n",
    "  visited[start] = True\n",
    "  print(start, end = ' ')\n",
    "  for i in graph[start]:\n",
    "    if not visited[i]:\n",
    "      DFS(graph, i)\n",
    "      visited[i] = True\n",
    "\n",
    "# 1. deque에 데이터를 집어넣음\n",
    "# 2 .popleft를 통해 데이터를 꺼내고\n",
    "# 3. 그 데이터를 방문처리\n",
    "# 4. for i in graph[now]를 돌면서\n",
    "# 5. if not visited[i]라면, append해준 후 방문처리\n",
    "def BFS(graph, start):\n",
    "  visited[start] = True\n",
    "  queue = deque([start])\n",
    "  while queue:\n",
    "    now = queue.popleft()\n",
    "    print(now, end = ' ')\n",
    "    for i in graph[now]:\n",
    "      if not visited[i]:\n",
    "        queue.append(i)\n",
    "        visited[i] = True\n",
    "      \n",
    "  \n",
    "\n",
    "visited = [False] * (n+1)\n",
    "DFS(graph, start)\n",
    "print()\n",
    "visited = [False] * (n+1)\n",
    "BFS(graph, start)\n",
    "\n"
   ]
  }
 ],
 "metadata": {
  "kernelspec": {
   "display_name": "Python 3.8.6 64-bit (system)",
   "language": "python",
   "name": "python3"
  },
  "language_info": {
   "codemirror_mode": {
    "name": "ipython",
    "version": 3
   },
   "file_extension": ".py",
   "mimetype": "text/x-python",
   "name": "python",
   "nbconvert_exporter": "python",
   "pygments_lexer": "ipython3",
   "version": "3.8.6"
  },
  "orig_nbformat": 4,
  "vscode": {
   "interpreter": {
    "hash": "2ba6819d172d60e93b2f90e5d47af36d4f36070393882cfcbe0fef625705f185"
   }
  }
 },
 "nbformat": 4,
 "nbformat_minor": 2
}
