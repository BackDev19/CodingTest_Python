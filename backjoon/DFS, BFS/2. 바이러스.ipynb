{
 "cells": [
  {
   "cell_type": "code",
   "execution_count": 4,
   "metadata": {},
   "outputs": [
    {
     "name": "stdout",
     "output_type": "stream",
     "text": [
      "4\n"
     ]
    }
   ],
   "source": [
    "# dfs\n",
    "# 컴퓨터의 수, 연결 정보가 주어질 때\n",
    "# 1번 컴퓨터를 통해 웜 바이러스에 걸리게 되는 컴퓨터의 수를 출력\n",
    "\n",
    "from sys import stdin\n",
    "stdin = open(\"./input/input2.txt\", \"rt\")\n",
    "input = stdin.readline\n",
    "\n",
    "# 1. 컴퓨터의 수, 연결 정보\n",
    "computer = int(input())\n",
    "connect = int(input())\n",
    "\n",
    "graph = [[] for _ in range(computer + 1)]\n",
    "\n",
    "# 연결되어있는 정보 받아오기\n",
    "for _ in range(connect):\n",
    "  s, e = map(int, input().split())\n",
    "  graph[s].append(e)\n",
    "  graph[e].append(s)\n",
    "\n",
    "# 정렬\n",
    "for i in range(len(graph)):\n",
    "  graph[i].sort()\n",
    "\n",
    "\n",
    "# 1. visited[start] = True\n",
    "# 2. for i in graph[start]:\n",
    "#      if not visited[i]:\n",
    "#         \n",
    "  \n",
    "\n",
    "def DFS(start):\n",
    "  global tot\n",
    "  visited[start] = True\n",
    "  # print(start, end = ' ')\n",
    "  \n",
    "  for i in graph[start]:\n",
    "    if not visited[i]:\n",
    "      DFS(i)\n",
    "      tot += 1\n",
    "\n",
    "visited = [False] * (computer+1)\n",
    "tot = 0\n",
    "DFS(1)\n",
    "print(tot)\n",
    "  \n",
    "  "
   ]
  },
  {
   "cell_type": "code",
   "execution_count": 12,
   "metadata": {},
   "outputs": [
    {
     "name": "stdout",
     "output_type": "stream",
     "text": [
      "4\n"
     ]
    }
   ],
   "source": [
    "from collections import deque\n",
    "\n",
    "\n",
    "queue = deque([3, 2, 3, 4])\n",
    "print(queue.pop())"
   ]
  }
 ],
 "metadata": {
  "kernelspec": {
   "display_name": "Python 3.8.6 64-bit (system)",
   "language": "python",
   "name": "python3"
  },
  "language_info": {
   "codemirror_mode": {
    "name": "ipython",
    "version": 3
   },
   "file_extension": ".py",
   "mimetype": "text/x-python",
   "name": "python",
   "nbconvert_exporter": "python",
   "pygments_lexer": "ipython3",
   "version": "3.8.6"
  },
  "orig_nbformat": 4,
  "vscode": {
   "interpreter": {
    "hash": "2ba6819d172d60e93b2f90e5d47af36d4f36070393882cfcbe0fef625705f185"
   }
  }
 },
 "nbformat": 4,
 "nbformat_minor": 2
}
