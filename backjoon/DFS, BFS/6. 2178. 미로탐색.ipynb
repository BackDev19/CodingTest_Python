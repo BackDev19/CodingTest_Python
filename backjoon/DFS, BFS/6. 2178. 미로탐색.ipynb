{
 "cells": [
  {
   "cell_type": "code",
   "execution_count": 13,
   "metadata": {},
   "outputs": [
    {
     "name": "stdout",
     "output_type": "stream",
     "text": [
      "0\n",
      "1\n",
      "1\n",
      "3\n",
      "1\n",
      "9\n"
     ]
    }
   ],
   "source": [
    "import sys\n",
    "from collections import deque\n",
    "sys.stdin = open(\"./input/input6.txt\", \"rt\")\n",
    "input = sys.stdin.readline\n",
    "sys.setrecursionlimit(10**6)\n",
    "\n",
    "# 시계방향\n",
    "dx = [-1, -1, 0, 1, 1, 1, 0, -1]\n",
    "dy = [0, 1, 1, 1, 0, -1, -1, -1]\n",
    "\n",
    "def dfs(x, y):\n",
    "\n",
    "    queue = deque([[x, y]])\n",
    "    arr[x][y] = 0\n",
    "\n",
    "    # 1. deque 왼쪽에 있는 데이터 꺼내고 방문처리\n",
    "    # 2. 근처의 위치의 데이터가 1이라면, append\n",
    "    # 3. push 해준 뒤 해당 위치를 방문 처리\n",
    "    while queue:\n",
    "        a, b = queue.popleft()\n",
    "\n",
    "        for i in range(8):\n",
    "            nx = a + dx[i]\n",
    "            ny = b + dy[i]\n",
    "            if 0 <= nx < h and 0 <= ny < w and arr[nx][ny] == 1:\n",
    "                queue.append([nx, ny])\n",
    "                arr[nx][ny] = 0\n",
    "    \n",
    "        # 1. 해당 위치를 0으로 초기화\n",
    "        # 2. 주변 지역들을 탐색\n",
    "    arr[x][y] = 0\n",
    "    for i in range(8):\n",
    "        nx = x + dx[i]\n",
    "        ny = y + dy[i]\n",
    "        if 0 <= nx < h and 0 <= ny < w and arr[nx][ny] == 1:\n",
    "            dfs(nx, ny)\n",
    "  \n",
    "    return    \n",
    "\n",
    "\n",
    "# 1. 입력값을 받기\n",
    "# 2. width와 height 순차적으로 탐색하면서, 1이라면 해당 dfs를 탐색할 예정\n",
    "# 3. width만큼 값들을 받고, height만큼 열을 만들기\n",
    "result = []\n",
    "while True:\n",
    "    global w, h\n",
    "    w, h = map(int, input().split())\n",
    "    if w == 0 and h == 0:\n",
    "        break\n",
    "\n",
    "    global arr\n",
    "    arr = []\n",
    "    # arr.append([list(map(int, input().split()))])\n",
    "    # 변수 초기화\n",
    "    for _ in range(h):\n",
    "        arr.append(list(map(int, input().split())))\n",
    "\n",
    "    count = 0\n",
    "    # 해당 배열에 데이터가 1이라면, dfs 참조\n",
    "    # x는 height, y는 width\n",
    "    for x in range(h):\n",
    "        for y in range(w):\n",
    "            if arr[x][y] == 1:\n",
    "                dfs(x, y)\n",
    "                count += 1\n",
    "\n",
    "    print(count)"
   ]
  }
 ],
 "metadata": {
  "kernelspec": {
   "display_name": "Python 3.8.6 64-bit (system)",
   "language": "python",
   "name": "python3"
  },
  "language_info": {
   "codemirror_mode": {
    "name": "ipython",
    "version": 3
   },
   "file_extension": ".py",
   "mimetype": "text/x-python",
   "name": "python",
   "nbconvert_exporter": "python",
   "pygments_lexer": "ipython3",
   "version": "3.8.6 (tags/v3.8.6:db45529, Sep 23 2020, 15:52:53) [MSC v.1927 64 bit (AMD64)]"
  },
  "orig_nbformat": 4,
  "vscode": {
   "interpreter": {
    "hash": "2ba6819d172d60e93b2f90e5d47af36d4f36070393882cfcbe0fef625705f185"
   }
  }
 },
 "nbformat": 4,
 "nbformat_minor": 2
}
