{
 "cells": [
  {
   "cell_type": "code",
   "execution_count": 2,
   "metadata": {},
   "outputs": [
    {
     "name": "stdout",
     "output_type": "stream",
     "text": [
      "2\n"
     ]
    }
   ],
   "source": [
    "#  어떤 배추에 배추흰지렁이가 한 마리라도 살고 있으면 이 지렁이는 인접한 다른 배추로 이동할 수 있어, 그 배추들 역시 해충으로부터 보호받을 수 있다\n",
    "# 각 테스트 케이스에 대해 필요한 최소의 배추흰지렁이 마리 수를 출력한다.\n",
    "# x, y 순서대로 x좌표, y좌표\n",
    "\n",
    "import sys\n",
    "sys.setrecursionlimit(10000)\n",
    "sys.stdin = open(\"./input/input4.txt\", \"rt\")\n",
    "input = sys.stdin.readline\n",
    "\n",
    "# dfs 탐색을 통해서 배추 흰 지렁이 개수를 찾기\n",
    "# 시계방향\n",
    "dy = [-1, 0, 1, 0]\n",
    "dx = [0, 1, 0, -1]\n",
    "def dfs(y, x):\n",
    "    if 0 <= x < m and 0 <= y < n:\n",
    "        # 배추가 존재한다면, 순차탐색\n",
    "        if graph[y][x] == 1:\n",
    "            graph[y][x] = 0\n",
    "            for i in range(4):\n",
    "                nx = x + dx[i]\n",
    "                ny = y + dy[i]\n",
    "                dfs(ny, nx)\n",
    "            return True\n",
    "    return False\n",
    "\n",
    "# 가로길이 m, 세로길이 n, 배추가 심어져 있는 위치의 개수 k\n",
    "# 배추의 위치\n",
    "T = int(input())\n",
    "for _ in range(T):\n",
    "    m, n, k = map(int, input().split())\n",
    "    arr = [list(map(int, input().split())) for _ in range(k)]\n",
    "\n",
    "    # 해당 데이터들을 옮겨주는 작업이 필요함\n",
    "    graph = [([0]*m) for _ in range(n+1)]\n",
    "    for x, y in arr:\n",
    "        graph[y][x] = 1\n",
    "\n",
    "    cnt = 0\n",
    "    for i in range(n):\n",
    "        for j in range(m):\n",
    "            if dfs(i, j) == True:\n",
    "                cnt += 1\n",
    "    print(cnt)"
   ]
  },
  {
   "cell_type": "code",
   "execution_count": 5,
   "metadata": {},
   "outputs": [
    {
     "name": "stdout",
     "output_type": "stream",
     "text": [
      "2\n"
     ]
    }
   ],
   "source": [
    "import sys\n",
    "from collections import deque\n",
    "sys.setrecursionlimit(10000)\n",
    "sys.stdin = open(\"./input/input4.txt\", \"rt\")\n",
    "input = sys.stdin.readline\n",
    "\n",
    "# dfs 탐색을 통해서 배추 흰 지렁이 개수를 찾기\n",
    "# 시계방향\n",
    "dy = [-1, 0, 1, 0]\n",
    "dx = [0, 1, 0, -1]\n",
    "def bfs(y, x):\n",
    "        graph[y][x] = 0\n",
    "        queue = deque([[y, x]])\n",
    "        cnt = 0\n",
    "\n",
    "        while queue:\n",
    "            y, x = queue.popleft()\n",
    "            for i in range(4):\n",
    "                nx = x + dx[i]\n",
    "                ny = y + dy[i]\n",
    "\n",
    "                # 배추가 있는 노드들을 모두 deque에 넣고 방문처리\n",
    "                if 0 <= nx < m and 0 <= ny < n:\n",
    "                    if graph[ny][nx] == 1:\n",
    "                        queue.append([ny, nx])\n",
    "                        graph[ny][nx] = 0\n",
    "                        cnt += 1\n",
    "        return cnt\n",
    "\n",
    "\n",
    "        \n",
    "\n",
    "# 가로길이 m, 세로길이 n, 배추가 심어져 있는 위치의 개수 k\n",
    "# 배추의 위치\n",
    "T = int(input())\n",
    "for _ in range(T):\n",
    "    m, n, k = map(int, input().split())\n",
    "    arr = [list(map(int, input().split())) for _ in range(k)]\n",
    "\n",
    "    # 해당 데이터들을 옮겨주는 작업이 필요함\n",
    "    graph = [([0]*m) for _ in range(n+1)]\n",
    "    for x, y in arr:\n",
    "        graph[y][x] = 1\n",
    "\n",
    "    cnt = 0\n",
    "    for i in range(n):\n",
    "        for j in range(m):\n",
    "            if graph[i][j] == 1:\n",
    "                bfs(i, j)\n",
    "                cnt += 1\n",
    "    print(cnt)"
   ]
  },
  {
   "cell_type": "code",
   "execution_count": null,
   "metadata": {},
   "outputs": [],
   "source": []
  }
 ],
 "metadata": {
  "kernelspec": {
   "display_name": "Python 3.8.6 64-bit (system)",
   "language": "python",
   "name": "python3"
  },
  "language_info": {
   "codemirror_mode": {
    "name": "ipython",
    "version": 3
   },
   "file_extension": ".py",
   "mimetype": "text/x-python",
   "name": "python",
   "nbconvert_exporter": "python",
   "pygments_lexer": "ipython3",
   "version": "3.8.6 (tags/v3.8.6:db45529, Sep 23 2020, 15:52:53) [MSC v.1927 64 bit (AMD64)]"
  },
  "orig_nbformat": 4,
  "vscode": {
   "interpreter": {
    "hash": "2ba6819d172d60e93b2f90e5d47af36d4f36070393882cfcbe0fef625705f185"
   }
  }
 },
 "nbformat": 4,
 "nbformat_minor": 2
}
