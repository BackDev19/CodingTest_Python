{
 "cells": [
  {
   "cell_type": "code",
   "execution_count": null,
   "metadata": {},
   "outputs": [],
   "source": [
    "from collections import deque\n",
    "from sys import stdin\n",
    "stdin = open(\"./input/input9.txt\", \"rt\")\n",
    "input = stdin.readline\n",
    "\n",
    "\n",
    "# 해당 visited를 True로 만들면 되는거아님??\n",
    "\n",
    "n = int(input())\n",
    "graph = [[] * 2 for _ in range(n)]\n",
    "# 해당 노드에 붙어있는 것들\n",
    "for i in range(n):\n",
    "    data = input()\n",
    "    if data == -1:\n",
    "        graph[0] = 1\n",
    "\n",
    "\n",
    "\n",
    "\n",
    "\n",
    "\n",
    "\n",
    "\n",
    "\n"
   ]
  }
 ],
 "metadata": {
  "kernelspec": {
   "display_name": "Python 3.8.6 64-bit (system)",
   "language": "python",
   "name": "python3"
  },
  "language_info": {
   "name": "python",
   "version": "3.8.6"
  },
  "orig_nbformat": 4,
  "vscode": {
   "interpreter": {
    "hash": "2ba6819d172d60e93b2f90e5d47af36d4f36070393882cfcbe0fef625705f185"
   }
  }
 },
 "nbformat": 4,
 "nbformat_minor": 2
}
