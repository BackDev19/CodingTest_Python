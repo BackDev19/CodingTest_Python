{
 "cells": [
  {
   "cell_type": "code",
   "execution_count": 20,
   "metadata": {},
   "outputs": [
    {
     "name": "stdout",
     "output_type": "stream",
     "text": [
      "2\n"
     ]
    }
   ],
   "source": [
    "# 방향 없는 그래프가 주어졌을 때, 연결 요소 (Connected Component)의 개수를 구하는 프로그램을 작성하시오.\n",
    "# 첫째 줄에 정점의 개수 N과 간선의 개수 M이 주어진다. (1 ≤ N ≤ 1,000, 0 ≤ M ≤ N×(N-1)/2) 둘째 줄부터 M개의 줄에 간선의 양 끝점 u와 v가 주어진다. (1 ≤ u, v ≤ N, u ≠ v) 같은 간선은 한 번만 주어진다.\n",
    "\n",
    "from sys import stdin\n",
    "stdin = open(\"./input/input5.txt\", \"rt\")\n",
    "input = stdin.readline\n",
    "\n",
    "n, m = map(int, input().split())\n",
    "graph = [[] for _ in range(n+1)]\n",
    "\n",
    "for _ in range(m):\n",
    "    u, v = map(int, input().split())\n",
    "    graph[u].append(v)\n",
    "    graph[v].append(u)\n",
    "\n",
    "for i in range(n):\n",
    "    graph[i].sort()\n",
    "\n",
    "\n",
    "def DFS(start):\n",
    "    visited[start] = True\n",
    "    global cnt\n",
    "\n",
    "    for i in graph[start]:\n",
    "        if not visited[i]:\n",
    "            visited[i] = True\n",
    "            DFS(i)\n",
    "            cnt += 1\n",
    "\n",
    "\n",
    "cnt = 0\n",
    "visited = [False] * (n+1)\n",
    "DFS(1)\n",
    "print(cnt)\n",
    "\n",
    "\n",
    "\n",
    "\n",
    "\n",
    "\n"
   ]
  },
  {
   "cell_type": "code",
   "execution_count": 1,
   "metadata": {},
   "outputs": [
    {
     "name": "stdout",
     "output_type": "stream",
     "text": [
      "2\n"
     ]
    }
   ],
   "source": [
    "from collections import deque\n",
    "import sys\n",
    "sys.stdin = open(\"./input/input5.txt\", \"rt\")\n",
    "input = sys.stdin.readline\n",
    " \n",
    "def bfs(graph, start, visited):    # BFS implementation\n",
    "    queue = deque([start])\n",
    "    visited[start] = True\n",
    " \n",
    "    while queue:\n",
    "        v = queue.popleft()\n",
    "        for i in graph[v]:\n",
    "            if not visited[i]:\n",
    "                queue.append(i)\n",
    "                visited[i] = True\n",
    " \n",
    "N, M = map(int, input().split())\n",
    "graph = [[] for _ in range(N + 1)]\n",
    "visited = [False] * (N + 1)\n",
    " \n",
    "for i in range(M):\n",
    "    node1, node2 = map(int, input().split())\n",
    "    graph[node2].append(node1)\n",
    "    graph[node1].append(node2)\n",
    " \n",
    "cnt = 0\n",
    "for i in range(1, N+1):    # check each node\n",
    "    if not visited[i]:\n",
    "        bfs(graph, i, visited)\n",
    "        cnt += 1\n",
    "print(cnt)"
   ]
  },
  {
   "cell_type": "code",
   "execution_count": 10,
   "metadata": {},
   "outputs": [
    {
     "name": "stdout",
     "output_type": "stream",
     "text": [
      "[1, 2, 3, 5, 7]\n"
     ]
    }
   ],
   "source": [
    "a = [2, 1, 5, 3, 7]\n",
    "a.sort()\n",
    "print(a)"
   ]
  }
 ],
 "metadata": {
  "kernelspec": {
   "display_name": "Python 3.8.6 64-bit (system)",
   "language": "python",
   "name": "python3"
  },
  "language_info": {
   "codemirror_mode": {
    "name": "ipython",
    "version": 3
   },
   "file_extension": ".py",
   "mimetype": "text/x-python",
   "name": "python",
   "nbconvert_exporter": "python",
   "pygments_lexer": "ipython3",
   "version": "3.8.6"
  },
  "orig_nbformat": 4,
  "vscode": {
   "interpreter": {
    "hash": "2ba6819d172d60e93b2f90e5d47af36d4f36070393882cfcbe0fef625705f185"
   }
  }
 },
 "nbformat": 4,
 "nbformat_minor": 2
}
