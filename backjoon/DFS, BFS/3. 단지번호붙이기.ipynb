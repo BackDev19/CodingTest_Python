{
 "cells": [
  {
   "cell_type": "code",
   "execution_count": 17,
   "metadata": {},
   "outputs": [
    {
     "name": "stdout",
     "output_type": "stream",
     "text": [
      "3\n",
      "7\n",
      "8\n",
      "9\n"
     ]
    }
   ],
   "source": [
    "from sys import stdin\n",
    "stdin = open(\"./input/input3.txt\", \"rt\")\n",
    "input = stdin.readline\n",
    "\n",
    "# 1. 입력\n",
    "n = int(input())\n",
    "graph = [list(map(int, input().rstrip())) for _ in range(n)]\n",
    "\n",
    "# 1. 순차적으로 좌, 우, 상, 위 탐색\n",
    "# 2. 방문한 노드가 1이라면 0으로 바꿔주고 주변 탐색 \n",
    "# 3. 탐색할 때마다 cnt += 1\n",
    "def DFS(x, y):\n",
    "  global cnt\n",
    "  if 0 <= x < n and 0 <= y < n and graph[x][y] == 1:\n",
    "    graph[x][y] = 0\n",
    "    DFS(x+1, y)\n",
    "    DFS(x-1, y)\n",
    "    DFS(x, y+1)\n",
    "    DFS(x, y-1)\n",
    "    cnt += 1\n",
    "\n",
    "tot = []\n",
    "cnt = 0\n",
    "for i in range(n):\n",
    "  for j in range(n):\n",
    "    if graph[i][j] == 1:\n",
    "      DFS(i, j)\n",
    "      tot.append(cnt)\n",
    "      cnt = 0\n",
    "\n",
    "# for문으로 전체의 좌표를 탐색한다\n",
    "\n",
    "print(len(tot))\n",
    "tot.sort()\n",
    "for x in tot:\n",
    "    print(x)"
   ]
  },
  {
   "cell_type": "code",
   "execution_count": 1,
   "metadata": {},
   "outputs": [
    {
     "ename": "ValueError",
     "evalue": "invalid literal for int() with base 10: ' '",
     "output_type": "error",
     "traceback": [
      "\u001b[1;31m---------------------------------------------------------------------------\u001b[0m",
      "\u001b[1;31mValueError\u001b[0m                                Traceback (most recent call last)",
      "\u001b[1;32mc:\\Users\\황인권\\OneDrive - 동국대학교\\문서\\CodingTest_Python\\backjoon\\DFS, BFS\\3. 단지번호붙이기.ipynb 셀 2\u001b[0m in \u001b[0;36m<cell line: 11>\u001b[1;34m()\u001b[0m\n\u001b[0;32m      <a href='vscode-notebook-cell:/c%3A/Users/%ED%99%A9%EC%9D%B8%EA%B6%8C/OneDrive%20-%20%EB%8F%99%EA%B5%AD%EB%8C%80%ED%95%99%EA%B5%90/%EB%AC%B8%EC%84%9C/CodingTest_Python/backjoon/DFS%2C%20BFS/3.%20%EB%8B%A8%EC%A7%80%EB%B2%88%ED%98%B8%EB%B6%99%EC%9D%B4%EA%B8%B0.ipynb#W1sZmlsZQ%3D%3D?line=7'>8</a>\u001b[0m \u001b[39minput\u001b[39m \u001b[39m=\u001b[39m stdin\u001b[39m.\u001b[39mreadline\n\u001b[0;32m     <a href='vscode-notebook-cell:/c%3A/Users/%ED%99%A9%EC%9D%B8%EA%B6%8C/OneDrive%20-%20%EB%8F%99%EA%B5%AD%EB%8C%80%ED%95%99%EA%B5%90/%EB%AC%B8%EC%84%9C/CodingTest_Python/backjoon/DFS%2C%20BFS/3.%20%EB%8B%A8%EC%A7%80%EB%B2%88%ED%98%B8%EB%B6%99%EC%9D%B4%EA%B8%B0.ipynb#W1sZmlsZQ%3D%3D?line=9'>10</a>\u001b[0m n \u001b[39m=\u001b[39m \u001b[39mint\u001b[39m(\u001b[39minput\u001b[39m())\n\u001b[1;32m---> <a href='vscode-notebook-cell:/c%3A/Users/%ED%99%A9%EC%9D%B8%EA%B6%8C/OneDrive%20-%20%EB%8F%99%EA%B5%AD%EB%8C%80%ED%95%99%EA%B5%90/%EB%AC%B8%EC%84%9C/CodingTest_Python/backjoon/DFS%2C%20BFS/3.%20%EB%8B%A8%EC%A7%80%EB%B2%88%ED%98%B8%EB%B6%99%EC%9D%B4%EA%B8%B0.ipynb#W1sZmlsZQ%3D%3D?line=10'>11</a>\u001b[0m graph \u001b[39m=\u001b[39m [\u001b[39mlist\u001b[39m(\u001b[39mmap\u001b[39m(\u001b[39mint\u001b[39m, \u001b[39minput\u001b[39m()\u001b[39m.\u001b[39mrstrip())) \u001b[39mfor\u001b[39;00m _ \u001b[39min\u001b[39;00m \u001b[39mrange\u001b[39m(n)]\n\u001b[0;32m     <a href='vscode-notebook-cell:/c%3A/Users/%ED%99%A9%EC%9D%B8%EA%B6%8C/OneDrive%20-%20%EB%8F%99%EA%B5%AD%EB%8C%80%ED%95%99%EA%B5%90/%EB%AC%B8%EC%84%9C/CodingTest_Python/backjoon/DFS%2C%20BFS/3.%20%EB%8B%A8%EC%A7%80%EB%B2%88%ED%98%B8%EB%B6%99%EC%9D%B4%EA%B8%B0.ipynb#W1sZmlsZQ%3D%3D?line=12'>13</a>\u001b[0m dx \u001b[39m=\u001b[39m [\u001b[39m-\u001b[39m\u001b[39m1\u001b[39m, \u001b[39m0\u001b[39m, \u001b[39m1\u001b[39m, \u001b[39m0\u001b[39m]\n\u001b[0;32m     <a href='vscode-notebook-cell:/c%3A/Users/%ED%99%A9%EC%9D%B8%EA%B6%8C/OneDrive%20-%20%EB%8F%99%EA%B5%AD%EB%8C%80%ED%95%99%EA%B5%90/%EB%AC%B8%EC%84%9C/CodingTest_Python/backjoon/DFS%2C%20BFS/3.%20%EB%8B%A8%EC%A7%80%EB%B2%88%ED%98%B8%EB%B6%99%EC%9D%B4%EA%B8%B0.ipynb#W1sZmlsZQ%3D%3D?line=13'>14</a>\u001b[0m dy \u001b[39m=\u001b[39m [\u001b[39m0\u001b[39m, \u001b[39m1\u001b[39m, \u001b[39m0\u001b[39m, \u001b[39m-\u001b[39m\u001b[39m1\u001b[39m]\n",
      "\u001b[1;32mc:\\Users\\황인권\\OneDrive - 동국대학교\\문서\\CodingTest_Python\\backjoon\\DFS, BFS\\3. 단지번호붙이기.ipynb 셀 2\u001b[0m in \u001b[0;36m<listcomp>\u001b[1;34m(.0)\u001b[0m\n\u001b[0;32m      <a href='vscode-notebook-cell:/c%3A/Users/%ED%99%A9%EC%9D%B8%EA%B6%8C/OneDrive%20-%20%EB%8F%99%EA%B5%AD%EB%8C%80%ED%95%99%EA%B5%90/%EB%AC%B8%EC%84%9C/CodingTest_Python/backjoon/DFS%2C%20BFS/3.%20%EB%8B%A8%EC%A7%80%EB%B2%88%ED%98%B8%EB%B6%99%EC%9D%B4%EA%B8%B0.ipynb#W1sZmlsZQ%3D%3D?line=7'>8</a>\u001b[0m \u001b[39minput\u001b[39m \u001b[39m=\u001b[39m stdin\u001b[39m.\u001b[39mreadline\n\u001b[0;32m     <a href='vscode-notebook-cell:/c%3A/Users/%ED%99%A9%EC%9D%B8%EA%B6%8C/OneDrive%20-%20%EB%8F%99%EA%B5%AD%EB%8C%80%ED%95%99%EA%B5%90/%EB%AC%B8%EC%84%9C/CodingTest_Python/backjoon/DFS%2C%20BFS/3.%20%EB%8B%A8%EC%A7%80%EB%B2%88%ED%98%B8%EB%B6%99%EC%9D%B4%EA%B8%B0.ipynb#W1sZmlsZQ%3D%3D?line=9'>10</a>\u001b[0m n \u001b[39m=\u001b[39m \u001b[39mint\u001b[39m(\u001b[39minput\u001b[39m())\n\u001b[1;32m---> <a href='vscode-notebook-cell:/c%3A/Users/%ED%99%A9%EC%9D%B8%EA%B6%8C/OneDrive%20-%20%EB%8F%99%EA%B5%AD%EB%8C%80%ED%95%99%EA%B5%90/%EB%AC%B8%EC%84%9C/CodingTest_Python/backjoon/DFS%2C%20BFS/3.%20%EB%8B%A8%EC%A7%80%EB%B2%88%ED%98%B8%EB%B6%99%EC%9D%B4%EA%B8%B0.ipynb#W1sZmlsZQ%3D%3D?line=10'>11</a>\u001b[0m graph \u001b[39m=\u001b[39m [\u001b[39mlist\u001b[39;49m(\u001b[39mmap\u001b[39;49m(\u001b[39mint\u001b[39;49m, \u001b[39minput\u001b[39;49m()\u001b[39m.\u001b[39;49mrstrip())) \u001b[39mfor\u001b[39;00m _ \u001b[39min\u001b[39;00m \u001b[39mrange\u001b[39m(n)]\n\u001b[0;32m     <a href='vscode-notebook-cell:/c%3A/Users/%ED%99%A9%EC%9D%B8%EA%B6%8C/OneDrive%20-%20%EB%8F%99%EA%B5%AD%EB%8C%80%ED%95%99%EA%B5%90/%EB%AC%B8%EC%84%9C/CodingTest_Python/backjoon/DFS%2C%20BFS/3.%20%EB%8B%A8%EC%A7%80%EB%B2%88%ED%98%B8%EB%B6%99%EC%9D%B4%EA%B8%B0.ipynb#W1sZmlsZQ%3D%3D?line=12'>13</a>\u001b[0m dx \u001b[39m=\u001b[39m [\u001b[39m-\u001b[39m\u001b[39m1\u001b[39m, \u001b[39m0\u001b[39m, \u001b[39m1\u001b[39m, \u001b[39m0\u001b[39m]\n\u001b[0;32m     <a href='vscode-notebook-cell:/c%3A/Users/%ED%99%A9%EC%9D%B8%EA%B6%8C/OneDrive%20-%20%EB%8F%99%EA%B5%AD%EB%8C%80%ED%95%99%EA%B5%90/%EB%AC%B8%EC%84%9C/CodingTest_Python/backjoon/DFS%2C%20BFS/3.%20%EB%8B%A8%EC%A7%80%EB%B2%88%ED%98%B8%EB%B6%99%EC%9D%B4%EA%B8%B0.ipynb#W1sZmlsZQ%3D%3D?line=13'>14</a>\u001b[0m dy \u001b[39m=\u001b[39m [\u001b[39m0\u001b[39m, \u001b[39m1\u001b[39m, \u001b[39m0\u001b[39m, \u001b[39m-\u001b[39m\u001b[39m1\u001b[39m]\n",
      "\u001b[1;31mValueError\u001b[0m: invalid literal for int() with base 10: ' '"
     ]
    }
   ],
   "source": [
    "# 지렁이는 인접한 다른 배추로 이동할 수 있어, 그 배추들 역시 해충으로부터 보호받을 수 있다. \n",
    "# 한 배추의 상하좌우 네 방향에 다른 배추가 위치한 경우에 서로 인접\n",
    "# 총 몇 마리의 지렁이가 필요한지 알 수 있다.\n",
    "\n",
    "from sys import stdin\n",
    "from collections import deque\n",
    "stdin = open(\"./input/input3.txt\", \"rt\")\n",
    "input = stdin.readline\n",
    "\n",
    "n = int(input())\n",
    "graph = [list(map(int, input().rstrip())) for _ in range(n)]\n",
    "\n",
    "dx = [-1, 0, 1, 0]\n",
    "dy = [0, 1, 0, -1]\n",
    "\n",
    "# 해당 좌표를 방문처리\n",
    "# graph의 nx와 ny를 탐색하면서 해당 좌표를 deque에 넣어주고 cnt += 1\n",
    "# \n",
    "def BFS(x, y):\n",
    "    graph[x][y] = 0\n",
    "    queue = deque([[x, y]])\n",
    "    global cnt\n",
    "    cnt = 1\n",
    "\n",
    "    while queue:\n",
    "        x, y = queue.popleft()\n",
    "\n",
    "        for i in range(4):\n",
    "            nx = x + dx[i]\n",
    "            ny = y + dy[i]\n",
    "            if 0 <= nx < n and 0 <= ny < n:\n",
    "                if graph[nx][ny] == 1:\n",
    "                    queue.append([nx, ny])\n",
    "                    graph[nx][ny] = 0\n",
    "                    cnt += 1\n",
    "    \n",
    "    return cnt\n",
    "      \n",
    "\n",
    "tot = []\n",
    "for i in range(n):\n",
    "  for j in range(n):\n",
    "    if graph[i][j] == 1:\n",
    "      tot.append(BFS(i, j))\n",
    "\n",
    "print(len(tot))\n",
    "tot.sort()\n",
    "for x in tot:\n",
    "    print(x)"
   ]
  },
  {
   "cell_type": "code",
   "execution_count": 2,
   "metadata": {},
   "outputs": [
    {
     "name": "stdout",
     "output_type": "stream",
     "text": [
      "2\n"
     ]
    }
   ],
   "source": []
  }
 ],
 "metadata": {
  "kernelspec": {
   "display_name": "Python 3.8.6 64-bit (system)",
   "language": "python",
   "name": "python3"
  },
  "language_info": {
   "codemirror_mode": {
    "name": "ipython",
    "version": 3
   },
   "file_extension": ".py",
   "mimetype": "text/x-python",
   "name": "python",
   "nbconvert_exporter": "python",
   "pygments_lexer": "ipython3",
   "version": "3.8.6"
  },
  "orig_nbformat": 4,
  "vscode": {
   "interpreter": {
    "hash": "2ba6819d172d60e93b2f90e5d47af36d4f36070393882cfcbe0fef625705f185"
   }
  }
 },
 "nbformat": 4,
 "nbformat_minor": 2
}
