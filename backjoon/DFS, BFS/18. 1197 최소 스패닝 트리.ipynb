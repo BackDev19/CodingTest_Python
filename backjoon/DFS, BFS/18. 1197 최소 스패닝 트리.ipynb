{
 "cells": [
  {
   "cell_type": "code",
   "execution_count": 21,
   "metadata": {},
   "outputs": [
    {
     "name": "stdout",
     "output_type": "stream",
     "text": [
      "[0, 1, 1, 1]\n"
     ]
    }
   ],
   "source": [
    "import sys\n",
    "import heapq\n",
    "sys.stdin = open(\"./input/input18.txt\", \"rt\")\n",
    "input = sys.stdin.readline\n",
    "\n",
    "def find(x):\n",
    "    if graph[x] != x:\n",
    "        graph[x] = find(graph[x])\n",
    "    return graph[x]\n",
    "\n",
    "def union(a, b):\n",
    "    a = find(a)\n",
    "    b = find(b)\n",
    "\n",
    "    if a < b:\n",
    "        graph[b] = a\n",
    "    else:\n",
    "        graph[a] = b\n",
    "\n",
    "n, k = map(int, input().split())\n",
    "graph = [i for i in range(n+1)]\n",
    "q = []\n",
    "answer = 0\n",
    "\n",
    "for _ in range(k):\n",
    "    a, b, cost = map(int, input().split())\n",
    "    heapq.heappush(q, (cost, a, b))\n",
    "\n",
    "for _ in range(k):\n",
    "    cost, a, b = heapq.heappop(q)\n",
    "    if find(a) != find(b):\n",
    "        union(a, b)\n",
    "        answer += cost\n",
    "\n",
    "print(graph)"
   ]
  }
 ],
 "metadata": {
  "kernelspec": {
   "display_name": "Python 3",
   "language": "python",
   "name": "python3"
  },
  "language_info": {
   "codemirror_mode": {
    "name": "ipython",
    "version": 3
   },
   "file_extension": ".py",
   "mimetype": "text/x-python",
   "name": "python",
   "nbconvert_exporter": "python",
   "pygments_lexer": "ipython3",
   "version": "3.8.6"
  },
  "orig_nbformat": 4,
  "vscode": {
   "interpreter": {
    "hash": "2ba6819d172d60e93b2f90e5d47af36d4f36070393882cfcbe0fef625705f185"
   }
  }
 },
 "nbformat": 4,
 "nbformat_minor": 2
}
