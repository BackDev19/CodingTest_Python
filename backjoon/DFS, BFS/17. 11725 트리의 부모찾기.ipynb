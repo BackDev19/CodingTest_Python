{
 "cells": [
  {
   "cell_type": "code",
   "execution_count": null,
   "metadata": {},
   "outputs": [],
   "source": [
    "import sys\n",
    "sys.stdin = open('input.txt' , 'rt')\n",
    "sys.setrecursionlimit(10**5)\n",
    "input = sys.stdin.readline\n",
    "\n",
    "n = int(input())\n",
    "\n",
    "graph = [[] for _ in range(n+1)]\n",
    "\n",
    "for _ in range(n-1):\n",
    "    a, b = map(int, input().split())\n",
    "    graph[a].append(b)\n",
    "    graph[b].append(a)\n",
    "\n",
    "parent = [0] * (n+1)\n",
    "# 1번 부터 내려가기\n",
    "def dfs(i):\n",
    "\n",
    "    for x in graph[i]:\n",
    "        # parent등록이 안되어있다면,\n",
    "        if not parent[x]:\n",
    "            # parent는 i가 되는 것임\n",
    "            parent[x] = i\n",
    "            dfs(x)\n",
    "\n",
    "# 자기 자신을 부모로 등록\n",
    "parent[1] = 1\n",
    "dfs(1)\n",
    "print(*parent[2:], sep='\\n')"
   ]
  }
 ],
 "metadata": {
  "language_info": {
   "name": "python"
  },
  "orig_nbformat": 4
 },
 "nbformat": 4,
 "nbformat_minor": 2
}
