{
 "cells": [
  {
   "cell_type": "code",
   "execution_count": 8,
   "metadata": {},
   "outputs": [
    {
     "name": "stdout",
     "output_type": "stream",
     "text": [
      "YES\n",
      "NO\n"
     ]
    }
   ],
   "source": [
    "from collections import deque\n",
    "from sys import stdin\n",
    "stdin = open(\"./input/input8.txt\", \"rt\")\n",
    "input = stdin.readline\n",
    "\n",
    "k = int(input())\n",
    "def bfs(start):\n",
    "    bi[start] = 1\n",
    "    q = deque()\n",
    "    q.append(start)\n",
    "    while q:\n",
    "        a = q.popleft()\n",
    "        for i in s[a]:\n",
    "            if bi[i] == 0:\n",
    "                bi[i] = -bi[a]\n",
    "                q.append(i)\n",
    "            else:\n",
    "                if bi[i] == bi[a]:\n",
    "                    return False\n",
    "    return True\n",
    "for i in range(k):\n",
    "    v, e = map(int, input().split())\n",
    "    isTrue = True\n",
    "    s = [[] for i in range(v + 1)]\n",
    "    bi = [0 for i in range(v + 1)]\n",
    "    for j in range(e):\n",
    "        a, b = map(int, input().split())\n",
    "        s[a].append(b)\n",
    "        s[b].append(a)\n",
    "    for k in range(1, v + 1):\n",
    "        if bi[k] == 0:\n",
    "            if not bfs(k):\n",
    "                isTrue = False\n",
    "                break\n",
    "    print(\"YES\"if isTrue else \"NO\")"
   ]
  }
 ],
 "metadata": {
  "kernelspec": {
   "display_name": "Python 3.8.6 64-bit (system)",
   "language": "python",
   "name": "python3"
  },
  "language_info": {
   "codemirror_mode": {
    "name": "ipython",
    "version": 3
   },
   "file_extension": ".py",
   "mimetype": "text/x-python",
   "name": "python",
   "nbconvert_exporter": "python",
   "pygments_lexer": "ipython3",
   "version": "3.8.6"
  },
  "orig_nbformat": 4,
  "vscode": {
   "interpreter": {
    "hash": "2ba6819d172d60e93b2f90e5d47af36d4f36070393882cfcbe0fef625705f185"
   }
  }
 },
 "nbformat": 4,
 "nbformat_minor": 2
}
