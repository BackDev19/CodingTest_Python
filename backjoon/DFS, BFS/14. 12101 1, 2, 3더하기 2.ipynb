{
 "cells": [
  {
   "cell_type": "code",
   "execution_count": null,
   "metadata": {},
   "outputs": [],
   "source": [
    "import sys\n",
    "import copy\n",
    "sys.stdin = open(\"input.txt\", \"rt\")\n",
    "input = sys.stdin.readline\n",
    "\n",
    "n, k = map(int, input().split())\n",
    "q = []\n",
    "answer = []\n",
    "\n",
    "# n이 몇번정도 됐는지\n",
    "num = 0\n",
    "\n",
    "def dfs(sum):\n",
    "    # 그 합이 n이라면, q를 출력\n",
    "    if sum > n:\n",
    "        return\n",
    "\n",
    "    if sum == n:\n",
    "        global num\n",
    "        num += 1\n",
    "\n",
    "        if num == k:\n",
    "            global answer\n",
    "            answer = copy.deepcopy(q)\n",
    "\n",
    "        return\n",
    "    if num >= k:\n",
    "        return\n",
    "    \n",
    "    \n",
    "    # 1, 2, 3의 값을 더해주기\n",
    "    for i in range(1, 4):\n",
    "        q.append(i)\n",
    "        dfs(sum + i)\n",
    "        q.pop()\n",
    "\n",
    "dfs(0)\n",
    "if not answer:\n",
    "    print(-1)\n",
    "else:\n",
    "    print('+'.join(map(str, answer)))"
   ]
  }
 ],
 "metadata": {
  "kernelspec": {
   "display_name": "Python 3",
   "language": "python",
   "name": "python3"
  },
  "language_info": {
   "name": "python",
   "version": "3.8.6 (tags/v3.8.6:db45529, Sep 23 2020, 15:52:53) [MSC v.1927 64 bit (AMD64)]"
  },
  "orig_nbformat": 4,
  "vscode": {
   "interpreter": {
    "hash": "2ba6819d172d60e93b2f90e5d47af36d4f36070393882cfcbe0fef625705f185"
   }
  }
 },
 "nbformat": 4,
 "nbformat_minor": 2
}
