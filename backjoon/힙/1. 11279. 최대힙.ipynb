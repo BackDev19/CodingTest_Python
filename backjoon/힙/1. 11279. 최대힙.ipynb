{
 "cells": [
  {
   "cell_type": "code",
   "execution_count": 6,
   "metadata": {},
   "outputs": [
    {
     "name": "stdout",
     "output_type": "stream",
     "text": [
      "0\n",
      "2\n",
      "1\n",
      "3\n",
      "2\n",
      "1\n",
      "0\n",
      "0\n"
     ]
    }
   ],
   "source": [
    "import sys\n",
    "import heapq\n",
    "sys.stdin = open(\"./input/input1.txt\", \"rt\")\n",
    "input = sys.stdin.readline\n",
    "\n",
    "n = int(input())\n",
    "\n",
    "arr = [int(input()) for i in range(n)]\n",
    "\n",
    "# 0이라면 배열에서 가장 큰 값을 출력\n",
    "# x가 자연수라면 배열에 x라는 값 대입\n",
    "q = []\n",
    "for i in range(len(arr)):\n",
    "    if arr[i] == 0:\n",
    "        if not q:\n",
    "            print(0)\n",
    "        else: # x\n",
    "            print(-heapq.heappop(q))\n",
    "    else:\n",
    "        heapq.heappush(q, -arr[i])\n",
    "\n"
   ]
  },
  {
   "cell_type": "code",
   "execution_count": 10,
   "metadata": {},
   "outputs": [
    {
     "name": "stdout",
     "output_type": "stream",
     "text": [
      "[(0, 5), (1, 3), (1, 3), (3, 7), (6, 6), (4, 2)]\n",
      "(0, 5)\n",
      "(1, 3)\n",
      "(1, 3)\n",
      "(3, 7)\n",
      "(4, 2)\n",
      "(6, 6)\n"
     ]
    }
   ],
   "source": [
    "import heapq \n",
    "import sys\n",
    "input = sys.stdin.readline\n",
    "INF = int(1e9)\n",
    "\n",
    "#노드의 개수, 간선의 개수\n",
    "n, m = map(int, input().split())\n",
    "start = int(input())\n",
    "graph = [[] for i in range(n+1)]\n",
    "distance = [INF] * (n+1)\n",
    "\n",
    "for _ in range(m):\n",
    "    a, b, c = map(int, input().split())\n",
    "    graph[a].append((b, c)) # a에서 b간선으로 가는 cost가 c\n",
    "\n",
    "def dijkstra(start):\n",
    "    q = []\n",
    "    heapq.heappush(q, (0, start))\n",
    "    distance[start] = 0\n",
    "\n",
    "    while q:\n",
    "        dist, now = heapq.heappop(q)\n",
    "        if distance[now] < dist: # dist의 거리가 더 크다면, continue\n",
    "            continue\n",
    "        \n",
    "        for i in graph[now]: # now와 인접한 노드들을 확인  graph[0] = 목표지점 graph[1] = cost\n",
    "            cost = dist + i[1]\n",
    "            if cost < distance[i[0]]: # distance[] = distance에 있는 간선들\n",
    "                distance[i[0]] = cost\n",
    "                heapq.heappush(q, (cost, i[0]))\n",
    "\n",
    "# 다익스트라 알고리즘을 실행\n",
    "dijkstra(start)\n",
    "\n",
    "for i in range(n+1):\n",
    "    if distance[i] == INF:\n",
    "        \n"
   ]
  },
  {
   "cell_type": "code",
   "execution_count": 14,
   "metadata": {},
   "outputs": [
    {
     "name": "stdout",
     "output_type": "stream",
     "text": [
      "[[], [(2, 4), (3, 2)], [], []]\n"
     ]
    }
   ],
   "source": [
    "import heapq\n",
    "from sys import stdin\n",
    "stdin = open(\"./input/input2.txt\")\n",
    "input = stdin.readline\n",
    "\n",
    "n, m, start = map(int, input().split())\n",
    "\n",
    "graph = [[] for i in range(n+1)]\n",
    "INF = int(1e9)\n",
    "distance = [INF] * (n+1)\n",
    "\n",
    "for i in range(m):\n",
    "    # a, b, c => a가 b로 향하면서 cost만큼 걸림\n",
    "    a, b, c = map(int, input().split())\n",
    "    graph[a].append((b, c))\n",
    "\n",
    "def dijkstra(start):\n",
    "    # 1. 가장먼저 start부분을 초기화\n",
    "    q = []\n",
    "    heapq.heappush(q, (0, start))\n",
    "    distance[start] = 0\n",
    "\n",
    "    while q:\n",
    "        dist, now = heapq.heappop(q)\n",
    "        if distance[now] < dist:\n",
    "            continue\n",
    "        \n",
    "        for i in graph[now]:\n",
    "            cost = dist + i[1]\n",
    "            if cost < distance[i[0]]:\n",
    "                distance[i[0]] = cost\n",
    "                heapq.heappush(q, (cost, i[0]))\n",
    "\n",
    "\n",
    "\n",
    "\n"
   ]
  },
  {
   "cell_type": "code",
   "execution_count": null,
   "metadata": {},
   "outputs": [],
   "source": [
    "def find_parent(parent, x):\n",
    "    if parent[x] != x:\n",
    "        parent[x] = find_parent(parent, parent[x])\n",
    "    else:\n",
    "        return parent[x]\n",
    "\n",
    "def union_parent(parent, a, b):\n",
    "    a = find_parent(parent, a)\n",
    "    b = find_parent(parent, b)\n",
    "\n",
    "    if a < b:\n",
    "        parent[a] = b\n",
    "    else:\n",
    "        parent[b] = a\n",
    "\n",
    "v, e = map(int, input().split())\n",
    "parent = [0] * (n+1)\n",
    "\n",
    "edges = []\n",
    "result = 0\n",
    "\n",
    "for i in range(1, v+1):\n",
    "    parent[i] = i\n",
    "\n",
    "# 모든 간선에 대한 정보르 입력 받기\n",
    "for _ in range(e):\n",
    "    a, b, cost = map(int, input().split())\n",
    "    # 비용순으로 ㅈ어렬하기 위해서 튜플의 첫 번째 원소를 비용으로 설정\n",
    "    edges.append((cost, a, b))\n",
    "\n",
    "#간선을 비용순으로 정렬\n",
    "edges.sort()\n",
    "\n",
    "#간선을 하나씩 확인하여\n",
    "for edge in edges:\n",
    "    cost, a, b = edge\n",
    "    #사이클이 발생하지 않는 경우에만 집합에 퐇마\n",
    "    if find_parent(parent, a) != find_parent(parent, b):\n",
    "        union_parent(parent, a, b)\n",
    "        result += cost\n",
    "\n",
    "print(result)\n",
    "\n",
    "\n"
   ]
  },
  {
   "cell_type": "code",
   "execution_count": null,
   "metadata": {},
   "outputs": [],
   "source": [
    "from collections import deque\n",
    "\n",
    "# v = 노드의 개수, e = 간선의 개수\n",
    "v, e = map(int, input().split())\n",
    "indegree = [0] * (v+1)\n",
    "graph [[] for i in range(v+1)]\n",
    "\n",
    "# 방향그래프의 모든 간선 정보 입력 받기\n",
    "for _ in range(e):\n",
    "    a, b = map(int, input().split())\n",
    "    graph[a].append(b)\n",
    "    indegree[b] += 1\n",
    "\n",
    "def topology_sort():\n",
    "    result = []\n",
    "    q = deque()\n",
    "\n",
    "    for i in range(1, v+1):\n",
    "        if indegree[i] == 0:\n",
    "            q.append(i)\n",
    "    \n",
    "    while q:\n",
    "        now = q.popleft()\n",
    "        result.append(now)\n",
    "\n",
    "        # 해당 원소와 연결된 노드들의 진입차수에서 1빼기\n",
    "        for i in graph[now]:\n",
    "            indegree[i] -= 1\n",
    "            if indegree[i] == 0:\n",
    "                q.append(i)\n",
    "\n",
    "    for i in result:\n",
    "        print(i, end = ' ')            \n",
    "\n"
   ]
  },
  {
   "cell_type": "code",
   "execution_count": 31,
   "metadata": {},
   "outputs": [
    {
     "name": "stdout",
     "output_type": "stream",
     "text": [
      "[(3, 1, 2), (2, 1, 2), (4, 1, 2), (5, 1, 2), (1, 1, 2)]\n",
      "[(1, 1, 2), (2, 1, 2), (3, 1, 2), (4, 1, 2), (5, 1, 2)]\n"
     ]
    }
   ],
   "source": [
    "edges = []\n",
    "edges.append((3, 1, 2))\n",
    "edges.append((2, 1, 2))\n",
    "edges.append((4, 1, 2))\n",
    "edges.append((5, 1, 2))\n",
    "edges.append((1, 1, 2))\n",
    "print(edges)\n",
    "\n",
    "edges.sort()\n",
    "print(edges)"
   ]
  },
  {
   "cell_type": "code",
   "execution_count": 17,
   "metadata": {},
   "outputs": [
    {
     "name": "stdout",
     "output_type": "stream",
     "text": [
      "40\n"
     ]
    }
   ],
   "source": [
    "def recur(n):\n",
    "    if n == 5 :\n",
    "        return n\n",
    "    return 2 * recur(n+1)\n",
    "\n",
    "print(recur(2))"
   ]
  }
 ],
 "metadata": {
  "kernelspec": {
   "display_name": "Python 3.8.6 64-bit",
   "language": "python",
   "name": "python3"
  },
  "language_info": {
   "codemirror_mode": {
    "name": "ipython",
    "version": 3
   },
   "file_extension": ".py",
   "mimetype": "text/x-python",
   "name": "python",
   "nbconvert_exporter": "python",
   "pygments_lexer": "ipython3",
   "version": "3.8.6"
  },
  "orig_nbformat": 4,
  "vscode": {
   "interpreter": {
    "hash": "2ba6819d172d60e93b2f90e5d47af36d4f36070393882cfcbe0fef625705f185"
   }
  }
 },
 "nbformat": 4,
 "nbformat_minor": 2
}
