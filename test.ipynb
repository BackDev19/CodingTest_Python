{
 "cells": [
  {
   "cell_type": "code",
   "execution_count": 2,
   "metadata": {},
   "outputs": [
    {
     "name": "stdout",
     "output_type": "stream",
     "text": [
      "prev_x, prev_y 0 1 1\n",
      "next_x, next_y 0 1 2\n",
      "prev_x, prev_y 0 1 2\n",
      "next_x, next_y 0 1 3\n",
      "(direction % 2 == 1) and (num == y2 - y1)\n",
      "prev_x, prev_y 1 1 3\n",
      "next_x, next_y 1 2 3\n",
      "(direction % 2 == 0) and (num == y2 - y1)\n",
      "prev_x, prev_y 2 2 3\n",
      "next_x, next_y 2 2 2\n",
      "prev_x, prev_y 2 2 2\n",
      "next_x, next_y 2 2 1\n",
      "(direction % 2 == 1) and (num == y2 - y1)\n",
      "None\n",
      "prev_x, prev_y 0 2 2\n",
      "next_x, next_y 0 2 3\n",
      "prev_x, prev_y 0 2 3\n",
      "next_x, next_y 0 2 4\n",
      "(direction % 2 == 1) and (num == y2 - y1)\n",
      "prev_x, prev_y 1 2 4\n",
      "next_x, next_y 1 3 4\n",
      "prev_x, prev_y 1 3 4\n",
      "next_x, next_y 1 4 4\n",
      "(direction % 2 == 0) and (num == y2 - y1)\n",
      "prev_x, prev_y 2 4 4\n",
      "next_x, next_y 2 4 3\n",
      "prev_x, prev_y 2 4 3\n",
      "next_x, next_y 2 4 2\n",
      "(direction % 2 == 1) and (num == y2 - y1)\n",
      "None\n",
      "(direction % 2 == 1) and (num == y2 - y1)\n",
      "prev_x, prev_y 1 4 0\n",
      "next_x, next_y 1 5 0\n",
      "(direction % 2 == 0) and (num == y2 - y1)\n",
      "prev_x, prev_y 2 5 0\n",
      "next_x, next_y 2 5 -1\n",
      "prev_x, prev_y 2 5 -1\n",
      "next_x, next_y 2 5 -2\n"
     ]
    }
   ],
   "source": [
    "import sys\n",
    "sys.stdin = open(\"input.txt\", \"rt\")\n",
    "input = sys.stdin.readline\n",
    "\n",
    "# 길이가 N, 길이가 2N인 벨트\n",
    "# 1 ~ 2N-1은 다음칸, 2N번 칸은 1번 칸으로\n",
    "# i번 칸의 내구도는 Ai\n",
    "# 1번은 올리는 위치, N은 내리는 위치\n",
    "# 로봇은 올리는 위치에만 가능, 내리는 위치에 도달하면 내린다\n",
    "# 로봇은 컨베이어 벨트 위에서 스스로 이동 가능\n",
    "# 로봇을 올리는 위치에 올리거나 어떤 칸으로 이동하면 칸의 내구도가 1씩 감소\n",
    "\n",
    "# 로봇을 옮기는 과정\n",
    "# 1. 벨트가 각 칸 위에 있는 로봇과 한 칸 회전\n",
    "# 2. 가장 먼저 벨트에 올라간 로봇부터, 회전하는 방향으로 한칸 이동할 수 있다면 이동, 이동할 수 없다면 가만히\n",
    "# 2-1. 이동하기 위해서는 이동하려는 칸에 로봇 x, 그 칸의 내구도가 1 이상\n",
    "# 3. 올리는 위치에 칸의 내구도가 0이 아니면 올리는 위치에 로봇을 올린다\n",
    "# 4. 내구도가 0인 칸의 개수가 K개 이상 -> 과정 종료, 그 외에는 1번으로 돌아간다\n",
    "# 종료되었을 때 몇 번째 단계가 진행 중이었는지\n",
    "\n",
    "\n",
    "# 풀이\n",
    "# 가장 먼저 벨트를 회전 => 내리는 위치면 내리기\n",
    "# 로봇들이 있다면, 조건을 확인하고 이동 -> 내리는 위치면 내리기\n",
    "# 내구도가 0이 아니라면 올리기\n",
    "# 내구도 0인 칸이 k개 이상 -> 종료\n",
    "\n",
    "\n",
    "\n",
    "\n",
    "\n"
   ]
  },
  {
   "cell_type": "code",
   "execution_count": null,
   "metadata": {},
   "outputs": [
    {
     "name": "stdout",
     "output_type": "stream",
     "text": [
      "0.0012888908386230469\n",
      "0\n"
     ]
    }
   ],
   "source": [
    "arrays = [5, 7, 9, 0, 3, 1, 6, 2 ,4 ,8]\n",
    "\n",
    "def quick_sort(array, start, end):\n",
    "    if start >= end:\n",
    "        return\n",
    "    \n",
    "    pivot = start\n",
    "    left = start + 1\n",
    "    right = end\n",
    "\n",
    "    while(left <= right):\n",
    "        while(left <= end and array[left] <= array[pivot]):\n",
    "            left += 1\n",
    "        while(right > start and array[right] >= array[pivot]):\n",
    "            right -= 1\n",
    "        \n",
    "        if left > right:\n",
    "            array[right], array[pivot] = array[pivot], array[right]\n",
    "        else:\n",
    "            array[left], array[right] = array[right], array[left]\n",
    "    \n",
    "    quick_sort(array, start, right - 1)\n",
    "    quick_sort(array, right + 1, end)"
   ]
  },
  {
   "cell_type": "code",
   "execution_count": null,
   "metadata": {},
   "outputs": [
    {
     "name": "stdout",
     "output_type": "stream",
     "text": [
      "1\n"
     ]
    }
   ],
   "source": [
    "def gcd(a, b):\n",
    "    if a % b == 0:\n",
    "        return b\n",
    "    else:\n",
    "        return gcd(b, a % b)\n",
    "print(gcd(11, 2))"
   ]
  },
  {
   "cell_type": "code",
   "execution_count": null,
   "metadata": {},
   "outputs": [
    {
     "name": "stdout",
     "output_type": "stream",
     "text": [
      "124\n"
     ]
    }
   ],
   "source": [
    "print(round(123.523))"
   ]
  },
  {
   "cell_type": "code",
   "execution_count": null,
   "metadata": {},
   "outputs": [
    {
     "name": "stdout",
     "output_type": "stream",
     "text": [
      "3\n"
     ]
    }
   ],
   "source": [
    "a = 4 // 3 * 3\n",
    "print(a)"
   ]
  }
 ],
 "metadata": {
  "kernelspec": {
   "display_name": "Python 3.8.6 64-bit (system)",
   "language": "python",
   "name": "python3"
  },
  "language_info": {
   "codemirror_mode": {
    "name": "ipython",
    "version": 3
   },
   "file_extension": ".py",
   "mimetype": "text/x-python",
   "name": "python",
   "nbconvert_exporter": "python",
   "pygments_lexer": "ipython3",
   "version": "3.8.6 (tags/v3.8.6:db45529, Sep 23 2020, 15:52:53) [MSC v.1927 64 bit (AMD64)]"
  },
  "orig_nbformat": 4,
  "vscode": {
   "interpreter": {
    "hash": "2ba6819d172d60e93b2f90e5d47af36d4f36070393882cfcbe0fef625705f185"
   }
  }
 },
 "nbformat": 4,
 "nbformat_minor": 2
}
