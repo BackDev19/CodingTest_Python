{
 "cells": [
  {
   "cell_type": "code",
   "execution_count": 17,
   "metadata": {},
   "outputs": [
    {
     "name": "stdout",
     "output_type": "stream",
     "text": [
      "[0, 1, 2, 4, 7, 13, 24, 44, 81, 149, 274, 504, 927, 1705, 3136, 5768]\n",
      "7\n",
      "44\n",
      "5768\n"
     ]
    }
   ],
   "source": [
    "import sys\n",
    "sys.stdin = open(\"input.txt\", \"rt\")\n",
    "input = sys.stdin.readline\n",
    "\n",
    "# 정수 n, n을 1, 2, 3의 합으로 나타내는 방법의 수\n",
    "t = int(input())\n",
    "\n",
    "arr = []\n",
    "\n",
    "maxNum = 0\n",
    "for _ in range(t):\n",
    "    # 그냥 dp를 매번 구하지 말고 한번에 찾도록\n",
    "    n = int(input())\n",
    "    arr.append(n)\n",
    "    maxNum = max(maxNum, n)\n",
    "\n",
    "dp = [0] * (maxNum+1)\n",
    "\n",
    "dp[1] = 1\n",
    "dp[2] = 2\n",
    "dp[3] = 4\n",
    "\n",
    "for i in range(4, maxNum+1):\n",
    "    dp[i] = (dp[i-1] + dp[i-2] + dp[i-3]) % 1000000009\n",
    "\n",
    "for x in arr:\n",
    "    print(dp[x] % 1000000009)\n"
   ]
  },
  {
   "cell_type": "code",
   "execution_count": 58,
   "metadata": {},
   "outputs": [
    {
     "name": "stdout",
     "output_type": "stream",
     "text": [
      "1152\n"
     ]
    }
   ],
   "source": [
    "import sys\n",
    "sys.stdin = open(\"input.txt\", \"rt\")\n",
    "\n",
    "n = int(sys.stdin.readline())\n",
    "m = int(sys.stdin.readline())\n",
    "vip = [int(sys.stdin.readline()) for _ in range(m)]\n",
    "\n",
    "dp = [0] * (n + 1)\n",
    "dp[0] = 1\n",
    "dp[1] = 1 # 1\n",
    "dp[2] = 2 # 1 2, 2 1\n",
    "# dp[3] = 3 # 1 2 3, 1 3 2, 2 1 3\n",
    "\n",
    "# 점화식 : dp[n] = dp[n - 1] + dp[n - 2]\n",
    "for i in range(3, n + 1):\n",
    "    dp[i] = dp[i - 1] + dp[i - 2]\n",
    "\n",
    "\n",
    "answer = 1 # 경우의 수\n",
    "# vip의 유무에 따라 경우의 수를 도출\n",
    "if m > 0:\n",
    "    pre = 0\n",
    "    # 반복문을 통해 vip 사이에 그룹에 들어가는 경우의 수를 확인\n",
    "    for j in range(m):\n",
    "        answer *= dp[vip[j] - 1 - pre]\n",
    "        pre = vip[j]\n",
    "    answer *= dp[n - pre]\n",
    "else:\n",
    "    answer = dp[n]\n",
    "print(answer)"
   ]
  }
 ],
 "metadata": {
  "kernelspec": {
   "display_name": "Python 3.8.6 64-bit (system)",
   "language": "python",
   "name": "python3"
  },
  "language_info": {
   "codemirror_mode": {
    "name": "ipython",
    "version": 3
   },
   "file_extension": ".py",
   "mimetype": "text/x-python",
   "name": "python",
   "nbconvert_exporter": "python",
   "pygments_lexer": "ipython3",
   "version": "3.8.6"
  },
  "orig_nbformat": 4,
  "vscode": {
   "interpreter": {
    "hash": "2ba6819d172d60e93b2f90e5d47af36d4f36070393882cfcbe0fef625705f185"
   }
  }
 },
 "nbformat": 4,
 "nbformat_minor": 2
}
