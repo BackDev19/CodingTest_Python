{
 "cells": [
  {
   "cell_type": "code",
   "execution_count": 37,
   "metadata": {},
   "outputs": [
    {
     "name": "stdout",
     "output_type": "stream",
     "text": [
      "11\n"
     ]
    }
   ],
   "source": [
    "import sys\n",
    "sys.stdin = open(\"input.txt\", \"rt\")\n",
    "input = sys.stdin.readline\n",
    "\n",
    "n=int(input())\n",
    "nums=[]\n",
    "for i in range(n):\n",
    "    tmp=list(map(int, input().split()))\n",
    "    nums.append(tmp)\n",
    "def pooling(size, x, y):\n",
    "    mid=size//2\n",
    "    if size==2:\n",
    "        answer=[nums[x][y], nums[x+1][y], nums[x][y+1], nums[x+1][y+1]]\n",
    "        answer.sort()\n",
    "        return answer[-2]\n",
    "    lt=pooling(mid, x, y)\n",
    "    rt=pooling(mid, x+mid, y)\n",
    "    lb=pooling(mid, x, y+mid)\n",
    "    rb=pooling(mid, x+mid, y+mid)\n",
    "    answer=[lt, rt, lb, rb]\n",
    "    answer.sort()\n",
    "    return answer[-2]\n",
    "print(pooling(n, 0, 0))"
   ]
  },
  {
   "cell_type": "code",
   "execution_count": null,
   "metadata": {},
   "outputs": [],
   "source": []
  },
  {
   "cell_type": "code",
   "execution_count": 51,
   "metadata": {},
   "outputs": [
    {
     "name": "stdout",
     "output_type": "stream",
     "text": [
      "3 + 5 = 8\n"
     ]
    }
   ],
   "source": [
    "a = 3\n",
    "b = 5\n",
    "print(f'{a} + {b} = {a + b}')"
   ]
  }
 ],
 "metadata": {
  "kernelspec": {
   "display_name": "Python 3.8.6 64-bit (system)",
   "language": "python",
   "name": "python3"
  },
  "language_info": {
   "codemirror_mode": {
    "name": "ipython",
    "version": 3
   },
   "file_extension": ".py",
   "mimetype": "text/x-python",
   "name": "python",
   "nbconvert_exporter": "python",
   "pygments_lexer": "ipython3",
   "version": "3.8.6"
  },
  "orig_nbformat": 4,
  "vscode": {
   "interpreter": {
    "hash": "2ba6819d172d60e93b2f90e5d47af36d4f36070393882cfcbe0fef625705f185"
   }
  }
 },
 "nbformat": 4,
 "nbformat_minor": 2
}
