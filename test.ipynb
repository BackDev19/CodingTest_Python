{
 "cells": [
  {
   "cell_type": "code",
   "execution_count": 2,
   "metadata": {},
   "outputs": [
    {
     "name": "stdout",
     "output_type": "stream",
     "text": [
      "prev_x, prev_y 0 1 1\n",
      "next_x, next_y 0 1 2\n",
      "prev_x, prev_y 0 1 2\n",
      "next_x, next_y 0 1 3\n",
      "(direction % 2 == 1) and (num == y2 - y1)\n",
      "prev_x, prev_y 1 1 3\n",
      "next_x, next_y 1 2 3\n",
      "(direction % 2 == 0) and (num == y2 - y1)\n",
      "prev_x, prev_y 2 2 3\n",
      "next_x, next_y 2 2 2\n",
      "prev_x, prev_y 2 2 2\n",
      "next_x, next_y 2 2 1\n",
      "(direction % 2 == 1) and (num == y2 - y1)\n",
      "None\n",
      "prev_x, prev_y 0 2 2\n",
      "next_x, next_y 0 2 3\n",
      "prev_x, prev_y 0 2 3\n",
      "next_x, next_y 0 2 4\n",
      "(direction % 2 == 1) and (num == y2 - y1)\n",
      "prev_x, prev_y 1 2 4\n",
      "next_x, next_y 1 3 4\n",
      "prev_x, prev_y 1 3 4\n",
      "next_x, next_y 1 4 4\n",
      "(direction % 2 == 0) and (num == y2 - y1)\n",
      "prev_x, prev_y 2 4 4\n",
      "next_x, next_y 2 4 3\n",
      "prev_x, prev_y 2 4 3\n",
      "next_x, next_y 2 4 2\n",
      "(direction % 2 == 1) and (num == y2 - y1)\n",
      "None\n",
      "(direction % 2 == 1) and (num == y2 - y1)\n",
      "prev_x, prev_y 1 4 0\n",
      "next_x, next_y 1 5 0\n",
      "(direction % 2 == 0) and (num == y2 - y1)\n",
      "prev_x, prev_y 2 5 0\n",
      "next_x, next_y 2 5 -1\n",
      "prev_x, prev_y 2 5 -1\n",
      "next_x, next_y 2 5 -2\n"
     ]
    }
   ],
   "source": [
    "import sys\n",
    "sys.stdin = open(\"input.txt\", \"rt\")\n",
    "input = sys.stdin.readline\n",
    "\n",
    "\n"
   ]
  },
  {
   "cell_type": "code",
   "execution_count": null,
   "metadata": {},
   "outputs": [
    {
     "name": "stdout",
     "output_type": "stream",
     "text": [
      "0.0012888908386230469\n",
      "0\n"
     ]
    }
   ],
   "source": [
    "arrays = [5, 7, 9, 0, 3, 1, 6, 2 ,4 ,8]\n",
    "\n",
    "def quick_sort(array, start, end):\n",
    "    if start >= end:\n",
    "        return\n",
    "    \n",
    "    pivot = start\n",
    "    left = start + 1\n",
    "    right = end\n",
    "\n",
    "    while(left <= right):\n",
    "        while(left <= end and array[left] <= array[pivot]):\n",
    "            left += 1\n",
    "        while(right > start and array[right] >= array[pivot]):\n",
    "            right -= 1\n",
    "        \n",
    "        if left > right:\n",
    "            array[right], array[pivot] = array[pivot], array[right]\n",
    "        else:\n",
    "            array[left], array[right] = array[right], array[left]\n",
    "    \n",
    "    quick_sort(array, start, right - 1)\n",
    "    quick_sort(array, right + 1, end)"
   ]
  },
  {
   "cell_type": "code",
   "execution_count": null,
   "metadata": {},
   "outputs": [
    {
     "name": "stdout",
     "output_type": "stream",
     "text": [
      "1\n"
     ]
    }
   ],
   "source": [
    "def gcd(a, b):\n",
    "    if a % b == 0:\n",
    "        return b\n",
    "    else:\n",
    "        return gcd(b, a % b)\n",
    "print(gcd(11, 2))"
   ]
  },
  {
   "cell_type": "code",
   "execution_count": null,
   "metadata": {},
   "outputs": [
    {
     "name": "stdout",
     "output_type": "stream",
     "text": [
      "124\n"
     ]
    }
   ],
   "source": [
    "print(round(123.523))"
   ]
  },
  {
   "cell_type": "code",
   "execution_count": null,
   "metadata": {},
   "outputs": [
    {
     "name": "stdout",
     "output_type": "stream",
     "text": [
      "3\n"
     ]
    }
   ],
   "source": [
    "a = 4 // 3 * 3\n",
    "print(a)"
   ]
  }
 ],
 "metadata": {
  "kernelspec": {
   "display_name": "Python 3.8.6 64-bit (system)",
   "language": "python",
   "name": "python3"
  },
  "language_info": {
   "codemirror_mode": {
    "name": "ipython",
    "version": 3
   },
   "file_extension": ".py",
   "mimetype": "text/x-python",
   "name": "python",
   "nbconvert_exporter": "python",
   "pygments_lexer": "ipython3",
   "version": "3.8.6 (tags/v3.8.6:db45529, Sep 23 2020, 15:52:53) [MSC v.1927 64 bit (AMD64)]"
  },
  "orig_nbformat": 4,
  "vscode": {
   "interpreter": {
    "hash": "2ba6819d172d60e93b2f90e5d47af36d4f36070393882cfcbe0fef625705f185"
   }
  }
 },
 "nbformat": 4,
 "nbformat_minor": 2
}
