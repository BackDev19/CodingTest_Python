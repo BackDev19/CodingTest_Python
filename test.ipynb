{
 "cells": [
  {
   "cell_type": "code",
   "execution_count": 1,
   "metadata": {},
   "outputs": [
    {
     "name": "stdout",
     "output_type": "stream",
     "text": [
      "10\n",
      "12\n",
      "11\n"
     ]
    }
   ],
   "source": [
    "import sys\n",
    "sys.stdin = open(\"input.txt\", \"rt\")\n",
    "input = sys.stdin.readline\n",
    "\n",
    "def cut_paper(r,c,n):\n",
    "    num = paper[r][c]\n",
    "    for i in range(r,r+n):\n",
    "        for j in range(c,c+n):\n",
    "            if paper[i][j] != num:\n",
    "                for k in range(3):\n",
    "                    for l in range(3):\n",
    "                        cut_paper(r+k*(n//3),c+l*(n//3),n//3)\n",
    "                return\n",
    "\n",
    "    if num == -1:\n",
    "        ans[0] += 1\n",
    "    elif num == 0:\n",
    "        ans[1] += 1\n",
    "    else:\n",
    "        ans[2] += 1\n",
    "\n",
    "n = int(input())\n",
    "paper = [list(map(int,input().split())) for _ in range(n)]\n",
    "ans = [0,0,0]\n",
    "\n",
    "cut_paper(0,0,n)\n",
    "print(*ans,sep='\\n')"
   ]
  },
  {
   "cell_type": "code",
   "execution_count": null,
   "metadata": {},
   "outputs": [],
   "source": [
    "a = 3\n",
    "print(*a)"
   ]
  },
  {
   "cell_type": "code",
   "execution_count": 51,
   "metadata": {},
   "outputs": [
    {
     "name": "stdout",
     "output_type": "stream",
     "text": [
      "3 + 5 = 8\n"
     ]
    }
   ],
   "source": [
    "a = 3\n",
    "b = 5\n",
    "print(f'{a} + {b} = {a + b}')"
   ]
  }
 ],
 "metadata": {
  "kernelspec": {
   "display_name": "Python 3.8.6 64-bit (system)",
   "language": "python",
   "name": "python3"
  },
  "language_info": {
   "codemirror_mode": {
    "name": "ipython",
    "version": 3
   },
   "file_extension": ".py",
   "mimetype": "text/x-python",
   "name": "python",
   "nbconvert_exporter": "python",
   "pygments_lexer": "ipython3",
   "version": "3.8.6"
  },
  "orig_nbformat": 4,
  "vscode": {
   "interpreter": {
    "hash": "2ba6819d172d60e93b2f90e5d47af36d4f36070393882cfcbe0fef625705f185"
   }
  }
 },
 "nbformat": 4,
 "nbformat_minor": 2
}
