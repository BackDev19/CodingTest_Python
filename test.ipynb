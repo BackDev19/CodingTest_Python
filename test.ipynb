{
 "cells": [
  {
   "cell_type": "code",
   "execution_count": 3,
   "metadata": {},
   "outputs": [
    {
     "name": "stdout",
     "output_type": "stream",
     "text": [
      "1011"
     ]
    }
   ],
   "source": [
    "from sys import stdin\n",
    "stdin = open(\"input.txt\", \"rt\")\n",
    "\n",
    "def DFS(n):\n",
    "    if n < 1:\n",
    "        return\n",
    "    DFS(n // 2)\n",
    "    print(n % 2, end = '')\n",
    "\n",
    "DFS(11)\n"
   ]
  },
  {
   "cell_type": "markdown",
   "metadata": {},
   "source": []
  },
  {
   "cell_type": "code",
   "execution_count": 12,
   "metadata": {},
   "outputs": [
    {
     "name": "stdout",
     "output_type": "stream",
     "text": [
      "1 2 3 \n",
      "1 2 \n",
      "1 3 \n",
      "1 \n",
      "2 3 \n",
      "2 \n",
      "3 \n",
      "\n"
     ]
    }
   ],
   "source": [
    "from sys import stdin\n",
    "stdin = open(\"input.txt\", \"rt\")\n",
    "\n",
    "def DFS(L):\n",
    "    if L == n+1:\n",
    "        for i in range(1, n+1):\n",
    "            if ch[i] == 1:\n",
    "                print(i, end =' ')\n",
    "        print()\n",
    "\n",
    "        return\n",
    "    \n",
    "    else:\n",
    "        ch[L] = 1\n",
    "        DFS(L + 1)\n",
    "        ch[L] = 0\n",
    "        DFS(L + 1)\n",
    "\n",
    "\n",
    "n = int(stdin.readline())\n",
    "ch = [0] * (n+1)\n",
    "DFS(1)\n"
   ]
  },
  {
   "cell_type": "code",
   "execution_count": 15,
   "metadata": {},
   "outputs": [
    {
     "name": "stdout",
     "output_type": "stream",
     "text": [
      "1 2 3 \n",
      "1 2 \n",
      "1 3 \n",
      "1 \n",
      "2 3 \n",
      "2 \n",
      "3 \n",
      "\n"
     ]
    }
   ],
   "source": [
    "from sys import stdin\n",
    "stdin = open(\"input.txt\", \"rt\")\n",
    "\n",
    "def DFS(L):\n",
    "    if L == n + 1:\n",
    "        # 출ㄺ하기\n",
    "        for i in range(1, n+1):\n",
    "            if ch[i] == 1:\n",
    "                print(i, end = ' ')\n",
    "        print()\n",
    "        return\n",
    "\n",
    "    else:\n",
    "        ch[L] = 1\n",
    "        DFS(L + 1)\n",
    "        ch[L] = 0\n",
    "        DFS(L + 1)\n",
    "\n",
    "\n",
    "\n",
    "n = int(stdin.readline())\n",
    "ch = [0] * (n+1)\n",
    "DFS(1)"
   ]
  },
  {
   "cell_type": "code",
   "execution_count": 30,
   "metadata": {},
   "outputs": [
    {
     "name": "stdout",
     "output_type": "stream",
     "text": [
      "YES\n"
     ]
    },
    {
     "ename": "SystemExit",
     "evalue": "0",
     "output_type": "error",
     "traceback": [
      "An exception has occurred, use %tb to see the full traceback.\n",
      "\u001b[1;31mSystemExit\u001b[0m\u001b[1;31m:\u001b[0m 0\n"
     ]
    },
    {
     "name": "stderr",
     "output_type": "stream",
     "text": [
      "c:\\Users\\황인권\\AppData\\Local\\Programs\\Python\\Python38\\lib\\site-packages\\IPython\\core\\interactiveshell.py:3406: UserWarning: To exit: use 'exit', 'quit', or Ctrl-D.\n",
      "  warn(\"To exit: use 'exit', 'quit', or Ctrl-D.\", stacklevel=1)\n"
     ]
    }
   ],
   "source": [
    "import sys\n",
    "sys.stdin = open(\"input.txt\", \"rt\")\n",
    "\n",
    "n = int(sys.stdin.readline())\n",
    "arr = list(map(int, sys.stdin.readline().split()))\n",
    "\n",
    "def DFS(L, sum):\n",
    "    if sum > total // 2:\n",
    "        return\n",
    "    if L == n:\n",
    "        if sum == (total - sum):\n",
    "            print(\"YES\")\n",
    "            sys.exit(0)\n",
    "    else:\n",
    "        DFS(L+1, sum + arr[L])\n",
    "        DFS(L+1, sum)\n",
    "\n",
    "total = sum(arr)\n",
    "DFS(0, 0)\n",
    "print(\"NO\")"
   ]
  },
  {
   "cell_type": "code",
   "execution_count": 35,
   "metadata": {},
   "outputs": [
    {
     "ename": "SyntaxError",
     "evalue": "unexpected EOF while parsing (22672923.py, line 11)",
     "output_type": "error",
     "traceback": [
      "\u001b[1;36m  Input \u001b[1;32mIn [35]\u001b[1;36m\u001b[0m\n\u001b[1;33m    if L == n:\u001b[0m\n\u001b[1;37m              ^\u001b[0m\n\u001b[1;31mSyntaxError\u001b[0m\u001b[1;31m:\u001b[0m unexpected EOF while parsing\n"
     ]
    }
   ],
   "source": [
    "import sys\n",
    "stdin = open(\"input.txt\", \"rt\")\n",
    "\n",
    "c, n = map(int, stdin.readline().split())\n",
    "arr = []\n",
    "for i in range(n):\n",
    "    arr.append(int(stdin.readline()))\n",
    "print(arr)\n",
    "\n",
    "def DFS(L, sum):\n",
    "    # 1. L == m이라면, \n",
    "    if L == n:\n",
    "\n"
   ]
  },
  {
   "cell_type": "code",
   "execution_count": 38,
   "metadata": {},
   "outputs": [
    {
     "name": "stdout",
     "output_type": "stream",
     "text": [
      "1 2 4 5 3 6 7 "
     ]
    }
   ],
   "source": [
    "def DFS(L) :\n",
    "    if L > 7:\n",
    "        return\n",
    "\n",
    "    print(L, end = ' ')\n",
    "    DFS(L*2)\n",
    "    DFS(L*2+1)\n",
    "\n",
    "\n",
    "DFS(1)"
   ]
  },
  {
   "cell_type": "markdown",
   "metadata": {},
   "source": [
    " **부분집합 구하기** "
   ]
  },
  {
   "cell_type": "code",
   "execution_count": 12,
   "metadata": {},
   "outputs": [
    {
     "name": "stdout",
     "output_type": "stream",
     "text": [
      "YES\n"
     ]
    },
    {
     "ename": "SystemExit",
     "evalue": "0",
     "output_type": "error",
     "traceback": [
      "An exception has occurred, use %tb to see the full traceback.\n",
      "\u001b[1;31mSystemExit\u001b[0m\u001b[1;31m:\u001b[0m 0\n"
     ]
    },
    {
     "name": "stderr",
     "output_type": "stream",
     "text": [
      "c:\\Users\\황인권\\AppData\\Local\\Programs\\Python\\Python38\\lib\\site-packages\\IPython\\core\\interactiveshell.py:3406: UserWarning: To exit: use 'exit', 'quit', or Ctrl-D.\n",
      "  warn(\"To exit: use 'exit', 'quit', or Ctrl-D.\", stacklevel=1)\n"
     ]
    }
   ],
   "source": [
    "import sys\n",
    "sys.stdin = open(\"./input.txt\", \"rt\")\n",
    "\n",
    "def DFS(L, sum):\n",
    "    if total // 2 < sum:\n",
    "        return\n",
    "    if L == n:\n",
    "        if sum == (total - sum):\n",
    "            print(\"YES\")\n",
    "            sys.exit(0)\n",
    "        \n",
    "    else:\n",
    "        DFS(L+1, sum + arr[L])\n",
    "        DFS(L+1, sum)\n",
    "\n",
    "n = int(sys.stdin.readline())\n",
    "arr = list(map(int, sys.stdin.readline().split()))\n",
    "\n",
    "total = sum(arr)\n",
    "\n",
    "DFS(0, 0)\n",
    "print(\"NO\")"
   ]
  },
  {
   "cell_type": "code",
   "execution_count": 1,
   "metadata": {},
   "outputs": [
    {
     "name": "stdout",
     "output_type": "stream",
     "text": [
      "YES\n"
     ]
    },
    {
     "ename": "SystemExit",
     "evalue": "0",
     "output_type": "error",
     "traceback": [
      "An exception has occurred, use %tb to see the full traceback.\n",
      "\u001b[1;31mSystemExit\u001b[0m\u001b[1;31m:\u001b[0m 0\n"
     ]
    },
    {
     "name": "stderr",
     "output_type": "stream",
     "text": [
      "c:\\Users\\황인권\\AppData\\Local\\Programs\\Python\\Python38\\lib\\site-packages\\IPython\\core\\interactiveshell.py:3406: UserWarning: To exit: use 'exit', 'quit', or Ctrl-D.\n",
      "  warn(\"To exit: use 'exit', 'quit', or Ctrl-D.\", stacklevel=1)\n"
     ]
    }
   ],
   "source": [
    "import sys\n",
    "sys.stdin = open(\"./input.txt\", \"rt\")\n",
    "\n",
    "\n",
    "def DFS(L, sum):\n",
    "    if L == n:\n",
    "        if sum == (total - sum):\n",
    "            print(\"YES\")\n",
    "            sys.exit(0)\n",
    "    else:\n",
    "        DFS(L+1, sum+a[L])\n",
    "        DFS(L+1, sum)\n",
    "\n",
    "\n",
    "if __name__ == \"__main__\":\n",
    "    n = int(sys.stdin.readline())\n",
    "    a = list(map(int, sys.stdin.readline().split()))\n",
    "    total = sum(a)\n",
    "    DFS(0, 0)\n",
    "    print(\"NO\")"
   ]
  },
  {
   "cell_type": "code",
   "execution_count": null,
   "metadata": {},
   "outputs": [],
   "source": [
    "import sys\n",
    "sys.stdin = open(\"./input.txt\", \"rt\")\n",
    "\n"
   ]
  },
  {
   "cell_type": "code",
   "execution_count": null,
   "metadata": {},
   "outputs": [],
   "source": []
  },
  {
   "cell_type": "code",
   "execution_count": null,
   "metadata": {},
   "outputs": [],
   "source": []
  }
 ],
 "metadata": {
  "kernelspec": {
   "display_name": "Python 3.8.6 64-bit (system)",
   "language": "python",
   "name": "python3"
  },
  "language_info": {
   "codemirror_mode": {
    "name": "ipython",
    "version": 3
   },
   "file_extension": ".py",
   "mimetype": "text/x-python",
   "name": "python",
   "nbconvert_exporter": "python",
   "pygments_lexer": "ipython3",
   "version": "3.8.6"
  },
  "orig_nbformat": 4,
  "vscode": {
   "interpreter": {
    "hash": "2ba6819d172d60e93b2f90e5d47af36d4f36070393882cfcbe0fef625705f185"
   }
  }
 },
 "nbformat": 4,
 "nbformat_minor": 2
}
