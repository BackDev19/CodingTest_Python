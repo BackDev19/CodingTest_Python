{
 "cells": [
  {
   "cell_type": "code",
   "execution_count": 24,
   "metadata": {},
   "outputs": [
    {
     "name": "stdout",
     "output_type": "stream",
     "text": [
      "0\n"
     ]
    }
   ],
   "source": [
    "import sys\n",
    "from collections import deque\n",
    "sys.stdin = open(\"input.txt\", \"rt\")\n",
    "input = sys.stdin.readline\n",
    "\n",
    "# F 층으로 이루어진 고층 건물\n",
    "# 스타트링크는 G층\n",
    "# 강호가 있는 곳은 S층\n",
    "# G층으로 이동하려고 함\n",
    "\n",
    "# 위로 U층을 가는 버튼, 아래로 D층을 가는 버튼\n",
    "\n",
    "# G층에 도착하려면 버튼을 적어도 몇 번 눌러야 하는지\n",
    "# G층에 갈 수 없다면 use the stairs\n",
    "\n",
    "# F, S, G, U, D\n",
    "F, S, G, U, D = map(int, input().split())\n",
    "\n",
    "def bfs(F):\n",
    "    q = deque()\n",
    "    q.append((S, 0))\n",
    "\n",
    "    visited = [False] * (F + 1)\n",
    "    visited[S] = True\n",
    "\n",
    "    while q:\n",
    "        now, count = q.popleft()\n",
    "\n",
    "        # 현재의 위치가 G라면, count값을 반환\n",
    "        if now == G:\n",
    "            return count\n",
    "\n",
    "        for i in [now+U, now-D]:\n",
    "            if 1 <= i <= F and not visited[i]:\n",
    "                q.append((i, count + 1))\n",
    "                visited[i] = True\n",
    "        \n",
    "    return False\n",
    "\n",
    "answer = bfs(F)\n",
    "# 출발지와 도착지가 동일한 경우\n",
    "if answer or S == G:\n",
    "    print(answer)\n",
    "else:\n",
    "    print('use the stairs')"
   ]
  },
  {
   "cell_type": "code",
   "execution_count": 23,
   "metadata": {},
   "outputs": [
    {
     "name": "stdout",
     "output_type": "stream",
     "text": [
      "False\n"
     ]
    }
   ],
   "source": [
    "a = 1\n",
    "print(not a)"
   ]
  },
  {
   "cell_type": "markdown",
   "metadata": {},
   "source": []
  }
 ],
 "metadata": {
  "kernelspec": {
   "display_name": "Python 3.8.6 64-bit (system)",
   "language": "python",
   "name": "python3"
  },
  "language_info": {
   "codemirror_mode": {
    "name": "ipython",
    "version": 3
   },
   "file_extension": ".py",
   "mimetype": "text/x-python",
   "name": "python",
   "nbconvert_exporter": "python",
   "pygments_lexer": "ipython3",
   "version": "3.8.6"
  },
  "orig_nbformat": 4,
  "vscode": {
   "interpreter": {
    "hash": "2ba6819d172d60e93b2f90e5d47af36d4f36070393882cfcbe0fef625705f185"
   }
  }
 },
 "nbformat": 4,
 "nbformat_minor": 2
}
