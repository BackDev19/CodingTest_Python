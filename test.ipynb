{
 "cells": [
  {
   "cell_type": "code",
   "execution_count": 26,
   "metadata": {},
   "outputs": [
    {
     "name": "stdout",
     "output_type": "stream",
     "text": [
      "3\n"
     ]
    }
   ],
   "source": [
    "import sys\n",
    "sys.setrecursionlimit(int(10**4))\n",
    "sys.stdin = open(\"input.txt\", \"rt\")\n",
    "input = sys.stdin.readline\n",
    "\n",
    "# 가족 혹은 친척들 사이의 관계를 촌수라는 단위로 표현\n",
    "# \n",
    "\n",
    "\n"
   ]
  },
  {
   "cell_type": "code",
   "execution_count": 30,
   "metadata": {},
   "outputs": [
    {
     "name": "stdout",
     "output_type": "stream",
     "text": [
      "20\n"
     ]
    }
   ],
   "source": [
    "import sys\n",
    "sys.stdin = open(\"input.txt\", \"rt\")\n",
    "input = sys.stdin.readline\n",
    "\n",
    "# 정사각형은 서로 겹치면 안 된다\n",
    "# 도형은 모두 연결\n",
    "# 정사각형의 변끼리 연결. 꼭짓점과 꼭짓점과 맞닿아 있으면 안됨\n",
    "# 정사각형 4개는 테트로미노\n",
    "\n",
    "# 크기가 N x M인 종이 위에 테트로미노 하나.\n",
    "# 종이는 1x1크기의 칸으로 나누어져있으며, 각각의 칸에는 정수가 하나 쓰여 있다\n",
    "# 테트로미노 하나를 적절히 놓아서 수들의 합을 최대로\n",
    "\n",
    "dx = [1, 0, -1, 0]\n",
    "dy = [0, 1, 0, -1]\n",
    "\n",
    "n, m = map(int, input().split())\n",
    "graph = [list(map(int, input().split())) for _ in range(n)]\n",
    "\n",
    "maxSum = 0\n",
    "visited = [[False] * (m) for _ in range(n)]\n",
    "\n",
    "def dfs(x, y, sum, L):\n",
    "\n",
    "    if 0 <= x < n and 0 <= y < m:\n",
    "        # dfs로 들어간 노드가 이미 방문 노드라면, return\n",
    "        if L == 4:\n",
    "            global maxSum\n",
    "            maxSum = max(maxSum, sum)\n",
    "            return\n",
    "\n",
    "        for i in range(4):\n",
    "            nx = x + dx[i]\n",
    "            ny = y + dy[i]\n",
    "            if 0 <= nx < n and 0 <= ny < m:\n",
    "                if not visited[nx][ny]:\n",
    "                    visited[nx][ny] = True\n",
    "                    dfs(nx, ny, sum + graph[nx][ny], L + 1)\n",
    "                    visited[nx][ny] = False\n",
    "\n",
    "for i in range(n):\n",
    "    for j in range(m):\n",
    "        visited[i][j] = True\n",
    "        dfs(i, j, graph[i][j], 1)\n",
    "        visited[i][j] = False\n",
    "\n",
    "# ㅓ, ㅗ, ㅜ, ㅏ 찾기\n",
    "# 현재 위치에서 (-1, -1), (1, 0), (1, 1)\n",
    "# \n",
    "\n",
    "print(maxSum)"
   ]
  },
  {
   "cell_type": "code",
   "execution_count": 32,
   "metadata": {},
   "outputs": [
    {
     "name": "stdout",
     "output_type": "stream",
     "text": [
      "20\n"
     ]
    }
   ],
   "source": [
    "import sys; \n",
    "sys.stdin = open(\"input.txt\", \"rt\")\n",
    "input = sys.stdin.readline\n",
    "\n",
    "def dfs(r, c, idx, total):\n",
    "    global ans\n",
    "    if ans >= total + max_val * (3 - idx):\n",
    "        return\n",
    "    if idx == 3:\n",
    "        ans = max(ans, total)\n",
    "        return\n",
    "    else:\n",
    "        for i in range(4):\n",
    "            nr = r + dr[i]\n",
    "            nc = c + dc[i]\n",
    "            if 0 <= nr < N and 0 <= nc < M and visit[nr][nc] == 0:\n",
    "                if idx == 1:\n",
    "                    visit[nr][nc] = 1\n",
    "                    dfs(r, c, idx + 1, total + arr[nr][nc])\n",
    "                    visit[nr][nc] = 0\n",
    "                visit[nr][nc] = 1\n",
    "                dfs(nr, nc, idx + 1, total + arr[nr][nc])\n",
    "                visit[nr][nc] = 0\n",
    "\n",
    "\n",
    "N, M = map(int, input().split())\n",
    "arr = [list(map(int, input().split())) for _ in range(N)]\n",
    "visit = [([0] * M) for _ in range(N)]\n",
    "dr = [-1, 0, 1, 0]\n",
    "dc = [0, 1, 0, -1]\n",
    "ans = 0\n",
    "max_val = max(map(max, arr))\n",
    "\n",
    "for r in range(N):\n",
    "    for c in range(M):\n",
    "        visit[r][c] = 1\n",
    "        dfs(r, c, 0, arr[r][c])\n",
    "        visit[r][c] = 0\n",
    "\n",
    "print(ans)"
   ]
  },
  {
   "cell_type": "code",
   "execution_count": 6,
   "metadata": {},
   "outputs": [
    {
     "name": "stdout",
     "output_type": "stream",
     "text": [
      "[3, 2, 7, 2]\n"
     ]
    },
    {
     "data": {
      "text/plain": [
       "2"
      ]
     },
     "execution_count": 6,
     "metadata": {},
     "output_type": "execute_result"
    }
   ],
   "source": [
    "# 길이가 같은 두 개의 큐\n",
    "# 하나의 큐 원소 추출 -> 다른 큐에 넣음 -> 각 큐의 원소 합이 같도록\n",
    "# pop + insert = 1회 수행\n",
    "# 필요한 최소 횟수\n",
    "# 만들 수 없는 경우 -1\n",
    "\n",
    "# ex) 전체 큐의 합 = 30 -> 각 큐의 합을 15로.\n",
    "\n",
    "def solution(queue1, queue2):\n",
    "    answer = 0\n",
    "    \n",
    "    # 안되는 경우\n",
    "    # 1. 전체의 합이 홀수인 경우\n",
    "    # 2. 나머지의 합 < 가장 큰 값\n",
    "    queue_sum1 = sum(queue1)\n",
    "    queue_sum2 = sum(queue2)\n",
    "    total = queue_sum1 + queue_sum2\n",
    "    if (total % 2 == 1) or (total // 2) > (total - max(max(queue1), max(queue2))):\n",
    "        answer = -1\n",
    "    \n",
    "    else:\n",
    "        # 되는 경우\n",
    "        # 1. queue1 < queue2 -> queue1.append(queue2.pop(0))\n",
    "        # 2. sum1 -= queue2.pop(0)\n",
    "        \n",
    "        # 한바퀴 돌았는데도 해결되지 않는 경우\n",
    "        temp = queue1[:]\n",
    "        print(temp)\n",
    "        while queue_sum1 != queue_sum2:\n",
    "            \n",
    "            # sum2쪽이 더 큰 경우\n",
    "            if queue_sum1 < queue_sum2:\n",
    "                data = queue2.pop(0)\n",
    "                queue_sum2 -= data\n",
    "\n",
    "                queue1.append(data)\n",
    "                queue_sum1 += data\n",
    "            else:\n",
    "                data = queue1.pop(0)\n",
    "                queue_sum1 -= data\n",
    "\n",
    "                queue2.append(data)\n",
    "                queue_sum2 += data\n",
    "\n",
    "            answer += 1\n",
    "            \n",
    "            if temp == queue1:\n",
    "                print(temp, queue1)\n",
    "                print(temp == queue1)\n",
    "                print(queue1, queue2)\n",
    "                answer = -1\n",
    "                break\n",
    "    return answer\n",
    "\n",
    "solution([3,2,7,2], [4,6,5,1])"
   ]
  },
  {
   "cell_type": "code",
   "execution_count": 10,
   "metadata": {},
   "outputs": [
    {
     "data": {
      "text/plain": [
       "dict_items([('a', 1)])"
      ]
     },
     "execution_count": 10,
     "metadata": {},
     "output_type": "execute_result"
    }
   ],
   "source": [
    "a = set()\n",
    "a = 3\n",
    "from collections import defaultdict\n",
    "a = defaultdict()\n",
    "a['a'] = 1\n",
    "a.items() "
   ]
  },
  {
   "cell_type": "code",
   "execution_count": 18,
   "metadata": {},
   "outputs": [
    {
     "name": "stdout",
     "output_type": "stream",
     "text": [
      "1\n"
     ]
    }
   ],
   "source": [
    "a = 11\n"
   ]
  }
 ],
 "metadata": {
  "kernelspec": {
   "display_name": "Python 3.8.6 64-bit (system)",
   "language": "python",
   "name": "python3"
  },
  "language_info": {
   "codemirror_mode": {
    "name": "ipython",
    "version": 3
   },
   "file_extension": ".py",
   "mimetype": "text/x-python",
   "name": "python",
   "nbconvert_exporter": "python",
   "pygments_lexer": "ipython3",
   "version": "3.8.6 (tags/v3.8.6:db45529, Sep 23 2020, 15:52:53) [MSC v.1927 64 bit (AMD64)]"
  },
  "orig_nbformat": 4,
  "vscode": {
   "interpreter": {
    "hash": "2ba6819d172d60e93b2f90e5d47af36d4f36070393882cfcbe0fef625705f185"
   }
  }
 },
 "nbformat": 4,
 "nbformat_minor": 2
}
