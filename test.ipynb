{
 "cells": [
  {
   "cell_type": "code",
   "execution_count": 3,
   "metadata": {},
   "outputs": [
    {
     "name": "stdout",
     "output_type": "stream",
     "text": [
      "2\n"
     ]
    }
   ],
   "source": [
    "import sys\n",
    "from collections import deque\n",
    "sys.stdin = open(\"input.txt\", \"rt\")\n",
    "input = sys.stdin.readline\n",
    "\n",
    "#1068_트리_dfs_gold5\n",
    "\n",
    "import sys\n",
    "input = sys.stdin.readline\n",
    "\n",
    "def dfs(v):\n",
    "    tree[v] = -2\n",
    "    for i in range(n): #전체 트리 반복\n",
    "        if v == tree[i]: # 지우고자 하는 노드 v가  tree[i]에 들어있으면 tree[i]는 v의 자식\n",
    "            dfs(i) # i의 자식도 지움\n",
    "            \n",
    "n = int(input())\n",
    "tree = list(map(int, input().split())) # [-1, 0, 0, 1, 1]\n",
    "erase = int(input())\n",
    "\n",
    "dfs(erase)\n",
    "cnt = 0\n",
    "\n",
    "for i in range(n):\n",
    "    if tree[i] != -2 and i not in tree: #-2는 지우는 노드들 // i노드의 자식이 트리 안에 없으면 == 리프노드임\n",
    "        cnt+=1\n",
    "\n",
    "print(cnt)"
   ]
  },
  {
   "cell_type": "markdown",
   "metadata": {},
   "source": []
  },
  {
   "cell_type": "code",
   "execution_count": null,
   "metadata": {},
   "outputs": [
    {
     "name": "stdout",
     "output_type": "stream",
     "text": [
      "0.0012888908386230469\n",
      "0\n"
     ]
    }
   ],
   "source": [
    "arrays = [5, 7, 9, 0, 3, 1, 6, 2 ,4 ,8]\n",
    "\n",
    "def quick_sort(array, start, end):\n",
    "    if start >= end:\n",
    "        return\n",
    "    \n",
    "    pivot = start\n",
    "    left = start + 1\n",
    "    right = end\n",
    "\n",
    "    while(left <= right):\n",
    "        while(left <= end and array[left] <= array[pivot]):\n",
    "            left += 1\n",
    "        while(right > start and array[right] >= array[pivot]):\n",
    "            right -= 1\n",
    "        \n",
    "        if left > right:\n",
    "            array[right], array[pivot] = array[pivot], array[right]\n",
    "        else:\n",
    "            array[left], array[right] = array[right], array[left]\n",
    "    \n",
    "    quick_sort(array, start, right - 1)\n",
    "    quick_sort(array, right + 1, end)"
   ]
  },
  {
   "cell_type": "code",
   "execution_count": null,
   "metadata": {},
   "outputs": [
    {
     "name": "stdout",
     "output_type": "stream",
     "text": [
      "1\n"
     ]
    }
   ],
   "source": [
    "def gcd(a, b):\n",
    "    if a % b == 0:\n",
    "        return b\n",
    "    else:\n",
    "        return gcd(b, a % b)\n",
    "print(gcd(11, 2))"
   ]
  },
  {
   "cell_type": "code",
   "execution_count": null,
   "metadata": {},
   "outputs": [
    {
     "name": "stdout",
     "output_type": "stream",
     "text": [
      "124\n"
     ]
    }
   ],
   "source": [
    "print(round(123.523))"
   ]
  },
  {
   "cell_type": "code",
   "execution_count": null,
   "metadata": {},
   "outputs": [
    {
     "name": "stdout",
     "output_type": "stream",
     "text": [
      "3\n"
     ]
    }
   ],
   "source": [
    "a = 4 // 3 * 3\n",
    "print(a)"
   ]
  }
 ],
 "metadata": {
  "kernelspec": {
   "display_name": "Python 3.8.6 64-bit (system)",
   "language": "python",
   "name": "python3"
  },
  "language_info": {
   "codemirror_mode": {
    "name": "ipython",
    "version": 3
   },
   "file_extension": ".py",
   "mimetype": "text/x-python",
   "name": "python",
   "nbconvert_exporter": "python",
   "pygments_lexer": "ipython3",
   "version": "3.8.6"
  },
  "orig_nbformat": 4,
  "vscode": {
   "interpreter": {
    "hash": "2ba6819d172d60e93b2f90e5d47af36d4f36070393882cfcbe0fef625705f185"
   }
  }
 },
 "nbformat": 4,
 "nbformat_minor": 2
}
