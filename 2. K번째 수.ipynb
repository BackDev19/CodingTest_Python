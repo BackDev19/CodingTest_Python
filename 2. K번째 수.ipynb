{
 "cells": [
  {
   "cell_type": "markdown",
   "metadata": {},
   "source": [
    "<h2><br>\n",
    "K번째 수<br>\n",
    "N개의 숫자로 이루어진 숫자열이 주어지면 해당 숫자열중에서 s번째부터 e번째 까지의 수를<br>\n",
    "오름 차순 정렬했을 때 k번째로 나타나는 숫자를 출력하는 프로그램을 작성하세요.<br><br>\n",
    "▣ 입력설명<br>\n",
    "첫 번째 줄에 테스트 케이스 T(1<=T<=10)이 주어집니다.<br>\n",
    "각 케이스별<br>\n",
    "첫 번째 줄은 자연수 N(5<=N<=500), s, e, k가 차례로 주어진다.<br>\n",
    "두 번째 줄에 N개의 숫자가 차례로 주어진다.<br>\n",
    "</h2>"
   ]
  },
  {
   "cell_type": "markdown",
   "metadata": {},
   "source": [
    "<h2>listNum = sys.stdin.readline().split()"
   ]
  },
  {
   "cell_type": "markdown",
   "metadata": {},
   "source": [
    "<h2>\n",
    "N, s, e, k<br>\n",
    "N = 숫자의 개수<br>\n",
    "s ~ e<br>\n",
    "k번째로 나타나는 수<br>\n",
    "</h2>\n"
   ]
  },
  {
   "cell_type": "code",
   "execution_count": 1,
   "metadata": {},
   "outputs": [
    {
     "name": "stdout",
     "output_type": "stream",
     "text": [
      "[5, 2, 7, 3, 8, 9]\n",
      "[4, 15, 8, 16, 6, 6, 17, 3, 10, 11, 18, 7, 14, 7, 15]\n"
     ]
    }
   ],
   "source": [
    "# 입력\n",
    "import sys\n",
    "a = open(\"input.txt\", \"rt\")\n",
    "\n",
    "# N입력\n",
    "N = int(a.readline())\n",
    "\n",
    "# for문으로 s~e까지 정렬 후, k번째로 나타나는 수 출력\n",
    "for i in range(N) : \n",
    "    N, s, e, k = map(int, a.readline().split())\n",
    "    arr = list(map(int, a.readline().split()))\n",
    "    arr[s-1:e].sort()\n",
    "    print(arr)\n",
    "\n",
    "\n",
    "\n"
   ]
  },
  {
   "cell_type": "code",
   "execution_count": 56,
   "metadata": {},
   "outputs": [
    {
     "data": {
      "text/plain": [
       "[4, 15, 8, 16, 6, 6, 17, 3, 10, 11, 18, 7, 14, 7, 15]"
      ]
     },
     "execution_count": 56,
     "metadata": {},
     "output_type": "execute_result"
    }
   ],
   "source": [
    "arr[s-1:e].sort()\n",
    "arr\n"
   ]
  }
 ],
 "metadata": {
  "kernelspec": {
   "display_name": "Python 3.8.6 64-bit (system)",
   "language": "python",
   "name": "python3"
  },
  "language_info": {
   "codemirror_mode": {
    "name": "ipython",
    "version": 3
   },
   "file_extension": ".py",
   "mimetype": "text/x-python",
   "name": "python",
   "nbconvert_exporter": "python",
   "pygments_lexer": "ipython3",
   "version": "3.8.6"
  },
  "orig_nbformat": 4,
  "vscode": {
   "interpreter": {
    "hash": "2ba6819d172d60e93b2f90e5d47af36d4f36070393882cfcbe0fef625705f185"
   }
  }
 },
 "nbformat": 4,
 "nbformat_minor": 2
}
