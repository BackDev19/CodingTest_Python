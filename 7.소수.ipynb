{
 "cells": [
  {
   "cell_type": "code",
   "execution_count": null,
   "source": [
    "file = open(\"input.txt\", \"rt\")\r\n",
    "n = int(file.readline())\r\n",
    "\r\n",
    "ch = [0]*(n+1)\r\n",
    "cnt = 0\r\n",
    "\r\n",
    "for i in range(2, n+1):\r\n",
    "    if ch[i] == 0:\r\n",
    "        cnt += 1\r\n",
    "        for j in range(i, n+1, i):\r\n",
    "            ch[j] = 1\r\n",
    "\r\n",
    "print(cnt)"
   ],
   "outputs": [],
   "metadata": {}
  }
 ],
 "metadata": {
  "orig_nbformat": 4,
  "language_info": {
   "name": "python"
  }
 },
 "nbformat": 4,
 "nbformat_minor": 2
}