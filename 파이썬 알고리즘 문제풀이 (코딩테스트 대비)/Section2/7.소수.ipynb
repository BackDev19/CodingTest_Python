{
 "cells": [
  {
   "cell_type": "code",
   "execution_count": 8,
   "source": [
    "file = open(\"input.txt\", \"rt\")\r\n",
    "N = int(file.readline())"
   ],
   "outputs": [],
   "metadata": {}
  },
  {
   "cell_type": "code",
   "execution_count": 9,
   "source": [
    "def isSosu(num):\r\n",
    "    for i in range(2, num-1):\r\n",
    "        if num % i == 0:\r\n",
    "            return 0\r\n",
    "    return 1\r\n",
    "\r\n",
    "cnt = 0\r\n",
    "res = list()\r\n",
    "\r\n",
    "# 1~20까지 20이 들어온다면.\r\n",
    "for i in range(2, N+1):\r\n",
    "    # 소수라면,\r\n",
    "    if isSosu(i):\r\n",
    "        cnt += 1\r\n",
    "        res.append(i)\r\n",
    "\r\n",
    "print(cnt)\r\n",
    "print(res)"
   ],
   "outputs": [
    {
     "output_type": "stream",
     "name": "stdout",
     "text": [
      "8\n",
      "[2, 3, 5, 7, 11, 13, 17, 19]\n"
     ]
    }
   ],
   "metadata": {}
  }
 ],
 "metadata": {
  "orig_nbformat": 4,
  "language_info": {
   "name": "python",
   "version": "3.8.5",
   "mimetype": "text/x-python",
   "codemirror_mode": {
    "name": "ipython",
    "version": 3
   },
   "pygments_lexer": "ipython3",
   "nbconvert_exporter": "python",
   "file_extension": ".py"
  },
  "kernelspec": {
   "name": "python3",
   "display_name": "Python 3.8.5 64-bit ('base': conda)"
  },
  "interpreter": {
   "hash": "81633e02b4f1afd1cc0c66085616c53052b8ad9646c0c5b7d4c3487792a772f4"
  }
 },
 "nbformat": 4,
 "nbformat_minor": 2
}