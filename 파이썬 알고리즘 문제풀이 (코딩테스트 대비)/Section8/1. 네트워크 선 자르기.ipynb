{
 "cells": [
  {
   "cell_type": "code",
   "execution_count": 6,
   "metadata": {},
   "outputs": [
    {
     "name": "stdout",
     "output_type": "stream",
     "text": [
      "[0, 1, 2, 3, 5, 8, 13, 21]\n"
     ]
    }
   ],
   "source": [
    "from sys import stdin\n",
    "stdin = open(\"./input/input1.txt\", \"rt\")\n",
    "input = stdin.readline\n",
    "\n",
    "n = int(input())\n",
    "arr = [0] * (n+1)\n",
    "arr[1] = 1\n",
    "arr[2] = 2\n",
    "# 바텀 업 방식\n",
    "# 3 = 2번째에서 1칸 가는 경우, 1번째에서 1칸 가는 경우 -> dy[2] + dy[1]\n",
    "# 4 = 2번째에서 2칸 가는 경우, 3번째에서 1칸 가는 경우 -> dy[2] + dy[3]\n",
    "for i in range(3, n+1):\n",
    "    arr[i] = arr[i-1] + arr[i-2]\n",
    "\n",
    "print(arr)"
   ]
  },
  {
   "cell_type": "code",
   "execution_count": 8,
   "metadata": {},
   "outputs": [
    {
     "name": "stdout",
     "output_type": "stream",
     "text": [
      "[0, 1, 2, 3, 5]\n"
     ]
    }
   ],
   "source": [
    "from sys import stdin\n",
    "stdin = open(\"./input/input1.txt\", \"rt\")\n",
    "input = stdin.readline\n",
    "\n",
    "n = int(input())\n",
    "arr = [0] * (n+1)\n",
    "arr[1] = 1\n",
    "arr[2] = 2\n",
    "\n",
    "def dfs(n):\n",
    "    if arr[n]:\n",
    "        return arr[n]\n",
    "\n",
    "    if n <= 2:\n",
    "        return n\n",
    "    \n",
    "    else:\n",
    "        arr[n] = dfs(n-1) + dfs(n-2)\n",
    "        return arr[n]\n",
    "\n",
    "dfs(n)\n",
    "print(arr)"
   ]
  }
 ],
 "metadata": {
  "kernelspec": {
   "display_name": "Python 3.8.6 64-bit (system)",
   "language": "python",
   "name": "python3"
  },
  "language_info": {
   "codemirror_mode": {
    "name": "ipython",
    "version": 3
   },
   "file_extension": ".py",
   "mimetype": "text/x-python",
   "name": "python",
   "nbconvert_exporter": "python",
   "pygments_lexer": "ipython3",
   "version": "3.8.6"
  },
  "orig_nbformat": 4,
  "vscode": {
   "interpreter": {
    "hash": "2ba6819d172d60e93b2f90e5d47af36d4f36070393882cfcbe0fef625705f185"
   }
  }
 },
 "nbformat": 4,
 "nbformat_minor": 2
}
