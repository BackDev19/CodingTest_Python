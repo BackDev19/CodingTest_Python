{
 "cells": [
  {
   "cell_type": "code",
   "execution_count": 2,
   "metadata": {},
   "outputs": [
    {
     "name": "stdout",
     "output_type": "stream",
     "text": [
      "4\n"
     ]
    }
   ],
   "source": [
    "from sys import stdin\n",
    "stdin = open(\"./input/input4.txt\", \"rt\")\n",
    "input = stdin.readline\n",
    "\n",
    "n = int(input())\n",
    "arr = list(map(int, input().split()))\n",
    "arr.insert(0, 0)\n",
    "\n",
    "dy = [0] * (n+1)\n",
    "dy[1] = 1\n",
    "res = 0\n",
    "\n",
    "for i in range(2, n+1):\n",
    "    max = 0\n",
    "    for j in range(i-1, 0, -1):\n",
    "        # arr[i]는 내가 만들고자 하는 항,\n",
    "        # arr[j]는 arr[i]보다 앞에 있는 항 중에서, 작은 것\n",
    "        if arr[j] < arr[i] and dy[j] > max:\n",
    "            max = dy[j] # 그것들 중에서 가장 최대 값을 찾는 것\n",
    "        \n",
    "    dy[i] = max + 1 # max라는 항에 하나 더 길이를 추가\n",
    "    if dy[i] > res:\n",
    "        res = dy[i]\n",
    "\n",
    "print(res)    \n",
    "    \n",
    "            "
   ]
  },
  {
   "cell_type": "code",
   "execution_count": 4,
   "metadata": {},
   "outputs": [
    {
     "name": "stdout",
     "output_type": "stream",
     "text": [
      "0\n",
      "1\n",
      "2\n"
     ]
    }
   ],
   "source": [
    "from sys import stdin\n",
    "stdin = open(\"./input/input4.txt\", \"rt\")\n",
    "input = stdin.readline\n",
    "\n",
    "# 바텀 업 방식\n",
    "t = int(input())\n",
    "\n",
    "arr = [0] * (41)\n",
    "arr0 = [0] * (41)\n",
    "arr1 = [0] * (41)\n",
    "\n",
    "arr[1] = 1\n",
    "\n",
    "for i in  range(2, 41):\n",
    "    arr[i] = arr[i-1] + arr[i-2]\n",
    "\n",
    "for i in range(t):\n",
    "    n = int(input())    \n",
    "    print(arr[n])"
   ]
  },
  {
   "cell_type": "code",
   "execution_count": null,
   "metadata": {},
   "outputs": [],
   "source": []
  },
  {
   "cell_type": "code",
   "execution_count": null,
   "metadata": {},
   "outputs": [],
   "source": []
  }
 ],
 "metadata": {
  "kernelspec": {
   "display_name": "Python 3.8.6 64-bit (system)",
   "language": "python",
   "name": "python3"
  },
  "language_info": {
   "codemirror_mode": {
    "name": "ipython",
    "version": 3
   },
   "file_extension": ".py",
   "mimetype": "text/x-python",
   "name": "python",
   "nbconvert_exporter": "python",
   "pygments_lexer": "ipython3",
   "version": "3.8.6"
  },
  "orig_nbformat": 4,
  "vscode": {
   "interpreter": {
    "hash": "2ba6819d172d60e93b2f90e5d47af36d4f36070393882cfcbe0fef625705f185"
   }
  }
 },
 "nbformat": 4,
 "nbformat_minor": 2
}
