{
 "cells": [
  {
   "cell_type": "code",
   "execution_count": 7,
   "metadata": {},
   "outputs": [
    {
     "name": "stdout",
     "output_type": "stream",
     "text": [
      "YES\n"
     ]
    },
    {
     "ename": "SystemExit",
     "evalue": "0",
     "output_type": "error",
     "traceback": [
      "An exception has occurred, use %tb to see the full traceback.\n",
      "\u001b[1;31mSystemExit\u001b[0m\u001b[1;31m:\u001b[0m 0\n"
     ]
    },
    {
     "name": "stderr",
     "output_type": "stream",
     "text": [
      "c:\\Users\\황인권\\AppData\\Local\\Programs\\Python\\Python38\\lib\\site-packages\\IPython\\core\\interactiveshell.py:3406: UserWarning: To exit: use 'exit', 'quit', or Ctrl-D.\n",
      "  warn(\"To exit: use 'exit', 'quit', or Ctrl-D.\", stacklevel=1)\n"
     ]
    }
   ],
   "source": [
    "# 합이 같은 부분집합(DFS : 아마존 인터뷰)\n",
    "# 이 집합을 두 개의 부분집합으로 나누었을 때\n",
    "# 두 부분집합의 원소의 합이 서로 같은 경우가 존재하면 “YES\"를 출력하고, 그렇지 않으면\n",
    "# ”NO\"를 출력하는 프로그램을 작성하세요.\n",
    "# 둘로 나뉘는 두 부분집합은 서로소 집합이며, 두 부분집합을 합하면 입력으로 주어진 원래의\n",
    "# 집합이 되어 합니다.\n",
    "# 예를 들어 {1, 3, 5, 6, 7, 10}이 입력되면 {1, 3, 5, 7} = {6, 10} 으로 두 부분집합의 합이\n",
    "# 16으로 같은 경우가 존재하는 것을 알 수 있다.\n",
    "\n",
    "import sys\n",
    "sys.stdin = open(\"./input/input4.txt\", \"rt\")\n",
    "\n",
    "\n",
    "def DFS(L, sum):\n",
    "    if sum > total // 2:\n",
    "        return\n",
    "    if L == n:\n",
    "        if sum == (total - sum):\n",
    "            print(\"YES\")\n",
    "            sys.exit(0)\n",
    "    else:\n",
    "        DFS(L+1, sum+a[L])\n",
    "        DFS(L+1, sum)\n",
    "\n",
    "\n",
    "if __name__ == \"__main__\":\n",
    "    n = int(sys.stdin.readline())\n",
    "    a = list(map(int, sys.stdin.readline().split()))\n",
    "    total = sum(a)\n",
    "    DFS(0, 0)\n",
    "    print(\"NO\")"
   ]
  }
 ],
 "metadata": {
  "kernelspec": {
   "display_name": "Python 3.8.6 64-bit (system)",
   "language": "python",
   "name": "python3"
  },
  "language_info": {
   "codemirror_mode": {
    "name": "ipython",
    "version": 3
   },
   "file_extension": ".py",
   "mimetype": "text/x-python",
   "name": "python",
   "nbconvert_exporter": "python",
   "pygments_lexer": "ipython3",
   "version": "3.8.6"
  },
  "orig_nbformat": 4,
  "vscode": {
   "interpreter": {
    "hash": "2ba6819d172d60e93b2f90e5d47af36d4f36070393882cfcbe0fef625705f185"
   }
  }
 },
 "nbformat": 4,
 "nbformat_minor": 2
}
