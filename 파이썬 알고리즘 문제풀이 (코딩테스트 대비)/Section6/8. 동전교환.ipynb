{
 "cells": [
  {
   "cell_type": "code",
   "execution_count": 16,
   "metadata": {},
   "outputs": [
    {
     "name": "stdout",
     "output_type": "stream",
     "text": [
      "3\n"
     ]
    }
   ],
   "source": [
    "from sys import stdin\n",
    "stdin = open(\"./input/input8.txt\", \"rt\")\n",
    "\n",
    "def DFS(L, sum):\n",
    "    global result\n",
    "    # 1. 금액을 빼주기\n",
    "    # 2. 거슬러 줄 금액이 0이 됐다면 append후 return, 넘친다면 return\n",
    "    if result < L:\n",
    "        return\n",
    "\n",
    "    if sum > m:\n",
    "        return\n",
    "\n",
    "    if sum == m:\n",
    "        if L < result:\n",
    "            result = L\n",
    "        # arr[i]에 coin을 순차적으로 넣어줘야 함\n",
    "    else:\n",
    "        for i in range(n):\n",
    "            DFS(L+1, sum + coin[i])\n",
    "\n",
    "\n",
    "n = int(stdin.readline())\n",
    "coin = list(map(int,stdin.readline().split()))\n",
    "m = int(stdin.readline())\n",
    "\n",
    "res = []\n",
    "result = 214700000\n",
    "coin.sort(reverse=True)\n",
    "\n",
    "DFS(0, 0)\n",
    "print(result)"
   ]
  },
  {
   "cell_type": "code",
   "execution_count": 1,
   "metadata": {},
   "outputs": [
    {
     "name": "stdout",
     "output_type": "stream",
     "text": [
      "33\n"
     ]
    }
   ],
   "source": [
    "print(33)"
   ]
  },
  {
   "cell_type": "code",
   "execution_count": null,
   "metadata": {},
   "outputs": [],
   "source": []
  }
 ],
 "metadata": {
  "kernelspec": {
   "display_name": "Python 3.8.6 64-bit (system)",
   "language": "python",
   "name": "python3"
  },
  "language_info": {
   "codemirror_mode": {
    "name": "ipython",
    "version": 3
   },
   "file_extension": ".py",
   "mimetype": "text/x-python",
   "name": "python",
   "nbconvert_exporter": "python",
   "pygments_lexer": "ipython3",
   "version": "3.8.6"
  },
  "orig_nbformat": 4,
  "vscode": {
   "interpreter": {
    "hash": "2ba6819d172d60e93b2f90e5d47af36d4f36070393882cfcbe0fef625705f185"
   }
  }
 },
 "nbformat": 4,
 "nbformat_minor": 2
}
