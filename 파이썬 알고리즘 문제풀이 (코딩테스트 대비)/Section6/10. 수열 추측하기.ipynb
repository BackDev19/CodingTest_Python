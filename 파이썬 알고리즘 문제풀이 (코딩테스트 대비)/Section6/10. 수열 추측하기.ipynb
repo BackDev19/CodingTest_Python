{
 "cells": [
  {
   "cell_type": "code",
   "execution_count": 1,
   "metadata": {},
   "outputs": [],
   "source": [
    "from sys import stdin\n",
    "stdin = open(\"./input/input10.txt\", \"rt\")\n",
    "\n",
    "# 배열을 거꾸로 탐색하면서, \n",
    "def DFS(L):\n",
    "    #  부분집합 처럼 순회하면서, 결과값들을 모두 더해서 해당 값이 되는지 확인할 것\n",
    "    if L == n:\n",
    "        return\n",
    "\n",
    "    # 1. 16번 돌면서, 전체 값들이 \n",
    "    for x in range(m):\n",
    "        arr[L]\n",
    "\n",
    "\n",
    "n, m = map(int, stdin.readline().split())\n",
    "arr = [0] * n\n",
    "\n"
   ]
  }
 ],
 "metadata": {
  "kernelspec": {
   "display_name": "Python 3.8.6 64-bit (system)",
   "language": "python",
   "name": "python3"
  },
  "language_info": {
   "codemirror_mode": {
    "name": "ipython",
    "version": 3
   },
   "file_extension": ".py",
   "mimetype": "text/x-python",
   "name": "python",
   "nbconvert_exporter": "python",
   "pygments_lexer": "ipython3",
   "version": "3.8.6"
  },
  "orig_nbformat": 4,
  "vscode": {
   "interpreter": {
    "hash": "2ba6819d172d60e93b2f90e5d47af36d4f36070393882cfcbe0fef625705f185"
   }
  }
 },
 "nbformat": 4,
 "nbformat_minor": 2
}
