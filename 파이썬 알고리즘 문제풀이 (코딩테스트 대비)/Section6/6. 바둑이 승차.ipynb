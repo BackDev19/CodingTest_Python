{
 "cells": [
  {
   "cell_type": "code",
   "execution_count": 2,
   "metadata": {},
   "outputs": [
    {
     "name": "stdout",
     "output_type": "stream",
     "text": [
      "243\n"
     ]
    }
   ],
   "source": [
    "from sys import stdin\n",
    "stdin = open(\"./input/input5.txt\", \"rt\")\n",
    "\n",
    "def DFS(index):\n",
    "    # 1. C < sum : break\n",
    "    # 2. DFS => 부분집합 문제로 접근해야 될 듯\n",
    "    \n",
    "\n",
    "    # 1. 방문한 곳들을 더한 것이 sum\n",
    "    # 2. ch가 1인 곳들은 모두 더하기\n",
    "    sum = 0\n",
    "    for i in range(index):\n",
    "        if n == index:\n",
    "            return\n",
    "\n",
    "        for i in range(n):\n",
    "            if ch[i] == 1:\n",
    "                sum += arr[i]\n",
    "\n",
    "            if c < sum:\n",
    "                return\n",
    "\n",
    "    total.append(sum)\n",
    "\n",
    "    ch[index] = 1\n",
    "    DFS(index+1)\n",
    "\n",
    "    ch[index] = 0\n",
    "    DFS(index+1)\n",
    "\n",
    "\n",
    "\n",
    "if __name__ == \"__main__\":\n",
    "    c, n = map(int, stdin.readline().split())\n",
    "    arr = []\n",
    "    total = []\n",
    "    for _ in range(n):\n",
    "        arr.append(int(stdin.readline()))\n",
    "\n",
    "    # 1. 한명씩 돌아가면서, 최대개수를 구하기    \n",
    "    ch = [0] * (n)\n",
    "    DFS(0)\n",
    "    print(max(total))\n",
    "\n"
   ]
  },
  {
   "cell_type": "code",
   "execution_count": 3,
   "metadata": {},
   "outputs": [
    {
     "name": "stdout",
     "output_type": "stream",
     "text": [
      "242\n"
     ]
    }
   ],
   "source": [
    "from sys import stdin\n",
    "stdin = open(\"./input/input5.txt\", \"rt\")\n",
    "\n",
    "def DFS(L, sum, tsum):\n",
    "    global result\n",
    "    if sum + (total + tsum) < result:\n",
    "        return\n",
    "\n",
    "\n",
    "    if c < sum:\n",
    "        return\n",
    "\n",
    "    if L == n:\n",
    "        if sum > result:\n",
    "            result = sum\n",
    "    else:\n",
    "        DFS(L + 1, sum + a[L], tsum + a[L])\n",
    "        DFS(L + 1, sum, tsum + a[L])\n",
    "\n",
    "if __name__ == \"__main__\":\n",
    "    c, n = map(int, stdin.readline().split())\n",
    "    a = [0] * n\n",
    "    result = -2147000000\n",
    "    for i in range(n):\n",
    "        a[i] = int(stdin.readline())\n",
    "\n",
    "    total = sum(a)\n",
    "    DFS(0, 0, 0)\n",
    "    print(result)"
   ]
  }
 ],
 "metadata": {
  "kernelspec": {
   "display_name": "Python 3.8.6 64-bit (system)",
   "language": "python",
   "name": "python3"
  },
  "language_info": {
   "codemirror_mode": {
    "name": "ipython",
    "version": 3
   },
   "file_extension": ".py",
   "mimetype": "text/x-python",
   "name": "python",
   "nbconvert_exporter": "python",
   "pygments_lexer": "ipython3",
   "version": "3.8.6"
  },
  "orig_nbformat": 4,
  "vscode": {
   "interpreter": {
    "hash": "2ba6819d172d60e93b2f90e5d47af36d4f36070393882cfcbe0fef625705f185"
   }
  }
 },
 "nbformat": 4,
 "nbformat_minor": 2
}
