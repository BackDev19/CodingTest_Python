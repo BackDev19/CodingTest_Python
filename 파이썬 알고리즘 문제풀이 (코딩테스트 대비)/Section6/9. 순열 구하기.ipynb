{
 "cells": [
  {
   "cell_type": "code",
   "execution_count": 16,
   "metadata": {},
   "outputs": [
    {
     "name": "stdout",
     "output_type": "stream",
     "text": [
      "1 2 \n",
      "1 3 \n",
      "2 1 \n",
      "2 3 \n",
      "3 1 \n",
      "3 2 \n"
     ]
    }
   ],
   "source": [
    "from sys import stdin\n",
    "stdin = open(\"./input/input9.txt\", \"rt\")\n",
    "\n",
    "def DFS(L):\n",
    "    if L == m:\n",
    "        for x in arr:\n",
    "            print(x, end = ' ')\n",
    "        print()\n",
    "        return\n",
    "    else:\n",
    "        for i in range(1, n+1):\n",
    "            # 만약, ch[i]가 체크가 되어있다면, return\n",
    "            if ch[i] == 0:\n",
    "                ch[i] = 1\n",
    "                arr[L] = i\n",
    "                DFS(L + 1)\n",
    "                ch[i] = 0\n",
    "\n",
    "n, m = map(int, stdin.readline().split())\n",
    "arr = [0] * m\n",
    "ch = [0] * (n+1)\n",
    "DFS(0)\n",
    "\n",
    "\n",
    "\n"
   ]
  },
  {
   "cell_type": "code",
   "execution_count": 3,
   "metadata": {},
   "outputs": [
    {
     "name": "stdout",
     "output_type": "stream",
     "text": [
      "[0, 1, 2]\n"
     ]
    }
   ],
   "source": [
    "arr = [x for x in range(3)]\n",
    "print(arr)"
   ]
  },
  {
   "cell_type": "code",
   "execution_count": null,
   "metadata": {},
   "outputs": [],
   "source": []
  },
  {
   "cell_type": "code",
   "execution_count": 4,
   "metadata": {},
   "outputs": [
    {
     "data": {
      "text/plain": [
       "0"
      ]
     },
     "execution_count": 4,
     "metadata": {},
     "output_type": "execute_result"
    }
   ],
   "source": [
    "arr = (0) * 10\n"
   ]
  }
 ],
 "metadata": {
  "kernelspec": {
   "display_name": "Python 3.8.6 64-bit (system)",
   "language": "python",
   "name": "python3"
  },
  "language_info": {
   "codemirror_mode": {
    "name": "ipython",
    "version": 3
   },
   "file_extension": ".py",
   "mimetype": "text/x-python",
   "name": "python",
   "nbconvert_exporter": "python",
   "pygments_lexer": "ipython3",
   "version": "3.8.6"
  },
  "orig_nbformat": 4,
  "vscode": {
   "interpreter": {
    "hash": "2ba6819d172d60e93b2f90e5d47af36d4f36070393882cfcbe0fef625705f185"
   }
  }
 },
 "nbformat": 4,
 "nbformat_minor": 2
}
