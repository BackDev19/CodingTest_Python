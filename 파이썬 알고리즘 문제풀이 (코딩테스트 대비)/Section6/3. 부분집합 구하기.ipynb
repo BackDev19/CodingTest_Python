{
 "cells": [
  {
   "cell_type": "code",
   "execution_count": 10,
   "metadata": {},
   "outputs": [
    {
     "name": "stdout",
     "output_type": "stream",
     "text": [
      "1 \n",
      "2 \n",
      "3 \n",
      "1 \n",
      "2 \n",
      "\n",
      "1 \n",
      "\n",
      "3 \n",
      "1 \n",
      "\n",
      "\n",
      "\n",
      "2 \n",
      "3 \n",
      "\n",
      "2 \n",
      "\n",
      "\n",
      "\n",
      "3 \n",
      "\n",
      "\n",
      "\n"
     ]
    }
   ],
   "source": [
    "from sys import stdin\n",
    "stdin = open(\"./input/input3.txt\", \"rt\")\n",
    "\n",
    "\n",
    "def DFS(v):\n",
    "    if v == n + 1:\n",
    "        for i in range(1, n + 1):\n",
    "            if ch[i] == 1:\n",
    "                print(i, end = ' ')\n",
    "        print()\n",
    "    else:\n",
    "        ch[v] = 1\n",
    "        DFS(v + 1)\n",
    "        ch[v] = 0\n",
    "        DFS(v + 1)\n",
    "\n",
    "if __name__ == \"__main__\":\n",
    "    n = int(stdin.readline())\n",
    "    ch = [0] * (n + 1)\n",
    "    DFS(1)\n",
    "\n",
    "\n",
    "\n"
   ]
  },
  {
   "cell_type": "code",
   "execution_count": 6,
   "metadata": {},
   "outputs": [
    {
     "name": "stdout",
     "output_type": "stream",
     "text": [
      "[4, 5, 6, 7, 8]\n"
     ]
    }
   ],
   "source": [
    "y = [1,2,3,4,5]\n",
    "\n",
    "arr = list(map(lambda x : x + 3, y))\n",
    "print(arr)\n",
    "\n",
    "\n"
   ]
  }
 ],
 "metadata": {
  "kernelspec": {
   "display_name": "Python 3.8.6 64-bit (system)",
   "language": "python",
   "name": "python3"
  },
  "language_info": {
   "codemirror_mode": {
    "name": "ipython",
    "version": 3
   },
   "file_extension": ".py",
   "mimetype": "text/x-python",
   "name": "python",
   "nbconvert_exporter": "python",
   "pygments_lexer": "ipython3",
   "version": "3.8.6"
  },
  "orig_nbformat": 4,
  "vscode": {
   "interpreter": {
    "hash": "2ba6819d172d60e93b2f90e5d47af36d4f36070393882cfcbe0fef625705f185"
   }
  }
 },
 "nbformat": 4,
 "nbformat_minor": 2
}
