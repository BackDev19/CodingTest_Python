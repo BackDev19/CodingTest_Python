{
 "cells": [
  {
   "cell_type": "markdown",
   "source": [
    "<h2> <br>첫번째 풀이(MY)\r\n",
    "</h2>"
   ],
   "metadata": {}
  },
  {
   "cell_type": "code",
   "execution_count": 6,
   "source": [
    "file = open(\"input.txt\", \"rt\")\r\n",
    "word = file.readline()\r\n",
    "\r\n",
    "num = str()\r\n",
    "for x in word:\r\n",
    "    if x.isdecimal():\r\n",
    "        num += x\r\n",
    "        \r\n",
    "num = int(num)\r\n",
    "count = 0\r\n",
    "for i in range(1, num + 1):\r\n",
    "    if num%i == 0:\r\n",
    "        count += 1\r\n",
    "\r\n",
    "print(num, count)\r\n",
    "\r\n"
   ],
   "outputs": [
    {
     "output_type": "stream",
     "name": "stdout",
     "text": [
      "28 6\n"
     ]
    }
   ],
   "metadata": {}
  },
  {
   "cell_type": "markdown",
   "source": [
    "<h2><br>두번째 풀이\r\n",
    "</h2>"
   ],
   "metadata": {}
  },
  {
   "cell_type": "code",
   "execution_count": 8,
   "source": [
    "file = open(\"input.txt\", \"rt\")\r\n",
    "word = file.readline()\r\n",
    "res = 0\r\n",
    "\r\n",
    "for x in word:\r\n",
    "    if x.isdecimal():\r\n",
    "        res = res * 10 + int(x)\r\n",
    "\r\n",
    "print(res, count)"
   ],
   "outputs": [
    {
     "output_type": "stream",
     "name": "stdout",
     "text": [
      "28 6\n"
     ]
    }
   ],
   "metadata": {}
  }
 ],
 "metadata": {
  "orig_nbformat": 4,
  "language_info": {
   "name": "python",
   "version": "3.8.5",
   "mimetype": "text/x-python",
   "codemirror_mode": {
    "name": "ipython",
    "version": 3
   },
   "pygments_lexer": "ipython3",
   "nbconvert_exporter": "python",
   "file_extension": ".py"
  },
  "kernelspec": {
   "name": "python3",
   "display_name": "Python 3.8.5 64-bit ('base': conda)"
  },
  "interpreter": {
   "hash": "81633e02b4f1afd1cc0c66085616c53052b8ad9646c0c5b7d4c3487792a772f4"
  }
 },
 "nbformat": 4,
 "nbformat_minor": 2
}