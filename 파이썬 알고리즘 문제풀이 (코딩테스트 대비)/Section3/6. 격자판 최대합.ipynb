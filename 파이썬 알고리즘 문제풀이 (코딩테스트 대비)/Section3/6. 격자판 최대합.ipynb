{
 "cells": [
  {
   "cell_type": "markdown",
   "source": [
    "<h2>\r\n",
    "<br>여러 코드를 읽어서 배열로 저장하기\r\n",
    "<br><br># n번만큼 파일을 읽어서 배열로 저장\r\n",
    "<br>[list(map(int, file.readline().split())) for _ in range(n)]\r\n",
    "</h2>"
   ],
   "metadata": {}
  },
  {
   "cell_type": "code",
   "execution_count": 38,
   "source": [
    "file = open(\"./input/input6.txt\", \"rt\")\r\n",
    "\r\n",
    "n = int(file.readline())\r\n",
    "arr = [list(map(int, file.readline().split())) for _ in range(n)]\r\n",
    "\r\n",
    "# 가로합tot1, # 세로합tot2\r\n",
    "largest = -1\r\n",
    "for i in range(n):    \r\n",
    "    tot1 = tot2 = 0\r\n",
    "    for j in range(n):\r\n",
    "        tot1 += arr[i][j]\r\n",
    "        tot2 += arr[j][i]\r\n",
    "\r\n",
    "    if largest < tot1:\r\n",
    "        largest = tot1\r\n",
    "    if largest < tot2:\r\n",
    "        largest = tot2\r\n",
    "    \r\n",
    "tot1 = tot2 = 0\r\n",
    "# 대각합 \r\n",
    "for i in range(n):\r\n",
    "    # 왼오 대각선\r\n",
    "    tot1 += arr[i][i]\r\n",
    "    # 오왼 대각선\r\n",
    "    tot2 += arr[i][n-1-i]\r\n",
    "\r\n",
    "if largest < tot1:\r\n",
    "    largest = tot1\r\n",
    "if largest < tot2:\r\n",
    "    largest = tot2\r\n",
    "\r\n",
    "print(largest)"
   ],
   "outputs": [
    {
     "output_type": "stream",
     "name": "stdout",
     "text": [
      "155\n"
     ]
    }
   ],
   "metadata": {}
  }
 ],
 "metadata": {
  "orig_nbformat": 4,
  "language_info": {
   "name": "python",
   "version": "3.8.5",
   "mimetype": "text/x-python",
   "codemirror_mode": {
    "name": "ipython",
    "version": 3
   },
   "pygments_lexer": "ipython3",
   "nbconvert_exporter": "python",
   "file_extension": ".py"
  },
  "kernelspec": {
   "name": "python3",
   "display_name": "Python 3.8.5 64-bit ('base': conda)"
  },
  "interpreter": {
   "hash": "81633e02b4f1afd1cc0c66085616c53052b8ad9646c0c5b7d4c3487792a772f4"
  }
 },
 "nbformat": 4,
 "nbformat_minor": 2
}