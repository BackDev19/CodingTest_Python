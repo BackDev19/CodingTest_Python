{
 "cells": [
  {
   "cell_type": "code",
   "execution_count": 3,
   "source": [
    "file = open(\"./input/input9.txt\", \"rt\")\r\n",
    "dx = [-1, 0, 1, 0]\r\n",
    "dy = [0, 1, 0, -1]\r\n",
    "\r\n",
    "n = int(file.readline())\r\n",
    "a = [list(map(int, file.readline().split())) for _ in range(n)]\r\n",
    "\r\n",
    "a.insert(0, [0] * n)\r\n",
    "a.append([0] * n)\r\n",
    "\r\n",
    "for x in a:\r\n",
    "    x.insert(0, 0)\r\n",
    "    x.append(0)\r\n",
    "\r\n",
    "cnt = 0\r\n",
    "for i in range(1, n+1):\r\n",
    "    for j in range(1, n+1):\r\n",
    "        if all(a[i][j] > a[i+dx[k]][j+dy[k]] for k in range(4)):\r\n",
    "            cnt+=1\r\n",
    "\r\n",
    "print(cnt)"
   ],
   "outputs": [
    {
     "output_type": "stream",
     "name": "stdout",
     "text": [
      "10\n"
     ]
    }
   ],
   "metadata": {}
  }
 ],
 "metadata": {
  "orig_nbformat": 4,
  "language_info": {
   "name": "python",
   "version": "3.8.5",
   "mimetype": "text/x-python",
   "codemirror_mode": {
    "name": "ipython",
    "version": 3
   },
   "pygments_lexer": "ipython3",
   "nbconvert_exporter": "python",
   "file_extension": ".py"
  },
  "kernelspec": {
   "name": "python3",
   "display_name": "Python 3.8.5 64-bit ('base': conda)"
  },
  "interpreter": {
   "hash": "81633e02b4f1afd1cc0c66085616c53052b8ad9646c0c5b7d4c3487792a772f4"
  }
 },
 "nbformat": 4,
 "nbformat_minor": 2
}