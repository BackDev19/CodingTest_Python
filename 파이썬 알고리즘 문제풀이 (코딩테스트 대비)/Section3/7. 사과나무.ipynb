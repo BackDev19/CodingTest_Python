{
 "cells": [
  {
   "cell_type": "code",
   "execution_count": 6,
   "source": [
    "file = open(\"./input/input8.txt\", \"rt\")\r\n",
    "n = int(file.readline())\r\n",
    "arr = [list(map(int, file.readline().split())) for _ in range(n)]\r\n",
    "\r\n",
    "# 1. s = e = n//2\r\n",
    "# 2. s -= 1, e+= 1 (s,e+1)\r\n",
    "# 3. if s == 0:\r\n",
    "\r\n",
    "s = e = n//2\r\n",
    "sum = 0\r\n",
    "for i in range(n):\r\n",
    "    for j in range(s, e+1):\r\n",
    "        sum += arr[i][j]\r\n",
    "    if i < n//2:\r\n",
    "        s -= 1\r\n",
    "        e += 1\r\n",
    "    else:\r\n",
    "        s += 1\r\n",
    "        e -= 1\r\n",
    "\r\n",
    "print(sum)"
   ],
   "outputs": [
    {
     "output_type": "stream",
     "name": "stdout",
     "text": [
      "379\n"
     ]
    }
   ],
   "metadata": {}
  }
 ],
 "metadata": {
  "orig_nbformat": 4,
  "language_info": {
   "name": "python",
   "version": "3.8.5",
   "mimetype": "text/x-python",
   "codemirror_mode": {
    "name": "ipython",
    "version": 3
   },
   "pygments_lexer": "ipython3",
   "nbconvert_exporter": "python",
   "file_extension": ".py"
  },
  "kernelspec": {
   "name": "python3",
   "display_name": "Python 3.8.5 64-bit ('base': conda)"
  },
  "interpreter": {
   "hash": "81633e02b4f1afd1cc0c66085616c53052b8ad9646c0c5b7d4c3487792a772f4"
  }
 },
 "nbformat": 4,
 "nbformat_minor": 2
}