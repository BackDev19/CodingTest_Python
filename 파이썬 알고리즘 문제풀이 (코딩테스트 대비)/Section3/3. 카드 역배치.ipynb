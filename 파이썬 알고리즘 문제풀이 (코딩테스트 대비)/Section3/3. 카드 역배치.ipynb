{
 "cells": [
  {
   "cell_type": "markdown",
   "source": [
    "<h2><br>swap하는 방법\r\n",
    "a, b=b, a\r\n",
    "</h2>"
   ],
   "metadata": {}
  },
  {
   "cell_type": "code",
   "execution_count": 21,
   "source": [
    "file = open(\"./input/input3.txt\", \"rt\")\r\n",
    "num = list(range(21))\r\n",
    "\r\n",
    "for _ in range(10):\r\n",
    "    s, e = map(int, file.readline().split())\r\n",
    "    for i in range((e-s+1) // 2):\r\n",
    "        num[s+i], num[e-i] = num[e-i], num[s+i]\r\n",
    "        \r\n",
    "num.pop(0)\r\n",
    "for x in num:\r\n",
    "    print(x, end = ' ')\r\n"
   ],
   "outputs": [
    {
     "output_type": "stream",
     "name": "stdout",
     "text": [
      "1 2 3 4 10 9 8 7 13 12 11 5 6 14 15 16 17 18 19 20 "
     ]
    }
   ],
   "metadata": {}
  }
 ],
 "metadata": {
  "orig_nbformat": 4,
  "language_info": {
   "name": "python",
   "version": "3.8.5",
   "mimetype": "text/x-python",
   "codemirror_mode": {
    "name": "ipython",
    "version": 3
   },
   "pygments_lexer": "ipython3",
   "nbconvert_exporter": "python",
   "file_extension": ".py"
  },
  "kernelspec": {
   "name": "python3",
   "display_name": "Python 3.8.5 64-bit ('base': conda)"
  },
  "interpreter": {
   "hash": "81633e02b4f1afd1cc0c66085616c53052b8ad9646c0c5b7d4c3487792a772f4"
  }
 },
 "nbformat": 4,
 "nbformat_minor": 2
}