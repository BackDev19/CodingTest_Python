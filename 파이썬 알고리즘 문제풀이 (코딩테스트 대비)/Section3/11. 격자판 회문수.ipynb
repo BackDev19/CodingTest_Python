{
 "cells": [
  {
   "cell_type": "code",
   "execution_count": 2,
   "source": [
    "file = open(\"./input/input11.txt\", \"rt\")\r\n",
    "board = [list(map(int, file.readline().split())) for _ in range(7)]\r\n",
    "cnt = 0\r\n",
    "\r\n",
    "for i in range(3):\r\n",
    "    for j in range(7):\r\n",
    "        tmp = board[j][i:i+5]\r\n",
    "        if tmp == tmp[::-1]:\r\n",
    "            cnt +=1\r\n",
    "        for k in range(2):\r\n",
    "            if board[i+k][j] != board[i+5-k-1][j]:\r\n",
    "                break\r\n",
    "\r\n",
    "        else:\r\n",
    "            cnt += 1\r\n",
    "\r\n",
    "print(cnt)"
   ],
   "outputs": [
    {
     "output_type": "stream",
     "name": "stdout",
     "text": [
      "3\n"
     ]
    }
   ],
   "metadata": {}
  }
 ],
 "metadata": {
  "orig_nbformat": 4,
  "language_info": {
   "name": "python",
   "version": "3.8.5",
   "mimetype": "text/x-python",
   "codemirror_mode": {
    "name": "ipython",
    "version": 3
   },
   "pygments_lexer": "ipython3",
   "nbconvert_exporter": "python",
   "file_extension": ".py"
  },
  "kernelspec": {
   "name": "python3",
   "display_name": "Python 3.8.5 64-bit ('base': conda)"
  },
  "interpreter": {
   "hash": "81633e02b4f1afd1cc0c66085616c53052b8ad9646c0c5b7d4c3487792a772f4"
  }
 },
 "nbformat": 4,
 "nbformat_minor": 2
}