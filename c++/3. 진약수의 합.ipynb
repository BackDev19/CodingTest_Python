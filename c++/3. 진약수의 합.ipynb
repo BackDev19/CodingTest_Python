{
 "cells": [
  {
   "cell_type": "code",
   "execution_count": 16,
   "source": [
    "def div(N):\r\n",
    "    result = 0\r\n",
    "    for i in range(1, N):\r\n",
    "        if N % i == 0:\r\n",
    "            result += i\r\n",
    "\r\n",
    "            if i == 1:\r\n",
    "                print(i, end=' ')\r\n",
    "            else:\r\n",
    "                print( '+', i, end=' ')\r\n",
    "\r\n",
    "    print('=', result,end = ' ')\r\n"
   ],
   "outputs": [],
   "metadata": {}
  },
  {
   "cell_type": "code",
   "execution_count": 17,
   "source": [
    "a = open(\"input.txt\", \"rt\")\r\n",
    "N = int(a.readline())\r\n",
    "\r\n",
    "div(N)"
   ],
   "outputs": [
    {
     "output_type": "stream",
     "name": "stdout",
     "text": [
      "1 + 2 + 4 + 5 + 10 = 22 "
     ]
    }
   ],
   "metadata": {}
  }
 ],
 "metadata": {
  "orig_nbformat": 4,
  "language_info": {
   "name": "python",
   "version": "3.8.5",
   "mimetype": "text/x-python",
   "codemirror_mode": {
    "name": "ipython",
    "version": 3
   },
   "pygments_lexer": "ipython3",
   "nbconvert_exporter": "python",
   "file_extension": ".py"
  },
  "kernelspec": {
   "name": "python3",
   "display_name": "Python 3.8.5 64-bit ('base': conda)"
  },
  "interpreter": {
   "hash": "81633e02b4f1afd1cc0c66085616c53052b8ad9646c0c5b7d4c3487792a772f4"
  }
 },
 "nbformat": 4,
 "nbformat_minor": 2
}