{
 "cells": [
  {
   "cell_type": "code",
   "execution_count": 8,
   "source": [
    "a = open(\"input.txt\", \"rt\")\r\n",
    "A, B = map(int, a.readline().split())\r\n",
    "\r\n",
    "sum = 0\r\n",
    "for i in range(A, B+1) :\r\n",
    "    print(i, sep = '', end = '')\r\n",
    "    if i != B :\r\n",
    "        print('+',end = '')\r\n",
    "\r\n",
    "    sum += i\r\n",
    "\r\n",
    "print('=', sum, sep = '')"
   ],
   "outputs": [
    {
     "output_type": "stream",
     "name": "stdout",
     "text": [
      "3+4+5+6+7=25\n"
     ]
    }
   ],
   "metadata": {}
  }
 ],
 "metadata": {
  "orig_nbformat": 4,
  "language_info": {
   "name": "python",
   "version": "3.8.5",
   "mimetype": "text/x-python",
   "codemirror_mode": {
    "name": "ipython",
    "version": 3
   },
   "pygments_lexer": "ipython3",
   "nbconvert_exporter": "python",
   "file_extension": ".py"
  },
  "kernelspec": {
   "name": "python3",
   "display_name": "Python 3.8.5 64-bit ('base': conda)"
  },
  "interpreter": {
   "hash": "81633e02b4f1afd1cc0c66085616c53052b8ad9646c0c5b7d4c3487792a772f4"
  }
 },
 "nbformat": 4,
 "nbformat_minor": 2
}