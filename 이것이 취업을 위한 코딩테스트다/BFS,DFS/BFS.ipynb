{
 "cells": [
  {
   "cell_type": "code",
   "execution_count": 12,
   "metadata": {},
   "outputs": [
    {
     "name": "stdout",
     "output_type": "stream",
     "text": [
      "1 2 3 8 7 4 5 6 "
     ]
    }
   ],
   "source": [
    "# 1. 근처에 있는 데이터들을 stack 넣어줌 가장 작은 숫자\n",
    "# 2. data를 하나씩 popleft해주면서 해당 데이터에 있는 graph를 순회\n",
    "# 3. popleft한 곳의 방문처리가 되지 않은 곳을 방문처리해주면서 순회\n",
    "\n",
    "from collections import deque\n",
    "\n",
    "# 1. data = stack.popleft()\n",
    "# 2. \n",
    "def bfs(graph, start, visited):\n",
    "    visited[start] = True\n",
    "    queue = deque([start])\n",
    "\n",
    "    while queue:\n",
    "        data = queue.popleft()\n",
    "        print(data, end = ' ')\n",
    "        for i in graph[data]:\n",
    "            if not visited[i]:\n",
    "                queue.append(i)\n",
    "                visited[i] = True\n",
    "\n",
    "\n",
    "graph = [\n",
    "    [],\n",
    "    [2, 3, 8],\n",
    "    [1, 7],\n",
    "    [1, 4, 5],\n",
    "    [3, 5],\n",
    "    [3, 4],\n",
    "    [7],\n",
    "    [2, 6, 8],\n",
    "    [1, 7]\n",
    "]\n",
    "\n",
    "visited = [False] * 9\n",
    "\n",
    "bfs(graph, 1, visited)"
   ]
  }
 ],
 "metadata": {
  "kernelspec": {
   "display_name": "Python 3.8.6 64-bit (system)",
   "language": "python",
   "name": "python3"
  },
  "language_info": {
   "codemirror_mode": {
    "name": "ipython",
    "version": 3
   },
   "file_extension": ".py",
   "mimetype": "text/x-python",
   "name": "python",
   "nbconvert_exporter": "python",
   "pygments_lexer": "ipython3",
   "version": "3.8.6"
  },
  "orig_nbformat": 4,
  "vscode": {
   "interpreter": {
    "hash": "2ba6819d172d60e93b2f90e5d47af36d4f36070393882cfcbe0fef625705f185"
   }
  }
 },
 "nbformat": 4,
 "nbformat_minor": 2
}
