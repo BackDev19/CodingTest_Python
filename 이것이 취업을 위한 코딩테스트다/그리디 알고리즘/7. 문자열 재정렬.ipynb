{
 "cells": [
  {
   "cell_type": "code",
   "execution_count": 9,
   "metadata": {},
   "outputs": [
    {
     "name": "stdout",
     "output_type": "stream",
     "text": [
      "ABCKK157\n"
     ]
    }
   ],
   "source": [
    "from sys import stdin\n",
    "stdin = open(\"./input/input7.txt\", \"rt\")\n",
    "\n",
    "word = list(stdin.readline())\n",
    "\n",
    "alpha = []\n",
    "number = []\n",
    "\n",
    "for i in range(len(word)):\n",
    "    if word[i].isdecimal():\n",
    "        number.append(word[i])\n",
    "    else:\n",
    "        alpha.append(word[i])\n",
    "\n",
    "\n",
    "number.sort()\n",
    "alpha.sort()\n",
    "\n",
    "number = \"\".join(number)\n",
    "alpha = \"\".join(alpha)\n",
    "\n",
    "print(alpha + number)\n"
   ]
  },
  {
   "cell_type": "code",
   "execution_count": 5,
   "metadata": {},
   "outputs": [
    {
     "name": "stdout",
     "output_type": "stream",
     "text": [
      "[1, 2, 5, 3]\n"
     ]
    }
   ],
   "source": [
    "a = ['1', '2', '5', '3']\n",
    "b = list(map(int, a))\n",
    "\n",
    "print(b)"
   ]
  }
 ],
 "metadata": {
  "kernelspec": {
   "display_name": "Python 3.8.6 64-bit (system)",
   "language": "python",
   "name": "python3"
  },
  "language_info": {
   "codemirror_mode": {
    "name": "ipython",
    "version": 3
   },
   "file_extension": ".py",
   "mimetype": "text/x-python",
   "name": "python",
   "nbconvert_exporter": "python",
   "pygments_lexer": "ipython3",
   "version": "3.8.6"
  },
  "orig_nbformat": 4,
  "vscode": {
   "interpreter": {
    "hash": "2ba6819d172d60e93b2f90e5d47af36d4f36070393882cfcbe0fef625705f185"
   }
  }
 },
 "nbformat": 4,
 "nbformat_minor": 2
}
