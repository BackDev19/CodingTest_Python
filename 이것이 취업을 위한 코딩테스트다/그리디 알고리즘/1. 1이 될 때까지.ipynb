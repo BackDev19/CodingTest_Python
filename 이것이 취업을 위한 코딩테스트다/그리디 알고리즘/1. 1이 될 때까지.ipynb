{
 "cells": [
  {
   "cell_type": "code",
   "execution_count": 2,
   "metadata": {},
   "outputs": [
    {
     "name": "stdout",
     "output_type": "stream",
     "text": [
      "2\n"
     ]
    }
   ],
   "source": [
    "# N이 1이 될 때까지\n",
    "# 1. N에서 1을 뺌\n",
    "# 2. N을 K로 나눔\n",
    "\n",
    "from sys import stdin\n",
    "stdin = open(\"./input/input15.txt\", \"rt\")\n",
    "\n",
    "n, k = map(int, stdin.readline().split())\n",
    "\n",
    "# 1. n이 4로 나눠지는지 확인\n",
    "# 2. 1을 빼주기\n",
    "\n",
    "# 1. 얼마나 나눠줘야 하는지 구해주기\n",
    "\n",
    "cnt = 0\n",
    "while n != 1:\n",
    "    if n % k == 0:\n",
    "        n = n / k\n",
    "    else:\n",
    "        n -= 1\n",
    "    \n",
    "    cnt += 1\n",
    "\n",
    "print(cnt)"
   ]
  },
  {
   "cell_type": "code",
   "execution_count": 6,
   "metadata": {},
   "outputs": [
    {
     "name": "stdout",
     "output_type": "stream",
     "text": [
      "6\n"
     ]
    }
   ],
   "source": [
    "from sys import stdin\n",
    "stdin = open(\"./input/input15.txt\", \"rt\")\n",
    "\n",
    "n, k = map(int, stdin.readline().split())\n",
    "\n",
    "# 1. 한번에 얼마나 나눐 수 있는지 구하기\n",
    "# 2. 5로 나눠지기 위해서 얼마나 빼야하는지\n",
    "\n",
    "# n > 0\n",
    "result = 0\n",
    "while 0 < n:\n",
    "    target = (n // k) * k\n",
    "    result += (n - target)\n",
    "\n",
    "    if n < k:\n",
    "        break\n",
    "\n",
    "    result += 1\n",
    "    n //= k\n",
    "\n",
    "result += (n - 1)\n",
    "print(result)\n",
    "\n",
    "\n"
   ]
  },
  {
   "cell_type": "code",
   "execution_count": 2,
   "metadata": {},
   "outputs": [
    {
     "data": {
      "text/plain": [
       "3"
      ]
     },
     "execution_count": 2,
     "metadata": {},
     "output_type": "execute_result"
    }
   ],
   "source": [
    "7 // 2"
   ]
  }
 ],
 "metadata": {
  "kernelspec": {
   "display_name": "Python 3.8.6 64-bit (system)",
   "language": "python",
   "name": "python3"
  },
  "language_info": {
   "codemirror_mode": {
    "name": "ipython",
    "version": 3
   },
   "file_extension": ".py",
   "mimetype": "text/x-python",
   "name": "python",
   "nbconvert_exporter": "python",
   "pygments_lexer": "ipython3",
   "version": "3.8.6"
  },
  "orig_nbformat": 4,
  "vscode": {
   "interpreter": {
    "hash": "2ba6819d172d60e93b2f90e5d47af36d4f36070393882cfcbe0fef625705f185"
   }
  }
 },
 "nbformat": 4,
 "nbformat_minor": 2
}
