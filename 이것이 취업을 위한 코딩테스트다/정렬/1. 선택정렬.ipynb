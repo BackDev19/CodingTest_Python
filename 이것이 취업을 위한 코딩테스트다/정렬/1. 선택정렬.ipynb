{
 "cells": [
  {
   "cell_type": "code",
   "execution_count": 11,
   "metadata": {},
   "outputs": [
    {
     "name": "stdout",
     "output_type": "stream",
     "text": [
      "[0, 1, 2, 3, 4, 5, 6, 7, 8, 9]\n"
     ]
    }
   ],
   "source": [
    "from sys import stdin\n",
    "stdin = open(\"./input/input1.txt\", \"rt\")\n",
    "\n",
    "num = list(map(int, stdin.readline()))\n",
    "\n",
    "for x in range(len(num)):\n",
    "    minIdx = x\n",
    "    for y in range(x+1, len(num)):\n",
    "        # 1. 가장 작은 3을 선택해 x의 7 바꿈\n",
    "        if num[minIdx] > num[y]:\n",
    "            minIdx = y\n",
    "    num[minIdx], num[x] = num[x], num[minIdx]\n",
    "\n",
    "print(num)\n",
    "\n"
   ]
  }
 ],
 "metadata": {
  "kernelspec": {
   "display_name": "Python 3.8.6 64-bit (system)",
   "language": "python",
   "name": "python3"
  },
  "language_info": {
   "codemirror_mode": {
    "name": "ipython",
    "version": 3
   },
   "file_extension": ".py",
   "mimetype": "text/x-python",
   "name": "python",
   "nbconvert_exporter": "python",
   "pygments_lexer": "ipython3",
   "version": "3.8.6"
  },
  "orig_nbformat": 4,
  "vscode": {
   "interpreter": {
    "hash": "2ba6819d172d60e93b2f90e5d47af36d4f36070393882cfcbe0fef625705f185"
   }
  }
 },
 "nbformat": 4,
 "nbformat_minor": 2
}
