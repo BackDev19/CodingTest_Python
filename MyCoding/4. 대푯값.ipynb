{
 "cells": [
  {
   "cell_type": "code",
   "execution_count": 8,
   "source": [
    "# 1. 평균점수와 가까운 점수가 여러 개인 경우 , 높은 점수 순\r\n",
    "# 2. 평균점수가 동일하다면, 학생번호 순\r\n",
    "file = open(\"input.txt\", \"rt\")\r\n",
    "N = int(file.readline())\r\n",
    "scoreArr = list(map(int, file.readline().split()))\r\n",
    "\r\n",
    "avg = round(sum(scoreArr) / N)\r\n",
    "min = 214700000\r\n",
    "\r\n",
    "for idx, x in enumerate(scoreArr):\r\n",
    "    \r\n",
    "    tmp = abs(x - avg)\r\n",
    "    if tmp < min:\r\n",
    "        min = tmp\r\n",
    "        score = x\r\n",
    "        res = idx + 1\r\n",
    "\r\n",
    "    elif tmp == min:\r\n",
    "        if x > score:\r\n",
    "            score = x\r\n",
    "            res = idx + 1\r\n",
    "\r\n",
    "print(avg, res)\r\n"
   ],
   "outputs": [
    {
     "output_type": "stream",
     "name": "stdout",
     "text": [
      "74 7\n"
     ]
    }
   ],
   "metadata": {}
  },
  {
   "cell_type": "code",
   "execution_count": 9,
   "source": [
    "file = open(\"input.txt\", \"rt\")\r\n",
    "N = int(file.readline())\r\n",
    "scoreArr = list(map(int, file.readline().split()))\r\n",
    "\r\n",
    "# int(sum + 0.5) == 반올림\r\n",
    "avg = int(sum(scoreArr) / N + 0.5)\r\n",
    "min = 10000\r\n",
    "\r\n",
    "for idx, x in enumerate(scoreArr):\r\n",
    "    tmp = abs(x - avg)\r\n",
    "    # tmp가 더 작다면, score와, min 교환\r\n",
    "    # tmp는 차이, x = 현재 인덱스의 score, res가 가장작은 것의 위치\r\n",
    "    if tmp < min :\r\n",
    "        min = tmp\r\n",
    "        score = x\r\n",
    "        res = idx + 1\r\n",
    "    \r\n",
    "    # tmp와 min이 같다면, 양수부분 반환\r\n",
    "    elif tmp == min:\r\n",
    "        if x > score:\r\n",
    "            score = x\r\n",
    "            res = idx + 1\r\n",
    "\r\n",
    "print(avg, res)\r\n",
    "    \r\n"
   ],
   "outputs": [
    {
     "output_type": "stream",
     "name": "stdout",
     "text": [
      "74 7\n"
     ]
    }
   ],
   "metadata": {}
  }
 ],
 "metadata": {
  "orig_nbformat": 4,
  "language_info": {
   "name": "python",
   "version": "3.8.5",
   "mimetype": "text/x-python",
   "codemirror_mode": {
    "name": "ipython",
    "version": 3
   },
   "pygments_lexer": "ipython3",
   "nbconvert_exporter": "python",
   "file_extension": ".py"
  },
  "kernelspec": {
   "name": "python3",
   "display_name": "Python 3.8.5 64-bit ('base': conda)"
  },
  "interpreter": {
   "hash": "81633e02b4f1afd1cc0c66085616c53052b8ad9646c0c5b7d4c3487792a772f4"
  }
 },
 "nbformat": 4,
 "nbformat_minor": 2
}