{
 "cells": [
  {
   "cell_type": "markdown",
   "source": [
    "<h2><br>\r\n",
    "K번째 수<br>\r\n",
    "N개의 숫자로 이루어진 숫자열이 주어지면 해당 숫자열중에서 s번째부터 e번째 까지의 수를<br>\r\n",
    "오름 차순 정렬했을 때 k번째로 나타나는 숫자를 출력하는 프로그램을 작성하세요.<br><br>\r\n",
    "▣ 입력설명<br>\r\n",
    "첫 번째 줄에 테스트 케이스 T(1<=T<=10)이 주어집니다.<br>\r\n",
    "각 케이스별<br>\r\n",
    "첫 번째 줄은 자연수 N(5<=N<=500), s, e, k가 차례로 주어진다.<br>\r\n",
    "두 번째 줄에 N개의 숫자가 차례로 주어진다.<br>\r\n",
    "</h2>"
   ],
   "metadata": {}
  },
  {
   "cell_type": "markdown",
   "source": [
    "<h2>listNum = sys.stdin.readline().split()"
   ],
   "metadata": {}
  },
  {
   "cell_type": "markdown",
   "source": [
    "<h2>\r\n",
    "N, s, e, k<br>\r\n",
    "N = 숫자의 개수<br>\r\n",
    "s ~ e<br>\r\n",
    "k번째로 나타나는 수<br>\r\n",
    "</h2>\r\n"
   ],
   "metadata": {}
  },
  {
   "cell_type": "code",
   "execution_count": 46,
   "source": [
    "# 입력\r\n",
    "import sys\r\n",
    "a = open(\"input.txt\", \"rt\")\r\n",
    "\r\n",
    "# N입력\r\n",
    "N = int(a.readline())\r\n",
    "\r\n",
    "# for문으로 s~e까지 정렬 후, k번째로 나타나는 수 출력\r\n",
    "for i in range(N) : \r\n",
    "    N, s, e, k = map(int, a.readline().split())\r\n",
    "    arr = list(map(int, a.readline().split()))\r\n",
    "    arr = arr[s-1:e]\r\n",
    "    arr.sort()\r\n",
    "\r\n",
    "    print(\"#%d %d\" %(i+1, arr[k-1]))\r\n",
    "\r\n",
    "\r\n",
    "\r\n"
   ],
   "outputs": [
    {
     "output_type": "stream",
     "name": "stdout",
     "text": [
      "[5, 2, 7, 3, 8, 9]\n",
      "[4, 15, 8, 16, 6, 6, 17, 3, 10, 11, 18, 7, 14, 7, 15]\n"
     ]
    }
   ],
   "metadata": {}
  },
  {
   "cell_type": "code",
   "execution_count": 56,
   "source": [
    "arr[s-1:e].sort()\r\n",
    "arr\r\n"
   ],
   "outputs": [
    {
     "output_type": "execute_result",
     "data": {
      "text/plain": [
       "[4, 15, 8, 16, 6, 6, 17, 3, 10, 11, 18, 7, 14, 7, 15]"
      ]
     },
     "metadata": {},
     "execution_count": 56
    }
   ],
   "metadata": {}
  }
 ],
 "metadata": {
  "orig_nbformat": 4,
  "language_info": {
   "name": "python",
   "version": "3.8.5",
   "mimetype": "text/x-python",
   "codemirror_mode": {
    "name": "ipython",
    "version": 3
   },
   "pygments_lexer": "ipython3",
   "nbconvert_exporter": "python",
   "file_extension": ".py"
  },
  "kernelspec": {
   "name": "python3",
   "display_name": "Python 3.8.5 64-bit ('base': conda)"
  },
  "interpreter": {
   "hash": "81633e02b4f1afd1cc0c66085616c53052b8ad9646c0c5b7d4c3487792a772f4"
  }
 },
 "nbformat": 4,
 "nbformat_minor": 2
}