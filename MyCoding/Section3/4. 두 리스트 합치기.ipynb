{
 "cells": [
  {
   "cell_type": "markdown",
   "source": [
    "file = open(\"./input/input4.txt\", \"rt\")\r\n",
    "N = int(file.readline())\r\n",
    "arr1 = list(file.readline().split())\r\n",
    "\r\n",
    "N2 = int(file.readline())\r\n",
    "arr2 = list(file.readline().split())\r\n",
    "\r\n",
    "p1 = p2 = 0\r\n",
    "c = []\r\n",
    "while p1 < N and p2 < N2:\r\n",
    "    if arr1[p1] <= arr2[p2]:\r\n",
    "        c.append(arr1[p1])\r\n",
    "        p1 += 1\r\n",
    "    else:\r\n",
    "        c.append(arr2[p2])\r\n",
    "        p2 += 1\r\n",
    "\r\n",
    "if p1 < N:\r\n",
    "    c = c + arr1[p1:]\r\n",
    "if p2 < N2:\r\n",
    "    c = c + arr2[p2:]\r\n",
    "\r\n",
    "for x in c:\r\n",
    "    print(x, end = ' ')"
   ],
   "metadata": {}
  },
  {
   "cell_type": "code",
   "execution_count": 25,
   "source": [
    "file = open(\"./input/input4.txt\", \"rt\")\r\n",
    "\r\n",
    "N1 = int(file.readline())\r\n",
    "arr1 = list(map(int, file.readline().split()))\r\n",
    "\r\n",
    "N2 = int(file.readline())\r\n",
    "arr2 = list(map(int, file.readline().split()))\r\n",
    "\r\n",
    "p1 = p2 = 0\r\n",
    "result = []\r\n",
    "\r\n",
    "while p1 < N1 and p2 < N2:\r\n",
    "    if (arr1[p1] <= arr2[p2]):\r\n",
    "        result.append(arr1[p1])\r\n",
    "        p1 += 1\r\n",
    "    else:\r\n",
    "        result.append(arr2[p2])\r\n",
    "        p2 += 1\r\n",
    "        \r\n",
    "if p1 < N1:\r\n",
    "    result = result + arr1[p1:]\r\n",
    "if p2 < N2:\r\n",
    "    result = result + arr2[p2:]\r\n",
    "\r\n",
    "print(result)\r\n"
   ],
   "outputs": [
    {
     "output_type": "stream",
     "name": "stdout",
     "text": [
      "[1, 2, 3, 3, 5, 6, 7, 9]\n"
     ]
    }
   ],
   "metadata": {}
  }
 ],
 "metadata": {
  "orig_nbformat": 4,
  "language_info": {
   "name": "python",
   "version": "3.8.5",
   "mimetype": "text/x-python",
   "codemirror_mode": {
    "name": "ipython",
    "version": 3
   },
   "pygments_lexer": "ipython3",
   "nbconvert_exporter": "python",
   "file_extension": ".py"
  },
  "kernelspec": {
   "name": "python3",
   "display_name": "Python 3.8.5 64-bit ('base': conda)"
  },
  "interpreter": {
   "hash": "81633e02b4f1afd1cc0c66085616c53052b8ad9646c0c5b7d4c3487792a772f4"
  }
 },
 "nbformat": 4,
 "nbformat_minor": 2
}