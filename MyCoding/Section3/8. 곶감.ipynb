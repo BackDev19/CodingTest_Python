{
 "cells": [
  {
   "cell_type": "markdown",
   "source": [
    "<h2>\r\n",
    "<br> 강의 코드\r\n",
    "</h2>"
   ],
   "metadata": {}
  },
  {
   "cell_type": "code",
   "execution_count": 13,
   "source": [
    "file = open(\"./input/input8.txt\", \"rt\")\r\n",
    "n = int(file.readline())\r\n",
    "arr = [list(map(int, file.readline().split())) for _ in range(n)]\r\n",
    "\r\n",
    "number = int(file.readline())\r\n",
    "for i in range(number):\r\n",
    "    h, t, k = map(int, file.readline().split())\r\n",
    "    if t == 0:\r\n",
    "        for _ in range(k):\r\n",
    "            arr[h-1].append(arr[h-1].pop(0))\r\n",
    "    else:\r\n",
    "        for _ in range(k):\r\n",
    "            arr[h-1].insert(0, arr[h-1].pop())\r\n",
    "\r\n",
    "for x in arr:\r\n",
    "    print(x)\r\n",
    "\r\n",
    "s = 0\r\n",
    "e = n-1\r\n",
    "sum = 0\r\n",
    "\r\n",
    "for i in range(n):\r\n",
    "    # s ~ e까지 도는 상황\r\n",
    "    for j in range(s, e+1):\r\n",
    "        sum += arr[i][j]\r\n",
    "\r\n",
    "    if i < n//2:\r\n",
    "        s += 1\r\n",
    "        e -= 1\r\n",
    "\r\n",
    "    else:\r\n",
    "        s -= 1\r\n",
    "        e += 1\r\n",
    "\r\n",
    "print(sum)"
   ],
   "outputs": [
    {
     "output_type": "stream",
     "name": "stdout",
     "text": [
      "[10, 13, 10, 12, 15]\n",
      "[23, 11, 12, 39, 30]\n",
      "[25, 50, 53, 15, 11]\n",
      "[19, 27, 29, 37, 27]\n",
      "[13, 19, 19, 13, 30]\n",
      "362\n"
     ]
    }
   ],
   "metadata": {}
  },
  {
   "cell_type": "markdown",
   "source": [
    "<h2>\r\n",
    "<br>내가 푼 것\r\n",
    "</h2>"
   ],
   "metadata": {}
  },
  {
   "cell_type": "code",
   "execution_count": 34,
   "source": [
    "file = open(\"./input/input9.txt\", \"rt\")\r\n",
    "n = int(file.readline())\r\n",
    "arr = [list(map(int, file.readline().split())) for _ in range(n)]\r\n",
    "\r\n",
    "# 명령 개수\r\n",
    "number = int(file.readline())\r\n",
    "for i in range(number):\r\n",
    "    cmd = list(map(int, file.readline().split()))\r\n",
    "    # cmd[] --> 0 = 행의 위치 ,1 = 왼쪽 or 오른쪽 ,2 = 회전 개수\r\n",
    "    # cmd[1] = 0인 경우\r\n",
    "    if cmd[1] == 0:\r\n",
    "        cnt = 0\r\n",
    "        for j in range(cmd[2]):\r\n",
    "            # n-1번 회전을 통해서, k부터 k+1까지 회전가능\r\n",
    "            tmp = arr[cmd[0]-1][0]\r\n",
    "            for k in range(n-1):\r\n",
    "                arr[cmd[0]-1][k] = arr[cmd[0]-1][k+1]\r\n",
    "            # 마지막에 tmp넣어주기\r\n",
    "            arr[cmd[0]-1][n-1] = tmp \r\n",
    "\r\n",
    "    # cmd[1] == 1인 경우\r\n",
    "    if cmd[1] == 1:\r\n",
    "        cnt = 0\r\n",
    "        for j in range(cmd[2]):\r\n",
    "            tmp = arr[cmd[0]-1][n-1]\r\n",
    "            for k in range(n-1):\r\n",
    "                arr[cmd[0]-1][n-1-k] = arr[cmd[0]-1][n-2-k]\r\n",
    "            arr[cmd[0]-1][0] = tmp\r\n",
    "\r\n",
    "for x in range(n):\r\n",
    "    print(arr[x])\r\n"
   ],
   "outputs": [
    {
     "output_type": "stream",
     "name": "stdout",
     "text": [
      "[10, 13, 10, 12, 15]\n",
      "[23, 11, 12, 39, 30]\n",
      "[25, 50, 53, 15, 11]\n",
      "[19, 27, 29, 37, 27]\n",
      "[13, 19, 19, 13, 30]\n"
     ]
    }
   ],
   "metadata": {}
  },
  {
   "cell_type": "code",
   "execution_count": 29,
   "source": [
    "file = open(\"./input/input8.txt\", \"rt\")\r\n",
    "n = int(file.readline())\r\n",
    "arr = [list(map(int, file.readline().split())) for _ in range(n)]\r\n",
    "\r\n",
    "number = 3\r\n",
    "for k in range(3):\r\n",
    "    arr[1][k] = arr[1][k+1]\r\n",
    "\r\n",
    "for i in range(5):\r\n",
    "    print(arr[i])"
   ],
   "outputs": [
    {
     "output_type": "stream",
     "name": "stdout",
     "text": [
      "[10, 13, 10, 12, 15]\n",
      "[39, 30, 23, 23, 11]\n",
      "[11, 25, 50, 53, 15]\n",
      "[19, 27, 29, 37, 27]\n",
      "[19, 13, 30, 13, 19]\n"
     ]
    }
   ],
   "metadata": {}
  }
 ],
 "metadata": {
  "orig_nbformat": 4,
  "language_info": {
   "name": "python",
   "version": "3.8.5",
   "mimetype": "text/x-python",
   "codemirror_mode": {
    "name": "ipython",
    "version": 3
   },
   "pygments_lexer": "ipython3",
   "nbconvert_exporter": "python",
   "file_extension": ".py"
  },
  "kernelspec": {
   "name": "python3",
   "display_name": "Python 3.8.5 64-bit ('base': conda)"
  },
  "interpreter": {
   "hash": "81633e02b4f1afd1cc0c66085616c53052b8ad9646c0c5b7d4c3487792a772f4"
  }
 },
 "nbformat": 4,
 "nbformat_minor": 2
}