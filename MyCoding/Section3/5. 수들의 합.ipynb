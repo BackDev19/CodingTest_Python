{
 "cells": [
  {
   "cell_type": "code",
   "execution_count": 9,
   "source": [
    "# lt와 rt변수를 지정해줌\r\n",
    "# lt를 먼저 더해주고, 해당 값이 tot보다 작다면, rt를 더해주고, rt + 1\r\n",
    "file = open(\"./input/input5.txt\", \"rt\")\r\n",
    "num, target = map(int, file.readline().split())\r\n",
    "arr = list(map(int, file.readline().split()))\r\n",
    "\r\n",
    "lt = 0; rt = 1\r\n",
    "tot = arr[lt]; cnt = 0\r\n",
    "\r\n",
    "while True:\r\n",
    "    # target보다 더 작다면, rt를 더해주고, 1을 증가시킴\r\n",
    "\r\n",
    "    if tot < target:\r\n",
    "        if rt < num:\r\n",
    "            tot = tot + arr[rt]\r\n",
    "            rt += 1\r\n",
    "        else:\r\n",
    "            break\r\n",
    "        \r\n",
    "    elif tot == target:\r\n",
    "        cnt += 1\r\n",
    "        tot -= arr[lt]\r\n",
    "        lt += 1\r\n",
    "\r\n",
    "    else: #tot > target\r\n",
    "        tot = tot - arr[lt]\r\n",
    "        lt += 1\r\n",
    "\r\n",
    "\r\n",
    "print(cnt)"
   ],
   "outputs": [
    {
     "output_type": "stream",
     "name": "stdout",
     "text": [
      "5\n"
     ]
    }
   ],
   "metadata": {}
  },
  {
   "cell_type": "markdown",
   "source": [],
   "metadata": {}
  }
 ],
 "metadata": {
  "orig_nbformat": 4,
  "language_info": {
   "name": "python",
   "version": "3.8.5",
   "mimetype": "text/x-python",
   "codemirror_mode": {
    "name": "ipython",
    "version": 3
   },
   "pygments_lexer": "ipython3",
   "nbconvert_exporter": "python",
   "file_extension": ".py"
  },
  "kernelspec": {
   "name": "python3",
   "display_name": "Python 3.8.5 64-bit ('base': conda)"
  },
  "interpreter": {
   "hash": "81633e02b4f1afd1cc0c66085616c53052b8ad9646c0c5b7d4c3487792a772f4"
  }
 },
 "nbformat": 4,
 "nbformat_minor": 2
}