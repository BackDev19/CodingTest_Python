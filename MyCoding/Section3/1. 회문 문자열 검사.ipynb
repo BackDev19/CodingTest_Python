{
 "cells": [
  {
   "cell_type": "code",
   "execution_count": 15,
   "source": [
    "file = open(\"input.txt\", \"rt\")\r\n",
    "# 개수\r\n",
    "N = int(file.readline())\r\n",
    "# 문자열\r\n",
    "\r\n",
    "result = [\"YES\"] * N\r\n",
    "\r\n",
    "# 그냥 반절 정도만 거꾸로 돌려서 확인하면 될듯?\r\n",
    "\r\n",
    "for x in range(N):\r\n",
    "    # 문자열 입력\r\n",
    "    arr = file.readline()\r\n",
    "    arr = arr.lower()\r\n",
    "    arr = list(arr)\r\n",
    "\r\n",
    "    arr.remove('\\n')\r\n",
    "\r\n",
    "    # arr의 길이의 /2만큼 회전 중앙값은 확인필요 x\r\n",
    "    for y in range(int(len(arr) / 2)):\r\n",
    "        if arr[y] != arr[-1 - y]:\r\n",
    "            result[x] = \"NO\"\r\n",
    "            break\r\n",
    "\r\n",
    "for i, x in enumerate(result):\r\n",
    "    print(\"#%d %s\" %(i+1, x))\r\n",
    "  \r\n",
    "    \r\n"
   ],
   "outputs": [
    {
     "output_type": "stream",
     "name": "stdout",
     "text": [
      "#1 YES\n",
      "#2 NO\n",
      "#3 YES\n",
      "#4 NO\n",
      "#5 YES\n"
     ]
    }
   ],
   "metadata": {}
  },
  {
   "cell_type": "code",
   "execution_count": null,
   "source": [
    "\r\n"
   ],
   "outputs": [],
   "metadata": {}
  },
  {
   "cell_type": "code",
   "execution_count": 15,
   "source": [
    "arr = \"gooG\"\r\n",
    "arr = arr.lower()\r\n",
    "arr = list(arr)\r\n",
    "\r\n",
    "print(arr)\r\n"
   ],
   "outputs": [
    {
     "output_type": "stream",
     "name": "stdout",
     "text": [
      "['g', 'o', 'o', 'g']\n"
     ]
    }
   ],
   "metadata": {}
  },
  {
   "cell_type": "code",
   "execution_count": null,
   "source": [],
   "outputs": [],
   "metadata": {}
  }
 ],
 "metadata": {
  "orig_nbformat": 4,
  "language_info": {
   "name": "python",
   "version": "3.8.5",
   "mimetype": "text/x-python",
   "codemirror_mode": {
    "name": "ipython",
    "version": 3
   },
   "pygments_lexer": "ipython3",
   "nbconvert_exporter": "python",
   "file_extension": ".py"
  },
  "kernelspec": {
   "name": "python3",
   "display_name": "Python 3.8.5 64-bit ('base': conda)"
  },
  "interpreter": {
   "hash": "81633e02b4f1afd1cc0c66085616c53052b8ad9646c0c5b7d4c3487792a772f4"
  }
 },
 "nbformat": 4,
 "nbformat_minor": 2
}