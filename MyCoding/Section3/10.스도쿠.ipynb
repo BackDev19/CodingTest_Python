{
 "cells": [
  {
   "cell_type": "code",
   "execution_count": null,
   "source": [
    "file = open(\"./input/input10.txt\", \"rt\")\r\n",
    "def check(a):\r\n",
    "    for i in range(9):\r\n",
    "        # 0은 사용하지 않지만, 그냥 편의상 초기화를 해줌\r\n",
    "        ch1 = [0] * 10\r\n",
    "        ch2 = [0] * 10\r\n",
    "        for j in range(9):\r\n",
    "            ch1[a[i][j]] = 1\r\n",
    "            ch2[a[j][i]] = 1\r\n",
    "        if sum(ch1) != 9 or sum(ch2) != 9:\r\n",
    "            return False\r\n",
    "\r\n",
    "    for i in range(3):\r\n",
    "        for j in range(3):\r\n",
    "            ch3 = [0] * 10\r\n",
    "            for k in range(3):\r\n",
    "                for s in range(3):\r\n",
    "                    ch3[a[i*3+k][j*3+s]] = 1\r\n",
    "            if sum(ch3) != 9:\r\n",
    "                return False\r\n",
    "\r\n",
    "    return True\r\n",
    "                \r\n",
    "a = [list(map(int, file.readline().split())) for _ in range(9)]\r\n",
    "if check(a):\r\n",
    "    print(\"YES\")\r\n",
    "else:\r\n",
    "    print(\"NO\")\r\n"
   ],
   "outputs": [],
   "metadata": {}
  },
  {
   "cell_type": "code",
   "execution_count": null,
   "source": [],
   "outputs": [],
   "metadata": {}
  }
 ],
 "metadata": {
  "orig_nbformat": 4,
  "language_info": {
   "name": "python",
   "version": "3.8.5",
   "mimetype": "text/x-python",
   "codemirror_mode": {
    "name": "ipython",
    "version": 3
   },
   "pygments_lexer": "ipython3",
   "nbconvert_exporter": "python",
   "file_extension": ".py"
  },
  "kernelspec": {
   "name": "python3",
   "display_name": "Python 3.8.5 64-bit ('base': conda)"
  },
  "interpreter": {
   "hash": "81633e02b4f1afd1cc0c66085616c53052b8ad9646c0c5b7d4c3487792a772f4"
  }
 },
 "nbformat": 4,
 "nbformat_minor": 2
}