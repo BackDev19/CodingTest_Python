{
 "cells": [
  {
   "cell_type": "code",
   "execution_count": null,
   "metadata": {},
   "outputs": [],
   "source": [
    "# 1. 회문인지 확인 -> Yes or No (대소문자 구분 x)\n",
    "# 2. 숫자 N, N개의 단어가 입력됨\n",
    "\n",
    "import sys\n",
    "sys.stdin = open(\"input.txt\", \"rt\")\n",
    "\n",
    "n = int(input())\n",
    "for i in range(n):\n",
    "    word = input().lower()\n",
    "    revWord = word[::-1]\n",
    "\n",
    "    if word == revWord:\n",
    "        print(\"#%d YES\" %(i+1))\n",
    "    else:\n",
    "        print(\"#%d NO\" %(i+1))"
   ]
  }
 ],
 "metadata": {
  "kernelspec": {
   "display_name": "Python 3.8.6 64-bit (system)",
   "language": "python",
   "name": "python3"
  },
  "language_info": {
   "codemirror_mode": {
    "name": "ipython",
    "version": 3
   },
   "file_extension": ".py",
   "mimetype": "text/x-python",
   "name": "python",
   "nbconvert_exporter": "python",
   "pygments_lexer": "ipython3",
   "version": "3.8.6"
  },
  "orig_nbformat": 4,
  "vscode": {
   "interpreter": {
    "hash": "2ba6819d172d60e93b2f90e5d47af36d4f36070393882cfcbe0fef625705f185"
   }
  }
 },
 "nbformat": 4,
 "nbformat_minor": 2
}
