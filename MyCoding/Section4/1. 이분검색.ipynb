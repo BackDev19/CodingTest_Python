{
 "cells": [
  {
   "cell_type": "code",
   "execution_count": 10,
   "source": [
    "file = open(\"./input/input1.txt\", \"rt\")\r\n",
    "n,m = map(int, file.readline().split())\r\n",
    "arr = list(map(int, file.readline().split()))\r\n",
    "\r\n",
    "# 이분탐색\r\n",
    "# N = 수의 개수, M = 찾는 값\r\n",
    "arr.sort()\r\n",
    "lt = 0; rt = n-1\r\n",
    "while lt <= rt:\r\n",
    "    mid = (lt + rt) // 2\r\n",
    "    if m == arr[mid]:\r\n",
    "        print(mid+1)\r\n",
    "        break\r\n",
    "    # m이 더 작다면, rt = mid-1\r\n",
    "    elif m < arr[mid]:\r\n",
    "        rt = mid-1\r\n",
    "    # 만약에, m이 더 크다면, lt = mid+1\r\n",
    "    elif m > arr[mid]:\r\n",
    "        lt = mid+1\r\n",
    "\r\n"
   ],
   "outputs": [
    {
     "output_type": "stream",
     "name": "stdout",
     "text": [
      "3\n"
     ]
    }
   ],
   "metadata": {}
  }
 ],
 "metadata": {
  "orig_nbformat": 4,
  "language_info": {
   "name": "python",
   "version": "3.8.5",
   "mimetype": "text/x-python",
   "codemirror_mode": {
    "name": "ipython",
    "version": 3
   },
   "pygments_lexer": "ipython3",
   "nbconvert_exporter": "python",
   "file_extension": ".py"
  },
  "kernelspec": {
   "name": "python3",
   "display_name": "Python 3.8.5 64-bit ('base': conda)"
  },
  "interpreter": {
   "hash": "81633e02b4f1afd1cc0c66085616c53052b8ad9646c0c5b7d4c3487792a772f4"
  }
 },
 "nbformat": 4,
 "nbformat_minor": 2
}