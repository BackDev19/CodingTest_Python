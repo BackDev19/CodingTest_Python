{
 "cells": [
  {
   "cell_type": "code",
   "execution_count": 45,
   "source": [
    "file = open(\"input/input5.txt\", \"rt\")\r\n",
    "n = int(file.readline())\r\n",
    "\r\n",
    "meeting = []\r\n",
    "# 변수 대입\r\n",
    "for _ in range(n):\r\n",
    "    start, end = map(int, file.readline().split())\r\n",
    "    meeting.append((start, end))\r\n",
    "\r\n",
    "# 정렬\r\n",
    "meeting.sort(key = lambda x : (x[1], x[0]))\r\n",
    "\r\n",
    "# 계산\r\n",
    "tmp = meeting[0]\r\n",
    "cnt = 1\r\n",
    "for i in range(n-1):\r\n",
    "\t\t# 해당 start시간이, 다음시간의 end보다 빨리 끝나거나 같은지\r\n",
    "    if tmp[1] <= meeting[i+1][0]:\r\n",
    "        cnt += 1\r\n",
    "        tmp = meeting[i+1]\r\n",
    "\r\n",
    "print(cnt)"
   ],
   "outputs": [
    {
     "output_type": "stream",
     "name": "stdout",
     "text": [
      "195\n"
     ]
    }
   ],
   "metadata": {}
  },
  {
   "cell_type": "code",
   "execution_count": 46,
   "source": [
    "import sys\r\n",
    "sys.stdin = open(\"./input/input5.txt\", \"rt\")\r\n",
    "n = int(input())\r\n",
    "meeting = []\r\n",
    "for i in range(n):\r\n",
    "    s, e = map(int, input().split())\r\n",
    "    meeting.append((s, e))\r\n",
    "meeting.sort(key = lambda x : (x[1], x[0]))\r\n",
    "et = 0\r\n",
    "cnt = 0\r\n",
    "for s, e in meeting:\r\n",
    "    if s >= et:\r\n",
    "        et = e\r\n",
    "        cnt += 1\r\n",
    "\r\n",
    "print(cnt)"
   ],
   "outputs": [
    {
     "output_type": "error",
     "ename": "SyntaxError",
     "evalue": "unexpected EOF while parsing (<ipython-input-46-ff823cbebf1b>, line 5)",
     "traceback": [
      "\u001b[1;36m  File \u001b[1;32m\"<ipython-input-46-ff823cbebf1b>\"\u001b[1;36m, line \u001b[1;32m5\u001b[0m\n\u001b[1;33m    for i in range(n):\u001b[0m\n\u001b[1;37m                      ^\u001b[0m\n\u001b[1;31mSyntaxError\u001b[0m\u001b[1;31m:\u001b[0m unexpected EOF while parsing\n"
     ]
    }
   ],
   "metadata": {}
  }
 ],
 "metadata": {
  "orig_nbformat": 4,
  "language_info": {
   "name": "python",
   "version": "3.8.5",
   "mimetype": "text/x-python",
   "codemirror_mode": {
    "name": "ipython",
    "version": 3
   },
   "pygments_lexer": "ipython3",
   "nbconvert_exporter": "python",
   "file_extension": ".py"
  },
  "kernelspec": {
   "name": "python3",
   "display_name": "Python 3.8.5 64-bit ('base': conda)"
  },
  "interpreter": {
   "hash": "81633e02b4f1afd1cc0c66085616c53052b8ad9646c0c5b7d4c3487792a772f4"
  }
 },
 "nbformat": 4,
 "nbformat_minor": 2
}