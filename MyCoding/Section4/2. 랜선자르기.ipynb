{
 "cells": [
  {
   "cell_type": "code",
   "execution_count": 2,
   "source": [
    "file = open(\"./input/input2.txt\", \"rt\")\r\n",
    "\r\n",
    "# 이미 가지고 있는 랜선의 개수 k\r\n",
    "# 필요한 랜선의 개수 n\r\n",
    "def Count(len):\r\n",
    "    cnt = 0\r\n",
    "    for x in Line:\r\n",
    "        cnt += (x // len)\r\n",
    "    return cnt\r\n",
    "# k, n\r\n",
    "k, n = map(int, file.readline().split())\r\n",
    "Line = []\r\n",
    "res = 0\r\n",
    "largest = 0\r\n",
    "\r\n",
    "for i in range(k):\r\n",
    "    tmp = int(file.readline())\r\n",
    "    Line.append(tmp)\r\n",
    "    largest = max(largest, tmp)\r\n",
    "\r\n",
    "lt = 1\r\n",
    "rt = largest\r\n",
    "while lt <= rt:\r\n",
    "    mid = (lt+rt) // 2\r\n",
    "    if Count(mid)>=n:\r\n",
    "        res = mid\r\n",
    "        lt = mid+1\r\n",
    "    else:\r\n",
    "        rt = mid-1\r\n",
    "print(res)\r\n",
    "    \r\n",
    "\r\n"
   ],
   "outputs": [
    {
     "output_type": "stream",
     "name": "stdout",
     "text": [
      "200\n"
     ]
    }
   ],
   "metadata": {}
  },
  {
   "cell_type": "code",
   "execution_count": null,
   "source": [],
   "outputs": [],
   "metadata": {}
  },
  {
   "cell_type": "markdown",
   "source": [],
   "metadata": {}
  }
 ],
 "metadata": {
  "orig_nbformat": 4,
  "language_info": {
   "name": "python",
   "version": "3.8.5",
   "mimetype": "text/x-python",
   "codemirror_mode": {
    "name": "ipython",
    "version": 3
   },
   "pygments_lexer": "ipython3",
   "nbconvert_exporter": "python",
   "file_extension": ".py"
  },
  "kernelspec": {
   "name": "python3",
   "display_name": "Python 3.8.5 64-bit ('base': conda)"
  },
  "interpreter": {
   "hash": "81633e02b4f1afd1cc0c66085616c53052b8ad9646c0c5b7d4c3487792a772f4"
  }
 },
 "nbformat": 4,
 "nbformat_minor": 2
}