{
 "cells": [
  {
   "cell_type": "code",
   "execution_count": 2,
   "source": [
    "import sys\r\n",
    "file = open(\"./input/input3.txt\")\r\n",
    "# sys.stdin = open(\"input.txt\", \"rt\")\r\n",
    "def Count(capacity):\r\n",
    "    cnt = 1\r\n",
    "    sum = 0\r\n",
    "    for x in Music:\r\n",
    "        if sum+x>capacity:\r\n",
    "            cnt += 1\r\n",
    "            sum = x\r\n",
    "        else:\r\n",
    "            sum += x\r\n",
    "\r\n",
    "    return cnt\r\n",
    "\r\n",
    "# n, m = map(int, input().split())\r\n",
    "# Music = list(map(int, input().split()))\r\n",
    "n, m = map(int, file.readline().split())\r\n",
    "Music = list(map(int, file.readline().split()))\r\n",
    "maxx = max(Music)\r\n",
    "lt = 1\r\n",
    "rt = sum(Music)\r\n",
    "res = 0\r\n",
    "while lt <= rt:\r\n",
    "    mid = (lt+rt)//2\r\n",
    "    if mid>=maxx and Count(mid) <= m:\r\n",
    "        res = mid\r\n",
    "        rt = mid-1\r\n",
    "    else:\r\n",
    "        lt = mid+1\r\n",
    "\r\n",
    "print(res)\r\n",
    "    "
   ],
   "outputs": [
    {
     "output_type": "stream",
     "name": "stdout",
     "text": [
      "17\n"
     ]
    }
   ],
   "metadata": {}
  }
 ],
 "metadata": {
  "orig_nbformat": 4,
  "language_info": {
   "name": "python",
   "version": "3.8.5",
   "mimetype": "text/x-python",
   "codemirror_mode": {
    "name": "ipython",
    "version": 3
   },
   "pygments_lexer": "ipython3",
   "nbconvert_exporter": "python",
   "file_extension": ".py"
  },
  "kernelspec": {
   "name": "python3",
   "display_name": "Python 3.8.5 64-bit ('base': conda)"
  },
  "interpreter": {
   "hash": "81633e02b4f1afd1cc0c66085616c53052b8ad9646c0c5b7d4c3487792a772f4"
  }
 },
 "nbformat": 4,
 "nbformat_minor": 2
}