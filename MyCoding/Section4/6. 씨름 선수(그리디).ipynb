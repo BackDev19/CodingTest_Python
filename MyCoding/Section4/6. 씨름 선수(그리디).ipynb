{
 "cells": [
  {
   "cell_type": "code",
   "execution_count": 19,
   "source": [
    "file = open(\"./input/input6.txt\", \"rt\")\r\n",
    "\r\n",
    "n = int(file.readline())\r\n",
    "# 입력\r\n",
    "man = []\r\n",
    "for _ in range(n):\r\n",
    "    height, weight = map(int, file.readline().split())\r\n",
    "    man.append((height, weight))\r\n",
    "\r\n",
    "# 정렬 몸무계를 내림차순으로 정렬\r\n",
    "man.sort(key = lambda x : (x[1], x[0]), reverse=True)\r\n",
    "\r\n",
    "# 비교대상 = tmp\r\n",
    "tmp = man[0]\r\n",
    "cnt = 1\r\n",
    "\r\n",
    "# 계산\r\n",
    "for i in range(n-1):\r\n",
    "    # 키끼리 비교\r\n",
    "    if tmp[0] <= man[i+1][0]:\r\n",
    "        cnt += 1\r\n",
    "        tmp = man[i+1]\r\n",
    "\r\n",
    "print(cnt)"
   ],
   "outputs": [
    {
     "output_type": "stream",
     "name": "stdout",
     "text": [
      "3\n"
     ]
    }
   ],
   "metadata": {}
  },
  {
   "cell_type": "code",
   "execution_count": null,
   "source": [
    "import sys\r\n",
    "sys.stdin = open(\"input.txt\", \"rt\")\r\n",
    "n = int(input())\r\n",
    "body = []\r\n",
    "for i in range(n):\r\n",
    "    a, b = map(int, input().split())\r\n",
    "    body.append((a, b))\r\n",
    "body.sort(reverse=True)\r\n",
    "largest = 0\r\n",
    "cnt = 0\r\n",
    "for x, y in body:\r\n",
    "    if y > largest:\r\n",
    "        largest = y\r\n",
    "        cnt += 1\r\n",
    "print(cnt)"
   ],
   "outputs": [],
   "metadata": {}
  }
 ],
 "metadata": {
  "orig_nbformat": 4,
  "language_info": {
   "name": "python",
   "version": "3.8.5",
   "mimetype": "text/x-python",
   "codemirror_mode": {
    "name": "ipython",
    "version": 3
   },
   "pygments_lexer": "ipython3",
   "nbconvert_exporter": "python",
   "file_extension": ".py"
  },
  "kernelspec": {
   "name": "python3",
   "display_name": "Python 3.8.5 64-bit ('base': conda)"
  },
  "interpreter": {
   "hash": "81633e02b4f1afd1cc0c66085616c53052b8ad9646c0c5b7d4c3487792a772f4"
  }
 },
 "nbformat": 4,
 "nbformat_minor": 2
}