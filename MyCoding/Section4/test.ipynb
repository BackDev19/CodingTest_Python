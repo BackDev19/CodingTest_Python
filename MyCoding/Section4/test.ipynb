{
 "cells": [
  {
   "cell_type": "code",
   "execution_count": 1,
   "metadata": {},
   "outputs": [
    {
     "name": "stdout",
     "output_type": "stream",
     "text": [
      "0 5\n",
      "1 3\n",
      "2 4\n",
      "3 0\n",
      "4 2\n",
      "5 1\n",
      "6 1\n",
      "7 0\n"
     ]
    }
   ],
   "source": [
    "arr = [5,3,4,0,2,1,1,0]\n",
    "for i, num in enumerate(arr):\n",
    "    print(i, num)"
   ]
  }
 ],
 "metadata": {
  "interpreter": {
   "hash": "d24fb1edfcef31e1b1530427be01f8e6c7d73c41eefbfe0fbd5578e03d837053"
  },
  "kernelspec": {
   "display_name": "Python 3.10.1 64-bit",
   "language": "python",
   "name": "python3"
  },
  "language_info": {
   "codemirror_mode": {
    "name": "ipython",
    "version": 3
   },
   "file_extension": ".py",
   "mimetype": "text/x-python",
   "name": "python",
   "nbconvert_exporter": "python",
   "pygments_lexer": "ipython3",
   "version": "3.10.1"
  },
  "orig_nbformat": 4
 },
 "nbformat": 4,
 "nbformat_minor": 2
}
