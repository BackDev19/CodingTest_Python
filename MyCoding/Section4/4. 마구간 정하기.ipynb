{
 "cells": [
  {
   "cell_type": "code",
   "execution_count": 14,
   "source": [
    "file = open(\"./input/input4.txt\", \"rt\")\r\n",
    "# n = 마구간의 개수 c = c마리의 말\r\n",
    "n,c = map(int, file.readline().split())\r\n",
    "arr = [int(file.readline()) for _ in range(n)]\r\n",
    "arr.sort()\r\n",
    "\r\n",
    "def Count(mid):\r\n",
    "    # 마굿간 사이의 길이를 구하고, mid값과 같은지\r\n",
    "    target = 0\r\n",
    "    cnt = 1\r\n",
    "    for i in range(1, n):\r\n",
    "        # arr[i] - arr[target]이 >= mid보다 크다면, cnt ++ target = i\r\n",
    "        if arr[i] - arr[target] >= mid:\r\n",
    "            cnt += 1\r\n",
    "            target = i\r\n",
    "    return cnt\r\n",
    "\r\n",
    "lt = arr[0];rt = arr[n-1]\r\n",
    "\r\n",
    "while lt <= rt:\r\n",
    "    # mid는 거리\r\n",
    "    mid = ((lt + rt)//2)\r\n",
    "\r\n",
    "    # if Count < c라면, 거리를 줄여야함\r\n",
    "    if Count(mid) < c:\r\n",
    "        rt = mid-1\r\n",
    "        \r\n",
    "    # if Count >= c이라면, 거리를 늘려야함\r\n",
    "    else:\r\n",
    "        res = mid\r\n",
    "        lt = mid+1\r\n",
    "\r\n",
    "print(res)"
   ],
   "outputs": [
    {
     "output_type": "stream",
     "name": "stdout",
     "text": [
      "43\n"
     ]
    }
   ],
   "metadata": {}
  }
 ],
 "metadata": {
  "orig_nbformat": 4,
  "language_info": {
   "name": "python",
   "version": "3.8.5",
   "mimetype": "text/x-python",
   "codemirror_mode": {
    "name": "ipython",
    "version": 3
   },
   "pygments_lexer": "ipython3",
   "nbconvert_exporter": "python",
   "file_extension": ".py"
  },
  "kernelspec": {
   "name": "python3",
   "display_name": "Python 3.8.5 64-bit ('base': conda)"
  },
  "interpreter": {
   "hash": "81633e02b4f1afd1cc0c66085616c53052b8ad9646c0c5b7d4c3487792a772f4"
  }
 },
 "nbformat": 4,
 "nbformat_minor": 2
}