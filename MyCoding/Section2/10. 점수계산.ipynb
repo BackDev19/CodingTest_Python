{
 "cells": [
  {
   "cell_type": "code",
   "execution_count": 1,
   "source": [
    "file = open(\"input.txt\", \"rt\")\r\n",
    "N = int(file.readline())\r\n",
    "\r\n",
    "# 채점\r\n",
    "answer = list(map(int, file.readline().split()))\r\n",
    "\r\n",
    "# 내 성적\r\n",
    "MyAnswer = [1, 0, 1, 1, 1, 0, 0, 1, 1, 0]\r\n",
    "\r\n",
    "# 전체 성적\r\n",
    "score = [0] * N\r\n",
    "# 맞출수록 올라가는 가산점\r\n",
    "count = 0\r\n",
    "\r\n",
    "for x in range(len(MyAnswer)):\r\n",
    "    if answer[x] == MyAnswer[x]:\r\n",
    "        count += 1\r\n",
    "        score[x] = count\r\n",
    "    else:\r\n",
    "        count = 0\r\n",
    "\r\n",
    "\r\n",
    "# 전체 점수 합산\r\n",
    "total = sum(score)\r\n",
    "print(total)"
   ],
   "outputs": [
    {
     "output_type": "stream",
     "name": "stdout",
     "text": [
      "55\n"
     ]
    }
   ],
   "metadata": {}
  },
  {
   "cell_type": "code",
   "execution_count": null,
   "source": [],
   "outputs": [],
   "metadata": {}
  }
 ],
 "metadata": {
  "orig_nbformat": 4,
  "language_info": {
   "name": "python",
   "version": "3.8.5",
   "mimetype": "text/x-python",
   "codemirror_mode": {
    "name": "ipython",
    "version": 3
   },
   "pygments_lexer": "ipython3",
   "nbconvert_exporter": "python",
   "file_extension": ".py"
  },
  "kernelspec": {
   "name": "python3",
   "display_name": "Python 3.8.5 64-bit ('base': conda)"
  },
  "interpreter": {
   "hash": "81633e02b4f1afd1cc0c66085616c53052b8ad9646c0c5b7d4c3487792a772f4"
  }
 },
 "nbformat": 4,
 "nbformat_minor": 2
}