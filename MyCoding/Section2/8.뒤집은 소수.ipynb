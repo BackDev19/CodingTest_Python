{
 "cells": [
  {
   "cell_type": "code",
   "execution_count": null,
   "source": [
    "file = open(\"input.txt\", \"rt\")\r\n",
    "N = int(input())\r\n",
    "\r\n"
   ],
   "outputs": [],
   "metadata": {}
  },
  {
   "cell_type": "code",
   "execution_count": null,
   "source": [
    "def reverse(x):\r\n",
    "    res = 0\r\n",
    "    # x는 숫자. -> \r\n",
    "    while x > 0:\r\n",
    "        num = x % 10\r\n",
    "        x = x // 10\r\n",
    "\r\n",
    "        res = res * 10 + num"
   ],
   "outputs": [],
   "metadata": {}
  },
  {
   "cell_type": "code",
   "execution_count": null,
   "source": [
    "# 소수인지를 확인\r\n",
    "# x가 소수인지를 확인하기 위한\r\n",
    "def isPrime(x):\r\n",
    "    cnt = [0] * x\r\n",
    "    for i in range(x):\r\n",
    "        \r\n",
    "\r\n"
   ],
   "outputs": [],
   "metadata": {}
  },
  {
   "cell_type": "code",
   "execution_count": null,
   "source": [
    "num = reverse(x)\r\n",
    "if isPrime(num):\r\n",
    "    print(num)"
   ],
   "outputs": [],
   "metadata": {}
  }
 ],
 "metadata": {
  "orig_nbformat": 4,
  "language_info": {
   "name": "python"
  }
 },
 "nbformat": 4,
 "nbformat_minor": 2
}