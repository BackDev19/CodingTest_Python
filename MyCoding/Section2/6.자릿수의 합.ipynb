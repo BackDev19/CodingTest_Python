{
 "cells": [
  {
   "cell_type": "code",
   "execution_count": 20,
   "source": [
    "file = open(\"input.txt\", \"rt\")"
   ],
   "outputs": [],
   "metadata": {}
  },
  {
   "cell_type": "code",
   "execution_count": 21,
   "source": [
    "def digit_sum(x):\r\n",
    "    sum = 0\r\n",
    "    while x > 0:\r\n",
    "        sum += x % 10\r\n",
    "        x = x // 10\r\n",
    "    return sum"
   ],
   "outputs": [],
   "metadata": {}
  },
  {
   "cell_type": "code",
   "execution_count": 22,
   "source": [
    "def digit_sum2(x):\r\n",
    "    sum = 0\r\n",
    "    for i in str(x):\r\n",
    "        sum += int(i)\r\n",
    "    return sum"
   ],
   "outputs": [],
   "metadata": {}
  },
  {
   "cell_type": "code",
   "execution_count": 25,
   "source": [
    "N = file.readline()\r\n",
    "num = list(map(int, file.readline().split()))\r\n",
    "\r\n",
    "# x는 리스트로 들어온 값\r\n",
    "max = -1\r\n",
    "for x in num:\r\n",
    "    tot = digit_sum(x)\r\n",
    "    if max < tot:\r\n",
    "        max = tot\r\n",
    "        res = x\r\n",
    "\r\n",
    "print(res)\r\n",
    "\r\n"
   ],
   "outputs": [
    {
     "output_type": "stream",
     "name": "stdout",
     "text": [
      "16976\n"
     ]
    }
   ],
   "metadata": {}
  }
 ],
 "metadata": {
  "orig_nbformat": 4,
  "language_info": {
   "name": "python",
   "version": "3.8.5",
   "mimetype": "text/x-python",
   "codemirror_mode": {
    "name": "ipython",
    "version": 3
   },
   "pygments_lexer": "ipython3",
   "nbconvert_exporter": "python",
   "file_extension": ".py"
  },
  "kernelspec": {
   "name": "python3",
   "display_name": "Python 3.8.5 64-bit ('base': conda)"
  },
  "interpreter": {
   "hash": "81633e02b4f1afd1cc0c66085616c53052b8ad9646c0c5b7d4c3487792a772f4"
  }
 },
 "nbformat": 4,
 "nbformat_minor": 2
}