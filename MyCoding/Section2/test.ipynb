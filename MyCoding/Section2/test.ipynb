{
 "cells": [
  {
   "cell_type": "code",
   "execution_count": 35,
   "source": [
    "# N명의 학생의 수학점수\r\n",
    "# N명의 학생들의 평균을 구하기\r\n",
    "# 평균에 가장 가까운 학생은 몇 번째 학생인가\r\n",
    "# 평균과 가장 가까운 경우, 점수가 높은 학생의 것.\r\n",
    "# 높은 점수를 가진 학생이 여러명일 경우, 학생번호가 빠른 학생"
   ],
   "outputs": [],
   "metadata": {}
  },
  {
   "cell_type": "code",
   "execution_count": null,
   "source": [
    "file = open(\"input.txt\", \"rt\")\r\n",
    "N = int(file.readline())\r\n",
    "arr = list(map(int, file.readline().split()))\r\n",
    "\r\n",
    "# 평균\r\n",
    "avg = int(sum(arr) / N + 0.5)\r\n",
    "\r\n"
   ],
   "outputs": [],
   "metadata": {}
  }
 ],
 "metadata": {
  "orig_nbformat": 4,
  "language_info": {
   "name": "python",
   "version": "3.8.5",
   "mimetype": "text/x-python",
   "codemirror_mode": {
    "name": "ipython",
    "version": 3
   },
   "pygments_lexer": "ipython3",
   "nbconvert_exporter": "python",
   "file_extension": ".py"
  },
  "kernelspec": {
   "name": "python3",
   "display_name": "Python 3.8.5 64-bit ('base': conda)"
  },
  "interpreter": {
   "hash": "81633e02b4f1afd1cc0c66085616c53052b8ad9646c0c5b7d4c3487792a772f4"
  }
 },
 "nbformat": 4,
 "nbformat_minor": 2
}