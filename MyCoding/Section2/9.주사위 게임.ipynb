{
 "cells": [
  {
   "cell_type": "code",
   "execution_count": 41,
   "source": [
    "file = open(\"input.txt\", \"rt\")\r\n",
    "\r\n",
    "N = int(file.readline())\r\n",
    "\r\n",
    "MAX = 0\r\n",
    "for x in range(N):\r\n",
    "    arr = file.readline().split()\r\n",
    "    arr.sort()\r\n",
    "    a, b, c = map(int, arr)\r\n",
    "\r\n",
    "    if a == b and a == c:\r\n",
    "        money = a\r\n",
    "        total = 10000 + money*1000\r\n",
    "    elif a == b or a == c:\r\n",
    "        money = a\r\n",
    "        total = 1000 + money*100\r\n",
    "    elif b == c:\r\n",
    "        money = b\r\n",
    "        total = 1000 + money*100\r\n",
    "    else:\r\n",
    "        money = a\r\n",
    "        total = money * 100\r\n",
    "\r\n",
    "    if MAX < total:\r\n",
    "        MAX = total\r\n",
    "\r\n",
    "print(MAX)\r\n"
   ],
   "outputs": [
    {
     "output_type": "stream",
     "name": "stdout",
     "text": [
      "12000\n"
     ]
    }
   ],
   "metadata": {}
  }
 ],
 "metadata": {
  "orig_nbformat": 4,
  "language_info": {
   "name": "python",
   "version": "3.8.5",
   "mimetype": "text/x-python",
   "codemirror_mode": {
    "name": "ipython",
    "version": 3
   },
   "pygments_lexer": "ipython3",
   "nbconvert_exporter": "python",
   "file_extension": ".py"
  },
  "kernelspec": {
   "name": "python3",
   "display_name": "Python 3.8.5 64-bit ('base': conda)"
  },
  "interpreter": {
   "hash": "81633e02b4f1afd1cc0c66085616c53052b8ad9646c0c5b7d4c3487792a772f4"
  }
 },
 "nbformat": 4,
 "nbformat_minor": 2
}