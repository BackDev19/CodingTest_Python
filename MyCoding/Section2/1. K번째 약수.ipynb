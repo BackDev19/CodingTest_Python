{
 "cells": [
  {
   "cell_type": "markdown",
   "source": [
    "<br><h2>K번째 약수<br>\r\n",
    "어떤 자연수 p와 q가 있을 때, 만일 p를 q로 나누었을 때 나머지가 0이면 q는 p의 약수이다.<br><br>\r\n",
    "6을 예로 들면<br><br>\r\n",
    "6 ÷ 1 = 6 … 0<br>\r\n",
    "6 ÷ 2 = 3 … 0<br>\r\n",
    "6 ÷ 3 = 2 … 0<br>\r\n",
    "6 ÷ 4 = 1 … 2<br>\r\n",
    "6 ÷ 5 = 1 … 1<br>\r\n",
    "6 ÷ 6 = 1 … 0<br>\r\n",
    "그래서 6의 약수는 1, 2, 3, 6, 총 네 개이다.<br>\r\n",
    "두 개의 자연수 N과 K가 주어졌을 때, N의 약수들 중 K번째로 작은 수를 출력하는 프로그램을<br>\r\n",
    "작성하시오.<br></h2>"
   ],
   "metadata": {}
  },
  {
   "cell_type": "code",
   "execution_count": 19,
   "source": [
    "import sys\r\n",
    "sys.stdin = open(\"input.txt\", \"rt\")\r\n",
    "\r\n",
    "\r\n",
    "N, K = map(int, sys.stdin.read().split())"
   ],
   "outputs": [],
   "metadata": {}
  },
  {
   "cell_type": "code",
   "execution_count": 20,
   "source": [
    "#N, K = map(int, input().split())\r\n",
    "cnt = 0\r\n",
    "for i in range(1, N+1):\r\n",
    "    if N%i == 0 :\r\n",
    "        cnt += 1\r\n",
    "        if cnt == K :\r\n",
    "            print(i)\r\n",
    "            break\r\n",
    "else :\r\n",
    "    print(-1)"
   ],
   "outputs": [
    {
     "output_type": "stream",
     "name": "stdout",
     "text": [
      "125\n"
     ]
    }
   ],
   "metadata": {}
  },
  {
   "cell_type": "code",
   "execution_count": null,
   "source": [],
   "outputs": [],
   "metadata": {}
  }
 ],
 "metadata": {
  "orig_nbformat": 4,
  "language_info": {
   "name": "python",
   "version": "3.8.5",
   "mimetype": "text/x-python",
   "codemirror_mode": {
    "name": "ipython",
    "version": 3
   },
   "pygments_lexer": "ipython3",
   "nbconvert_exporter": "python",
   "file_extension": ".py"
  },
  "kernelspec": {
   "name": "python3",
   "display_name": "Python 3.8.5 64-bit ('base': conda)"
  },
  "interpreter": {
   "hash": "81633e02b4f1afd1cc0c66085616c53052b8ad9646c0c5b7d4c3487792a772f4"
  }
 },
 "nbformat": 4,
 "nbformat_minor": 2
}