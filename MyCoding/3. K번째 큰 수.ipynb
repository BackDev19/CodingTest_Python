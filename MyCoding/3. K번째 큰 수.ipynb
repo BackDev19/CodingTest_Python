{
 "cells": [
  {
   "cell_type": "code",
   "execution_count": 5,
   "source": [
    "import sys\r\n",
    "\r\n",
    "a = open(\"input.txt\", \"rt\")\r\n",
    "\r\n",
    "# N은 개수, K는 n번째 개수\r\n",
    "N, K = map(int, a.readline().split())\r\n",
    "arr = list(map(int, a.readline().split()))\r\n",
    "max = [0]\r\n",
    "\r\n",
    "# 모든 경우의 수를 기록\r\n",
    "for i in arr :\r\n",
    "    for j in arr :\r\n",
    "        # 같은 카드를 뽑으면 안됨\r\n",
    "        if i == j :\r\n",
    "            continue\r\n",
    "        for k in arr :\r\n",
    "            # 같은 카드를 뽑으면 안됨\r\n",
    "            if k == j or k == i :\r\n",
    "                continue\r\n",
    "            result = i + j + k\r\n",
    "    \r\n",
    "    max.append(result)\r\n",
    "\r\n",
    "max.sort(reverse = True)\r\n",
    "print(max)\r\n",
    "max[0]"
   ],
   "outputs": [
    {
     "output_type": "stream",
     "name": "stdout",
     "text": [
      "[133, 113, 102, 101, 91, 83, 81, 79, 79, 79, 0]\n"
     ]
    },
    {
     "output_type": "execute_result",
     "data": {
      "text/plain": [
       "133"
      ]
     },
     "metadata": {},
     "execution_count": 5
    }
   ],
   "metadata": {}
  }
 ],
 "metadata": {
  "orig_nbformat": 4,
  "language_info": {
   "name": "python",
   "version": "3.8.5",
   "mimetype": "text/x-python",
   "codemirror_mode": {
    "name": "ipython",
    "version": 3
   },
   "pygments_lexer": "ipython3",
   "nbconvert_exporter": "python",
   "file_extension": ".py"
  },
  "kernelspec": {
   "name": "python3",
   "display_name": "Python 3.8.5 64-bit ('base': conda)"
  },
  "interpreter": {
   "hash": "81633e02b4f1afd1cc0c66085616c53052b8ad9646c0c5b7d4c3487792a772f4"
  }
 },
 "nbformat": 4,
 "nbformat_minor": 2
}